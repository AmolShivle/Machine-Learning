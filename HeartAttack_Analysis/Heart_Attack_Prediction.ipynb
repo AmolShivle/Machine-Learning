{
  "nbformat": 4,
  "nbformat_minor": 0,
  "metadata": {
    "kernelspec": {
      "display_name": "Python 3",
      "language": "python",
      "name": "python3"
    },
    "language_info": {
      "codemirror_mode": {
        "name": "ipython",
        "version": 3
      },
      "file_extension": ".py",
      "mimetype": "text/x-python",
      "name": "python",
      "nbconvert_exporter": "python",
      "pygments_lexer": "ipython3",
      "version": "3.6.5"
    },
    "colab": {
      "provenance": [],
      "collapsed_sections": []
    }
  },
  "cells": [
    {
      "cell_type": "markdown",
      "metadata": {
        "id": "i5mrcNh2jkEg"
      },
      "source": [
        "# **Heart Attack Analysis and Prediction**"
      ]
    },
    {
      "cell_type": "markdown",
      "metadata": {
        "id": "BFcby5v51ix4"
      },
      "source": [
        "---\n",
        "# **Table of Contents**\n",
        "---\n",
        "\n",
        "**1.** [**Introduction**](#Section1)<br>\n",
        "**2.** [**Problem Statement**](#Section2)<br>\n",
        "**3.** [**Installing & Importing Libraries**](#Section3)<br>\n",
        "  - **3.1** [**Installing Libraries**](#Section31)\n",
        "  - **3.2** [**Upgrading Libraries**](#Section32)\n",
        "  - **3.3** [**Importing Libraries**](#Section33)\n",
        "\n",
        "**4.** [**Data Acquisition & Description**](#Section4)<br>\n",
        "  - **4.1** [**Data Information**](#Section41)\n",
        "  - **4.2** [**Data Statistics**](#Section42)\n",
        "\n",
        "**5.** [**Data Pre-processing**](#Section5)<br>\n",
        "  - **5.1** [**Pre-Profiling Report**](#Section51)\n",
        "  \n",
        "**6.** [**Exploratory Data Analysis**](#Section6)<br>\n",
        "\n",
        "**7.** [**Post Data Processing & Feature Selection**](#Section7)<br>\n",
        "  - **7.1** [**Post Profiling Report**](#Section72)<br>\n",
        "  - **7.2** [**Data Preparation**](#Section74)<br>\n",
        "\n",
        "**8.** [**Model Development & Evaluation**](#Section8)<br>\n",
        "\n",
        "**9.** [**Conclusion**](#Section9)<br>\n",
        "\n"
      ]
    },
    {
      "cell_type": "markdown",
      "metadata": {
        "id": "XU2bTTAjjkEi"
      },
      "source": [
        "<a id=section1></a>"
      ]
    },
    {
      "cell_type": "markdown",
      "metadata": {
        "id": "45LUuRZpxieH"
      },
      "source": [
        "---\n",
        "<a name = Section1></a>\n",
        "# **1. Introduction**\n",
        "---\n",
        "XYZ Healthcare is a Healthcare institution.\n",
        "\n",
        "- XYZ Healthcare is going to provide early methods to detect heart attacks for their customers.\n",
        "- The idea is to use data to classify the presence of heart disease in the patient.\n",
        "- The System uses patient data and gives an early warning to the patient whether he is going to suffer from a heart attack or not .\n",
        "\n",
        "\n"
      ]
    },
    {
      "cell_type": "markdown",
      "metadata": {
        "id": "zm05qOVsjkEi"
      },
      "source": [
        "---\n",
        "<a name = Section2></a>\n",
        "# **2. Problem Statement**\n",
        "---\n",
        "- Every year about 735,000 people have a heart attack. Of these, 525,000 are a first heart attack and 210,000 happen in people who have already had a heart attack.\n",
        "- The company wants to create a good data-driven system for predicting heart disease that can improve the entire research and prevention process, making sure that more people can live healthy lives.\n",
        "\n",
        "**Project Deliverables**\n",
        "Deliverable: The goal is to predict whether a patient has a heart disease or not..\n",
        "- Machine Learning Task: Classification\n",
        "- Target Variable: heart_disease_present(no heart disease present (0) / heart disease present(1))\n",
        "- Win Condition: N/A (best possible model)\n",
        "\n",
        "\n",
        "\n",
        "<br> \n",
        "<center><img src=\"data:image/jpeg;base64,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\" width=\"600\" height=\"300\" /></center>\n",
        "\n"
      ]
    },
    {
      "cell_type": "markdown",
      "metadata": {
        "id": "ETeXZ8X1JdQT"
      },
      "source": [
        "---\n",
        "<a name = Section3></a>\n",
        "# **3. Installing & Importing Libraries**\n",
        "---"
      ]
    },
    {
      "cell_type": "markdown",
      "metadata": {
        "id": "QihcIrXkJgr7"
      },
      "source": [
        "<a name = Section31></a>\n",
        "### **3.1 Installing Libraries**"
      ]
    },
    {
      "cell_type": "code",
      "metadata": {
        "id": "f7ygnViDJo0b"
      },
      "source": [
        "# !pip install -q datascience                   # Package that is required by pandas profiling\n",
        "# !pip install -q pandas-profiling              # Library to generate basic statistics about data"
      ],
      "execution_count": 5,
      "outputs": []
    },
    {
      "cell_type": "markdown",
      "metadata": {
        "id": "jYL7nqNGJu6a"
      },
      "source": [
        "<a name = Section32></a>\n",
        "### **3.2 Upgrading Libraries**\n",
        "\n",
        "- **After upgrading** the libraries, you need to **restart the runtime** to make the libraries in sync. \n",
        "\n",
        "- Make sure not to execute the cell above (3.1) and below (3.2) again after restarting the runtime."
      ]
    },
    {
      "cell_type": "code",
      "metadata": {
        "id": "AWfdmmRfJwEw"
      },
      "source": [
        "# !pip install -q --upgrade pandas-profiling"
      ],
      "execution_count": 6,
      "outputs": []
    },
    {
      "cell_type": "markdown",
      "metadata": {
        "id": "REfuSsMyJ6fL"
      },
      "source": [
        "<a name = Section33></a>\n",
        "### **3.3 Importing Libraries**"
      ]
    },
    {
      "cell_type": "code",
      "metadata": {
        "id": "pj3uoMNqJ7cR"
      },
      "source": [
        "#-------------------------------------------------------------------------------------------------------------------------------\n",
        "import pandas as pd                                                 # Importing for panel data analysis\n",
        "from pandas_profiling import ProfileReport                          # Import Pandas Profiling (To generate Univariate Analysis) \n",
        "#-------------------------------------------------------------------------------------------------------------------------------\n",
        "import numpy as np                                                  # Importing package numpys (For Numerical Python)\n",
        "#-------------------------------------------------------------------------------------------------------------------------------\n",
        "import matplotlib.pyplot as plt                                     # Importing pyplot interface using matplotlib\n",
        "import seaborn as sns                                               # Importin seaborm library for interactive visualization\n",
        "%matplotlib inline\n",
        "#-------------------------------------------------------------------------------------------------------------------------------\n",
        "from sklearn.metrics import accuracy_score                          # For calculating the accuracy for the model\n",
        "from sklearn.metrics import precision_score                         # For calculating the Precision of the model\n",
        "from sklearn.metrics import recall_score                            # For calculating the recall of the model\n",
        "from sklearn.metrics import precision_recall_curve                  # For precision and recall metric estimation\n",
        "from sklearn.metrics import confusion_matrix, classification_report # For verifying model performance using confusion matrix\n",
        "from sklearn.metrics import f1_score                                # For Checking the F1-Score of our model  \n",
        "from sklearn.metrics import roc_curve                               # For Roc-Auc metric estimation\n",
        "#-------------------------------------------------------------------------------------------------------------------------------\n",
        "from sklearn.model_selection import train_test_split                # To split the data in training and testing part     \n",
        "from sklearn.linear_model import LogisticRegression                 # To create the Logistic Regression Model\n",
        "from sklearn.ensemble import RandomForestClassifier                 # To create the RandomForest Model\n",
        "from sklearn.tree import DecisionTreeClassifier                     # to create a DecisionTreeclassifier\n",
        "from sklearn.naive_bayes import GaussianNB                          # To instantiate a Naive Bayes Classifier\n",
        "from sklearn.model_selection import GridSearchCV                    # To tune the models\n",
        "#-------------------------------------------------------------------------------------------------------------------------------\n",
        "import time                                                         # Importing to calculate time\n",
        "import warnings                                                     # Importing warning to disable runtime warnings\n",
        "warnings.filterwarnings(\"ignore\")                                   # Warnings will appear only once"
      ],
      "execution_count": 49,
      "outputs": []
    },
    {
      "cell_type": "markdown",
      "metadata": {
        "id": "8V-IfUxYjkEk"
      },
      "source": [
        "---\n",
        "<a name = Section4></a>\n",
        "# **4. Data Acquisition & Description**\n",
        "---"
      ]
    },
    {
      "cell_type": "markdown",
      "metadata": {
        "id": "9yFrFAo8jkEk"
      },
      "source": [
        "<center><img src=\"data:image/jpeg;base64,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\" width=\"480\" height=\"240\" /></center>"
      ]
    },
    {
      "cell_type": "markdown",
      "metadata": {
        "_cell_guid": "e4a1cf77-b695-4ca0-9653-6c41ce2393d8",
        "_uuid": "ca91678a9dc8cc103a7fbf799a5d903a011334ef",
        "id": "pyLlAS1gjkEl"
      },
      "source": [
        "- The train set contains 242 rows and 15 columns and The last column output is the target variable.\n",
        "- The test set contains 61 rows and 15 columns and The last column output is the target variable."
      ]
    },
    {
      "cell_type": "markdown",
      "metadata": {
        "id": "Fyp7-gnRjkEl"
      },
      "source": [
        "| **Column Name**\t\t\t\t\t\t\t\t\t\t\t\t\t\t| \t**Description** |\n",
        "|:--|:--|\n",
        "| age\t\t\t\t\t\t\t\t\t\t\t\t\t\t\t\t\t| \tage in years |\n",
        "| sex\t\t\t\t\t\t\t\t\t\t\t\t\t\t\t\t\t| \t0 as female, 1 as male |\n",
        "| chest pain type (4 values)\t\t\t\t\t\t\t\t\t\t\t| \tchest pain type (4 values) |\n",
        "| resting blood pressure\t\t\t\t\t\t\t\t\t\t\t\t| \tresting blood pressure |\n",
        "| serum cholesterol in mg/dl\t\t\t\t\t\t\t\t\t\t\t| \tserum cholesterol in mg/dl |\n",
        "| thal: 3 = normal; 6 = fixed defect; 7 = reversible defect\t\t\t| \tresults of thallium stress test measuring blood flow to the heart, with possible values |\n",
        "| fasting blood sugar > 120 mg/dl\t\t\t\t\t\t\t\t\t\t| \tfasting blood sugar > 120 mg/dl |\n",
        "| resting electrocardiographic results (values 0,1,2)\t\t\t\t\t|\tresting electrocardiographic results (values 0,1,2) |\n",
        "| maximum heart rate achieved\t\t\t\t\t\t\t\t\t\t\t|\tmaximum heart rate achieved (beats per minute) |\n",
        "| exercise induced angina\t\t\t\t\t\t\t\t\t\t\t\t|\texercise-induced chest pain (0 as False, 1 as True) |\n",
        "| number of major vessels (0-3) colored by fluoroscopy\t\t\t\t|\tnumber of major vessels (0-3) colored by fluoroscopy |\n",
        "| oldpeak = ST depression induced by exercise relative to rest\t\t| \toldpeak = ST depression induced by exercise relative to rest, a measure of abnormality in electrocardiograms |\n",
        "| ST segment number of major vessels (0-3) colored by fluoroscopy\t\t| \tthe slope of the peak exercise ST segment, an electrocardiography read out indicating quality of blood flow to the heart Number\tUnique identifier heart_disease_present\tThe label for the voice sample (male or female) |\n"
      ]
    },
    {
      "cell_type": "code",
      "source": [
        "!unzip \"/content/HeartAttack_Analysis.zip\""
      ],
      "metadata": {
        "colab": {
          "base_uri": "https://localhost:8080/"
        },
        "id": "bhn8JvCZOKT1",
        "outputId": "4fc571d6-8154-4407-a038-bf549b758866"
      },
      "execution_count": 8,
      "outputs": [
        {
          "output_type": "stream",
          "name": "stdout",
          "text": [
            "Archive:  /content/HeartAttack_Analysis.zip\n",
            "replace heart_test.xlsx? [y]es, [n]o, [A]ll, [N]one, [r]ename: n\n",
            "replace heart_train.xlsx? [y]es, [n]o, [A]ll, [N]one, [r]ename: n\n",
            "replace sample_submission.csv? [y]es, [n]o, [A]ll, [N]one, [r]ename: n\n"
          ]
        }
      ]
    },
    {
      "cell_type": "code",
      "metadata": {
        "id": "CffSlDpGLeB7",
        "colab": {
          "base_uri": "https://localhost:8080/",
          "height": 206
        },
        "outputId": "6b224649-18fb-411f-e645-b5c3134481cd"
      },
      "source": [
        "# Importing data using pd.read_csv\n",
        "heart_train = pd.read_excel(\"heart_train.xlsx\")  \n",
        "heart_test = pd.read_excel(\"heart_test.xlsx\")  \n",
        "\n",
        "heart_train.head()"
      ],
      "execution_count": 9,
      "outputs": [
        {
          "output_type": "execute_result",
          "data": {
            "text/plain": [
              "   Number   age  sex   cp  trtbps   chol  fbs  restecg  thalachh  exng  \\\n",
              "0   132.0  42.0  1.0  1.0   120.0  295.0  0.0      1.0     162.0   0.0   \n",
              "1   202.0  58.0  1.0  0.0   150.0  270.0  0.0      0.0     111.0   1.0   \n",
              "2   196.0  46.0  1.0  2.0   150.0  231.0  0.0      1.0     147.0   0.0   \n",
              "3    75.0  55.0  0.0  1.0   135.0  250.0  0.0      0.0     161.0   0.0   \n",
              "4   176.0  60.0  1.0  0.0   117.0  230.0  1.0      1.0     160.0   1.0   \n",
              "\n",
              "   oldpeak  slp  caa  thall  output  \n",
              "0      0.0  2.0  0.0    2.0     1.0  \n",
              "1      0.8  2.0  0.0    3.0     0.0  \n",
              "2      3.6  1.0  0.0    2.0     0.0  \n",
              "3      1.4  1.0  0.0    2.0     1.0  \n",
              "4      1.4  2.0  2.0    3.0     0.0  "
            ],
            "text/html": [
              "\n",
              "  <div id=\"df-778b593d-eab9-4406-aee3-60d784f4d99e\">\n",
              "    <div class=\"colab-df-container\">\n",
              "      <div>\n",
              "<style scoped>\n",
              "    .dataframe tbody tr th:only-of-type {\n",
              "        vertical-align: middle;\n",
              "    }\n",
              "\n",
              "    .dataframe tbody tr th {\n",
              "        vertical-align: top;\n",
              "    }\n",
              "\n",
              "    .dataframe thead th {\n",
              "        text-align: right;\n",
              "    }\n",
              "</style>\n",
              "<table border=\"1\" class=\"dataframe\">\n",
              "  <thead>\n",
              "    <tr style=\"text-align: right;\">\n",
              "      <th></th>\n",
              "      <th>Number</th>\n",
              "      <th>age</th>\n",
              "      <th>sex</th>\n",
              "      <th>cp</th>\n",
              "      <th>trtbps</th>\n",
              "      <th>chol</th>\n",
              "      <th>fbs</th>\n",
              "      <th>restecg</th>\n",
              "      <th>thalachh</th>\n",
              "      <th>exng</th>\n",
              "      <th>oldpeak</th>\n",
              "      <th>slp</th>\n",
              "      <th>caa</th>\n",
              "      <th>thall</th>\n",
              "      <th>output</th>\n",
              "    </tr>\n",
              "  </thead>\n",
              "  <tbody>\n",
              "    <tr>\n",
              "      <th>0</th>\n",
              "      <td>132.0</td>\n",
              "      <td>42.0</td>\n",
              "      <td>1.0</td>\n",
              "      <td>1.0</td>\n",
              "      <td>120.0</td>\n",
              "      <td>295.0</td>\n",
              "      <td>0.0</td>\n",
              "      <td>1.0</td>\n",
              "      <td>162.0</td>\n",
              "      <td>0.0</td>\n",
              "      <td>0.0</td>\n",
              "      <td>2.0</td>\n",
              "      <td>0.0</td>\n",
              "      <td>2.0</td>\n",
              "      <td>1.0</td>\n",
              "    </tr>\n",
              "    <tr>\n",
              "      <th>1</th>\n",
              "      <td>202.0</td>\n",
              "      <td>58.0</td>\n",
              "      <td>1.0</td>\n",
              "      <td>0.0</td>\n",
              "      <td>150.0</td>\n",
              "      <td>270.0</td>\n",
              "      <td>0.0</td>\n",
              "      <td>0.0</td>\n",
              "      <td>111.0</td>\n",
              "      <td>1.0</td>\n",
              "      <td>0.8</td>\n",
              "      <td>2.0</td>\n",
              "      <td>0.0</td>\n",
              "      <td>3.0</td>\n",
              "      <td>0.0</td>\n",
              "    </tr>\n",
              "    <tr>\n",
              "      <th>2</th>\n",
              "      <td>196.0</td>\n",
              "      <td>46.0</td>\n",
              "      <td>1.0</td>\n",
              "      <td>2.0</td>\n",
              "      <td>150.0</td>\n",
              "      <td>231.0</td>\n",
              "      <td>0.0</td>\n",
              "      <td>1.0</td>\n",
              "      <td>147.0</td>\n",
              "      <td>0.0</td>\n",
              "      <td>3.6</td>\n",
              "      <td>1.0</td>\n",
              "      <td>0.0</td>\n",
              "      <td>2.0</td>\n",
              "      <td>0.0</td>\n",
              "    </tr>\n",
              "    <tr>\n",
              "      <th>3</th>\n",
              "      <td>75.0</td>\n",
              "      <td>55.0</td>\n",
              "      <td>0.0</td>\n",
              "      <td>1.0</td>\n",
              "      <td>135.0</td>\n",
              "      <td>250.0</td>\n",
              "      <td>0.0</td>\n",
              "      <td>0.0</td>\n",
              "      <td>161.0</td>\n",
              "      <td>0.0</td>\n",
              "      <td>1.4</td>\n",
              "      <td>1.0</td>\n",
              "      <td>0.0</td>\n",
              "      <td>2.0</td>\n",
              "      <td>1.0</td>\n",
              "    </tr>\n",
              "    <tr>\n",
              "      <th>4</th>\n",
              "      <td>176.0</td>\n",
              "      <td>60.0</td>\n",
              "      <td>1.0</td>\n",
              "      <td>0.0</td>\n",
              "      <td>117.0</td>\n",
              "      <td>230.0</td>\n",
              "      <td>1.0</td>\n",
              "      <td>1.0</td>\n",
              "      <td>160.0</td>\n",
              "      <td>1.0</td>\n",
              "      <td>1.4</td>\n",
              "      <td>2.0</td>\n",
              "      <td>2.0</td>\n",
              "      <td>3.0</td>\n",
              "      <td>0.0</td>\n",
              "    </tr>\n",
              "  </tbody>\n",
              "</table>\n",
              "</div>\n",
              "      <button class=\"colab-df-convert\" onclick=\"convertToInteractive('df-778b593d-eab9-4406-aee3-60d784f4d99e')\"\n",
              "              title=\"Convert this dataframe to an interactive table.\"\n",
              "              style=\"display:none;\">\n",
              "        \n",
              "  <svg xmlns=\"http://www.w3.org/2000/svg\" height=\"24px\"viewBox=\"0 0 24 24\"\n",
              "       width=\"24px\">\n",
              "    <path d=\"M0 0h24v24H0V0z\" fill=\"none\"/>\n",
              "    <path d=\"M18.56 5.44l.94 2.06.94-2.06 2.06-.94-2.06-.94-.94-2.06-.94 2.06-2.06.94zm-11 1L8.5 8.5l.94-2.06 2.06-.94-2.06-.94L8.5 2.5l-.94 2.06-2.06.94zm10 10l.94 2.06.94-2.06 2.06-.94-2.06-.94-.94-2.06-.94 2.06-2.06.94z\"/><path d=\"M17.41 7.96l-1.37-1.37c-.4-.4-.92-.59-1.43-.59-.52 0-1.04.2-1.43.59L10.3 9.45l-7.72 7.72c-.78.78-.78 2.05 0 2.83L4 21.41c.39.39.9.59 1.41.59.51 0 1.02-.2 1.41-.59l7.78-7.78 2.81-2.81c.8-.78.8-2.07 0-2.86zM5.41 20L4 18.59l7.72-7.72 1.47 1.35L5.41 20z\"/>\n",
              "  </svg>\n",
              "      </button>\n",
              "      \n",
              "  <style>\n",
              "    .colab-df-container {\n",
              "      display:flex;\n",
              "      flex-wrap:wrap;\n",
              "      gap: 12px;\n",
              "    }\n",
              "\n",
              "    .colab-df-convert {\n",
              "      background-color: #E8F0FE;\n",
              "      border: none;\n",
              "      border-radius: 50%;\n",
              "      cursor: pointer;\n",
              "      display: none;\n",
              "      fill: #1967D2;\n",
              "      height: 32px;\n",
              "      padding: 0 0 0 0;\n",
              "      width: 32px;\n",
              "    }\n",
              "\n",
              "    .colab-df-convert:hover {\n",
              "      background-color: #E2EBFA;\n",
              "      box-shadow: 0px 1px 2px rgba(60, 64, 67, 0.3), 0px 1px 3px 1px rgba(60, 64, 67, 0.15);\n",
              "      fill: #174EA6;\n",
              "    }\n",
              "\n",
              "    [theme=dark] .colab-df-convert {\n",
              "      background-color: #3B4455;\n",
              "      fill: #D2E3FC;\n",
              "    }\n",
              "\n",
              "    [theme=dark] .colab-df-convert:hover {\n",
              "      background-color: #434B5C;\n",
              "      box-shadow: 0px 1px 3px 1px rgba(0, 0, 0, 0.15);\n",
              "      filter: drop-shadow(0px 1px 2px rgba(0, 0, 0, 0.3));\n",
              "      fill: #FFFFFF;\n",
              "    }\n",
              "  </style>\n",
              "\n",
              "      <script>\n",
              "        const buttonEl =\n",
              "          document.querySelector('#df-778b593d-eab9-4406-aee3-60d784f4d99e button.colab-df-convert');\n",
              "        buttonEl.style.display =\n",
              "          google.colab.kernel.accessAllowed ? 'block' : 'none';\n",
              "\n",
              "        async function convertToInteractive(key) {\n",
              "          const element = document.querySelector('#df-778b593d-eab9-4406-aee3-60d784f4d99e');\n",
              "          const dataTable =\n",
              "            await google.colab.kernel.invokeFunction('convertToInteractive',\n",
              "                                                     [key], {});\n",
              "          if (!dataTable) return;\n",
              "\n",
              "          const docLinkHtml = 'Like what you see? Visit the ' +\n",
              "            '<a target=\"_blank\" href=https://colab.research.google.com/notebooks/data_table.ipynb>data table notebook</a>'\n",
              "            + ' to learn more about interactive tables.';\n",
              "          element.innerHTML = '';\n",
              "          dataTable['output_type'] = 'display_data';\n",
              "          await google.colab.output.renderOutput(dataTable, element);\n",
              "          const docLink = document.createElement('div');\n",
              "          docLink.innerHTML = docLinkHtml;\n",
              "          element.appendChild(docLink);\n",
              "        }\n",
              "      </script>\n",
              "    </div>\n",
              "  </div>\n",
              "  "
            ]
          },
          "metadata": {},
          "execution_count": 9
        }
      ]
    },
    {
      "cell_type": "markdown",
      "metadata": {
        "id": "W_n3MIHaO12q"
      },
      "source": [
        "<a name = Section41></a>\n",
        "### **4.1 Data Information**\n",
        "\n",
        "- In this section we will see the **information about the types of features**."
      ]
    },
    {
      "cell_type": "code",
      "source": [
        "heart_test.head()"
      ],
      "metadata": {
        "id": "K4wALDV0ROYM",
        "colab": {
          "base_uri": "https://localhost:8080/",
          "height": 206
        },
        "outputId": "10aec8a4-c5ed-449b-f878-e17c9170496b"
      },
      "execution_count": 11,
      "outputs": [
        {
          "output_type": "execute_result",
          "data": {
            "text/plain": [
              "   Number   age  sex   cp  trtbps   chol  fbs  restecg  thalachh  exng  \\\n",
              "0   179.0  57.0  1.0  0.0   150.0  276.0  0.0      0.0     112.0   1.0   \n",
              "1   228.0  59.0  1.0  3.0   170.0  288.0  0.0      0.0     159.0   0.0   \n",
              "2   111.0  57.0  1.0  2.0   150.0  126.0  1.0      1.0     173.0   0.0   \n",
              "3   246.0  56.0  0.0  0.0   134.0  409.0  0.0      0.0     150.0   1.0   \n",
              "4    60.0  71.0  0.0  2.0   110.0  265.0  1.0      0.0     130.0   0.0   \n",
              "\n",
              "   oldpeak  slp  caa  thall  output  \n",
              "0      0.6  1.0  1.0    1.0     0.0  \n",
              "1      0.2  1.0  0.0    3.0     0.0  \n",
              "2      0.2  2.0  1.0    3.0     1.0  \n",
              "3      1.9  1.0  2.0    3.0     0.0  \n",
              "4      0.0  2.0  1.0    2.0     1.0  "
            ],
            "text/html": [
              "\n",
              "  <div id=\"df-d33c9160-57a4-453e-a25b-fdc4f7802589\">\n",
              "    <div class=\"colab-df-container\">\n",
              "      <div>\n",
              "<style scoped>\n",
              "    .dataframe tbody tr th:only-of-type {\n",
              "        vertical-align: middle;\n",
              "    }\n",
              "\n",
              "    .dataframe tbody tr th {\n",
              "        vertical-align: top;\n",
              "    }\n",
              "\n",
              "    .dataframe thead th {\n",
              "        text-align: right;\n",
              "    }\n",
              "</style>\n",
              "<table border=\"1\" class=\"dataframe\">\n",
              "  <thead>\n",
              "    <tr style=\"text-align: right;\">\n",
              "      <th></th>\n",
              "      <th>Number</th>\n",
              "      <th>age</th>\n",
              "      <th>sex</th>\n",
              "      <th>cp</th>\n",
              "      <th>trtbps</th>\n",
              "      <th>chol</th>\n",
              "      <th>fbs</th>\n",
              "      <th>restecg</th>\n",
              "      <th>thalachh</th>\n",
              "      <th>exng</th>\n",
              "      <th>oldpeak</th>\n",
              "      <th>slp</th>\n",
              "      <th>caa</th>\n",
              "      <th>thall</th>\n",
              "      <th>output</th>\n",
              "    </tr>\n",
              "  </thead>\n",
              "  <tbody>\n",
              "    <tr>\n",
              "      <th>0</th>\n",
              "      <td>179.0</td>\n",
              "      <td>57.0</td>\n",
              "      <td>1.0</td>\n",
              "      <td>0.0</td>\n",
              "      <td>150.0</td>\n",
              "      <td>276.0</td>\n",
              "      <td>0.0</td>\n",
              "      <td>0.0</td>\n",
              "      <td>112.0</td>\n",
              "      <td>1.0</td>\n",
              "      <td>0.6</td>\n",
              "      <td>1.0</td>\n",
              "      <td>1.0</td>\n",
              "      <td>1.0</td>\n",
              "      <td>0.0</td>\n",
              "    </tr>\n",
              "    <tr>\n",
              "      <th>1</th>\n",
              "      <td>228.0</td>\n",
              "      <td>59.0</td>\n",
              "      <td>1.0</td>\n",
              "      <td>3.0</td>\n",
              "      <td>170.0</td>\n",
              "      <td>288.0</td>\n",
              "      <td>0.0</td>\n",
              "      <td>0.0</td>\n",
              "      <td>159.0</td>\n",
              "      <td>0.0</td>\n",
              "      <td>0.2</td>\n",
              "      <td>1.0</td>\n",
              "      <td>0.0</td>\n",
              "      <td>3.0</td>\n",
              "      <td>0.0</td>\n",
              "    </tr>\n",
              "    <tr>\n",
              "      <th>2</th>\n",
              "      <td>111.0</td>\n",
              "      <td>57.0</td>\n",
              "      <td>1.0</td>\n",
              "      <td>2.0</td>\n",
              "      <td>150.0</td>\n",
              "      <td>126.0</td>\n",
              "      <td>1.0</td>\n",
              "      <td>1.0</td>\n",
              "      <td>173.0</td>\n",
              "      <td>0.0</td>\n",
              "      <td>0.2</td>\n",
              "      <td>2.0</td>\n",
              "      <td>1.0</td>\n",
              "      <td>3.0</td>\n",
              "      <td>1.0</td>\n",
              "    </tr>\n",
              "    <tr>\n",
              "      <th>3</th>\n",
              "      <td>246.0</td>\n",
              "      <td>56.0</td>\n",
              "      <td>0.0</td>\n",
              "      <td>0.0</td>\n",
              "      <td>134.0</td>\n",
              "      <td>409.0</td>\n",
              "      <td>0.0</td>\n",
              "      <td>0.0</td>\n",
              "      <td>150.0</td>\n",
              "      <td>1.0</td>\n",
              "      <td>1.9</td>\n",
              "      <td>1.0</td>\n",
              "      <td>2.0</td>\n",
              "      <td>3.0</td>\n",
              "      <td>0.0</td>\n",
              "    </tr>\n",
              "    <tr>\n",
              "      <th>4</th>\n",
              "      <td>60.0</td>\n",
              "      <td>71.0</td>\n",
              "      <td>0.0</td>\n",
              "      <td>2.0</td>\n",
              "      <td>110.0</td>\n",
              "      <td>265.0</td>\n",
              "      <td>1.0</td>\n",
              "      <td>0.0</td>\n",
              "      <td>130.0</td>\n",
              "      <td>0.0</td>\n",
              "      <td>0.0</td>\n",
              "      <td>2.0</td>\n",
              "      <td>1.0</td>\n",
              "      <td>2.0</td>\n",
              "      <td>1.0</td>\n",
              "    </tr>\n",
              "  </tbody>\n",
              "</table>\n",
              "</div>\n",
              "      <button class=\"colab-df-convert\" onclick=\"convertToInteractive('df-d33c9160-57a4-453e-a25b-fdc4f7802589')\"\n",
              "              title=\"Convert this dataframe to an interactive table.\"\n",
              "              style=\"display:none;\">\n",
              "        \n",
              "  <svg xmlns=\"http://www.w3.org/2000/svg\" height=\"24px\"viewBox=\"0 0 24 24\"\n",
              "       width=\"24px\">\n",
              "    <path d=\"M0 0h24v24H0V0z\" fill=\"none\"/>\n",
              "    <path d=\"M18.56 5.44l.94 2.06.94-2.06 2.06-.94-2.06-.94-.94-2.06-.94 2.06-2.06.94zm-11 1L8.5 8.5l.94-2.06 2.06-.94-2.06-.94L8.5 2.5l-.94 2.06-2.06.94zm10 10l.94 2.06.94-2.06 2.06-.94-2.06-.94-.94-2.06-.94 2.06-2.06.94z\"/><path d=\"M17.41 7.96l-1.37-1.37c-.4-.4-.92-.59-1.43-.59-.52 0-1.04.2-1.43.59L10.3 9.45l-7.72 7.72c-.78.78-.78 2.05 0 2.83L4 21.41c.39.39.9.59 1.41.59.51 0 1.02-.2 1.41-.59l7.78-7.78 2.81-2.81c.8-.78.8-2.07 0-2.86zM5.41 20L4 18.59l7.72-7.72 1.47 1.35L5.41 20z\"/>\n",
              "  </svg>\n",
              "      </button>\n",
              "      \n",
              "  <style>\n",
              "    .colab-df-container {\n",
              "      display:flex;\n",
              "      flex-wrap:wrap;\n",
              "      gap: 12px;\n",
              "    }\n",
              "\n",
              "    .colab-df-convert {\n",
              "      background-color: #E8F0FE;\n",
              "      border: none;\n",
              "      border-radius: 50%;\n",
              "      cursor: pointer;\n",
              "      display: none;\n",
              "      fill: #1967D2;\n",
              "      height: 32px;\n",
              "      padding: 0 0 0 0;\n",
              "      width: 32px;\n",
              "    }\n",
              "\n",
              "    .colab-df-convert:hover {\n",
              "      background-color: #E2EBFA;\n",
              "      box-shadow: 0px 1px 2px rgba(60, 64, 67, 0.3), 0px 1px 3px 1px rgba(60, 64, 67, 0.15);\n",
              "      fill: #174EA6;\n",
              "    }\n",
              "\n",
              "    [theme=dark] .colab-df-convert {\n",
              "      background-color: #3B4455;\n",
              "      fill: #D2E3FC;\n",
              "    }\n",
              "\n",
              "    [theme=dark] .colab-df-convert:hover {\n",
              "      background-color: #434B5C;\n",
              "      box-shadow: 0px 1px 3px 1px rgba(0, 0, 0, 0.15);\n",
              "      filter: drop-shadow(0px 1px 2px rgba(0, 0, 0, 0.3));\n",
              "      fill: #FFFFFF;\n",
              "    }\n",
              "  </style>\n",
              "\n",
              "      <script>\n",
              "        const buttonEl =\n",
              "          document.querySelector('#df-d33c9160-57a4-453e-a25b-fdc4f7802589 button.colab-df-convert');\n",
              "        buttonEl.style.display =\n",
              "          google.colab.kernel.accessAllowed ? 'block' : 'none';\n",
              "\n",
              "        async function convertToInteractive(key) {\n",
              "          const element = document.querySelector('#df-d33c9160-57a4-453e-a25b-fdc4f7802589');\n",
              "          const dataTable =\n",
              "            await google.colab.kernel.invokeFunction('convertToInteractive',\n",
              "                                                     [key], {});\n",
              "          if (!dataTable) return;\n",
              "\n",
              "          const docLinkHtml = 'Like what you see? Visit the ' +\n",
              "            '<a target=\"_blank\" href=https://colab.research.google.com/notebooks/data_table.ipynb>data table notebook</a>'\n",
              "            + ' to learn more about interactive tables.';\n",
              "          element.innerHTML = '';\n",
              "          dataTable['output_type'] = 'display_data';\n",
              "          await google.colab.output.renderOutput(dataTable, element);\n",
              "          const docLink = document.createElement('div');\n",
              "          docLink.innerHTML = docLinkHtml;\n",
              "          element.appendChild(docLink);\n",
              "        }\n",
              "      </script>\n",
              "    </div>\n",
              "  </div>\n",
              "  "
            ]
          },
          "metadata": {},
          "execution_count": 11
        }
      ]
    },
    {
      "cell_type": "code",
      "metadata": {
        "id": "jSt57iLTVtGE",
        "colab": {
          "base_uri": "https://localhost:8080/"
        },
        "outputId": "0fb0107e-78f7-4a59-9268-626f96899d62"
      },
      "source": [
        "print(\"Shape of our heart train data is :\", heart_train.shape)\n",
        "print(\"Shape of our heart test data is :\", heart_test.shape)"
      ],
      "execution_count": 12,
      "outputs": [
        {
          "output_type": "stream",
          "name": "stdout",
          "text": [
            "Shape of our heart train data is : (242, 15)\n",
            "Shape of our heart test data is : (61, 15)\n"
          ]
        }
      ]
    },
    {
      "cell_type": "markdown",
      "metadata": {
        "id": "rkk6Gt6P5MTm"
      },
      "source": [
        "- Shape of our health train data is : (242, 15)\n",
        "- Shape of our health test data is : (61, 15)"
      ]
    },
    {
      "cell_type": "code",
      "metadata": {
        "id": "AKcColLZO4b4",
        "colab": {
          "base_uri": "https://localhost:8080/"
        },
        "outputId": "88f5b25f-5839-4469-fe31-f294ac0b7389"
      },
      "source": [
        "heart_train.info()"
      ],
      "execution_count": 13,
      "outputs": [
        {
          "output_type": "stream",
          "name": "stdout",
          "text": [
            "<class 'pandas.core.frame.DataFrame'>\n",
            "RangeIndex: 242 entries, 0 to 241\n",
            "Data columns (total 15 columns):\n",
            " #   Column    Non-Null Count  Dtype  \n",
            "---  ------    --------------  -----  \n",
            " 0   Number    242 non-null    float64\n",
            " 1   age       242 non-null    float64\n",
            " 2   sex       242 non-null    float64\n",
            " 3   cp        242 non-null    float64\n",
            " 4   trtbps    242 non-null    float64\n",
            " 5   chol      242 non-null    float64\n",
            " 6   fbs       242 non-null    float64\n",
            " 7   restecg   242 non-null    float64\n",
            " 8   thalachh  242 non-null    float64\n",
            " 9   exng      242 non-null    float64\n",
            " 10  oldpeak   242 non-null    float64\n",
            " 11  slp       242 non-null    float64\n",
            " 12  caa       242 non-null    float64\n",
            " 13  thall     242 non-null    float64\n",
            " 14  output    242 non-null    float64\n",
            "dtypes: float64(15)\n",
            "memory usage: 28.5 KB\n"
          ]
        }
      ]
    },
    {
      "cell_type": "code",
      "source": [
        "heart_test.info()"
      ],
      "metadata": {
        "id": "SKjOWsyijHki",
        "colab": {
          "base_uri": "https://localhost:8080/"
        },
        "outputId": "f65a49c1-d57a-4354-cde3-9a3308975aee"
      },
      "execution_count": 14,
      "outputs": [
        {
          "output_type": "stream",
          "name": "stdout",
          "text": [
            "<class 'pandas.core.frame.DataFrame'>\n",
            "RangeIndex: 61 entries, 0 to 60\n",
            "Data columns (total 15 columns):\n",
            " #   Column    Non-Null Count  Dtype  \n",
            "---  ------    --------------  -----  \n",
            " 0   Number    61 non-null     float64\n",
            " 1   age       61 non-null     float64\n",
            " 2   sex       61 non-null     float64\n",
            " 3   cp        61 non-null     float64\n",
            " 4   trtbps    61 non-null     float64\n",
            " 5   chol      61 non-null     float64\n",
            " 6   fbs       61 non-null     float64\n",
            " 7   restecg   61 non-null     float64\n",
            " 8   thalachh  61 non-null     float64\n",
            " 9   exng      61 non-null     float64\n",
            " 10  oldpeak   61 non-null     float64\n",
            " 11  slp       61 non-null     float64\n",
            " 12  caa       61 non-null     float64\n",
            " 13  thall     61 non-null     float64\n",
            " 14  output    61 non-null     float64\n",
            "dtypes: float64(15)\n",
            "memory usage: 7.3 KB\n"
          ]
        }
      ]
    },
    {
      "cell_type": "markdown",
      "metadata": {
        "id": "-wAUH-YkPGee"
      },
      "source": [
        "**Observation:**\n",
        "\n",
        "- There are **no null values present** in heart dataset.\n",
        "\n",
        "- **sex and output** seems to have **incorrect data type**."
      ]
    },
    {
      "cell_type": "markdown",
      "metadata": {
        "id": "LwPC1JL1MC2Y"
      },
      "source": [
        "<a name = Section42></a>\n",
        "### **4.2 Data Statistics**\n",
        "\n",
        "- In this section we will get **information about the data** and see some observations."
      ]
    },
    {
      "cell_type": "code",
      "metadata": {
        "id": "DZiIO0qoMERw",
        "colab": {
          "base_uri": "https://localhost:8080/",
          "height": 364
        },
        "outputId": "eec01e24-6b69-4e8b-e933-19e304397dda"
      },
      "source": [
        "heart_train.describe()"
      ],
      "execution_count": 15,
      "outputs": [
        {
          "output_type": "execute_result",
          "data": {
            "text/plain": [
              "           Number         age         sex          cp      trtbps        chol  \\\n",
              "count  242.000000  242.000000  242.000000  242.000000  242.000000  242.000000   \n",
              "mean   150.185950   54.462810    0.657025    0.991736  130.359504  246.842975   \n",
              "std     86.855884    9.204492    0.475687    1.022533   16.828858   52.795465   \n",
              "min      0.000000   29.000000    0.000000    0.000000   94.000000  131.000000   \n",
              "25%     74.250000   48.000000    0.000000    0.000000  120.000000  212.000000   \n",
              "50%    152.000000   55.500000    1.000000    1.000000  130.000000  239.500000   \n",
              "75%    221.750000   61.000000    1.000000    2.000000  140.000000  274.750000   \n",
              "max    302.000000   77.000000    1.000000    3.000000  192.000000  564.000000   \n",
              "\n",
              "              fbs     restecg    thalachh        exng     oldpeak         slp  \\\n",
              "count  242.000000  242.000000  242.000000  242.000000  242.000000  242.000000   \n",
              "mean     0.128099    0.553719  150.115702    0.314050    1.013223    1.421488   \n",
              "std      0.334893    0.530410   22.352398    0.465098    1.102577    0.607724   \n",
              "min      0.000000    0.000000   88.000000    0.000000    0.000000    0.000000   \n",
              "25%      0.000000    0.000000  136.000000    0.000000    0.000000    1.000000   \n",
              "50%      0.000000    1.000000  154.000000    0.000000    0.800000    1.000000   \n",
              "75%      0.000000    1.000000  165.750000    1.000000    1.600000    2.000000   \n",
              "max      1.000000    2.000000  202.000000    1.000000    5.600000    2.000000   \n",
              "\n",
              "              caa       thall      output  \n",
              "count  242.000000  242.000000  242.000000  \n",
              "mean     0.681818    2.301653    0.549587  \n",
              "std      0.990620    0.593811    0.498566  \n",
              "min      0.000000    0.000000    0.000000  \n",
              "25%      0.000000    2.000000    0.000000  \n",
              "50%      0.000000    2.000000    1.000000  \n",
              "75%      1.000000    3.000000    1.000000  \n",
              "max      4.000000    3.000000    1.000000  "
            ],
            "text/html": [
              "\n",
              "  <div id=\"df-bacf15e6-04e3-4cb9-9ca1-86ebea3a3328\">\n",
              "    <div class=\"colab-df-container\">\n",
              "      <div>\n",
              "<style scoped>\n",
              "    .dataframe tbody tr th:only-of-type {\n",
              "        vertical-align: middle;\n",
              "    }\n",
              "\n",
              "    .dataframe tbody tr th {\n",
              "        vertical-align: top;\n",
              "    }\n",
              "\n",
              "    .dataframe thead th {\n",
              "        text-align: right;\n",
              "    }\n",
              "</style>\n",
              "<table border=\"1\" class=\"dataframe\">\n",
              "  <thead>\n",
              "    <tr style=\"text-align: right;\">\n",
              "      <th></th>\n",
              "      <th>Number</th>\n",
              "      <th>age</th>\n",
              "      <th>sex</th>\n",
              "      <th>cp</th>\n",
              "      <th>trtbps</th>\n",
              "      <th>chol</th>\n",
              "      <th>fbs</th>\n",
              "      <th>restecg</th>\n",
              "      <th>thalachh</th>\n",
              "      <th>exng</th>\n",
              "      <th>oldpeak</th>\n",
              "      <th>slp</th>\n",
              "      <th>caa</th>\n",
              "      <th>thall</th>\n",
              "      <th>output</th>\n",
              "    </tr>\n",
              "  </thead>\n",
              "  <tbody>\n",
              "    <tr>\n",
              "      <th>count</th>\n",
              "      <td>242.000000</td>\n",
              "      <td>242.000000</td>\n",
              "      <td>242.000000</td>\n",
              "      <td>242.000000</td>\n",
              "      <td>242.000000</td>\n",
              "      <td>242.000000</td>\n",
              "      <td>242.000000</td>\n",
              "      <td>242.000000</td>\n",
              "      <td>242.000000</td>\n",
              "      <td>242.000000</td>\n",
              "      <td>242.000000</td>\n",
              "      <td>242.000000</td>\n",
              "      <td>242.000000</td>\n",
              "      <td>242.000000</td>\n",
              "      <td>242.000000</td>\n",
              "    </tr>\n",
              "    <tr>\n",
              "      <th>mean</th>\n",
              "      <td>150.185950</td>\n",
              "      <td>54.462810</td>\n",
              "      <td>0.657025</td>\n",
              "      <td>0.991736</td>\n",
              "      <td>130.359504</td>\n",
              "      <td>246.842975</td>\n",
              "      <td>0.128099</td>\n",
              "      <td>0.553719</td>\n",
              "      <td>150.115702</td>\n",
              "      <td>0.314050</td>\n",
              "      <td>1.013223</td>\n",
              "      <td>1.421488</td>\n",
              "      <td>0.681818</td>\n",
              "      <td>2.301653</td>\n",
              "      <td>0.549587</td>\n",
              "    </tr>\n",
              "    <tr>\n",
              "      <th>std</th>\n",
              "      <td>86.855884</td>\n",
              "      <td>9.204492</td>\n",
              "      <td>0.475687</td>\n",
              "      <td>1.022533</td>\n",
              "      <td>16.828858</td>\n",
              "      <td>52.795465</td>\n",
              "      <td>0.334893</td>\n",
              "      <td>0.530410</td>\n",
              "      <td>22.352398</td>\n",
              "      <td>0.465098</td>\n",
              "      <td>1.102577</td>\n",
              "      <td>0.607724</td>\n",
              "      <td>0.990620</td>\n",
              "      <td>0.593811</td>\n",
              "      <td>0.498566</td>\n",
              "    </tr>\n",
              "    <tr>\n",
              "      <th>min</th>\n",
              "      <td>0.000000</td>\n",
              "      <td>29.000000</td>\n",
              "      <td>0.000000</td>\n",
              "      <td>0.000000</td>\n",
              "      <td>94.000000</td>\n",
              "      <td>131.000000</td>\n",
              "      <td>0.000000</td>\n",
              "      <td>0.000000</td>\n",
              "      <td>88.000000</td>\n",
              "      <td>0.000000</td>\n",
              "      <td>0.000000</td>\n",
              "      <td>0.000000</td>\n",
              "      <td>0.000000</td>\n",
              "      <td>0.000000</td>\n",
              "      <td>0.000000</td>\n",
              "    </tr>\n",
              "    <tr>\n",
              "      <th>25%</th>\n",
              "      <td>74.250000</td>\n",
              "      <td>48.000000</td>\n",
              "      <td>0.000000</td>\n",
              "      <td>0.000000</td>\n",
              "      <td>120.000000</td>\n",
              "      <td>212.000000</td>\n",
              "      <td>0.000000</td>\n",
              "      <td>0.000000</td>\n",
              "      <td>136.000000</td>\n",
              "      <td>0.000000</td>\n",
              "      <td>0.000000</td>\n",
              "      <td>1.000000</td>\n",
              "      <td>0.000000</td>\n",
              "      <td>2.000000</td>\n",
              "      <td>0.000000</td>\n",
              "    </tr>\n",
              "    <tr>\n",
              "      <th>50%</th>\n",
              "      <td>152.000000</td>\n",
              "      <td>55.500000</td>\n",
              "      <td>1.000000</td>\n",
              "      <td>1.000000</td>\n",
              "      <td>130.000000</td>\n",
              "      <td>239.500000</td>\n",
              "      <td>0.000000</td>\n",
              "      <td>1.000000</td>\n",
              "      <td>154.000000</td>\n",
              "      <td>0.000000</td>\n",
              "      <td>0.800000</td>\n",
              "      <td>1.000000</td>\n",
              "      <td>0.000000</td>\n",
              "      <td>2.000000</td>\n",
              "      <td>1.000000</td>\n",
              "    </tr>\n",
              "    <tr>\n",
              "      <th>75%</th>\n",
              "      <td>221.750000</td>\n",
              "      <td>61.000000</td>\n",
              "      <td>1.000000</td>\n",
              "      <td>2.000000</td>\n",
              "      <td>140.000000</td>\n",
              "      <td>274.750000</td>\n",
              "      <td>0.000000</td>\n",
              "      <td>1.000000</td>\n",
              "      <td>165.750000</td>\n",
              "      <td>1.000000</td>\n",
              "      <td>1.600000</td>\n",
              "      <td>2.000000</td>\n",
              "      <td>1.000000</td>\n",
              "      <td>3.000000</td>\n",
              "      <td>1.000000</td>\n",
              "    </tr>\n",
              "    <tr>\n",
              "      <th>max</th>\n",
              "      <td>302.000000</td>\n",
              "      <td>77.000000</td>\n",
              "      <td>1.000000</td>\n",
              "      <td>3.000000</td>\n",
              "      <td>192.000000</td>\n",
              "      <td>564.000000</td>\n",
              "      <td>1.000000</td>\n",
              "      <td>2.000000</td>\n",
              "      <td>202.000000</td>\n",
              "      <td>1.000000</td>\n",
              "      <td>5.600000</td>\n",
              "      <td>2.000000</td>\n",
              "      <td>4.000000</td>\n",
              "      <td>3.000000</td>\n",
              "      <td>1.000000</td>\n",
              "    </tr>\n",
              "  </tbody>\n",
              "</table>\n",
              "</div>\n",
              "      <button class=\"colab-df-convert\" onclick=\"convertToInteractive('df-bacf15e6-04e3-4cb9-9ca1-86ebea3a3328')\"\n",
              "              title=\"Convert this dataframe to an interactive table.\"\n",
              "              style=\"display:none;\">\n",
              "        \n",
              "  <svg xmlns=\"http://www.w3.org/2000/svg\" height=\"24px\"viewBox=\"0 0 24 24\"\n",
              "       width=\"24px\">\n",
              "    <path d=\"M0 0h24v24H0V0z\" fill=\"none\"/>\n",
              "    <path d=\"M18.56 5.44l.94 2.06.94-2.06 2.06-.94-2.06-.94-.94-2.06-.94 2.06-2.06.94zm-11 1L8.5 8.5l.94-2.06 2.06-.94-2.06-.94L8.5 2.5l-.94 2.06-2.06.94zm10 10l.94 2.06.94-2.06 2.06-.94-2.06-.94-.94-2.06-.94 2.06-2.06.94z\"/><path d=\"M17.41 7.96l-1.37-1.37c-.4-.4-.92-.59-1.43-.59-.52 0-1.04.2-1.43.59L10.3 9.45l-7.72 7.72c-.78.78-.78 2.05 0 2.83L4 21.41c.39.39.9.59 1.41.59.51 0 1.02-.2 1.41-.59l7.78-7.78 2.81-2.81c.8-.78.8-2.07 0-2.86zM5.41 20L4 18.59l7.72-7.72 1.47 1.35L5.41 20z\"/>\n",
              "  </svg>\n",
              "      </button>\n",
              "      \n",
              "  <style>\n",
              "    .colab-df-container {\n",
              "      display:flex;\n",
              "      flex-wrap:wrap;\n",
              "      gap: 12px;\n",
              "    }\n",
              "\n",
              "    .colab-df-convert {\n",
              "      background-color: #E8F0FE;\n",
              "      border: none;\n",
              "      border-radius: 50%;\n",
              "      cursor: pointer;\n",
              "      display: none;\n",
              "      fill: #1967D2;\n",
              "      height: 32px;\n",
              "      padding: 0 0 0 0;\n",
              "      width: 32px;\n",
              "    }\n",
              "\n",
              "    .colab-df-convert:hover {\n",
              "      background-color: #E2EBFA;\n",
              "      box-shadow: 0px 1px 2px rgba(60, 64, 67, 0.3), 0px 1px 3px 1px rgba(60, 64, 67, 0.15);\n",
              "      fill: #174EA6;\n",
              "    }\n",
              "\n",
              "    [theme=dark] .colab-df-convert {\n",
              "      background-color: #3B4455;\n",
              "      fill: #D2E3FC;\n",
              "    }\n",
              "\n",
              "    [theme=dark] .colab-df-convert:hover {\n",
              "      background-color: #434B5C;\n",
              "      box-shadow: 0px 1px 3px 1px rgba(0, 0, 0, 0.15);\n",
              "      filter: drop-shadow(0px 1px 2px rgba(0, 0, 0, 0.3));\n",
              "      fill: #FFFFFF;\n",
              "    }\n",
              "  </style>\n",
              "\n",
              "      <script>\n",
              "        const buttonEl =\n",
              "          document.querySelector('#df-bacf15e6-04e3-4cb9-9ca1-86ebea3a3328 button.colab-df-convert');\n",
              "        buttonEl.style.display =\n",
              "          google.colab.kernel.accessAllowed ? 'block' : 'none';\n",
              "\n",
              "        async function convertToInteractive(key) {\n",
              "          const element = document.querySelector('#df-bacf15e6-04e3-4cb9-9ca1-86ebea3a3328');\n",
              "          const dataTable =\n",
              "            await google.colab.kernel.invokeFunction('convertToInteractive',\n",
              "                                                     [key], {});\n",
              "          if (!dataTable) return;\n",
              "\n",
              "          const docLinkHtml = 'Like what you see? Visit the ' +\n",
              "            '<a target=\"_blank\" href=https://colab.research.google.com/notebooks/data_table.ipynb>data table notebook</a>'\n",
              "            + ' to learn more about interactive tables.';\n",
              "          element.innerHTML = '';\n",
              "          dataTable['output_type'] = 'display_data';\n",
              "          await google.colab.output.renderOutput(dataTable, element);\n",
              "          const docLink = document.createElement('div');\n",
              "          docLink.innerHTML = docLinkHtml;\n",
              "          element.appendChild(docLink);\n",
              "        }\n",
              "      </script>\n",
              "    </div>\n",
              "  </div>\n",
              "  "
            ]
          },
          "metadata": {},
          "execution_count": 15
        }
      ]
    },
    {
      "cell_type": "markdown",
      "metadata": {
        "id": "ELB4xc0OMMLV"
      },
      "source": [
        "**Observation:**\n",
        "\n",
        "- The **Average** age in heart dataset is 54. and minimum age is 29 years.\n",
        "\n",
        "- **Minimum** age is 29 years and **Maximum** age is 77 years.\n",
        "\n",
        "- **Minimum cholestrol** is 131 mg and **Manimum cholestrol** 564 mg."
      ]
    },
    {
      "cell_type": "code",
      "source": [
        "heart_test.describe()"
      ],
      "metadata": {
        "id": "R8aUDF1Ksf8M",
        "colab": {
          "base_uri": "https://localhost:8080/",
          "height": 364
        },
        "outputId": "ae427763-7ddb-4465-ab14-3576a3e22368"
      },
      "execution_count": 16,
      "outputs": [
        {
          "output_type": "execute_result",
          "data": {
            "text/plain": [
              "           Number        age        sex         cp      trtbps        chol  \\\n",
              "count   61.000000  61.000000  61.000000  61.000000   61.000000   61.000000   \n",
              "mean   154.229508  53.983607   0.786885   0.868852  136.639344  243.967213   \n",
              "std     91.219953   8.641936   0.412907   1.071998   19.457674   48.156677   \n",
              "min      5.000000  34.000000   0.000000   0.000000  102.000000  126.000000   \n",
              "25%     77.000000  46.000000   1.000000   0.000000  124.000000  208.000000   \n",
              "50%    146.000000  55.000000   1.000000   0.000000  135.000000  245.000000   \n",
              "75%    236.000000  60.000000   1.000000   2.000000  150.000000  273.000000   \n",
              "max    300.000000  71.000000   1.000000   3.000000  200.000000  409.000000   \n",
              "\n",
              "             fbs    restecg    thalachh       exng    oldpeak        slp  \\\n",
              "count  61.000000  61.000000   61.000000  61.000000  61.000000  61.000000   \n",
              "mean    0.229508   0.426230  147.786885   0.377049   1.144262   1.311475   \n",
              "std     0.424006   0.498632   25.089251   0.488669   1.374230   0.646555   \n",
              "min     0.000000   0.000000   71.000000   0.000000   0.000000   0.000000   \n",
              "25%     0.000000   0.000000  132.000000   0.000000   0.000000   1.000000   \n",
              "50%     0.000000   0.000000  148.000000   0.000000   0.600000   1.000000   \n",
              "75%     0.000000   1.000000  168.000000   1.000000   1.900000   2.000000   \n",
              "max     1.000000   1.000000  192.000000   1.000000   6.200000   2.000000   \n",
              "\n",
              "             caa      thall     output  \n",
              "count  61.000000  61.000000  61.000000  \n",
              "mean    0.918033   2.360656   0.524590  \n",
              "std     1.129824   0.683930   0.503539  \n",
              "min     0.000000   0.000000   0.000000  \n",
              "25%     0.000000   2.000000   0.000000  \n",
              "50%     0.000000   2.000000   1.000000  \n",
              "75%     2.000000   3.000000   1.000000  \n",
              "max     4.000000   3.000000   1.000000  "
            ],
            "text/html": [
              "\n",
              "  <div id=\"df-ebf675e3-a14a-4431-b728-ee77c0b2d9a4\">\n",
              "    <div class=\"colab-df-container\">\n",
              "      <div>\n",
              "<style scoped>\n",
              "    .dataframe tbody tr th:only-of-type {\n",
              "        vertical-align: middle;\n",
              "    }\n",
              "\n",
              "    .dataframe tbody tr th {\n",
              "        vertical-align: top;\n",
              "    }\n",
              "\n",
              "    .dataframe thead th {\n",
              "        text-align: right;\n",
              "    }\n",
              "</style>\n",
              "<table border=\"1\" class=\"dataframe\">\n",
              "  <thead>\n",
              "    <tr style=\"text-align: right;\">\n",
              "      <th></th>\n",
              "      <th>Number</th>\n",
              "      <th>age</th>\n",
              "      <th>sex</th>\n",
              "      <th>cp</th>\n",
              "      <th>trtbps</th>\n",
              "      <th>chol</th>\n",
              "      <th>fbs</th>\n",
              "      <th>restecg</th>\n",
              "      <th>thalachh</th>\n",
              "      <th>exng</th>\n",
              "      <th>oldpeak</th>\n",
              "      <th>slp</th>\n",
              "      <th>caa</th>\n",
              "      <th>thall</th>\n",
              "      <th>output</th>\n",
              "    </tr>\n",
              "  </thead>\n",
              "  <tbody>\n",
              "    <tr>\n",
              "      <th>count</th>\n",
              "      <td>61.000000</td>\n",
              "      <td>61.000000</td>\n",
              "      <td>61.000000</td>\n",
              "      <td>61.000000</td>\n",
              "      <td>61.000000</td>\n",
              "      <td>61.000000</td>\n",
              "      <td>61.000000</td>\n",
              "      <td>61.000000</td>\n",
              "      <td>61.000000</td>\n",
              "      <td>61.000000</td>\n",
              "      <td>61.000000</td>\n",
              "      <td>61.000000</td>\n",
              "      <td>61.000000</td>\n",
              "      <td>61.000000</td>\n",
              "      <td>61.000000</td>\n",
              "    </tr>\n",
              "    <tr>\n",
              "      <th>mean</th>\n",
              "      <td>154.229508</td>\n",
              "      <td>53.983607</td>\n",
              "      <td>0.786885</td>\n",
              "      <td>0.868852</td>\n",
              "      <td>136.639344</td>\n",
              "      <td>243.967213</td>\n",
              "      <td>0.229508</td>\n",
              "      <td>0.426230</td>\n",
              "      <td>147.786885</td>\n",
              "      <td>0.377049</td>\n",
              "      <td>1.144262</td>\n",
              "      <td>1.311475</td>\n",
              "      <td>0.918033</td>\n",
              "      <td>2.360656</td>\n",
              "      <td>0.524590</td>\n",
              "    </tr>\n",
              "    <tr>\n",
              "      <th>std</th>\n",
              "      <td>91.219953</td>\n",
              "      <td>8.641936</td>\n",
              "      <td>0.412907</td>\n",
              "      <td>1.071998</td>\n",
              "      <td>19.457674</td>\n",
              "      <td>48.156677</td>\n",
              "      <td>0.424006</td>\n",
              "      <td>0.498632</td>\n",
              "      <td>25.089251</td>\n",
              "      <td>0.488669</td>\n",
              "      <td>1.374230</td>\n",
              "      <td>0.646555</td>\n",
              "      <td>1.129824</td>\n",
              "      <td>0.683930</td>\n",
              "      <td>0.503539</td>\n",
              "    </tr>\n",
              "    <tr>\n",
              "      <th>min</th>\n",
              "      <td>5.000000</td>\n",
              "      <td>34.000000</td>\n",
              "      <td>0.000000</td>\n",
              "      <td>0.000000</td>\n",
              "      <td>102.000000</td>\n",
              "      <td>126.000000</td>\n",
              "      <td>0.000000</td>\n",
              "      <td>0.000000</td>\n",
              "      <td>71.000000</td>\n",
              "      <td>0.000000</td>\n",
              "      <td>0.000000</td>\n",
              "      <td>0.000000</td>\n",
              "      <td>0.000000</td>\n",
              "      <td>0.000000</td>\n",
              "      <td>0.000000</td>\n",
              "    </tr>\n",
              "    <tr>\n",
              "      <th>25%</th>\n",
              "      <td>77.000000</td>\n",
              "      <td>46.000000</td>\n",
              "      <td>1.000000</td>\n",
              "      <td>0.000000</td>\n",
              "      <td>124.000000</td>\n",
              "      <td>208.000000</td>\n",
              "      <td>0.000000</td>\n",
              "      <td>0.000000</td>\n",
              "      <td>132.000000</td>\n",
              "      <td>0.000000</td>\n",
              "      <td>0.000000</td>\n",
              "      <td>1.000000</td>\n",
              "      <td>0.000000</td>\n",
              "      <td>2.000000</td>\n",
              "      <td>0.000000</td>\n",
              "    </tr>\n",
              "    <tr>\n",
              "      <th>50%</th>\n",
              "      <td>146.000000</td>\n",
              "      <td>55.000000</td>\n",
              "      <td>1.000000</td>\n",
              "      <td>0.000000</td>\n",
              "      <td>135.000000</td>\n",
              "      <td>245.000000</td>\n",
              "      <td>0.000000</td>\n",
              "      <td>0.000000</td>\n",
              "      <td>148.000000</td>\n",
              "      <td>0.000000</td>\n",
              "      <td>0.600000</td>\n",
              "      <td>1.000000</td>\n",
              "      <td>0.000000</td>\n",
              "      <td>2.000000</td>\n",
              "      <td>1.000000</td>\n",
              "    </tr>\n",
              "    <tr>\n",
              "      <th>75%</th>\n",
              "      <td>236.000000</td>\n",
              "      <td>60.000000</td>\n",
              "      <td>1.000000</td>\n",
              "      <td>2.000000</td>\n",
              "      <td>150.000000</td>\n",
              "      <td>273.000000</td>\n",
              "      <td>0.000000</td>\n",
              "      <td>1.000000</td>\n",
              "      <td>168.000000</td>\n",
              "      <td>1.000000</td>\n",
              "      <td>1.900000</td>\n",
              "      <td>2.000000</td>\n",
              "      <td>2.000000</td>\n",
              "      <td>3.000000</td>\n",
              "      <td>1.000000</td>\n",
              "    </tr>\n",
              "    <tr>\n",
              "      <th>max</th>\n",
              "      <td>300.000000</td>\n",
              "      <td>71.000000</td>\n",
              "      <td>1.000000</td>\n",
              "      <td>3.000000</td>\n",
              "      <td>200.000000</td>\n",
              "      <td>409.000000</td>\n",
              "      <td>1.000000</td>\n",
              "      <td>1.000000</td>\n",
              "      <td>192.000000</td>\n",
              "      <td>1.000000</td>\n",
              "      <td>6.200000</td>\n",
              "      <td>2.000000</td>\n",
              "      <td>4.000000</td>\n",
              "      <td>3.000000</td>\n",
              "      <td>1.000000</td>\n",
              "    </tr>\n",
              "  </tbody>\n",
              "</table>\n",
              "</div>\n",
              "      <button class=\"colab-df-convert\" onclick=\"convertToInteractive('df-ebf675e3-a14a-4431-b728-ee77c0b2d9a4')\"\n",
              "              title=\"Convert this dataframe to an interactive table.\"\n",
              "              style=\"display:none;\">\n",
              "        \n",
              "  <svg xmlns=\"http://www.w3.org/2000/svg\" height=\"24px\"viewBox=\"0 0 24 24\"\n",
              "       width=\"24px\">\n",
              "    <path d=\"M0 0h24v24H0V0z\" fill=\"none\"/>\n",
              "    <path d=\"M18.56 5.44l.94 2.06.94-2.06 2.06-.94-2.06-.94-.94-2.06-.94 2.06-2.06.94zm-11 1L8.5 8.5l.94-2.06 2.06-.94-2.06-.94L8.5 2.5l-.94 2.06-2.06.94zm10 10l.94 2.06.94-2.06 2.06-.94-2.06-.94-.94-2.06-.94 2.06-2.06.94z\"/><path d=\"M17.41 7.96l-1.37-1.37c-.4-.4-.92-.59-1.43-.59-.52 0-1.04.2-1.43.59L10.3 9.45l-7.72 7.72c-.78.78-.78 2.05 0 2.83L4 21.41c.39.39.9.59 1.41.59.51 0 1.02-.2 1.41-.59l7.78-7.78 2.81-2.81c.8-.78.8-2.07 0-2.86zM5.41 20L4 18.59l7.72-7.72 1.47 1.35L5.41 20z\"/>\n",
              "  </svg>\n",
              "      </button>\n",
              "      \n",
              "  <style>\n",
              "    .colab-df-container {\n",
              "      display:flex;\n",
              "      flex-wrap:wrap;\n",
              "      gap: 12px;\n",
              "    }\n",
              "\n",
              "    .colab-df-convert {\n",
              "      background-color: #E8F0FE;\n",
              "      border: none;\n",
              "      border-radius: 50%;\n",
              "      cursor: pointer;\n",
              "      display: none;\n",
              "      fill: #1967D2;\n",
              "      height: 32px;\n",
              "      padding: 0 0 0 0;\n",
              "      width: 32px;\n",
              "    }\n",
              "\n",
              "    .colab-df-convert:hover {\n",
              "      background-color: #E2EBFA;\n",
              "      box-shadow: 0px 1px 2px rgba(60, 64, 67, 0.3), 0px 1px 3px 1px rgba(60, 64, 67, 0.15);\n",
              "      fill: #174EA6;\n",
              "    }\n",
              "\n",
              "    [theme=dark] .colab-df-convert {\n",
              "      background-color: #3B4455;\n",
              "      fill: #D2E3FC;\n",
              "    }\n",
              "\n",
              "    [theme=dark] .colab-df-convert:hover {\n",
              "      background-color: #434B5C;\n",
              "      box-shadow: 0px 1px 3px 1px rgba(0, 0, 0, 0.15);\n",
              "      filter: drop-shadow(0px 1px 2px rgba(0, 0, 0, 0.3));\n",
              "      fill: #FFFFFF;\n",
              "    }\n",
              "  </style>\n",
              "\n",
              "      <script>\n",
              "        const buttonEl =\n",
              "          document.querySelector('#df-ebf675e3-a14a-4431-b728-ee77c0b2d9a4 button.colab-df-convert');\n",
              "        buttonEl.style.display =\n",
              "          google.colab.kernel.accessAllowed ? 'block' : 'none';\n",
              "\n",
              "        async function convertToInteractive(key) {\n",
              "          const element = document.querySelector('#df-ebf675e3-a14a-4431-b728-ee77c0b2d9a4');\n",
              "          const dataTable =\n",
              "            await google.colab.kernel.invokeFunction('convertToInteractive',\n",
              "                                                     [key], {});\n",
              "          if (!dataTable) return;\n",
              "\n",
              "          const docLinkHtml = 'Like what you see? Visit the ' +\n",
              "            '<a target=\"_blank\" href=https://colab.research.google.com/notebooks/data_table.ipynb>data table notebook</a>'\n",
              "            + ' to learn more about interactive tables.';\n",
              "          element.innerHTML = '';\n",
              "          dataTable['output_type'] = 'display_data';\n",
              "          await google.colab.output.renderOutput(dataTable, element);\n",
              "          const docLink = document.createElement('div');\n",
              "          docLink.innerHTML = docLinkHtml;\n",
              "          element.appendChild(docLink);\n",
              "        }\n",
              "      </script>\n",
              "    </div>\n",
              "  </div>\n",
              "  "
            ]
          },
          "metadata": {},
          "execution_count": 16
        }
      ]
    },
    {
      "cell_type": "markdown",
      "metadata": {
        "id": "8C79QIcUPSyd"
      },
      "source": [
        "<a name = Section5></a>\n",
        "\n",
        "---\n",
        "# **5. Data Pre-Processing**\n",
        "---"
      ]
    },
    {
      "cell_type": "markdown",
      "metadata": {
        "id": "UythVs5wP9d5"
      },
      "source": [
        "<a name = Section51></a>\n",
        "### **5.1 Pre-Profiling Report**\n",
        "\n",
        "- For **quick analysis** pandas profiling is very handy.\n",
        "\n",
        "- Generates profile reports from a pandas DataFrame.\n",
        "\n",
        "- For each column **statistics** are presented in an interactive HTML report."
      ]
    },
    {
      "cell_type": "code",
      "source": [
        "# need to install for to fix the cat_join error.\n",
        "# !pip install https://github.com/pandas-profiling/pandas-profiling/archive/master.zip"
      ],
      "metadata": {
        "id": "QVrWCo_vriQi"
      },
      "execution_count": 17,
      "outputs": []
    },
    {
      "cell_type": "code",
      "metadata": {
        "id": "SKh0u3E7PVF_"
      },
      "source": [
        "# profile = ProfileReport(df = heart_train)\n",
        "# profile.to_file(output_file = 'Pre Profiling Report.html')\n",
        "# print('Accomplished!')"
      ],
      "execution_count": 18,
      "outputs": []
    },
    {
      "cell_type": "markdown",
      "metadata": {
        "id": "Qp-cWI2y-och"
      },
      "source": [
        "**Uncomment and run** the below to generate the profiling report."
      ]
    },
    {
      "cell_type": "code",
      "metadata": {
        "id": "fB2_XhsIPaw-"
      },
      "source": [
        "# from google.colab import files                   # Use only if you are using Google Colab, otherwise remove it\n",
        "# files.download('Pre Profiling Report.html')      # Use only if you are using Google Colab, otherwise remove it"
      ],
      "execution_count": 19,
      "outputs": []
    },
    {
      "cell_type": "markdown",
      "metadata": {
        "id": "2k7QAdvuUkGd"
      },
      "source": [
        "**Observation:**\n",
        "\n",
        "\n",
        "- Reports shows that the **number of variables**\tin our data is **15**.\n",
        "\n",
        "- **Number of observations(rows)** is\t242\n",
        "\n",
        "- **Duplicate rows** are **0**\n",
        "\n",
        "- There is no any **missing data** .\n",
        "\n",
        "- For full details checkout the report."
      ]
    },
    {
      "cell_type": "code",
      "metadata": {
        "id": "bIHPTyZSRONW"
      },
      "source": [
        "#converting data type from float to int in train data\n",
        "heart_train[\"sex\"] = heart_train[\"sex\"].astype(int)\n",
        "heart_train[\"output\"] = heart_train[\"output\"].astype(int)\n",
        "\n",
        "#converting data type from float to int in test data\n",
        "heart_test[\"sex\"] = heart_test[\"sex\"].astype(int)\n",
        "heart_test[\"output\"] = heart_test[\"output\"].astype(int)\n"
      ],
      "execution_count": 20,
      "outputs": []
    },
    {
      "cell_type": "code",
      "metadata": {
        "id": "7GpliTMARsHi",
        "colab": {
          "base_uri": "https://localhost:8080/"
        },
        "outputId": "ee357d31-9314-4d6d-b343-63b07796e73b"
      },
      "source": [
        "heart_train.info()"
      ],
      "execution_count": 21,
      "outputs": [
        {
          "output_type": "stream",
          "name": "stdout",
          "text": [
            "<class 'pandas.core.frame.DataFrame'>\n",
            "RangeIndex: 242 entries, 0 to 241\n",
            "Data columns (total 15 columns):\n",
            " #   Column    Non-Null Count  Dtype  \n",
            "---  ------    --------------  -----  \n",
            " 0   Number    242 non-null    float64\n",
            " 1   age       242 non-null    float64\n",
            " 2   sex       242 non-null    int64  \n",
            " 3   cp        242 non-null    float64\n",
            " 4   trtbps    242 non-null    float64\n",
            " 5   chol      242 non-null    float64\n",
            " 6   fbs       242 non-null    float64\n",
            " 7   restecg   242 non-null    float64\n",
            " 8   thalachh  242 non-null    float64\n",
            " 9   exng      242 non-null    float64\n",
            " 10  oldpeak   242 non-null    float64\n",
            " 11  slp       242 non-null    float64\n",
            " 12  caa       242 non-null    float64\n",
            " 13  thall     242 non-null    float64\n",
            " 14  output    242 non-null    int64  \n",
            "dtypes: float64(13), int64(2)\n",
            "memory usage: 28.5 KB\n"
          ]
        }
      ]
    },
    {
      "cell_type": "code",
      "source": [
        "heart_test.info()"
      ],
      "metadata": {
        "id": "f2Cve9RpyZqI",
        "colab": {
          "base_uri": "https://localhost:8080/"
        },
        "outputId": "2af14537-aeb0-42dd-9931-331e68319a6c"
      },
      "execution_count": 22,
      "outputs": [
        {
          "output_type": "stream",
          "name": "stdout",
          "text": [
            "<class 'pandas.core.frame.DataFrame'>\n",
            "RangeIndex: 61 entries, 0 to 60\n",
            "Data columns (total 15 columns):\n",
            " #   Column    Non-Null Count  Dtype  \n",
            "---  ------    --------------  -----  \n",
            " 0   Number    61 non-null     float64\n",
            " 1   age       61 non-null     float64\n",
            " 2   sex       61 non-null     int64  \n",
            " 3   cp        61 non-null     float64\n",
            " 4   trtbps    61 non-null     float64\n",
            " 5   chol      61 non-null     float64\n",
            " 6   fbs       61 non-null     float64\n",
            " 7   restecg   61 non-null     float64\n",
            " 8   thalachh  61 non-null     float64\n",
            " 9   exng      61 non-null     float64\n",
            " 10  oldpeak   61 non-null     float64\n",
            " 11  slp       61 non-null     float64\n",
            " 12  caa       61 non-null     float64\n",
            " 13  thall     61 non-null     float64\n",
            " 14  output    61 non-null     int64  \n",
            "dtypes: float64(13), int64(2)\n",
            "memory usage: 7.3 KB\n"
          ]
        }
      ]
    },
    {
      "cell_type": "markdown",
      "metadata": {
        "id": "t_h3On9DRr1O"
      },
      "source": [
        "<a name = Section6></a>\n",
        "\n",
        "---\n",
        "# **6. Exploratory Data Analysis**\n",
        "---"
      ]
    },
    {
      "cell_type": "markdown",
      "metadata": {
        "id": "KP0gF-CJTmsF"
      },
      "source": [
        "**<h4>Question: What is the frequency and proportion of Output?</h4>**"
      ]
    },
    {
      "cell_type": "code",
      "metadata": {
        "id": "e6WUTof_TVou",
        "colab": {
          "base_uri": "https://localhost:8080/"
        },
        "outputId": "7256e9ce-7cc4-4a42-c510-fc44ab691b95"
      },
      "source": [
        "heart_train.output.value_counts()"
      ],
      "execution_count": 23,
      "outputs": [
        {
          "output_type": "execute_result",
          "data": {
            "text/plain": [
              "1    133\n",
              "0    109\n",
              "Name: output, dtype: int64"
            ]
          },
          "metadata": {},
          "execution_count": 23
        }
      ]
    },
    {
      "cell_type": "code",
      "metadata": {
        "id": "TTSJZZPiSJYN",
        "colab": {
          "base_uri": "https://localhost:8080/",
          "height": 518
        },
        "outputId": "37a5cb1e-1557-4b0c-edbc-e0603e0500fa"
      },
      "source": [
        "# setting a figure of size of 20 x 7 inches\n",
        "fig = plt.figure(figsize = [15, 8])\n",
        "\n",
        "sns.countplot(x = 'output', data = heart_train)\n",
        "\n",
        "# Adding cosmetics to graph\n",
        "plt.xlabel(xlabel = 'Output', size = 14)\n",
        "plt.ylabel(ylabel = 'Frequency', size = 14)\n",
        "plt.title(label = 'Frequency Distribution', size = 14)\n",
        "\n",
        "# Display the plot\n",
        "plt.show()"
      ],
      "execution_count": 24,
      "outputs": [
        {
          "output_type": "display_data",
          "data": {
            "text/plain": [
              "<Figure size 1080x576 with 1 Axes>"
            ],
            "image/png": "[encoded data removed]"
          },
          "metadata": {
            "needs_background": "light"
          }
        }
      ]
    },
    {
      "cell_type": "markdown",
      "metadata": {
        "id": "p56bCEDkTtet"
      },
      "source": [
        "**Observation:**\n",
        "\n",
        "- We can observe that there are higher number of heart attack."
      ]
    },
    {
      "cell_type": "markdown",
      "metadata": {
        "id": "J1mckMVnUAes"
      },
      "source": [
        "**<h4>Question: Is there any association between Age and Output?</h4>**\n"
      ]
    },
    {
      "cell_type": "code",
      "metadata": {
        "id": "uc_2tbIYUQhU",
        "outputId": "8984f5de-3d9f-4f79-a282-c181dad42256",
        "colab": {
          "base_uri": "https://localhost:8080/",
          "height": 459
        }
      },
      "source": [
        "# Slicing data with non-attack\n",
        "Not_attack = heart_train['age'][heart_train['output'] == 0]\n",
        "\n",
        "# Slicing data with attack\n",
        "Attack = heart_train['age'][heart_train['output'] == 1]\n",
        "\n",
        "# Plotting the distribution of the sliced data\n",
        "fig, (ax1, ax2) = plt.subplots(nrows = 2, ncols = 1, sharex = True, figsize = (20, 7))\n",
        "sns.distplot(a = Not_attack, bins = 50, ax = ax1, color = 'red')\n",
        "ax1.set_title(label = 'Distribution of People who had no heart attack', size = 14)\n",
        "ax1.set_xlabel(xlabel = '')\n",
        "sns.distplot(a = Attack, bins = 50, ax = ax2, color = 'green')\n",
        "ax2.set_title(label = 'Distribution of People who had heart attack', size = 14)\n",
        "plt.show()"
      ],
      "execution_count": 25,
      "outputs": [
        {
          "output_type": "display_data",
          "data": {
            "text/plain": [
              "<Figure size 1440x504 with 2 Axes>"
            ],
            "image/png": "[encoded data removed]"
          },
          "metadata": {
            "needs_background": "light"
          }
        }
      ]
    },
    {
      "cell_type": "markdown",
      "metadata": {
        "id": "H_dCvfIbeHmB"
      },
      "source": [
        "**Observation:**\n",
        "\n",
        "- We can see that the distribution of both the cases are similar."
      ]
    },
    {
      "cell_type": "markdown",
      "metadata": {
        "id": "-ONKh0g9Vs73"
      },
      "source": [
        "**<h4>Question: Is there any relation between Response and Accomodation_Type?</h4>**"
      ]
    },
    {
      "cell_type": "code",
      "metadata": {
        "id": "XgMpGE-tWyXV",
        "outputId": "7e1062aa-51d6-436b-e17d-ea5d86e73b91",
        "colab": {
          "base_uri": "https://localhost:8080/"
        }
      },
      "source": [
        "Not_Attack = heart_train['sex'][heart_train['output'] == 0]\n",
        "Not_Attack.value_counts()"
      ],
      "execution_count": 26,
      "outputs": [
        {
          "output_type": "execute_result",
          "data": {
            "text/plain": [
              "1    89\n",
              "0    20\n",
              "Name: sex, dtype: int64"
            ]
          },
          "metadata": {},
          "execution_count": 26
        }
      ]
    },
    {
      "cell_type": "code",
      "source": [
        "Attack = heart_train['sex'][heart_train['output'] == 1]\n",
        "Attack.value_counts()"
      ],
      "metadata": {
        "colab": {
          "base_uri": "https://localhost:8080/"
        },
        "id": "uxUAnHC02XqJ",
        "outputId": "fe9203fa-f8c7-4150-8641-6a399d4049de"
      },
      "execution_count": 27,
      "outputs": [
        {
          "output_type": "execute_result",
          "data": {
            "text/plain": [
              "1    70\n",
              "0    63\n",
              "Name: sex, dtype: int64"
            ]
          },
          "metadata": {},
          "execution_count": 27
        }
      ]
    },
    {
      "cell_type": "code",
      "metadata": {
        "id": "Gtp-k1kmVrJd",
        "outputId": "13c8f441-e5b0-4b14-fd11-b5169d3532a8",
        "colab": {
          "base_uri": "https://localhost:8080/",
          "height": 623
        }
      },
      "source": [
        "# Slicing data with non-responded\n",
        "Not_attack = heart_train['sex'][heart_train['output'] == 0]\n",
        "\n",
        "# Slicing data with responded\n",
        "attack = heart_train['sex'][heart_train['output'] == 1]\n",
        "\n",
        "fig, (ax1, ax2) = plt.subplots(nrows = 2, ncols = 1, sharex = True, figsize = (20, 10))\n",
        "sns.countplot(Not_attack,ax=ax1)\n",
        "ax1.set_title(label = 'Distribution of People who had no heart attack', size = 14)\n",
        "ax1.set_xlabel(xlabel = 'Accomodation Type')\n",
        "sns.countplot( attack,ax=ax2)\n",
        "ax2.set_title(label = 'Distribution of People who had heart attack', size = 14)\n",
        "plt.show()"
      ],
      "execution_count": 28,
      "outputs": [
        {
          "output_type": "display_data",
          "data": {
            "text/plain": [
              "<Figure size 1440x720 with 2 Axes>"
            ],
            "image/png": "[encoded data removed]"
          },
          "metadata": {
            "needs_background": "light"
          }
        }
      ]
    },
    {
      "cell_type": "markdown",
      "metadata": {
        "id": "4ywY8Q0qXxkO"
      },
      "source": [
        "**Observation:**\n",
        "\n",
        "- We can **observe** most Male had heart attack as compare to Female."
      ]
    },
    {
      "cell_type": "markdown",
      "metadata": {
        "id": "dlQrElicYYFF"
      },
      "source": [
        "**<h4>Question: Is there any relation between Reco_Policy_Premium and Reco_Insurance_TypeReco_Policy_Premium?</h4>**"
      ]
    },
    {
      "cell_type": "code",
      "metadata": {
        "id": "W4ho2c9mYXM5",
        "outputId": "11c4b123-7e71-4881-cd3d-9725f83fa023",
        "colab": {
          "base_uri": "https://localhost:8080/",
          "height": 175
        }
      },
      "source": [
        "heart_train[['age','sex']].groupby(by = 'sex').describe()"
      ],
      "execution_count": 29,
      "outputs": [
        {
          "output_type": "execute_result",
          "data": {
            "text/plain": [
              "       age                                                   \n",
              "     count       mean       std   min   25%   50%   75%   max\n",
              "sex                                                          \n",
              "0     83.0  55.722892  9.202748  35.0  50.0  57.0  63.0  76.0\n",
              "1    159.0  53.805031  9.165481  29.0  47.0  55.0  60.0  77.0"
            ],
            "text/html": [
              "\n",
              "  <div id=\"df-5324b2ba-df8a-4587-b431-777f253afa48\">\n",
              "    <div class=\"colab-df-container\">\n",
              "      <div>\n",
              "<style scoped>\n",
              "    .dataframe tbody tr th:only-of-type {\n",
              "        vertical-align: middle;\n",
              "    }\n",
              "\n",
              "    .dataframe tbody tr th {\n",
              "        vertical-align: top;\n",
              "    }\n",
              "\n",
              "    .dataframe thead tr th {\n",
              "        text-align: left;\n",
              "    }\n",
              "\n",
              "    .dataframe thead tr:last-of-type th {\n",
              "        text-align: right;\n",
              "    }\n",
              "</style>\n",
              "<table border=\"1\" class=\"dataframe\">\n",
              "  <thead>\n",
              "    <tr>\n",
              "      <th></th>\n",
              "      <th colspan=\"8\" halign=\"left\">age</th>\n",
              "    </tr>\n",
              "    <tr>\n",
              "      <th></th>\n",
              "      <th>count</th>\n",
              "      <th>mean</th>\n",
              "      <th>std</th>\n",
              "      <th>min</th>\n",
              "      <th>25%</th>\n",
              "      <th>50%</th>\n",
              "      <th>75%</th>\n",
              "      <th>max</th>\n",
              "    </tr>\n",
              "    <tr>\n",
              "      <th>sex</th>\n",
              "      <th></th>\n",
              "      <th></th>\n",
              "      <th></th>\n",
              "      <th></th>\n",
              "      <th></th>\n",
              "      <th></th>\n",
              "      <th></th>\n",
              "      <th></th>\n",
              "    </tr>\n",
              "  </thead>\n",
              "  <tbody>\n",
              "    <tr>\n",
              "      <th>0</th>\n",
              "      <td>83.0</td>\n",
              "      <td>55.722892</td>\n",
              "      <td>9.202748</td>\n",
              "      <td>35.0</td>\n",
              "      <td>50.0</td>\n",
              "      <td>57.0</td>\n",
              "      <td>63.0</td>\n",
              "      <td>76.0</td>\n",
              "    </tr>\n",
              "    <tr>\n",
              "      <th>1</th>\n",
              "      <td>159.0</td>\n",
              "      <td>53.805031</td>\n",
              "      <td>9.165481</td>\n",
              "      <td>29.0</td>\n",
              "      <td>47.0</td>\n",
              "      <td>55.0</td>\n",
              "      <td>60.0</td>\n",
              "      <td>77.0</td>\n",
              "    </tr>\n",
              "  </tbody>\n",
              "</table>\n",
              "</div>\n",
              "      <button class=\"colab-df-convert\" onclick=\"convertToInteractive('df-5324b2ba-df8a-4587-b431-777f253afa48')\"\n",
              "              title=\"Convert this dataframe to an interactive table.\"\n",
              "              style=\"display:none;\">\n",
              "        \n",
              "  <svg xmlns=\"http://www.w3.org/2000/svg\" height=\"24px\"viewBox=\"0 0 24 24\"\n",
              "       width=\"24px\">\n",
              "    <path d=\"M0 0h24v24H0V0z\" fill=\"none\"/>\n",
              "    <path d=\"M18.56 5.44l.94 2.06.94-2.06 2.06-.94-2.06-.94-.94-2.06-.94 2.06-2.06.94zm-11 1L8.5 8.5l.94-2.06 2.06-.94-2.06-.94L8.5 2.5l-.94 2.06-2.06.94zm10 10l.94 2.06.94-2.06 2.06-.94-2.06-.94-.94-2.06-.94 2.06-2.06.94z\"/><path d=\"M17.41 7.96l-1.37-1.37c-.4-.4-.92-.59-1.43-.59-.52 0-1.04.2-1.43.59L10.3 9.45l-7.72 7.72c-.78.78-.78 2.05 0 2.83L4 21.41c.39.39.9.59 1.41.59.51 0 1.02-.2 1.41-.59l7.78-7.78 2.81-2.81c.8-.78.8-2.07 0-2.86zM5.41 20L4 18.59l7.72-7.72 1.47 1.35L5.41 20z\"/>\n",
              "  </svg>\n",
              "      </button>\n",
              "      \n",
              "  <style>\n",
              "    .colab-df-container {\n",
              "      display:flex;\n",
              "      flex-wrap:wrap;\n",
              "      gap: 12px;\n",
              "    }\n",
              "\n",
              "    .colab-df-convert {\n",
              "      background-color: #E8F0FE;\n",
              "      border: none;\n",
              "      border-radius: 50%;\n",
              "      cursor: pointer;\n",
              "      display: none;\n",
              "      fill: #1967D2;\n",
              "      height: 32px;\n",
              "      padding: 0 0 0 0;\n",
              "      width: 32px;\n",
              "    }\n",
              "\n",
              "    .colab-df-convert:hover {\n",
              "      background-color: #E2EBFA;\n",
              "      box-shadow: 0px 1px 2px rgba(60, 64, 67, 0.3), 0px 1px 3px 1px rgba(60, 64, 67, 0.15);\n",
              "      fill: #174EA6;\n",
              "    }\n",
              "\n",
              "    [theme=dark] .colab-df-convert {\n",
              "      background-color: #3B4455;\n",
              "      fill: #D2E3FC;\n",
              "    }\n",
              "\n",
              "    [theme=dark] .colab-df-convert:hover {\n",
              "      background-color: #434B5C;\n",
              "      box-shadow: 0px 1px 3px 1px rgba(0, 0, 0, 0.15);\n",
              "      filter: drop-shadow(0px 1px 2px rgba(0, 0, 0, 0.3));\n",
              "      fill: #FFFFFF;\n",
              "    }\n",
              "  </style>\n",
              "\n",
              "      <script>\n",
              "        const buttonEl =\n",
              "          document.querySelector('#df-5324b2ba-df8a-4587-b431-777f253afa48 button.colab-df-convert');\n",
              "        buttonEl.style.display =\n",
              "          google.colab.kernel.accessAllowed ? 'block' : 'none';\n",
              "\n",
              "        async function convertToInteractive(key) {\n",
              "          const element = document.querySelector('#df-5324b2ba-df8a-4587-b431-777f253afa48');\n",
              "          const dataTable =\n",
              "            await google.colab.kernel.invokeFunction('convertToInteractive',\n",
              "                                                     [key], {});\n",
              "          if (!dataTable) return;\n",
              "\n",
              "          const docLinkHtml = 'Like what you see? Visit the ' +\n",
              "            '<a target=\"_blank\" href=https://colab.research.google.com/notebooks/data_table.ipynb>data table notebook</a>'\n",
              "            + ' to learn more about interactive tables.';\n",
              "          element.innerHTML = '';\n",
              "          dataTable['output_type'] = 'display_data';\n",
              "          await google.colab.output.renderOutput(dataTable, element);\n",
              "          const docLink = document.createElement('div');\n",
              "          docLink.innerHTML = docLinkHtml;\n",
              "          element.appendChild(docLink);\n",
              "        }\n",
              "      </script>\n",
              "    </div>\n",
              "  </div>\n",
              "  "
            ]
          },
          "metadata": {},
          "execution_count": 29
        }
      ]
    },
    {
      "cell_type": "markdown",
      "metadata": {
        "id": "2RUZT8AfZnXB"
      },
      "source": [
        "**Observation:**\n",
        "\n",
        "- We can **observe** that male count is higher than female count."
      ]
    },
    {
      "cell_type": "markdown",
      "source": [
        "**<h4>Question: Is there any outlier in policy data?</h4>**"
      ],
      "metadata": {
        "id": "ypl9b5ZStHE7"
      }
    },
    {
      "cell_type": "code",
      "source": [
        "plt.figure(figsize=(20,15))\n",
        "\n",
        "sns.boxplot(data=heart_train)\n",
        "\n",
        "plt.xticks(fontsize=16 ,rotation=45)\n",
        "plt.yticks(fontsize=16)\n",
        "\n",
        "plt.show()"
      ],
      "metadata": {
        "colab": {
          "base_uri": "https://localhost:8080/",
          "height": 913
        },
        "id": "VUUPE3fVtATW",
        "outputId": "ae1bdf34-4cfb-4a72-f649-4940ebd350ee"
      },
      "execution_count": 30,
      "outputs": [
        {
          "output_type": "display_data",
          "data": {
            "text/plain": [
              "<Figure size 1440x1080 with 1 Axes>"
            ],
            "image/png": "[encoded data removed]"
          },
          "metadata": {
            "needs_background": "light"
          }
        }
      ]
    },
    {
      "cell_type": "markdown",
      "metadata": {
        "id": "J4F1EvtbaHoq"
      },
      "source": [
        "<a name = Section7></a>\n",
        "\n",
        "---\n",
        "# **7. Post Data Processing & Feature Selection**\n",
        "---\n"
      ]
    },
    {
      "cell_type": "code",
      "metadata": {
        "id": "BV3DUQHmjkFK",
        "outputId": "da48795d-da72-4c3e-8992-6fe3a622ba33",
        "colab": {
          "base_uri": "https://localhost:8080/",
          "height": 867
        }
      },
      "source": [
        "corr = heart_train.corr()\n",
        "plt.figure(figsize=(15,15))\n",
        "sns.heatmap(corr,vmax=.8,linewidth=.01, square = True, annot = True,cmap='YlGnBu',linecolor ='black')\n",
        "plt.title('Correlation between features')"
      ],
      "execution_count": 31,
      "outputs": [
        {
          "output_type": "execute_result",
          "data": {
            "text/plain": [
              "Text(0.5, 1.0, 'Correlation between features')"
            ]
          },
          "metadata": {},
          "execution_count": 31
        },
        {
          "output_type": "display_data",
          "data": {
            "text/plain": [
              "<Figure size 1080x1080 with 2 Axes>"
            ],
            "image/png": "[encoded data removed]"
          },
          "metadata": {
            "needs_background": "light"
          }
        }
      ]
    },
    {
      "cell_type": "markdown",
      "metadata": {
        "id": "vmbjhbARYKK4"
      },
      "source": [
        "<a name = Section72></a>\n",
        "### **7.1 Post-Profiling Report**\n",
        "\n",
        "> Indented block\n",
        "\n"
      ]
    },
    {
      "cell_type": "code",
      "metadata": {
        "id": "Nl3hHzo9fiqW"
      },
      "source": [
        "# profile = ProfileReport(df = heart_train_df)\n",
        "# profile.to_file(output_file = 'Pre Profiling Report.html')\n",
        "# print('Accomplished!')"
      ],
      "execution_count": 32,
      "outputs": []
    },
    {
      "cell_type": "code",
      "metadata": {
        "id": "rmgFXWuvfkna"
      },
      "source": [
        "# from google.colab import files                   # Use only if you are using Google Colab, otherwise remove it\n",
        "# files.download('Pre Profiling Report.html')      # Use only if you are using Google Colab, otherwise remove it"
      ],
      "execution_count": 33,
      "outputs": []
    },
    {
      "cell_type": "markdown",
      "metadata": {
        "id": "8Zb16jj_flQW"
      },
      "source": [
        "**Observation:**\n",
        "\n",
        "\n",
        "- For full details after the data processing checkout the report."
      ]
    },
    {
      "cell_type": "markdown",
      "metadata": {
        "id": "l1Pj3oMYd8DI"
      },
      "source": [
        "<a name = Section74></a>\n",
        "### **7.2 Data Preparation**\n",
        "\n",
        "- Now we will **split** our **data** in **training** and **testing** part for further development."
      ]
    },
    {
      "cell_type": "code",
      "metadata": {
        "id": "jxaAyqIieBBg"
      },
      "source": [
        "X = heart_train.drop('output',axis = 1)\n",
        "y = heart_train['output']"
      ],
      "execution_count": 34,
      "outputs": []
    },
    {
      "cell_type": "code",
      "source": [
        "# split  data into training and testing sets of 70:30 ratio\n",
        "\n",
        "X_train, X_test, y_train, y_test = train_test_split(X, y, test_size=0.2, random_state=42, stratify = y)"
      ],
      "metadata": {
        "id": "pc7JNkqgp8YA"
      },
      "execution_count": 35,
      "outputs": []
    },
    {
      "cell_type": "code",
      "metadata": {
        "id": "IbIXAQcHeOcw",
        "outputId": "9e80fb9e-67e7-4c0b-89e8-93db1493059c",
        "colab": {
          "base_uri": "https://localhost:8080/"
        }
      },
      "source": [
        "print('Training Data Shape:', X_train.shape, y_train.shape)\n",
        "print('Testing Data Shape:', X_test.shape, y_test.shape)"
      ],
      "execution_count": 36,
      "outputs": [
        {
          "output_type": "stream",
          "name": "stdout",
          "text": [
            "Training Data Shape: (193, 14) (193,)\n",
            "Testing Data Shape: (49, 14) (49,)\n"
          ]
        }
      ]
    },
    {
      "cell_type": "code",
      "source": [
        "y_test.value_counts()"
      ],
      "metadata": {
        "colab": {
          "base_uri": "https://localhost:8080/"
        },
        "id": "oMvVC3EMslpm",
        "outputId": "be0d445b-7215-4791-df3f-4d26d67f5496"
      },
      "execution_count": 37,
      "outputs": [
        {
          "output_type": "execute_result",
          "data": {
            "text/plain": [
              "1    27\n",
              "0    22\n",
              "Name: output, dtype: int64"
            ]
          },
          "metadata": {},
          "execution_count": 37
        }
      ]
    },
    {
      "cell_type": "markdown",
      "metadata": {
        "id": "v5JC7kL2eelS"
      },
      "source": [
        "<a name = Section8></a>\n",
        "\n",
        "---\n",
        "# **8. Model Development & Evaluation**\n",
        "---\n",
        "\n",
        "- In this section we will use different **models** using input features and **tune** our **model if required**.\n",
        "\n",
        "- Then we will **analyze the results** obtained and **make our observation**.\n",
        "\n",
        "- For **evaluation purpose** we will **focus** on **Accuracy**, also we will check for **Precision**, **Recall**, **F1-Score**, and **Precision-Recall Score**.\n",
        "\n"
      ]
    },
    {
      "cell_type": "markdown",
      "metadata": {
        "id": "ua0no6Tsr-nS"
      },
      "source": [
        "<a name = Section81></a>\n",
        "\n",
        "## **8.1 Logistic Regression - Baseline Model**"
      ]
    },
    {
      "cell_type": "code",
      "metadata": {
        "id": "bjlXHdfXiWOS",
        "colab": {
          "base_uri": "https://localhost:8080/"
        },
        "outputId": "698a693f-008d-4ebf-8b3e-e14765f70a11"
      },
      "source": [
        "# Instantiating various classifiers\n",
        "clfs = [RandomForestClassifier(random_state=0, class_weight='balanced'),\n",
        "        LogisticRegression(random_state=0), GaussianNB()]\n",
        "\n",
        "for clf in clfs:\n",
        "  # Extracting model name\n",
        "  model_name = type(clf).__name__\n",
        "\n",
        "  start_time = time.time()\n",
        "\n",
        "  # Fit the model on train data\n",
        "  clf.fit(X_train, y_train)\n",
        "\n",
        "  # Calculating evaluated time\n",
        "  evaluated_time = time.time()-start_time\n",
        "\n",
        "  # Make predictions using test data\n",
        "  y_pred_train = clf.predict(X_train)\n",
        "\n",
        "  # Make predictions using test data\n",
        "  y_pred = clf.predict(X_test)\n",
        "\n",
        "  # Calculate the train accuracy of the model\n",
        "  clf_train_accuracy = accuracy_score(y_train, y_pred_train)\n",
        "\n",
        "  # Calculate the test accuracy of the model\n",
        "  clf_accuracy = accuracy_score(y_test, y_pred)\n",
        "\n",
        "  # Display the accuracy of the model\n",
        "  print('Performance Metric of', model_name, ':')\n",
        "  print('Time taken for tuning', model_name ,' is: ', np.round(evaluated_time, 2), 'sec')\n",
        "  print('[Train Accuracy]:', clf_train_accuracy)\n",
        "  print('[Test Accuracy]:', clf_accuracy)\n",
        "  print('----------------------------------------\\n')"
      ],
      "execution_count": 50,
      "outputs": [
        {
          "output_type": "stream",
          "name": "stdout",
          "text": [
            "Performance Metric of RandomForestClassifier :\n",
            "Time taken for tuning RandomForestClassifier  is:  0.1 sec\n",
            "[Train Accuracy]: 1.0\n",
            "[Test Accuracy]: 1.0\n",
            "----------------------------------------\n",
            "\n",
            "Performance Metric of LogisticRegression :\n",
            "Time taken for tuning LogisticRegression  is:  0.02 sec\n",
            "[Train Accuracy]: 1.0\n",
            "[Test Accuracy]: 1.0\n",
            "----------------------------------------\n",
            "\n",
            "Performance Metric of GaussianNB :\n",
            "Time taken for tuning GaussianNB  is:  0.01 sec\n",
            "[Train Accuracy]: 0.9585492227979274\n",
            "[Test Accuracy]: 0.9795918367346939\n",
            "----------------------------------------\n",
            "\n"
          ]
        }
      ]
    },
    {
      "cell_type": "code",
      "source": [
        "rf= RandomForestClassifier(random_state=0, class_weight='balanced')\n",
        "rf.fit(X_train, y_train)\n",
        "y_train_rf_pred = rf.predict(X_train)\n",
        "y_rf_test_pred= rf.predict(X_test)\n",
        "print('**** Training Classification Report ****')\n",
        "print(classification_report(y_train, y_train_rf_pred))\n",
        "print('**** Testing Classification Report ****')\n",
        "print(classification_report(y_test, y_rf_test_pred))"
      ],
      "metadata": {
        "colab": {
          "base_uri": "https://localhost:8080/"
        },
        "id": "mYuKpFk4M7Z4",
        "outputId": "6260591e-ab57-47fa-910c-41d82a8a7014"
      },
      "execution_count": 39,
      "outputs": [
        {
          "output_type": "stream",
          "name": "stdout",
          "text": [
            "**** Training Classification Report ****\n",
            "              precision    recall  f1-score   support\n",
            "\n",
            "           0       1.00      1.00      1.00        87\n",
            "           1       1.00      1.00      1.00       106\n",
            "\n",
            "    accuracy                           1.00       193\n",
            "   macro avg       1.00      1.00      1.00       193\n",
            "weighted avg       1.00      1.00      1.00       193\n",
            "\n",
            "**** Testing Classification Report ****\n",
            "              precision    recall  f1-score   support\n",
            "\n",
            "           0       1.00      1.00      1.00        22\n",
            "           1       1.00      1.00      1.00        27\n",
            "\n",
            "    accuracy                           1.00        49\n",
            "   macro avg       1.00      1.00      1.00        49\n",
            "weighted avg       1.00      1.00      1.00        49\n",
            "\n"
          ]
        }
      ]
    },
    {
      "cell_type": "markdown",
      "source": [
        "**Observation**: RandomForest and Logistic Regression looks better model than Gaussian Naive Bayes. so we will use the RandomForest for final submission on unseen test data."
      ],
      "metadata": {
        "id": "6KpZvQ_0WXrx"
      }
    },
    {
      "cell_type": "code",
      "source": [
        "heart_test.head()"
      ],
      "metadata": {
        "colab": {
          "base_uri": "https://localhost:8080/",
          "height": 206
        },
        "id": "nOnNGFbTO20o",
        "outputId": "a7d7b1bb-8f46-4c9c-8ffe-b17df82b42ea"
      },
      "execution_count": 40,
      "outputs": [
        {
          "output_type": "execute_result",
          "data": {
            "text/plain": [
              "   Number   age  sex   cp  trtbps   chol  fbs  restecg  thalachh  exng  \\\n",
              "0   179.0  57.0    1  0.0   150.0  276.0  0.0      0.0     112.0   1.0   \n",
              "1   228.0  59.0    1  3.0   170.0  288.0  0.0      0.0     159.0   0.0   \n",
              "2   111.0  57.0    1  2.0   150.0  126.0  1.0      1.0     173.0   0.0   \n",
              "3   246.0  56.0    0  0.0   134.0  409.0  0.0      0.0     150.0   1.0   \n",
              "4    60.0  71.0    0  2.0   110.0  265.0  1.0      0.0     130.0   0.0   \n",
              "\n",
              "   oldpeak  slp  caa  thall  output  \n",
              "0      0.6  1.0  1.0    1.0       0  \n",
              "1      0.2  1.0  0.0    3.0       0  \n",
              "2      0.2  2.0  1.0    3.0       1  \n",
              "3      1.9  1.0  2.0    3.0       0  \n",
              "4      0.0  2.0  1.0    2.0       1  "
            ],
            "text/html": [
              "\n",
              "  <div id=\"df-c501ebbe-aa11-4c59-8925-56c66e461949\">\n",
              "    <div class=\"colab-df-container\">\n",
              "      <div>\n",
              "<style scoped>\n",
              "    .dataframe tbody tr th:only-of-type {\n",
              "        vertical-align: middle;\n",
              "    }\n",
              "\n",
              "    .dataframe tbody tr th {\n",
              "        vertical-align: top;\n",
              "    }\n",
              "\n",
              "    .dataframe thead th {\n",
              "        text-align: right;\n",
              "    }\n",
              "</style>\n",
              "<table border=\"1\" class=\"dataframe\">\n",
              "  <thead>\n",
              "    <tr style=\"text-align: right;\">\n",
              "      <th></th>\n",
              "      <th>Number</th>\n",
              "      <th>age</th>\n",
              "      <th>sex</th>\n",
              "      <th>cp</th>\n",
              "      <th>trtbps</th>\n",
              "      <th>chol</th>\n",
              "      <th>fbs</th>\n",
              "      <th>restecg</th>\n",
              "      <th>thalachh</th>\n",
              "      <th>exng</th>\n",
              "      <th>oldpeak</th>\n",
              "      <th>slp</th>\n",
              "      <th>caa</th>\n",
              "      <th>thall</th>\n",
              "      <th>output</th>\n",
              "    </tr>\n",
              "  </thead>\n",
              "  <tbody>\n",
              "    <tr>\n",
              "      <th>0</th>\n",
              "      <td>179.0</td>\n",
              "      <td>57.0</td>\n",
              "      <td>1</td>\n",
              "      <td>0.0</td>\n",
              "      <td>150.0</td>\n",
              "      <td>276.0</td>\n",
              "      <td>0.0</td>\n",
              "      <td>0.0</td>\n",
              "      <td>112.0</td>\n",
              "      <td>1.0</td>\n",
              "      <td>0.6</td>\n",
              "      <td>1.0</td>\n",
              "      <td>1.0</td>\n",
              "      <td>1.0</td>\n",
              "      <td>0</td>\n",
              "    </tr>\n",
              "    <tr>\n",
              "      <th>1</th>\n",
              "      <td>228.0</td>\n",
              "      <td>59.0</td>\n",
              "      <td>1</td>\n",
              "      <td>3.0</td>\n",
              "      <td>170.0</td>\n",
              "      <td>288.0</td>\n",
              "      <td>0.0</td>\n",
              "      <td>0.0</td>\n",
              "      <td>159.0</td>\n",
              "      <td>0.0</td>\n",
              "      <td>0.2</td>\n",
              "      <td>1.0</td>\n",
              "      <td>0.0</td>\n",
              "      <td>3.0</td>\n",
              "      <td>0</td>\n",
              "    </tr>\n",
              "    <tr>\n",
              "      <th>2</th>\n",
              "      <td>111.0</td>\n",
              "      <td>57.0</td>\n",
              "      <td>1</td>\n",
              "      <td>2.0</td>\n",
              "      <td>150.0</td>\n",
              "      <td>126.0</td>\n",
              "      <td>1.0</td>\n",
              "      <td>1.0</td>\n",
              "      <td>173.0</td>\n",
              "      <td>0.0</td>\n",
              "      <td>0.2</td>\n",
              "      <td>2.0</td>\n",
              "      <td>1.0</td>\n",
              "      <td>3.0</td>\n",
              "      <td>1</td>\n",
              "    </tr>\n",
              "    <tr>\n",
              "      <th>3</th>\n",
              "      <td>246.0</td>\n",
              "      <td>56.0</td>\n",
              "      <td>0</td>\n",
              "      <td>0.0</td>\n",
              "      <td>134.0</td>\n",
              "      <td>409.0</td>\n",
              "      <td>0.0</td>\n",
              "      <td>0.0</td>\n",
              "      <td>150.0</td>\n",
              "      <td>1.0</td>\n",
              "      <td>1.9</td>\n",
              "      <td>1.0</td>\n",
              "      <td>2.0</td>\n",
              "      <td>3.0</td>\n",
              "      <td>0</td>\n",
              "    </tr>\n",
              "    <tr>\n",
              "      <th>4</th>\n",
              "      <td>60.0</td>\n",
              "      <td>71.0</td>\n",
              "      <td>0</td>\n",
              "      <td>2.0</td>\n",
              "      <td>110.0</td>\n",
              "      <td>265.0</td>\n",
              "      <td>1.0</td>\n",
              "      <td>0.0</td>\n",
              "      <td>130.0</td>\n",
              "      <td>0.0</td>\n",
              "      <td>0.0</td>\n",
              "      <td>2.0</td>\n",
              "      <td>1.0</td>\n",
              "      <td>2.0</td>\n",
              "      <td>1</td>\n",
              "    </tr>\n",
              "  </tbody>\n",
              "</table>\n",
              "</div>\n",
              "      <button class=\"colab-df-convert\" onclick=\"convertToInteractive('df-c501ebbe-aa11-4c59-8925-56c66e461949')\"\n",
              "              title=\"Convert this dataframe to an interactive table.\"\n",
              "              style=\"display:none;\">\n",
              "        \n",
              "  <svg xmlns=\"http://www.w3.org/2000/svg\" height=\"24px\"viewBox=\"0 0 24 24\"\n",
              "       width=\"24px\">\n",
              "    <path d=\"M0 0h24v24H0V0z\" fill=\"none\"/>\n",
              "    <path d=\"M18.56 5.44l.94 2.06.94-2.06 2.06-.94-2.06-.94-.94-2.06-.94 2.06-2.06.94zm-11 1L8.5 8.5l.94-2.06 2.06-.94-2.06-.94L8.5 2.5l-.94 2.06-2.06.94zm10 10l.94 2.06.94-2.06 2.06-.94-2.06-.94-.94-2.06-.94 2.06-2.06.94z\"/><path d=\"M17.41 7.96l-1.37-1.37c-.4-.4-.92-.59-1.43-.59-.52 0-1.04.2-1.43.59L10.3 9.45l-7.72 7.72c-.78.78-.78 2.05 0 2.83L4 21.41c.39.39.9.59 1.41.59.51 0 1.02-.2 1.41-.59l7.78-7.78 2.81-2.81c.8-.78.8-2.07 0-2.86zM5.41 20L4 18.59l7.72-7.72 1.47 1.35L5.41 20z\"/>\n",
              "  </svg>\n",
              "      </button>\n",
              "      \n",
              "  <style>\n",
              "    .colab-df-container {\n",
              "      display:flex;\n",
              "      flex-wrap:wrap;\n",
              "      gap: 12px;\n",
              "    }\n",
              "\n",
              "    .colab-df-convert {\n",
              "      background-color: #E8F0FE;\n",
              "      border: none;\n",
              "      border-radius: 50%;\n",
              "      cursor: pointer;\n",
              "      display: none;\n",
              "      fill: #1967D2;\n",
              "      height: 32px;\n",
              "      padding: 0 0 0 0;\n",
              "      width: 32px;\n",
              "    }\n",
              "\n",
              "    .colab-df-convert:hover {\n",
              "      background-color: #E2EBFA;\n",
              "      box-shadow: 0px 1px 2px rgba(60, 64, 67, 0.3), 0px 1px 3px 1px rgba(60, 64, 67, 0.15);\n",
              "      fill: #174EA6;\n",
              "    }\n",
              "\n",
              "    [theme=dark] .colab-df-convert {\n",
              "      background-color: #3B4455;\n",
              "      fill: #D2E3FC;\n",
              "    }\n",
              "\n",
              "    [theme=dark] .colab-df-convert:hover {\n",
              "      background-color: #434B5C;\n",
              "      box-shadow: 0px 1px 3px 1px rgba(0, 0, 0, 0.15);\n",
              "      filter: drop-shadow(0px 1px 2px rgba(0, 0, 0, 0.3));\n",
              "      fill: #FFFFFF;\n",
              "    }\n",
              "  </style>\n",
              "\n",
              "      <script>\n",
              "        const buttonEl =\n",
              "          document.querySelector('#df-c501ebbe-aa11-4c59-8925-56c66e461949 button.colab-df-convert');\n",
              "        buttonEl.style.display =\n",
              "          google.colab.kernel.accessAllowed ? 'block' : 'none';\n",
              "\n",
              "        async function convertToInteractive(key) {\n",
              "          const element = document.querySelector('#df-c501ebbe-aa11-4c59-8925-56c66e461949');\n",
              "          const dataTable =\n",
              "            await google.colab.kernel.invokeFunction('convertToInteractive',\n",
              "                                                     [key], {});\n",
              "          if (!dataTable) return;\n",
              "\n",
              "          const docLinkHtml = 'Like what you see? Visit the ' +\n",
              "            '<a target=\"_blank\" href=https://colab.research.google.com/notebooks/data_table.ipynb>data table notebook</a>'\n",
              "            + ' to learn more about interactive tables.';\n",
              "          element.innerHTML = '';\n",
              "          dataTable['output_type'] = 'display_data';\n",
              "          await google.colab.output.renderOutput(dataTable, element);\n",
              "          const docLink = document.createElement('div');\n",
              "          docLink.innerHTML = docLinkHtml;\n",
              "          element.appendChild(docLink);\n",
              "        }\n",
              "      </script>\n",
              "    </div>\n",
              "  </div>\n",
              "  "
            ]
          },
          "metadata": {},
          "execution_count": 40
        }
      ]
    },
    {
      "cell_type": "code",
      "source": [
        "ht= heart_test.drop('output', axis=1)"
      ],
      "metadata": {
        "id": "BdGGQ8oaO944"
      },
      "execution_count": 42,
      "outputs": []
    },
    {
      "cell_type": "code",
      "source": [
        "ht.info()"
      ],
      "metadata": {
        "colab": {
          "base_uri": "https://localhost:8080/"
        },
        "id": "ceGWsRwRO98C",
        "outputId": "3ce5afb5-9eea-4222-d3ab-e44e675ec7a7"
      },
      "execution_count": 43,
      "outputs": [
        {
          "output_type": "stream",
          "name": "stdout",
          "text": [
            "<class 'pandas.core.frame.DataFrame'>\n",
            "RangeIndex: 61 entries, 0 to 60\n",
            "Data columns (total 14 columns):\n",
            " #   Column    Non-Null Count  Dtype  \n",
            "---  ------    --------------  -----  \n",
            " 0   Number    61 non-null     float64\n",
            " 1   age       61 non-null     float64\n",
            " 2   sex       61 non-null     int64  \n",
            " 3   cp        61 non-null     float64\n",
            " 4   trtbps    61 non-null     float64\n",
            " 5   chol      61 non-null     float64\n",
            " 6   fbs       61 non-null     float64\n",
            " 7   restecg   61 non-null     float64\n",
            " 8   thalachh  61 non-null     float64\n",
            " 9   exng      61 non-null     float64\n",
            " 10  oldpeak   61 non-null     float64\n",
            " 11  slp       61 non-null     float64\n",
            " 12  caa       61 non-null     float64\n",
            " 13  thall     61 non-null     float64\n",
            "dtypes: float64(13), int64(1)\n",
            "memory usage: 6.8 KB\n"
          ]
        }
      ]
    },
    {
      "cell_type": "code",
      "source": [
        "y_pred_final = rf.predict(ht)"
      ],
      "metadata": {
        "id": "h5IkDAWgWWyo"
      },
      "execution_count": 44,
      "outputs": []
    },
    {
      "cell_type": "code",
      "source": [
        "submission = pd.DataFrame({'Number': ht['Number'], 'output': y_pred_final})\n",
        "submission.to_csv('Heartattack_submission.csv', index=False, header=None)"
      ],
      "metadata": {
        "id": "egu3_ycaiMPA"
      },
      "execution_count": 48,
      "outputs": []
    },
    {
      "cell_type": "code",
      "source": [
        "submission.head(10)\n",
        "# print(submission.Response.value_counts())"
      ],
      "metadata": {
        "colab": {
          "base_uri": "https://localhost:8080/",
          "height": 363
        },
        "id": "uUByyrhN109A",
        "outputId": "08e2f2fc-72fb-4c13-e728-4ecad120922f"
      },
      "execution_count": 47,
      "outputs": [
        {
          "output_type": "execute_result",
          "data": {
            "text/plain": [
              "   Number  output\n",
              "0   179.0       0\n",
              "1   228.0       0\n",
              "2   111.0       1\n",
              "3   246.0       0\n",
              "4    60.0       1\n",
              "5     9.0       1\n",
              "6   119.0       1\n",
              "7   223.0       0\n",
              "8   268.0       0\n",
              "9    33.0       1"
            ],
            "text/html": [
              "\n",
              "  <div id=\"df-6bf041e1-ac0d-4ede-920d-5e752d97eb3f\">\n",
              "    <div class=\"colab-df-container\">\n",
              "      <div>\n",
              "<style scoped>\n",
              "    .dataframe tbody tr th:only-of-type {\n",
              "        vertical-align: middle;\n",
              "    }\n",
              "\n",
              "    .dataframe tbody tr th {\n",
              "        vertical-align: top;\n",
              "    }\n",
              "\n",
              "    .dataframe thead th {\n",
              "        text-align: right;\n",
              "    }\n",
              "</style>\n",
              "<table border=\"1\" class=\"dataframe\">\n",
              "  <thead>\n",
              "    <tr style=\"text-align: right;\">\n",
              "      <th></th>\n",
              "      <th>Number</th>\n",
              "      <th>output</th>\n",
              "    </tr>\n",
              "  </thead>\n",
              "  <tbody>\n",
              "    <tr>\n",
              "      <th>0</th>\n",
              "      <td>179.0</td>\n",
              "      <td>0</td>\n",
              "    </tr>\n",
              "    <tr>\n",
              "      <th>1</th>\n",
              "      <td>228.0</td>\n",
              "      <td>0</td>\n",
              "    </tr>\n",
              "    <tr>\n",
              "      <th>2</th>\n",
              "      <td>111.0</td>\n",
              "      <td>1</td>\n",
              "    </tr>\n",
              "    <tr>\n",
              "      <th>3</th>\n",
              "      <td>246.0</td>\n",
              "      <td>0</td>\n",
              "    </tr>\n",
              "    <tr>\n",
              "      <th>4</th>\n",
              "      <td>60.0</td>\n",
              "      <td>1</td>\n",
              "    </tr>\n",
              "    <tr>\n",
              "      <th>5</th>\n",
              "      <td>9.0</td>\n",
              "      <td>1</td>\n",
              "    </tr>\n",
              "    <tr>\n",
              "      <th>6</th>\n",
              "      <td>119.0</td>\n",
              "      <td>1</td>\n",
              "    </tr>\n",
              "    <tr>\n",
              "      <th>7</th>\n",
              "      <td>223.0</td>\n",
              "      <td>0</td>\n",
              "    </tr>\n",
              "    <tr>\n",
              "      <th>8</th>\n",
              "      <td>268.0</td>\n",
              "      <td>0</td>\n",
              "    </tr>\n",
              "    <tr>\n",
              "      <th>9</th>\n",
              "      <td>33.0</td>\n",
              "      <td>1</td>\n",
              "    </tr>\n",
              "  </tbody>\n",
              "</table>\n",
              "</div>\n",
              "      <button class=\"colab-df-convert\" onclick=\"convertToInteractive('df-6bf041e1-ac0d-4ede-920d-5e752d97eb3f')\"\n",
              "              title=\"Convert this dataframe to an interactive table.\"\n",
              "              style=\"display:none;\">\n",
              "        \n",
              "  <svg xmlns=\"http://www.w3.org/2000/svg\" height=\"24px\"viewBox=\"0 0 24 24\"\n",
              "       width=\"24px\">\n",
              "    <path d=\"M0 0h24v24H0V0z\" fill=\"none\"/>\n",
              "    <path d=\"M18.56 5.44l.94 2.06.94-2.06 2.06-.94-2.06-.94-.94-2.06-.94 2.06-2.06.94zm-11 1L8.5 8.5l.94-2.06 2.06-.94-2.06-.94L8.5 2.5l-.94 2.06-2.06.94zm10 10l.94 2.06.94-2.06 2.06-.94-2.06-.94-.94-2.06-.94 2.06-2.06.94z\"/><path d=\"M17.41 7.96l-1.37-1.37c-.4-.4-.92-.59-1.43-.59-.52 0-1.04.2-1.43.59L10.3 9.45l-7.72 7.72c-.78.78-.78 2.05 0 2.83L4 21.41c.39.39.9.59 1.41.59.51 0 1.02-.2 1.41-.59l7.78-7.78 2.81-2.81c.8-.78.8-2.07 0-2.86zM5.41 20L4 18.59l7.72-7.72 1.47 1.35L5.41 20z\"/>\n",
              "  </svg>\n",
              "      </button>\n",
              "      \n",
              "  <style>\n",
              "    .colab-df-container {\n",
              "      display:flex;\n",
              "      flex-wrap:wrap;\n",
              "      gap: 12px;\n",
              "    }\n",
              "\n",
              "    .colab-df-convert {\n",
              "      background-color: #E8F0FE;\n",
              "      border: none;\n",
              "      border-radius: 50%;\n",
              "      cursor: pointer;\n",
              "      display: none;\n",
              "      fill: #1967D2;\n",
              "      height: 32px;\n",
              "      padding: 0 0 0 0;\n",
              "      width: 32px;\n",
              "    }\n",
              "\n",
              "    .colab-df-convert:hover {\n",
              "      background-color: #E2EBFA;\n",
              "      box-shadow: 0px 1px 2px rgba(60, 64, 67, 0.3), 0px 1px 3px 1px rgba(60, 64, 67, 0.15);\n",
              "      fill: #174EA6;\n",
              "    }\n",
              "\n",
              "    [theme=dark] .colab-df-convert {\n",
              "      background-color: #3B4455;\n",
              "      fill: #D2E3FC;\n",
              "    }\n",
              "\n",
              "    [theme=dark] .colab-df-convert:hover {\n",
              "      background-color: #434B5C;\n",
              "      box-shadow: 0px 1px 3px 1px rgba(0, 0, 0, 0.15);\n",
              "      filter: drop-shadow(0px 1px 2px rgba(0, 0, 0, 0.3));\n",
              "      fill: #FFFFFF;\n",
              "    }\n",
              "  </style>\n",
              "\n",
              "      <script>\n",
              "        const buttonEl =\n",
              "          document.querySelector('#df-6bf041e1-ac0d-4ede-920d-5e752d97eb3f button.colab-df-convert');\n",
              "        buttonEl.style.display =\n",
              "          google.colab.kernel.accessAllowed ? 'block' : 'none';\n",
              "\n",
              "        async function convertToInteractive(key) {\n",
              "          const element = document.querySelector('#df-6bf041e1-ac0d-4ede-920d-5e752d97eb3f');\n",
              "          const dataTable =\n",
              "            await google.colab.kernel.invokeFunction('convertToInteractive',\n",
              "                                                     [key], {});\n",
              "          if (!dataTable) return;\n",
              "\n",
              "          const docLinkHtml = 'Like what you see? Visit the ' +\n",
              "            '<a target=\"_blank\" href=https://colab.research.google.com/notebooks/data_table.ipynb>data table notebook</a>'\n",
              "            + ' to learn more about interactive tables.';\n",
              "          element.innerHTML = '';\n",
              "          dataTable['output_type'] = 'display_data';\n",
              "          await google.colab.output.renderOutput(dataTable, element);\n",
              "          const docLink = document.createElement('div');\n",
              "          docLink.innerHTML = docLinkHtml;\n",
              "          element.appendChild(docLink);\n",
              "        }\n",
              "      </script>\n",
              "    </div>\n",
              "  </div>\n",
              "  "
            ]
          },
          "metadata": {},
          "execution_count": 47
        }
      ]
    },
    {
      "cell_type": "markdown",
      "metadata": {
        "id": "ERXWLsIcB1_H"
      },
      "source": [
        "<a name = Section101></a>\n",
        "### **9. Conclusion**\n",
        "\n",
        "- We have learned the **working** of **RandomForest, LogisticRegression and Gaussian NaiveBayes** as a **classifier**.\n",
        "\n",
        "- We have performed an **in-depth analysis** to extract important information regarding the **features** **concerning** **Heart attack or not as output**.\n",
        "\n",
        "- We **trained different classifiers** and **compared** their **performance**.\n",
        "\n",
        "- Now we can **use RandomForest and Logistic** of these models in **production** and **monitor** the prediction **results** to **identify** the **best model** in realtime."
      ]
    }
  ]
}