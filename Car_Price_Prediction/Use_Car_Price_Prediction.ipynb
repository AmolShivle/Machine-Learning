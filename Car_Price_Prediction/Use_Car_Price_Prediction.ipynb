{
  "nbformat": 4,
  "nbformat_minor": 0,
  "metadata": {
    "colab": {
      "provenance": [],
      "collapsed_sections": []
    },
    "kernelspec": {
      "name": "python3",
      "display_name": "Python 3"
    },
    "language_info": {
      "name": "python"
    }
  },
  "cells": [
    {
      "cell_type": "markdown",
      "source": [
        "#              **Use Car Price Prediction Using Linear Regression**:\n"
      ],
      "metadata": {
        "id": "aAp2mtTU_Rkm"
      }
    },
    {
      "cell_type": "markdown",
      "source": [
        "---\n",
        "# **Table of Contents**\n",
        "---\n",
        "\n",
        "**1.** [**Problem Statement**](#Section1)<br>\n",
        "**2.** [**Objective**](#Section2)<br>\n",
        "**3.** [**Installing & Importing Libraries**](#Section3)<br>\n",
        "  - **3.1** [**Installing Libraries**](#Section31)\n",
        "  - **3.2** [**Upgrading Libraries**](#Section32)\n",
        "  - **3.3** [**Importing Libraries**](#Section33)\n",
        "\n",
        "**4.** [**Data Acquisition & Description**](#Section4)<br>\n",
        "  - **4.1** [**Data Description**](#Section41)<br>\n",
        "\n",
        "**5.** [**Data Pre-processing**](#Section5)<br>\n",
        "  - **5.1** [**Pre-Profiling Report**](#Section51)<br>\n",
        "\n",
        "**6.** [**Exploratory Data Analysis**](#Section6)<br>\n",
        "**7.** [**Post Data Processing**](#Section7)<br>\n",
        "  - **7.1** [**Data Preparation**](#Section71)\n",
        "  - **7.2** [**Encoding Categorical and Scaling Continuous Features**](#Section72) \n",
        "  \n",
        "**8.** [**Model Development & Evaluation**](#Section8)<br>\n",
        "**9.** [**Conclusion**](#Section9)<br>\n"
      ],
      "metadata": {
        "id": "R7TxzfqS3Lb6"
      }
    },
    {
      "cell_type": "markdown",
      "source": [
        "---\n",
        "<a name = Section1></a>\n",
        "# **1. Problem Statement**\n",
        "---\n",
        "- This dataset contains information about used cars. This data can be used for a lot of purposes such as price prediction to exemplify the use of linear regression in Machine Learning.\n",
        "\n",
        "- The objective of this challenge is to design a model that give use car price prediciton.\n",
        "\n",
        "<br> \n",
        "<center><img src=\"https://encrypted-tbn0.gstatic.com/images?q=tbn:ANd9GcS0LjTLEBTZsKs7fyo14IWFO8EDcwI5g5UuHQ&usqp=CAU\" width=\"600\" height=\"300\" /></center>"
      ],
      "metadata": {
        "id": "R3ZGgf4y2nlC"
      }
    },
    {
      "cell_type": "markdown",
      "source": [
        "---\n",
        "<a name = Section2></a>\n",
        "# **2. Objective**\n",
        "---\n",
        "\n",
        "- As mentioned above this is a Regression problem in which we need to predict the use car price with selling price as our Target label."
      ],
      "metadata": {
        "id": "m61ftefX39Pa"
      }
    },
    {
      "cell_type": "markdown",
      "source": [
        "---\n",
        "<a name = Section3></a>\n",
        "# **3. Installing & Importing Libraries**\n",
        "---"
      ],
      "metadata": {
        "id": "y5CgfkBr4gnA"
      }
    },
    {
      "cell_type": "markdown",
      "metadata": {
        "id": "yqLwpfW9MGhS"
      },
      "source": [
        "<a name = Section31></a>\n",
        "### **3.1 Installing Libraries**"
      ]
    },
    {
      "cell_type": "code",
      "metadata": {
        "id": "ZLe1Ef4fFuOU",
        "colab": {
          "base_uri": "https://localhost:8080/"
        },
        "outputId": "6e1a37ab-2610-4b74-8b28-78e697a3838f"
      },
      "source": [
        "!pip install -q datascience                                                       # Package that is required by pandas profiling\n",
        "!pip install -q pandas-profiling  "
      ],
      "execution_count": 1,
      "outputs": [
        {
          "output_type": "stream",
          "name": "stdout",
          "text": [
            "\u001b[?25l\r\u001b[K     |▏                               | 10 kB 19.8 MB/s eta 0:00:01\r\u001b[K     |▍                               | 20 kB 6.8 MB/s eta 0:00:01\r\u001b[K     |▋                               | 30 kB 9.3 MB/s eta 0:00:01\r\u001b[K     |▉                               | 40 kB 5.0 MB/s eta 0:00:01\r\u001b[K     |█                               | 51 kB 4.7 MB/s eta 0:00:01\r\u001b[K     |█▎                              | 61 kB 5.5 MB/s eta 0:00:01\r\u001b[K     |█▌                              | 71 kB 5.8 MB/s eta 0:00:01\r\u001b[K     |█▊                              | 81 kB 6.1 MB/s eta 0:00:01\r\u001b[K     |█▉                              | 92 kB 6.4 MB/s eta 0:00:01\r\u001b[K     |██                              | 102 kB 5.5 MB/s eta 0:00:01\r\u001b[K     |██▎                             | 112 kB 5.5 MB/s eta 0:00:01\r\u001b[K     |██▌                             | 122 kB 5.5 MB/s eta 0:00:01\r\u001b[K     |██▊                             | 133 kB 5.5 MB/s eta 0:00:01\r\u001b[K     |███                             | 143 kB 5.5 MB/s eta 0:00:01\r\u001b[K     |███▏                            | 153 kB 5.5 MB/s eta 0:00:01\r\u001b[K     |███▍                            | 163 kB 5.5 MB/s eta 0:00:01\r\u001b[K     |███▌                            | 174 kB 5.5 MB/s eta 0:00:01\r\u001b[K     |███▊                            | 184 kB 5.5 MB/s eta 0:00:01\r\u001b[K     |████                            | 194 kB 5.5 MB/s eta 0:00:01\r\u001b[K     |████▏                           | 204 kB 5.5 MB/s eta 0:00:01\r\u001b[K     |████▍                           | 215 kB 5.5 MB/s eta 0:00:01\r\u001b[K     |████▋                           | 225 kB 5.5 MB/s eta 0:00:01\r\u001b[K     |████▉                           | 235 kB 5.5 MB/s eta 0:00:01\r\u001b[K     |█████                           | 245 kB 5.5 MB/s eta 0:00:01\r\u001b[K     |█████▎                          | 256 kB 5.5 MB/s eta 0:00:01\r\u001b[K     |█████▍                          | 266 kB 5.5 MB/s eta 0:00:01\r\u001b[K     |█████▋                          | 276 kB 5.5 MB/s eta 0:00:01\r\u001b[K     |█████▉                          | 286 kB 5.5 MB/s eta 0:00:01\r\u001b[K     |██████                          | 296 kB 5.5 MB/s eta 0:00:01\r\u001b[K     |██████▎                         | 307 kB 5.5 MB/s eta 0:00:01\r\u001b[K     |██████▌                         | 317 kB 5.5 MB/s eta 0:00:01\r\u001b[K     |██████▊                         | 327 kB 5.5 MB/s eta 0:00:01\r\u001b[K     |███████                         | 337 kB 5.5 MB/s eta 0:00:01\r\u001b[K     |███████                         | 348 kB 5.5 MB/s eta 0:00:01\r\u001b[K     |███████▎                        | 358 kB 5.5 MB/s eta 0:00:01\r\u001b[K     |███████▌                        | 368 kB 5.5 MB/s eta 0:00:01\r\u001b[K     |███████▊                        | 378 kB 5.5 MB/s eta 0:00:01\r\u001b[K     |████████                        | 389 kB 5.5 MB/s eta 0:00:01\r\u001b[K     |████████▏                       | 399 kB 5.5 MB/s eta 0:00:01\r\u001b[K     |████████▍                       | 409 kB 5.5 MB/s eta 0:00:01\r\u001b[K     |████████▋                       | 419 kB 5.5 MB/s eta 0:00:01\r\u001b[K     |████████▉                       | 430 kB 5.5 MB/s eta 0:00:01\r\u001b[K     |█████████                       | 440 kB 5.5 MB/s eta 0:00:01\r\u001b[K     |█████████▏                      | 450 kB 5.5 MB/s eta 0:00:01\r\u001b[K     |█████████▍                      | 460 kB 5.5 MB/s eta 0:00:01\r\u001b[K     |█████████▋                      | 471 kB 5.5 MB/s eta 0:00:01\r\u001b[K     |█████████▉                      | 481 kB 5.5 MB/s eta 0:00:01\r\u001b[K     |██████████                      | 491 kB 5.5 MB/s eta 0:00:01\r\u001b[K     |██████████▎                     | 501 kB 5.5 MB/s eta 0:00:01\r\u001b[K     |██████████▌                     | 512 kB 5.5 MB/s eta 0:00:01\r\u001b[K     |██████████▋                     | 522 kB 5.5 MB/s eta 0:00:01\r\u001b[K     |██████████▉                     | 532 kB 5.5 MB/s eta 0:00:01\r\u001b[K     |███████████                     | 542 kB 5.5 MB/s eta 0:00:01\r\u001b[K     |███████████▎                    | 552 kB 5.5 MB/s eta 0:00:01\r\u001b[K     |███████████▌                    | 563 kB 5.5 MB/s eta 0:00:01\r\u001b[K     |███████████▊                    | 573 kB 5.5 MB/s eta 0:00:01\r\u001b[K     |████████████                    | 583 kB 5.5 MB/s eta 0:00:01\r\u001b[K     |████████████▏                   | 593 kB 5.5 MB/s eta 0:00:01\r\u001b[K     |████████████▍                   | 604 kB 5.5 MB/s eta 0:00:01\r\u001b[K     |████████████▌                   | 614 kB 5.5 MB/s eta 0:00:01\r\u001b[K     |████████████▊                   | 624 kB 5.5 MB/s eta 0:00:01\r\u001b[K     |█████████████                   | 634 kB 5.5 MB/s eta 0:00:01\r\u001b[K     |█████████████▏                  | 645 kB 5.5 MB/s eta 0:00:01\r\u001b[K     |█████████████▍                  | 655 kB 5.5 MB/s eta 0:00:01\r\u001b[K     |█████████████▋                  | 665 kB 5.5 MB/s eta 0:00:01\r\u001b[K     |█████████████▉                  | 675 kB 5.5 MB/s eta 0:00:01\r\u001b[K     |██████████████                  | 686 kB 5.5 MB/s eta 0:00:01\r\u001b[K     |██████████████▏                 | 696 kB 5.5 MB/s eta 0:00:01\r\u001b[K     |██████████████▍                 | 706 kB 5.5 MB/s eta 0:00:01\r\u001b[K     |██████████████▋                 | 716 kB 5.5 MB/s eta 0:00:01\r\u001b[K     |██████████████▉                 | 727 kB 5.5 MB/s eta 0:00:01\r\u001b[K     |███████████████                 | 737 kB 5.5 MB/s eta 0:00:01\r\u001b[K     |███████████████▎                | 747 kB 5.5 MB/s eta 0:00:01\r\u001b[K     |███████████████▌                | 757 kB 5.5 MB/s eta 0:00:01\r\u001b[K     |███████████████▊                | 768 kB 5.5 MB/s eta 0:00:01\r\u001b[K     |████████████████                | 778 kB 5.5 MB/s eta 0:00:01\r\u001b[K     |████████████████                | 788 kB 5.5 MB/s eta 0:00:01\r\u001b[K     |████████████████▎               | 798 kB 5.5 MB/s eta 0:00:01\r\u001b[K     |████████████████▌               | 808 kB 5.5 MB/s eta 0:00:01\r\u001b[K     |████████████████▊               | 819 kB 5.5 MB/s eta 0:00:01\r\u001b[K     |█████████████████               | 829 kB 5.5 MB/s eta 0:00:01\r\u001b[K     |█████████████████▏              | 839 kB 5.5 MB/s eta 0:00:01\r\u001b[K     |█████████████████▍              | 849 kB 5.5 MB/s eta 0:00:01\r\u001b[K     |█████████████████▋              | 860 kB 5.5 MB/s eta 0:00:01\r\u001b[K     |█████████████████▊              | 870 kB 5.5 MB/s eta 0:00:01\r\u001b[K     |██████████████████              | 880 kB 5.5 MB/s eta 0:00:01\r\u001b[K     |██████████████████▏             | 890 kB 5.5 MB/s eta 0:00:01\r\u001b[K     |██████████████████▍             | 901 kB 5.5 MB/s eta 0:00:01\r\u001b[K     |██████████████████▋             | 911 kB 5.5 MB/s eta 0:00:01\r\u001b[K     |██████████████████▉             | 921 kB 5.5 MB/s eta 0:00:01\r\u001b[K     |███████████████████             | 931 kB 5.5 MB/s eta 0:00:01\r\u001b[K     |███████████████████▎            | 942 kB 5.5 MB/s eta 0:00:01\r\u001b[K     |███████████████████▌            | 952 kB 5.5 MB/s eta 0:00:01\r\u001b[K     |███████████████████▋            | 962 kB 5.5 MB/s eta 0:00:01\r\u001b[K     |███████████████████▉            | 972 kB 5.5 MB/s eta 0:00:01\r\u001b[K     |████████████████████            | 983 kB 5.5 MB/s eta 0:00:01\r\u001b[K     |████████████████████▎           | 993 kB 5.5 MB/s eta 0:00:01\r\u001b[K     |████████████████████▌           | 1.0 MB 5.5 MB/s eta 0:00:01\r\u001b[K     |████████████████████▊           | 1.0 MB 5.5 MB/s eta 0:00:01\r\u001b[K     |█████████████████████           | 1.0 MB 5.5 MB/s eta 0:00:01\r\u001b[K     |█████████████████████▏          | 1.0 MB 5.5 MB/s eta 0:00:01\r\u001b[K     |█████████████████████▎          | 1.0 MB 5.5 MB/s eta 0:00:01\r\u001b[K     |█████████████████████▌          | 1.1 MB 5.5 MB/s eta 0:00:01\r\u001b[K     |█████████████████████▊          | 1.1 MB 5.5 MB/s eta 0:00:01\r\u001b[K     |██████████████████████          | 1.1 MB 5.5 MB/s eta 0:00:01\r\u001b[K     |██████████████████████▏         | 1.1 MB 5.5 MB/s eta 0:00:01\r\u001b[K     |██████████████████████▍         | 1.1 MB 5.5 MB/s eta 0:00:01\r\u001b[K     |██████████████████████▋         | 1.1 MB 5.5 MB/s eta 0:00:01\r\u001b[K     |██████████████████████▉         | 1.1 MB 5.5 MB/s eta 0:00:01\r\u001b[K     |███████████████████████         | 1.1 MB 5.5 MB/s eta 0:00:01\r\u001b[K     |███████████████████████▏        | 1.1 MB 5.5 MB/s eta 0:00:01\r\u001b[K     |███████████████████████▍        | 1.1 MB 5.5 MB/s eta 0:00:01\r\u001b[K     |███████████████████████▋        | 1.2 MB 5.5 MB/s eta 0:00:01\r\u001b[K     |███████████████████████▉        | 1.2 MB 5.5 MB/s eta 0:00:01\r\u001b[K     |████████████████████████        | 1.2 MB 5.5 MB/s eta 0:00:01\r\u001b[K     |████████████████████████▎       | 1.2 MB 5.5 MB/s eta 0:00:01\r\u001b[K     |████████████████████████▌       | 1.2 MB 5.5 MB/s eta 0:00:01\r\u001b[K     |████████████████████████▊       | 1.2 MB 5.5 MB/s eta 0:00:01\r\u001b[K     |████████████████████████▉       | 1.2 MB 5.5 MB/s eta 0:00:01\r\u001b[K     |█████████████████████████       | 1.2 MB 5.5 MB/s eta 0:00:01\r\u001b[K     |█████████████████████████▎      | 1.2 MB 5.5 MB/s eta 0:00:01\r\u001b[K     |█████████████████████████▌      | 1.2 MB 5.5 MB/s eta 0:00:01\r\u001b[K     |█████████████████████████▊      | 1.3 MB 5.5 MB/s eta 0:00:01\r\u001b[K     |██████████████████████████      | 1.3 MB 5.5 MB/s eta 0:00:01\r\u001b[K     |██████████████████████████▏     | 1.3 MB 5.5 MB/s eta 0:00:01\r\u001b[K     |██████████████████████████▍     | 1.3 MB 5.5 MB/s eta 0:00:01\r\u001b[K     |██████████████████████████▌     | 1.3 MB 5.5 MB/s eta 0:00:01\r\u001b[K     |██████████████████████████▊     | 1.3 MB 5.5 MB/s eta 0:00:01\r\u001b[K     |███████████████████████████     | 1.3 MB 5.5 MB/s eta 0:00:01\r\u001b[K     |███████████████████████████▏    | 1.3 MB 5.5 MB/s eta 0:00:01\r\u001b[K     |███████████████████████████▍    | 1.3 MB 5.5 MB/s eta 0:00:01\r\u001b[K     |███████████████████████████▋    | 1.4 MB 5.5 MB/s eta 0:00:01\r\u001b[K     |███████████████████████████▉    | 1.4 MB 5.5 MB/s eta 0:00:01\r\u001b[K     |████████████████████████████    | 1.4 MB 5.5 MB/s eta 0:00:01\r\u001b[K     |████████████████████████████▎   | 1.4 MB 5.5 MB/s eta 0:00:01\r\u001b[K     |████████████████████████████▍   | 1.4 MB 5.5 MB/s eta 0:00:01\r\u001b[K     |████████████████████████████▋   | 1.4 MB 5.5 MB/s eta 0:00:01\r\u001b[K     |████████████████████████████▉   | 1.4 MB 5.5 MB/s eta 0:00:01\r\u001b[K     |█████████████████████████████   | 1.4 MB 5.5 MB/s eta 0:00:01\r\u001b[K     |█████████████████████████████▎  | 1.4 MB 5.5 MB/s eta 0:00:01\r\u001b[K     |█████████████████████████████▌  | 1.4 MB 5.5 MB/s eta 0:00:01\r\u001b[K     |█████████████████████████████▊  | 1.5 MB 5.5 MB/s eta 0:00:01\r\u001b[K     |██████████████████████████████  | 1.5 MB 5.5 MB/s eta 0:00:01\r\u001b[K     |██████████████████████████████  | 1.5 MB 5.5 MB/s eta 0:00:01\r\u001b[K     |██████████████████████████████▎ | 1.5 MB 5.5 MB/s eta 0:00:01\r\u001b[K     |██████████████████████████████▌ | 1.5 MB 5.5 MB/s eta 0:00:01\r\u001b[K     |██████████████████████████████▊ | 1.5 MB 5.5 MB/s eta 0:00:01\r\u001b[K     |███████████████████████████████ | 1.5 MB 5.5 MB/s eta 0:00:01\r\u001b[K     |███████████████████████████████▏| 1.5 MB 5.5 MB/s eta 0:00:01\r\u001b[K     |███████████████████████████████▍| 1.5 MB 5.5 MB/s eta 0:00:01\r\u001b[K     |███████████████████████████████▋| 1.5 MB 5.5 MB/s eta 0:00:01\r\u001b[K     |███████████████████████████████▉| 1.6 MB 5.5 MB/s eta 0:00:01\r\u001b[K     |████████████████████████████████| 1.6 MB 5.5 MB/s eta 0:00:01\r\u001b[K     |████████████████████████████████| 1.6 MB 5.5 MB/s \n",
            "\u001b[?25h"
          ]
        }
      ]
    },
    {
      "cell_type": "markdown",
      "metadata": {
        "id": "5z7fjGTsMI7S"
      },
      "source": [
        "<a name = Section32></a>\n",
        "### **3.2 Upgrading Libraries**\n",
        "\n",
        "- **After upgrading** the libraries, you need to **restart the runtime** to make the libraries in sync. \n",
        "\n",
        "- Make sure not to execute the cell above (3.1) and below (3.2) again after restarting the runtime."
      ]
    },
    {
      "cell_type": "code",
      "metadata": {
        "id": "gWKFz2K1MIwH",
        "colab": {
          "base_uri": "https://localhost:8080/"
        },
        "outputId": "60dc8879-ac56-41a2-f34a-dfe96051af6d"
      },
      "source": [
        "!pip install -q --upgrade pandas-profiling"
      ],
      "execution_count": 2,
      "outputs": [
        {
          "output_type": "stream",
          "name": "stdout",
          "text": [
            "\u001b[K     |████████████████████████████████| 268 kB 5.1 MB/s \n",
            "\u001b[K     |████████████████████████████████| 62 kB 1.1 MB/s \n",
            "\u001b[K     |████████████████████████████████| 102 kB 55.8 MB/s \n",
            "\u001b[K     |████████████████████████████████| 690 kB 62.0 MB/s \n",
            "\u001b[K     |████████████████████████████████| 4.7 MB 57.4 MB/s \n",
            "\u001b[K     |████████████████████████████████| 9.8 MB 52.2 MB/s \n",
            "\u001b[K     |████████████████████████████████| 296 kB 71.6 MB/s \n",
            "\u001b[?25h  Building wheel for htmlmin (setup.py) ... \u001b[?25l\u001b[?25hdone\n"
          ]
        }
      ]
    },
    {
      "cell_type": "markdown",
      "metadata": {
        "id": "Oo48nYBzMN66"
      },
      "source": [
        "<a name = Section33></a>\n",
        "### **3.3 Importing Libraries**"
      ]
    },
    {
      "cell_type": "code",
      "execution_count": 94,
      "metadata": {
        "id": "gbixbbZ09us1"
      },
      "outputs": [],
      "source": [
        "#-------------------------------------------------------------------------------------------------------------------------------\n",
        "import pandas as pd                                                 # Importing for panel data analysis\n",
        "# from pandas_profiling import ProfileReport                          # Import Pandas Profiling (To generate Univariate Analysis) \n",
        "#-------------------------------------------------------------------------------------------------------------------------------\n",
        "import numpy as np                                                  # Importing package numpys (For Numerical Python)\n",
        "#-------------------------------------------------------------------------------------------------------------------------------\n",
        "import matplotlib.pyplot as plt                                     # Importing pyplot interface using matplotlib\n",
        "import seaborn as sns                                               # Importin seaborm library for interactive visualization\n",
        "%matplotlib inline\n",
        "#-------------------------------------------------------------------------------------------------------------------------------\n",
        "from sklearn.metrics import accuracy_score                          # For calculating the accuracy for the model\n",
        "from sklearn.preprocessing import StandardScaler                    # Scaling the Data\n",
        "from sklearn import metrics                                         # metrics calculation\n",
        "from sklearn.preprocessing import LabelEncoder                      # For categorical variable encoding\n",
        "from sklearn.model_selection import train_test_split                # To split the data in training and testing part  \n",
        "from sklearn.metrics import confusion_matrix, classification_report # For verifying model performance using confusion matrix   \n",
        "from sklearn.linear_model import LinearRegression                   # To create the Linear Regression Model\n",
        "from sklearn.tree import DecisionTreeRegressor                     # to create a DecisionTreeRegressor\n",
        "\n",
        "#-------------------------------------------------------------------------------------------------------------------------------\n",
        "import warnings                                                     # Importing warning to disable runtime warnings\n",
        "warnings.filterwarnings(\"ignore\")                                   # Warnings will appear only once"
      ]
    },
    {
      "cell_type": "markdown",
      "source": [
        "---\n",
        "<a name = Section4></a>\n",
        "# **4. Data Acquisition & Description**\n",
        "---\n",
        "- The dataset has been provided by lending club and its description is shown below in the table.\n",
        "\n",
        "\n",
        "| **Column Name**\t\t\t\t\t\t\t\t\t\t\t\t\t\t| \t**Description** |\n",
        "|:--|:--|\n",
        "| Name\t\t\t\t\t\t\t\t\t\t\t\t\t\t\t\t\t| \tCar Model Name |\n",
        "| Year\t\t\t\t\t\t\t\t\t\t\t\t\t\t\t\t\t| \tBought year of the car |\n",
        "| Selling_Price\t\t\t\t\t\t\t\t\t\t\t\t\t\t\t| \tSelling price rate in rupees |\n",
        "| KM_Driven\t\t\t\t\t\t\t\t\t\t\t\t\t\t\t\t| \tKilimeter driven |\n",
        "| Fuel\t\t\t\t\t\t\t\t\t\t\t\t\t\t\t\t\t| \tType of fuel  |\n",
        "| Seller_Type\t\t\t\t\t\t\t\t\t\t\t\t\t\t\t| \tCar seller type  |\n",
        "| Transmission\t\t\t\t\t\t\t\t\t\t\t\t\t\t\t| \tCar transmission like manula or automatic |\n",
        "| Owner\t\t\t\t\t\t\t\t\t\t\t\t\t\t\t\t\t|\tCar owner type individual ro secondary |"
      ],
      "metadata": {
        "id": "V0iFU4zW5BfM"
      }
    },
    {
      "cell_type": "code",
      "source": [
        "car_data= pd.read_csv('/content/Car_details.csv')"
      ],
      "metadata": {
        "id": "oeW-kh1u-GVk"
      },
      "execution_count": 4,
      "outputs": []
    },
    {
      "cell_type": "code",
      "source": [
        "car_data.head()"
      ],
      "metadata": {
        "colab": {
          "base_uri": "https://localhost:8080/",
          "height": 206
        },
        "id": "_OZPGFGm-GZW",
        "outputId": "0ab6f39a-4f75-4329-f258-5af2ad5c5bf4"
      },
      "execution_count": 5,
      "outputs": [
        {
          "output_type": "execute_result",
          "data": {
            "text/plain": [
              "                       name  year  selling_price  km_driven    fuel  \\\n",
              "0             Maruti 800 AC  2007          60000      70000  Petrol   \n",
              "1  Maruti Wagon R LXI Minor  2007         135000      50000  Petrol   \n",
              "2      Hyundai Verna 1.6 SX  2012         600000     100000  Diesel   \n",
              "3    Datsun RediGO T Option  2017         250000      46000  Petrol   \n",
              "4     Honda Amaze VX i-DTEC  2014         450000     141000  Diesel   \n",
              "\n",
              "  seller_type transmission         owner  \n",
              "0  Individual       Manual   First Owner  \n",
              "1  Individual       Manual   First Owner  \n",
              "2  Individual       Manual   First Owner  \n",
              "3  Individual       Manual   First Owner  \n",
              "4  Individual       Manual  Second Owner  "
            ],
            "text/html": [
              "\n",
              "  <div id=\"df-623eb978-f1b6-4232-b51b-1905f93a3b76\">\n",
              "    <div class=\"colab-df-container\">\n",
              "      <div>\n",
              "<style scoped>\n",
              "    .dataframe tbody tr th:only-of-type {\n",
              "        vertical-align: middle;\n",
              "    }\n",
              "\n",
              "    .dataframe tbody tr th {\n",
              "        vertical-align: top;\n",
              "    }\n",
              "\n",
              "    .dataframe thead th {\n",
              "        text-align: right;\n",
              "    }\n",
              "</style>\n",
              "<table border=\"1\" class=\"dataframe\">\n",
              "  <thead>\n",
              "    <tr style=\"text-align: right;\">\n",
              "      <th></th>\n",
              "      <th>name</th>\n",
              "      <th>year</th>\n",
              "      <th>selling_price</th>\n",
              "      <th>km_driven</th>\n",
              "      <th>fuel</th>\n",
              "      <th>seller_type</th>\n",
              "      <th>transmission</th>\n",
              "      <th>owner</th>\n",
              "    </tr>\n",
              "  </thead>\n",
              "  <tbody>\n",
              "    <tr>\n",
              "      <th>0</th>\n",
              "      <td>Maruti 800 AC</td>\n",
              "      <td>2007</td>\n",
              "      <td>60000</td>\n",
              "      <td>70000</td>\n",
              "      <td>Petrol</td>\n",
              "      <td>Individual</td>\n",
              "      <td>Manual</td>\n",
              "      <td>First Owner</td>\n",
              "    </tr>\n",
              "    <tr>\n",
              "      <th>1</th>\n",
              "      <td>Maruti Wagon R LXI Minor</td>\n",
              "      <td>2007</td>\n",
              "      <td>135000</td>\n",
              "      <td>50000</td>\n",
              "      <td>Petrol</td>\n",
              "      <td>Individual</td>\n",
              "      <td>Manual</td>\n",
              "      <td>First Owner</td>\n",
              "    </tr>\n",
              "    <tr>\n",
              "      <th>2</th>\n",
              "      <td>Hyundai Verna 1.6 SX</td>\n",
              "      <td>2012</td>\n",
              "      <td>600000</td>\n",
              "      <td>100000</td>\n",
              "      <td>Diesel</td>\n",
              "      <td>Individual</td>\n",
              "      <td>Manual</td>\n",
              "      <td>First Owner</td>\n",
              "    </tr>\n",
              "    <tr>\n",
              "      <th>3</th>\n",
              "      <td>Datsun RediGO T Option</td>\n",
              "      <td>2017</td>\n",
              "      <td>250000</td>\n",
              "      <td>46000</td>\n",
              "      <td>Petrol</td>\n",
              "      <td>Individual</td>\n",
              "      <td>Manual</td>\n",
              "      <td>First Owner</td>\n",
              "    </tr>\n",
              "    <tr>\n",
              "      <th>4</th>\n",
              "      <td>Honda Amaze VX i-DTEC</td>\n",
              "      <td>2014</td>\n",
              "      <td>450000</td>\n",
              "      <td>141000</td>\n",
              "      <td>Diesel</td>\n",
              "      <td>Individual</td>\n",
              "      <td>Manual</td>\n",
              "      <td>Second Owner</td>\n",
              "    </tr>\n",
              "  </tbody>\n",
              "</table>\n",
              "</div>\n",
              "      <button class=\"colab-df-convert\" onclick=\"convertToInteractive('df-623eb978-f1b6-4232-b51b-1905f93a3b76')\"\n",
              "              title=\"Convert this dataframe to an interactive table.\"\n",
              "              style=\"display:none;\">\n",
              "        \n",
              "  <svg xmlns=\"http://www.w3.org/2000/svg\" height=\"24px\"viewBox=\"0 0 24 24\"\n",
              "       width=\"24px\">\n",
              "    <path d=\"M0 0h24v24H0V0z\" fill=\"none\"/>\n",
              "    <path d=\"M18.56 5.44l.94 2.06.94-2.06 2.06-.94-2.06-.94-.94-2.06-.94 2.06-2.06.94zm-11 1L8.5 8.5l.94-2.06 2.06-.94-2.06-.94L8.5 2.5l-.94 2.06-2.06.94zm10 10l.94 2.06.94-2.06 2.06-.94-2.06-.94-.94-2.06-.94 2.06-2.06.94z\"/><path d=\"M17.41 7.96l-1.37-1.37c-.4-.4-.92-.59-1.43-.59-.52 0-1.04.2-1.43.59L10.3 9.45l-7.72 7.72c-.78.78-.78 2.05 0 2.83L4 21.41c.39.39.9.59 1.41.59.51 0 1.02-.2 1.41-.59l7.78-7.78 2.81-2.81c.8-.78.8-2.07 0-2.86zM5.41 20L4 18.59l7.72-7.72 1.47 1.35L5.41 20z\"/>\n",
              "  </svg>\n",
              "      </button>\n",
              "      \n",
              "  <style>\n",
              "    .colab-df-container {\n",
              "      display:flex;\n",
              "      flex-wrap:wrap;\n",
              "      gap: 12px;\n",
              "    }\n",
              "\n",
              "    .colab-df-convert {\n",
              "      background-color: #E8F0FE;\n",
              "      border: none;\n",
              "      border-radius: 50%;\n",
              "      cursor: pointer;\n",
              "      display: none;\n",
              "      fill: #1967D2;\n",
              "      height: 32px;\n",
              "      padding: 0 0 0 0;\n",
              "      width: 32px;\n",
              "    }\n",
              "\n",
              "    .colab-df-convert:hover {\n",
              "      background-color: #E2EBFA;\n",
              "      box-shadow: 0px 1px 2px rgba(60, 64, 67, 0.3), 0px 1px 3px 1px rgba(60, 64, 67, 0.15);\n",
              "      fill: #174EA6;\n",
              "    }\n",
              "\n",
              "    [theme=dark] .colab-df-convert {\n",
              "      background-color: #3B4455;\n",
              "      fill: #D2E3FC;\n",
              "    }\n",
              "\n",
              "    [theme=dark] .colab-df-convert:hover {\n",
              "      background-color: #434B5C;\n",
              "      box-shadow: 0px 1px 3px 1px rgba(0, 0, 0, 0.15);\n",
              "      filter: drop-shadow(0px 1px 2px rgba(0, 0, 0, 0.3));\n",
              "      fill: #FFFFFF;\n",
              "    }\n",
              "  </style>\n",
              "\n",
              "      <script>\n",
              "        const buttonEl =\n",
              "          document.querySelector('#df-623eb978-f1b6-4232-b51b-1905f93a3b76 button.colab-df-convert');\n",
              "        buttonEl.style.display =\n",
              "          google.colab.kernel.accessAllowed ? 'block' : 'none';\n",
              "\n",
              "        async function convertToInteractive(key) {\n",
              "          const element = document.querySelector('#df-623eb978-f1b6-4232-b51b-1905f93a3b76');\n",
              "          const dataTable =\n",
              "            await google.colab.kernel.invokeFunction('convertToInteractive',\n",
              "                                                     [key], {});\n",
              "          if (!dataTable) return;\n",
              "\n",
              "          const docLinkHtml = 'Like what you see? Visit the ' +\n",
              "            '<a target=\"_blank\" href=https://colab.research.google.com/notebooks/data_table.ipynb>data table notebook</a>'\n",
              "            + ' to learn more about interactive tables.';\n",
              "          element.innerHTML = '';\n",
              "          dataTable['output_type'] = 'display_data';\n",
              "          await google.colab.output.renderOutput(dataTable, element);\n",
              "          const docLink = document.createElement('div');\n",
              "          docLink.innerHTML = docLinkHtml;\n",
              "          element.appendChild(docLink);\n",
              "        }\n",
              "      </script>\n",
              "    </div>\n",
              "  </div>\n",
              "  "
            ]
          },
          "metadata": {},
          "execution_count": 5
        }
      ]
    },
    {
      "cell_type": "code",
      "source": [
        "print(\"Car data shape\", car_data.shape)"
      ],
      "metadata": {
        "colab": {
          "base_uri": "https://localhost:8080/"
        },
        "id": "LFPjkuDO-GfL",
        "outputId": "4500545a-8cf3-492d-bba6-17ca8648676a"
      },
      "execution_count": 6,
      "outputs": [
        {
          "output_type": "stream",
          "name": "stdout",
          "text": [
            "Car data shape (4340, 8)\n"
          ]
        }
      ]
    },
    {
      "cell_type": "markdown",
      "source": [
        "<a name = Section41></a>\n",
        "### **4.1 Data Description**\n",
        "\n",
        "- In this section we will get **description** and **statistics** about the data."
      ],
      "metadata": {
        "id": "85GNySdC5y3A"
      }
    },
    {
      "cell_type": "code",
      "source": [
        "car_data.describe()"
      ],
      "metadata": {
        "colab": {
          "base_uri": "https://localhost:8080/",
          "height": 300
        },
        "id": "bgPVOVDkvOWY",
        "outputId": "f5241a85-392e-4c6d-e398-13b7657bc71d"
      },
      "execution_count": 7,
      "outputs": [
        {
          "output_type": "execute_result",
          "data": {
            "text/plain": [
              "              year  selling_price      km_driven\n",
              "count  4340.000000   4.340000e+03    4340.000000\n",
              "mean   2013.090783   5.041273e+05   66215.777419\n",
              "std       4.215344   5.785487e+05   46644.102194\n",
              "min    1992.000000   2.000000e+04       1.000000\n",
              "25%    2011.000000   2.087498e+05   35000.000000\n",
              "50%    2014.000000   3.500000e+05   60000.000000\n",
              "75%    2016.000000   6.000000e+05   90000.000000\n",
              "max    2020.000000   8.900000e+06  806599.000000"
            ],
            "text/html": [
              "\n",
              "  <div id=\"df-a427dea9-1d26-465f-83e9-8847813e8f75\">\n",
              "    <div class=\"colab-df-container\">\n",
              "      <div>\n",
              "<style scoped>\n",
              "    .dataframe tbody tr th:only-of-type {\n",
              "        vertical-align: middle;\n",
              "    }\n",
              "\n",
              "    .dataframe tbody tr th {\n",
              "        vertical-align: top;\n",
              "    }\n",
              "\n",
              "    .dataframe thead th {\n",
              "        text-align: right;\n",
              "    }\n",
              "</style>\n",
              "<table border=\"1\" class=\"dataframe\">\n",
              "  <thead>\n",
              "    <tr style=\"text-align: right;\">\n",
              "      <th></th>\n",
              "      <th>year</th>\n",
              "      <th>selling_price</th>\n",
              "      <th>km_driven</th>\n",
              "    </tr>\n",
              "  </thead>\n",
              "  <tbody>\n",
              "    <tr>\n",
              "      <th>count</th>\n",
              "      <td>4340.000000</td>\n",
              "      <td>4.340000e+03</td>\n",
              "      <td>4340.000000</td>\n",
              "    </tr>\n",
              "    <tr>\n",
              "      <th>mean</th>\n",
              "      <td>2013.090783</td>\n",
              "      <td>5.041273e+05</td>\n",
              "      <td>66215.777419</td>\n",
              "    </tr>\n",
              "    <tr>\n",
              "      <th>std</th>\n",
              "      <td>4.215344</td>\n",
              "      <td>5.785487e+05</td>\n",
              "      <td>46644.102194</td>\n",
              "    </tr>\n",
              "    <tr>\n",
              "      <th>min</th>\n",
              "      <td>1992.000000</td>\n",
              "      <td>2.000000e+04</td>\n",
              "      <td>1.000000</td>\n",
              "    </tr>\n",
              "    <tr>\n",
              "      <th>25%</th>\n",
              "      <td>2011.000000</td>\n",
              "      <td>2.087498e+05</td>\n",
              "      <td>35000.000000</td>\n",
              "    </tr>\n",
              "    <tr>\n",
              "      <th>50%</th>\n",
              "      <td>2014.000000</td>\n",
              "      <td>3.500000e+05</td>\n",
              "      <td>60000.000000</td>\n",
              "    </tr>\n",
              "    <tr>\n",
              "      <th>75%</th>\n",
              "      <td>2016.000000</td>\n",
              "      <td>6.000000e+05</td>\n",
              "      <td>90000.000000</td>\n",
              "    </tr>\n",
              "    <tr>\n",
              "      <th>max</th>\n",
              "      <td>2020.000000</td>\n",
              "      <td>8.900000e+06</td>\n",
              "      <td>806599.000000</td>\n",
              "    </tr>\n",
              "  </tbody>\n",
              "</table>\n",
              "</div>\n",
              "      <button class=\"colab-df-convert\" onclick=\"convertToInteractive('df-a427dea9-1d26-465f-83e9-8847813e8f75')\"\n",
              "              title=\"Convert this dataframe to an interactive table.\"\n",
              "              style=\"display:none;\">\n",
              "        \n",
              "  <svg xmlns=\"http://www.w3.org/2000/svg\" height=\"24px\"viewBox=\"0 0 24 24\"\n",
              "       width=\"24px\">\n",
              "    <path d=\"M0 0h24v24H0V0z\" fill=\"none\"/>\n",
              "    <path d=\"M18.56 5.44l.94 2.06.94-2.06 2.06-.94-2.06-.94-.94-2.06-.94 2.06-2.06.94zm-11 1L8.5 8.5l.94-2.06 2.06-.94-2.06-.94L8.5 2.5l-.94 2.06-2.06.94zm10 10l.94 2.06.94-2.06 2.06-.94-2.06-.94-.94-2.06-.94 2.06-2.06.94z\"/><path d=\"M17.41 7.96l-1.37-1.37c-.4-.4-.92-.59-1.43-.59-.52 0-1.04.2-1.43.59L10.3 9.45l-7.72 7.72c-.78.78-.78 2.05 0 2.83L4 21.41c.39.39.9.59 1.41.59.51 0 1.02-.2 1.41-.59l7.78-7.78 2.81-2.81c.8-.78.8-2.07 0-2.86zM5.41 20L4 18.59l7.72-7.72 1.47 1.35L5.41 20z\"/>\n",
              "  </svg>\n",
              "      </button>\n",
              "      \n",
              "  <style>\n",
              "    .colab-df-container {\n",
              "      display:flex;\n",
              "      flex-wrap:wrap;\n",
              "      gap: 12px;\n",
              "    }\n",
              "\n",
              "    .colab-df-convert {\n",
              "      background-color: #E8F0FE;\n",
              "      border: none;\n",
              "      border-radius: 50%;\n",
              "      cursor: pointer;\n",
              "      display: none;\n",
              "      fill: #1967D2;\n",
              "      height: 32px;\n",
              "      padding: 0 0 0 0;\n",
              "      width: 32px;\n",
              "    }\n",
              "\n",
              "    .colab-df-convert:hover {\n",
              "      background-color: #E2EBFA;\n",
              "      box-shadow: 0px 1px 2px rgba(60, 64, 67, 0.3), 0px 1px 3px 1px rgba(60, 64, 67, 0.15);\n",
              "      fill: #174EA6;\n",
              "    }\n",
              "\n",
              "    [theme=dark] .colab-df-convert {\n",
              "      background-color: #3B4455;\n",
              "      fill: #D2E3FC;\n",
              "    }\n",
              "\n",
              "    [theme=dark] .colab-df-convert:hover {\n",
              "      background-color: #434B5C;\n",
              "      box-shadow: 0px 1px 3px 1px rgba(0, 0, 0, 0.15);\n",
              "      filter: drop-shadow(0px 1px 2px rgba(0, 0, 0, 0.3));\n",
              "      fill: #FFFFFF;\n",
              "    }\n",
              "  </style>\n",
              "\n",
              "      <script>\n",
              "        const buttonEl =\n",
              "          document.querySelector('#df-a427dea9-1d26-465f-83e9-8847813e8f75 button.colab-df-convert');\n",
              "        buttonEl.style.display =\n",
              "          google.colab.kernel.accessAllowed ? 'block' : 'none';\n",
              "\n",
              "        async function convertToInteractive(key) {\n",
              "          const element = document.querySelector('#df-a427dea9-1d26-465f-83e9-8847813e8f75');\n",
              "          const dataTable =\n",
              "            await google.colab.kernel.invokeFunction('convertToInteractive',\n",
              "                                                     [key], {});\n",
              "          if (!dataTable) return;\n",
              "\n",
              "          const docLinkHtml = 'Like what you see? Visit the ' +\n",
              "            '<a target=\"_blank\" href=https://colab.research.google.com/notebooks/data_table.ipynb>data table notebook</a>'\n",
              "            + ' to learn more about interactive tables.';\n",
              "          element.innerHTML = '';\n",
              "          dataTable['output_type'] = 'display_data';\n",
              "          await google.colab.output.renderOutput(dataTable, element);\n",
              "          const docLink = document.createElement('div');\n",
              "          docLink.innerHTML = docLinkHtml;\n",
              "          element.appendChild(docLink);\n",
              "        }\n",
              "      </script>\n",
              "    </div>\n",
              "  </div>\n",
              "  "
            ]
          },
          "metadata": {},
          "execution_count": 7
        }
      ]
    },
    {
      "cell_type": "markdown",
      "source": [
        "<a name = Section42></a>\n",
        "### **4.2 Data Information**\n",
        "\n",
        " - In this section, we will get **information about the data** and see some observations.\n"
      ],
      "metadata": {
        "id": "-VSFyXsY58CJ"
      }
    },
    {
      "cell_type": "code",
      "source": [
        "car_data.info()"
      ],
      "metadata": {
        "colab": {
          "base_uri": "https://localhost:8080/"
        },
        "id": "vr_aBLHF5960",
        "outputId": "9f5dcff3-e2e5-4383-9b35-9c0aa1e1cfd5"
      },
      "execution_count": 8,
      "outputs": [
        {
          "output_type": "stream",
          "name": "stdout",
          "text": [
            "<class 'pandas.core.frame.DataFrame'>\n",
            "RangeIndex: 4340 entries, 0 to 4339\n",
            "Data columns (total 8 columns):\n",
            " #   Column         Non-Null Count  Dtype \n",
            "---  ------         --------------  ----- \n",
            " 0   name           4340 non-null   object\n",
            " 1   year           4340 non-null   int64 \n",
            " 2   selling_price  4340 non-null   int64 \n",
            " 3   km_driven      4340 non-null   int64 \n",
            " 4   fuel           4340 non-null   object\n",
            " 5   seller_type    4340 non-null   object\n",
            " 6   transmission   4340 non-null   object\n",
            " 7   owner          4340 non-null   object\n",
            "dtypes: int64(3), object(5)\n",
            "memory usage: 271.4+ KB\n"
          ]
        }
      ]
    },
    {
      "cell_type": "markdown",
      "source": [
        "**Observation:**\n",
        "\n",
        "- We can observe that there is **no null data present** and all **features** have **correct data types**."
      ],
      "metadata": {
        "id": "d_HX-gBI6aRL"
      }
    },
    {
      "cell_type": "markdown",
      "source": [
        "<a name = Section5></a>\n",
        "\n",
        "---\n",
        "# **5. Data Pre-Processing**\n",
        "---"
      ],
      "metadata": {
        "id": "gv28vGP260TA"
      }
    },
    {
      "cell_type": "markdown",
      "metadata": {
        "id": "DKAjCZF3UV7F"
      },
      "source": [
        "<a name = Section51></a>\n",
        "### **5.1 Pre Profiling Report**"
      ]
    },
    {
      "cell_type": "code",
      "metadata": {
        "id": "zRV-xLIvMIgO"
      },
      "source": [
        "# profile = ProfileReport(df=data)\n",
        "# profile.to_file(output_file='Pre Profiling Report.html')\n",
        "# print('Accomplished!')"
      ],
      "execution_count": 9,
      "outputs": []
    },
    {
      "cell_type": "markdown",
      "source": [
        "**Observation:**\n",
        "\n",
        "\n",
        "- Reports shows that the **number of variables**\tin our data is **8**.\n",
        "\n",
        "- **Number of observations(rows)** is\t**4340**.\n",
        "\n",
        "- **Duplicate rows** are **763**\n",
        "\n",
        "- There is a **no missing data**.\n",
        "\n",
        "- For full details checkout the report."
      ],
      "metadata": {
        "id": "iFI7B4qX5t0D"
      }
    },
    {
      "cell_type": "markdown",
      "source": [
        "<a name = Section52></a>\n",
        "### **5.2 Identification & Handling of Missing/Duplicate Data**\n",
        "\n",
        "- In this section we will **remove duplicate records and year convert into age of car as new feature**."
      ],
      "metadata": {
        "id": "BY96_LhY5GMp"
      }
    },
    {
      "cell_type": "code",
      "source": [
        "car_data.drop('name', axis = 1 , inplace = True)          # dropping car name.\n",
        "car_data['age'] = 2022-car_data['year']                   # creating new feature age based on bought year of the car.\n",
        "car_data.drop('year',axis = 1, inplace = True)           # dropping year from car data\n",
        "car_data.drop_duplicates(inplace=True)                    # dropping duplicate records\n",
        "car_data = car_data[car_data['fuel'] != 'Electric']       # fule has single records so ignored"
      ],
      "metadata": {
        "id": "1L8jyUZC6GM4"
      },
      "execution_count": 10,
      "outputs": []
    },
    {
      "cell_type": "code",
      "source": [
        "car_data.isnull().sum()"
      ],
      "metadata": {
        "colab": {
          "base_uri": "https://localhost:8080/"
        },
        "id": "xTdYH68IH5UO",
        "outputId": "4bff0479-cbf8-4838-af8c-72526cade0e7"
      },
      "execution_count": 15,
      "outputs": [
        {
          "output_type": "execute_result",
          "data": {
            "text/plain": [
              "selling_price    0\n",
              "km_driven        0\n",
              "fuel             0\n",
              "seller_type      0\n",
              "transmission     0\n",
              "owner            0\n",
              "age              0\n",
              "dtype: int64"
            ]
          },
          "metadata": {},
          "execution_count": 15
        }
      ]
    },
    {
      "cell_type": "code",
      "source": [
        "car_data.duplicated().sum()"
      ],
      "metadata": {
        "colab": {
          "base_uri": "https://localhost:8080/"
        },
        "id": "xmqmxvaZH9tc",
        "outputId": "bd76363c-aa63-42b0-8f17-7509698c1718"
      },
      "execution_count": 16,
      "outputs": [
        {
          "output_type": "execute_result",
          "data": {
            "text/plain": [
              "0"
            ]
          },
          "metadata": {},
          "execution_count": 16
        }
      ]
    },
    {
      "cell_type": "code",
      "source": [
        "car_data.head()"
      ],
      "metadata": {
        "colab": {
          "base_uri": "https://localhost:8080/",
          "height": 206
        },
        "id": "-OYHfSD5H0nX",
        "outputId": "f5cce4c0-b2c5-4ccb-e2c9-623cbdf2f224"
      },
      "execution_count": 14,
      "outputs": [
        {
          "output_type": "execute_result",
          "data": {
            "text/plain": [
              "   selling_price  km_driven    fuel seller_type transmission         owner  \\\n",
              "0          60000      70000  Petrol  Individual       Manual   First Owner   \n",
              "1         135000      50000  Petrol  Individual       Manual   First Owner   \n",
              "2         600000     100000  Diesel  Individual       Manual   First Owner   \n",
              "3         250000      46000  Petrol  Individual       Manual   First Owner   \n",
              "4         450000     141000  Diesel  Individual       Manual  Second Owner   \n",
              "\n",
              "   age  \n",
              "0   15  \n",
              "1   15  \n",
              "2   10  \n",
              "3    5  \n",
              "4    8  "
            ],
            "text/html": [
              "\n",
              "  <div id=\"df-1c9264a8-578d-4d17-a570-508232574a58\">\n",
              "    <div class=\"colab-df-container\">\n",
              "      <div>\n",
              "<style scoped>\n",
              "    .dataframe tbody tr th:only-of-type {\n",
              "        vertical-align: middle;\n",
              "    }\n",
              "\n",
              "    .dataframe tbody tr th {\n",
              "        vertical-align: top;\n",
              "    }\n",
              "\n",
              "    .dataframe thead th {\n",
              "        text-align: right;\n",
              "    }\n",
              "</style>\n",
              "<table border=\"1\" class=\"dataframe\">\n",
              "  <thead>\n",
              "    <tr style=\"text-align: right;\">\n",
              "      <th></th>\n",
              "      <th>selling_price</th>\n",
              "      <th>km_driven</th>\n",
              "      <th>fuel</th>\n",
              "      <th>seller_type</th>\n",
              "      <th>transmission</th>\n",
              "      <th>owner</th>\n",
              "      <th>age</th>\n",
              "    </tr>\n",
              "  </thead>\n",
              "  <tbody>\n",
              "    <tr>\n",
              "      <th>0</th>\n",
              "      <td>60000</td>\n",
              "      <td>70000</td>\n",
              "      <td>Petrol</td>\n",
              "      <td>Individual</td>\n",
              "      <td>Manual</td>\n",
              "      <td>First Owner</td>\n",
              "      <td>15</td>\n",
              "    </tr>\n",
              "    <tr>\n",
              "      <th>1</th>\n",
              "      <td>135000</td>\n",
              "      <td>50000</td>\n",
              "      <td>Petrol</td>\n",
              "      <td>Individual</td>\n",
              "      <td>Manual</td>\n",
              "      <td>First Owner</td>\n",
              "      <td>15</td>\n",
              "    </tr>\n",
              "    <tr>\n",
              "      <th>2</th>\n",
              "      <td>600000</td>\n",
              "      <td>100000</td>\n",
              "      <td>Diesel</td>\n",
              "      <td>Individual</td>\n",
              "      <td>Manual</td>\n",
              "      <td>First Owner</td>\n",
              "      <td>10</td>\n",
              "    </tr>\n",
              "    <tr>\n",
              "      <th>3</th>\n",
              "      <td>250000</td>\n",
              "      <td>46000</td>\n",
              "      <td>Petrol</td>\n",
              "      <td>Individual</td>\n",
              "      <td>Manual</td>\n",
              "      <td>First Owner</td>\n",
              "      <td>5</td>\n",
              "    </tr>\n",
              "    <tr>\n",
              "      <th>4</th>\n",
              "      <td>450000</td>\n",
              "      <td>141000</td>\n",
              "      <td>Diesel</td>\n",
              "      <td>Individual</td>\n",
              "      <td>Manual</td>\n",
              "      <td>Second Owner</td>\n",
              "      <td>8</td>\n",
              "    </tr>\n",
              "  </tbody>\n",
              "</table>\n",
              "</div>\n",
              "      <button class=\"colab-df-convert\" onclick=\"convertToInteractive('df-1c9264a8-578d-4d17-a570-508232574a58')\"\n",
              "              title=\"Convert this dataframe to an interactive table.\"\n",
              "              style=\"display:none;\">\n",
              "        \n",
              "  <svg xmlns=\"http://www.w3.org/2000/svg\" height=\"24px\"viewBox=\"0 0 24 24\"\n",
              "       width=\"24px\">\n",
              "    <path d=\"M0 0h24v24H0V0z\" fill=\"none\"/>\n",
              "    <path d=\"M18.56 5.44l.94 2.06.94-2.06 2.06-.94-2.06-.94-.94-2.06-.94 2.06-2.06.94zm-11 1L8.5 8.5l.94-2.06 2.06-.94-2.06-.94L8.5 2.5l-.94 2.06-2.06.94zm10 10l.94 2.06.94-2.06 2.06-.94-2.06-.94-.94-2.06-.94 2.06-2.06.94z\"/><path d=\"M17.41 7.96l-1.37-1.37c-.4-.4-.92-.59-1.43-.59-.52 0-1.04.2-1.43.59L10.3 9.45l-7.72 7.72c-.78.78-.78 2.05 0 2.83L4 21.41c.39.39.9.59 1.41.59.51 0 1.02-.2 1.41-.59l7.78-7.78 2.81-2.81c.8-.78.8-2.07 0-2.86zM5.41 20L4 18.59l7.72-7.72 1.47 1.35L5.41 20z\"/>\n",
              "  </svg>\n",
              "      </button>\n",
              "      \n",
              "  <style>\n",
              "    .colab-df-container {\n",
              "      display:flex;\n",
              "      flex-wrap:wrap;\n",
              "      gap: 12px;\n",
              "    }\n",
              "\n",
              "    .colab-df-convert {\n",
              "      background-color: #E8F0FE;\n",
              "      border: none;\n",
              "      border-radius: 50%;\n",
              "      cursor: pointer;\n",
              "      display: none;\n",
              "      fill: #1967D2;\n",
              "      height: 32px;\n",
              "      padding: 0 0 0 0;\n",
              "      width: 32px;\n",
              "    }\n",
              "\n",
              "    .colab-df-convert:hover {\n",
              "      background-color: #E2EBFA;\n",
              "      box-shadow: 0px 1px 2px rgba(60, 64, 67, 0.3), 0px 1px 3px 1px rgba(60, 64, 67, 0.15);\n",
              "      fill: #174EA6;\n",
              "    }\n",
              "\n",
              "    [theme=dark] .colab-df-convert {\n",
              "      background-color: #3B4455;\n",
              "      fill: #D2E3FC;\n",
              "    }\n",
              "\n",
              "    [theme=dark] .colab-df-convert:hover {\n",
              "      background-color: #434B5C;\n",
              "      box-shadow: 0px 1px 3px 1px rgba(0, 0, 0, 0.15);\n",
              "      filter: drop-shadow(0px 1px 2px rgba(0, 0, 0, 0.3));\n",
              "      fill: #FFFFFF;\n",
              "    }\n",
              "  </style>\n",
              "\n",
              "      <script>\n",
              "        const buttonEl =\n",
              "          document.querySelector('#df-1c9264a8-578d-4d17-a570-508232574a58 button.colab-df-convert');\n",
              "        buttonEl.style.display =\n",
              "          google.colab.kernel.accessAllowed ? 'block' : 'none';\n",
              "\n",
              "        async function convertToInteractive(key) {\n",
              "          const element = document.querySelector('#df-1c9264a8-578d-4d17-a570-508232574a58');\n",
              "          const dataTable =\n",
              "            await google.colab.kernel.invokeFunction('convertToInteractive',\n",
              "                                                     [key], {});\n",
              "          if (!dataTable) return;\n",
              "\n",
              "          const docLinkHtml = 'Like what you see? Visit the ' +\n",
              "            '<a target=\"_blank\" href=https://colab.research.google.com/notebooks/data_table.ipynb>data table notebook</a>'\n",
              "            + ' to learn more about interactive tables.';\n",
              "          element.innerHTML = '';\n",
              "          dataTable['output_type'] = 'display_data';\n",
              "          await google.colab.output.renderOutput(dataTable, element);\n",
              "          const docLink = document.createElement('div');\n",
              "          docLink.innerHTML = docLinkHtml;\n",
              "          element.appendChild(docLink);\n",
              "        }\n",
              "      </script>\n",
              "    </div>\n",
              "  </div>\n",
              "  "
            ]
          },
          "metadata": {},
          "execution_count": 14
        }
      ]
    },
    {
      "cell_type": "markdown",
      "source": [
        "<a name = Section6></a>\n",
        "\n",
        "---\n",
        "# **6. Exploratory Data Analysis**\n",
        "---"
      ],
      "metadata": {
        "id": "-fiNnQbA7QEf"
      }
    },
    {
      "cell_type": "code",
      "source": [
        "car_data.skew()"
      ],
      "metadata": {
        "colab": {
          "base_uri": "https://localhost:8080/"
        },
        "id": "6Dbv4hcivOZi",
        "outputId": "d0b052c4-5f0c-4871-be87-d698aacf9876"
      },
      "execution_count": 12,
      "outputs": [
        {
          "output_type": "execute_result",
          "data": {
            "text/plain": [
              "selling_price    5.430836\n",
              "km_driven        2.557232\n",
              "age              0.784445\n",
              "dtype: float64"
            ]
          },
          "metadata": {},
          "execution_count": 12
        }
      ]
    },
    {
      "cell_type": "markdown",
      "source": [
        "**Question: What is the frequency and proportion of seller type?**"
      ],
      "metadata": {
        "id": "lK8fqoUH_Wyh"
      }
    },
    {
      "cell_type": "code",
      "source": [
        "# setting a figure of size of 15 x 8 inches\n",
        "fig = plt.figure(figsize = [15, 8])\n",
        "\n",
        "sns.countplot(x = 'seller_type', data = car_data)\n",
        "\n",
        "# Adding cosmetics to graph\n",
        "plt.xlabel(xlabel = 'Seller Type', size = 14)\n",
        "plt.ylabel(ylabel = 'Frequency', size = 14)\n",
        "plt.title(label = 'Frequency Distribution of Seller Type', size = 14)\n",
        "\n",
        "# Display the plot\n",
        "plt.show()"
      ],
      "metadata": {
        "colab": {
          "base_uri": "https://localhost:8080/",
          "height": 518
        },
        "id": "9PxIFNSS_Vv-",
        "outputId": "1c1f0273-3dfa-4ea0-9db1-713b140c5c98"
      },
      "execution_count": 13,
      "outputs": [
        {
          "output_type": "display_data",
          "data": {
            "text/plain": [
              "<Figure size 1080x576 with 1 Axes>"
            ],
            "image/png": "[encoded data removed]"
          },
          "metadata": {
            "needs_background": "light"
          }
        }
      ]
    },
    {
      "cell_type": "markdown",
      "source": [
        "**Question: What is the frequency and proportion of owner?**"
      ],
      "metadata": {
        "id": "h47BDl0qHfSk"
      }
    },
    {
      "cell_type": "code",
      "source": [
        "# setting a figure of size of 15 x 8 inches\n",
        "fig = plt.figure(figsize = [15, 8])\n",
        "\n",
        "sns.countplot(x = 'owner', data = car_data)\n",
        "\n",
        "# Adding cosmetics to graph\n",
        "plt.xlabel(xlabel = 'Owner', size = 14)\n",
        "plt.ylabel(ylabel = 'Frequency', size = 14)\n",
        "plt.title(label = 'Frequency Distribution of Car Owner', size = 14)\n",
        "\n",
        "# Display the plot\n",
        "plt.show()"
      ],
      "metadata": {
        "colab": {
          "base_uri": "https://localhost:8080/",
          "height": 518
        },
        "id": "OivDr-xpHfsd",
        "outputId": "246f0082-7313-429c-c109-bed5f067c280"
      },
      "execution_count": 18,
      "outputs": [
        {
          "output_type": "display_data",
          "data": {
            "text/plain": [
              "<Figure size 1080x576 with 1 Axes>"
            ],
            "image/png": "[encoded data removed]"
          },
          "metadata": {
            "needs_background": "light"
          }
        }
      ]
    },
    {
      "cell_type": "markdown",
      "source": [
        "**Observation: Looks like most of the car owner want to sell their car in this data.**"
      ],
      "metadata": {
        "id": "RgB2pynIIb4Q"
      }
    },
    {
      "cell_type": "markdown",
      "source": [
        "**Question: What is the Car kilemeter age wise distribution?**"
      ],
      "metadata": {
        "id": "hcoiiAljJC50"
      }
    },
    {
      "cell_type": "code",
      "source": [
        "# setting a figure of size of 15 x 8 inches\n",
        "fig = plt.figure(figsize = [15, 8])\n",
        "\n",
        "sns.scatterplot(x = car_data['age'], y= car_data['km_driven'])\n",
        "\n",
        "# Adding cosmetics to graph\n",
        "plt.xlabel(xlabel = 'Car Age', size = 14)\n",
        "plt.ylabel(ylabel = 'Kilimeter Driven', size = 14)\n",
        "plt.title(label = 'Car Kilemeter Driven Age Wise', size = 14)\n",
        "\n",
        "# Display the plot\n",
        "plt.show()"
      ],
      "metadata": {
        "colab": {
          "base_uri": "https://localhost:8080/",
          "height": 518
        },
        "id": "aiDAfV6LJDXQ",
        "outputId": "50db3579-e0c1-4ef7-82be-3e0356e0b7dc"
      },
      "execution_count": 21,
      "outputs": [
        {
          "output_type": "display_data",
          "data": {
            "text/plain": [
              "<Figure size 1080x576 with 1 Axes>"
            ],
            "image/png": "[encoded data removed]"
          },
          "metadata": {
            "needs_background": "light"
          }
        }
      ]
    },
    {
      "cell_type": "markdown",
      "source": [
        "**Question: correlation between the car data features?**"
      ],
      "metadata": {
        "id": "4EaU-oiTKiZK"
      }
    },
    {
      "cell_type": "code",
      "source": [
        "# setting a figure of size of 20 x 7 inches\n",
        "fig = plt.figure(figsize = [20, 8])\n",
        "\n",
        "sns.heatmap(car_data.corr(), annot=True)\n",
        "\n",
        "plt.show()"
      ],
      "metadata": {
        "colab": {
          "base_uri": "https://localhost:8080/",
          "height": 488
        },
        "id": "t81x-jE-vOyS",
        "outputId": "c1c740f7-c207-42df-da75-ff7234d5f671"
      },
      "execution_count": 25,
      "outputs": [
        {
          "output_type": "display_data",
          "data": {
            "text/plain": [
              "<Figure size 1440x576 with 2 Axes>"
            ],
            "image/png": "[encoded data removed]"
          },
          "metadata": {
            "needs_background": "light"
          }
        }
      ]
    },
    {
      "cell_type": "code",
      "source": [
        "car_data.head()"
      ],
      "metadata": {
        "colab": {
          "base_uri": "https://localhost:8080/",
          "height": 206
        },
        "id": "thDRMajdLUOz",
        "outputId": "07cd7013-492d-4b56-b11e-1ff30030d860"
      },
      "execution_count": 26,
      "outputs": [
        {
          "output_type": "execute_result",
          "data": {
            "text/plain": [
              "   selling_price  km_driven    fuel seller_type transmission         owner  \\\n",
              "0          60000      70000  Petrol  Individual       Manual   First Owner   \n",
              "1         135000      50000  Petrol  Individual       Manual   First Owner   \n",
              "2         600000     100000  Diesel  Individual       Manual   First Owner   \n",
              "3         250000      46000  Petrol  Individual       Manual   First Owner   \n",
              "4         450000     141000  Diesel  Individual       Manual  Second Owner   \n",
              "\n",
              "   age  \n",
              "0   15  \n",
              "1   15  \n",
              "2   10  \n",
              "3    5  \n",
              "4    8  "
            ],
            "text/html": [
              "\n",
              "  <div id=\"df-ec32d832-b84c-41fe-9d46-50ba9fc5e4d8\">\n",
              "    <div class=\"colab-df-container\">\n",
              "      <div>\n",
              "<style scoped>\n",
              "    .dataframe tbody tr th:only-of-type {\n",
              "        vertical-align: middle;\n",
              "    }\n",
              "\n",
              "    .dataframe tbody tr th {\n",
              "        vertical-align: top;\n",
              "    }\n",
              "\n",
              "    .dataframe thead th {\n",
              "        text-align: right;\n",
              "    }\n",
              "</style>\n",
              "<table border=\"1\" class=\"dataframe\">\n",
              "  <thead>\n",
              "    <tr style=\"text-align: right;\">\n",
              "      <th></th>\n",
              "      <th>selling_price</th>\n",
              "      <th>km_driven</th>\n",
              "      <th>fuel</th>\n",
              "      <th>seller_type</th>\n",
              "      <th>transmission</th>\n",
              "      <th>owner</th>\n",
              "      <th>age</th>\n",
              "    </tr>\n",
              "  </thead>\n",
              "  <tbody>\n",
              "    <tr>\n",
              "      <th>0</th>\n",
              "      <td>60000</td>\n",
              "      <td>70000</td>\n",
              "      <td>Petrol</td>\n",
              "      <td>Individual</td>\n",
              "      <td>Manual</td>\n",
              "      <td>First Owner</td>\n",
              "      <td>15</td>\n",
              "    </tr>\n",
              "    <tr>\n",
              "      <th>1</th>\n",
              "      <td>135000</td>\n",
              "      <td>50000</td>\n",
              "      <td>Petrol</td>\n",
              "      <td>Individual</td>\n",
              "      <td>Manual</td>\n",
              "      <td>First Owner</td>\n",
              "      <td>15</td>\n",
              "    </tr>\n",
              "    <tr>\n",
              "      <th>2</th>\n",
              "      <td>600000</td>\n",
              "      <td>100000</td>\n",
              "      <td>Diesel</td>\n",
              "      <td>Individual</td>\n",
              "      <td>Manual</td>\n",
              "      <td>First Owner</td>\n",
              "      <td>10</td>\n",
              "    </tr>\n",
              "    <tr>\n",
              "      <th>3</th>\n",
              "      <td>250000</td>\n",
              "      <td>46000</td>\n",
              "      <td>Petrol</td>\n",
              "      <td>Individual</td>\n",
              "      <td>Manual</td>\n",
              "      <td>First Owner</td>\n",
              "      <td>5</td>\n",
              "    </tr>\n",
              "    <tr>\n",
              "      <th>4</th>\n",
              "      <td>450000</td>\n",
              "      <td>141000</td>\n",
              "      <td>Diesel</td>\n",
              "      <td>Individual</td>\n",
              "      <td>Manual</td>\n",
              "      <td>Second Owner</td>\n",
              "      <td>8</td>\n",
              "    </tr>\n",
              "  </tbody>\n",
              "</table>\n",
              "</div>\n",
              "      <button class=\"colab-df-convert\" onclick=\"convertToInteractive('df-ec32d832-b84c-41fe-9d46-50ba9fc5e4d8')\"\n",
              "              title=\"Convert this dataframe to an interactive table.\"\n",
              "              style=\"display:none;\">\n",
              "        \n",
              "  <svg xmlns=\"http://www.w3.org/2000/svg\" height=\"24px\"viewBox=\"0 0 24 24\"\n",
              "       width=\"24px\">\n",
              "    <path d=\"M0 0h24v24H0V0z\" fill=\"none\"/>\n",
              "    <path d=\"M18.56 5.44l.94 2.06.94-2.06 2.06-.94-2.06-.94-.94-2.06-.94 2.06-2.06.94zm-11 1L8.5 8.5l.94-2.06 2.06-.94-2.06-.94L8.5 2.5l-.94 2.06-2.06.94zm10 10l.94 2.06.94-2.06 2.06-.94-2.06-.94-.94-2.06-.94 2.06-2.06.94z\"/><path d=\"M17.41 7.96l-1.37-1.37c-.4-.4-.92-.59-1.43-.59-.52 0-1.04.2-1.43.59L10.3 9.45l-7.72 7.72c-.78.78-.78 2.05 0 2.83L4 21.41c.39.39.9.59 1.41.59.51 0 1.02-.2 1.41-.59l7.78-7.78 2.81-2.81c.8-.78.8-2.07 0-2.86zM5.41 20L4 18.59l7.72-7.72 1.47 1.35L5.41 20z\"/>\n",
              "  </svg>\n",
              "      </button>\n",
              "      \n",
              "  <style>\n",
              "    .colab-df-container {\n",
              "      display:flex;\n",
              "      flex-wrap:wrap;\n",
              "      gap: 12px;\n",
              "    }\n",
              "\n",
              "    .colab-df-convert {\n",
              "      background-color: #E8F0FE;\n",
              "      border: none;\n",
              "      border-radius: 50%;\n",
              "      cursor: pointer;\n",
              "      display: none;\n",
              "      fill: #1967D2;\n",
              "      height: 32px;\n",
              "      padding: 0 0 0 0;\n",
              "      width: 32px;\n",
              "    }\n",
              "\n",
              "    .colab-df-convert:hover {\n",
              "      background-color: #E2EBFA;\n",
              "      box-shadow: 0px 1px 2px rgba(60, 64, 67, 0.3), 0px 1px 3px 1px rgba(60, 64, 67, 0.15);\n",
              "      fill: #174EA6;\n",
              "    }\n",
              "\n",
              "    [theme=dark] .colab-df-convert {\n",
              "      background-color: #3B4455;\n",
              "      fill: #D2E3FC;\n",
              "    }\n",
              "\n",
              "    [theme=dark] .colab-df-convert:hover {\n",
              "      background-color: #434B5C;\n",
              "      box-shadow: 0px 1px 3px 1px rgba(0, 0, 0, 0.15);\n",
              "      filter: drop-shadow(0px 1px 2px rgba(0, 0, 0, 0.3));\n",
              "      fill: #FFFFFF;\n",
              "    }\n",
              "  </style>\n",
              "\n",
              "      <script>\n",
              "        const buttonEl =\n",
              "          document.querySelector('#df-ec32d832-b84c-41fe-9d46-50ba9fc5e4d8 button.colab-df-convert');\n",
              "        buttonEl.style.display =\n",
              "          google.colab.kernel.accessAllowed ? 'block' : 'none';\n",
              "\n",
              "        async function convertToInteractive(key) {\n",
              "          const element = document.querySelector('#df-ec32d832-b84c-41fe-9d46-50ba9fc5e4d8');\n",
              "          const dataTable =\n",
              "            await google.colab.kernel.invokeFunction('convertToInteractive',\n",
              "                                                     [key], {});\n",
              "          if (!dataTable) return;\n",
              "\n",
              "          const docLinkHtml = 'Like what you see? Visit the ' +\n",
              "            '<a target=\"_blank\" href=https://colab.research.google.com/notebooks/data_table.ipynb>data table notebook</a>'\n",
              "            + ' to learn more about interactive tables.';\n",
              "          element.innerHTML = '';\n",
              "          dataTable['output_type'] = 'display_data';\n",
              "          await google.colab.output.renderOutput(dataTable, element);\n",
              "          const docLink = document.createElement('div');\n",
              "          docLink.innerHTML = docLinkHtml;\n",
              "          element.appendChild(docLink);\n",
              "        }\n",
              "      </script>\n",
              "    </div>\n",
              "  </div>\n",
              "  "
            ]
          },
          "metadata": {},
          "execution_count": 26
        }
      ]
    },
    {
      "cell_type": "markdown",
      "source": [
        "**Question: what is the Car selling price distribution transmission wise?**"
      ],
      "metadata": {
        "id": "aySYcR1sMVne"
      }
    },
    {
      "cell_type": "code",
      "source": [
        "# setting a figure of size of 15 x 8 inches\n",
        "fig = plt.figure(figsize = [15, 8])\n",
        "\n",
        "# bins= np.range[1]\n",
        "sns.histplot(x=car_data['selling_price'], hue=car_data['transmission'], bins=100)\n",
        "\n",
        "# Adding cosmetics to graph\n",
        "plt.xlabel(xlabel = 'Car Selling Price', size = 14)\n",
        "plt.title(label = 'Car Selling Price Distribution', size = 14)\n",
        "\n",
        "# Display the plot\n",
        "plt.show()"
      ],
      "metadata": {
        "colab": {
          "base_uri": "https://localhost:8080/",
          "height": 518
        },
        "id": "kp_yt_z3vO1h",
        "outputId": "c9b09599-6995-4d5a-b081-468433825b07"
      },
      "execution_count": 34,
      "outputs": [
        {
          "output_type": "display_data",
          "data": {
            "text/plain": [
              "<Figure size 1080x576 with 1 Axes>"
            ],
            "image/png": "[encoded data removed]"
          },
          "metadata": {
            "needs_background": "light"
          }
        }
      ]
    },
    {
      "cell_type": "markdown",
      "source": [
        "**Observation: Car selling price for manual transmission is less than 2lac rs while automatice transmission in range between 1 lac to 10 lac.**"
      ],
      "metadata": {
        "id": "pb6aEdBEMtI4"
      }
    },
    {
      "cell_type": "markdown",
      "metadata": {
        "id": "4Cnw23CLzNaJ"
      },
      "source": [
        "<a name = Section7></a>\n",
        "\n",
        "---\n",
        "# **7. Post Data Processing**\n",
        "---\n"
      ]
    },
    {
      "cell_type": "markdown",
      "metadata": {
        "id": "otxEBnHk-27C"
      },
      "source": [
        "<a name = Section73></a>\n",
        "### **7.1 Data Preparation**"
      ]
    },
    {
      "cell_type": "markdown",
      "metadata": {
        "id": "UW0uVNY8_FWl"
      },
      "source": [
        "- **Split** the data into **80:20** inside train_test_split.\n",
        "\n",
        "- Make sure to set the **random_state = 42**.\n",
        "\n",
        "---\n",
        "\n",
        "<details>\n",
        "\n",
        "**<summary>Hint:</summary>**\n",
        "\n",
        "- You can use .train_test_split functionality of sklearn package to achieve the objective.\n",
        "\n",
        "</details>"
      ]
    },
    {
      "cell_type": "code",
      "source": [
        "X = car_data.drop('selling_price', axis = 1)\n",
        "y = car_data['selling_price']"
      ],
      "metadata": {
        "id": "WSvdGsbuIz3y"
      },
      "execution_count": 36,
      "outputs": []
    },
    {
      "cell_type": "code",
      "source": [
        "X.head()"
      ],
      "metadata": {
        "colab": {
          "base_uri": "https://localhost:8080/",
          "height": 206
        },
        "id": "jEY8LhkYIz7W",
        "outputId": "76687aa9-ae4e-4693-989f-c07912fabf90"
      },
      "execution_count": 37,
      "outputs": [
        {
          "output_type": "execute_result",
          "data": {
            "text/plain": [
              "   km_driven    fuel seller_type transmission         owner  age\n",
              "0      70000  Petrol  Individual       Manual   First Owner   15\n",
              "1      50000  Petrol  Individual       Manual   First Owner   15\n",
              "2     100000  Diesel  Individual       Manual   First Owner   10\n",
              "3      46000  Petrol  Individual       Manual   First Owner    5\n",
              "4     141000  Diesel  Individual       Manual  Second Owner    8"
            ],
            "text/html": [
              "\n",
              "  <div id=\"df-56bf35b0-3540-497a-b880-5d3294192ca2\">\n",
              "    <div class=\"colab-df-container\">\n",
              "      <div>\n",
              "<style scoped>\n",
              "    .dataframe tbody tr th:only-of-type {\n",
              "        vertical-align: middle;\n",
              "    }\n",
              "\n",
              "    .dataframe tbody tr th {\n",
              "        vertical-align: top;\n",
              "    }\n",
              "\n",
              "    .dataframe thead th {\n",
              "        text-align: right;\n",
              "    }\n",
              "</style>\n",
              "<table border=\"1\" class=\"dataframe\">\n",
              "  <thead>\n",
              "    <tr style=\"text-align: right;\">\n",
              "      <th></th>\n",
              "      <th>km_driven</th>\n",
              "      <th>fuel</th>\n",
              "      <th>seller_type</th>\n",
              "      <th>transmission</th>\n",
              "      <th>owner</th>\n",
              "      <th>age</th>\n",
              "    </tr>\n",
              "  </thead>\n",
              "  <tbody>\n",
              "    <tr>\n",
              "      <th>0</th>\n",
              "      <td>70000</td>\n",
              "      <td>Petrol</td>\n",
              "      <td>Individual</td>\n",
              "      <td>Manual</td>\n",
              "      <td>First Owner</td>\n",
              "      <td>15</td>\n",
              "    </tr>\n",
              "    <tr>\n",
              "      <th>1</th>\n",
              "      <td>50000</td>\n",
              "      <td>Petrol</td>\n",
              "      <td>Individual</td>\n",
              "      <td>Manual</td>\n",
              "      <td>First Owner</td>\n",
              "      <td>15</td>\n",
              "    </tr>\n",
              "    <tr>\n",
              "      <th>2</th>\n",
              "      <td>100000</td>\n",
              "      <td>Diesel</td>\n",
              "      <td>Individual</td>\n",
              "      <td>Manual</td>\n",
              "      <td>First Owner</td>\n",
              "      <td>10</td>\n",
              "    </tr>\n",
              "    <tr>\n",
              "      <th>3</th>\n",
              "      <td>46000</td>\n",
              "      <td>Petrol</td>\n",
              "      <td>Individual</td>\n",
              "      <td>Manual</td>\n",
              "      <td>First Owner</td>\n",
              "      <td>5</td>\n",
              "    </tr>\n",
              "    <tr>\n",
              "      <th>4</th>\n",
              "      <td>141000</td>\n",
              "      <td>Diesel</td>\n",
              "      <td>Individual</td>\n",
              "      <td>Manual</td>\n",
              "      <td>Second Owner</td>\n",
              "      <td>8</td>\n",
              "    </tr>\n",
              "  </tbody>\n",
              "</table>\n",
              "</div>\n",
              "      <button class=\"colab-df-convert\" onclick=\"convertToInteractive('df-56bf35b0-3540-497a-b880-5d3294192ca2')\"\n",
              "              title=\"Convert this dataframe to an interactive table.\"\n",
              "              style=\"display:none;\">\n",
              "        \n",
              "  <svg xmlns=\"http://www.w3.org/2000/svg\" height=\"24px\"viewBox=\"0 0 24 24\"\n",
              "       width=\"24px\">\n",
              "    <path d=\"M0 0h24v24H0V0z\" fill=\"none\"/>\n",
              "    <path d=\"M18.56 5.44l.94 2.06.94-2.06 2.06-.94-2.06-.94-.94-2.06-.94 2.06-2.06.94zm-11 1L8.5 8.5l.94-2.06 2.06-.94-2.06-.94L8.5 2.5l-.94 2.06-2.06.94zm10 10l.94 2.06.94-2.06 2.06-.94-2.06-.94-.94-2.06-.94 2.06-2.06.94z\"/><path d=\"M17.41 7.96l-1.37-1.37c-.4-.4-.92-.59-1.43-.59-.52 0-1.04.2-1.43.59L10.3 9.45l-7.72 7.72c-.78.78-.78 2.05 0 2.83L4 21.41c.39.39.9.59 1.41.59.51 0 1.02-.2 1.41-.59l7.78-7.78 2.81-2.81c.8-.78.8-2.07 0-2.86zM5.41 20L4 18.59l7.72-7.72 1.47 1.35L5.41 20z\"/>\n",
              "  </svg>\n",
              "      </button>\n",
              "      \n",
              "  <style>\n",
              "    .colab-df-container {\n",
              "      display:flex;\n",
              "      flex-wrap:wrap;\n",
              "      gap: 12px;\n",
              "    }\n",
              "\n",
              "    .colab-df-convert {\n",
              "      background-color: #E8F0FE;\n",
              "      border: none;\n",
              "      border-radius: 50%;\n",
              "      cursor: pointer;\n",
              "      display: none;\n",
              "      fill: #1967D2;\n",
              "      height: 32px;\n",
              "      padding: 0 0 0 0;\n",
              "      width: 32px;\n",
              "    }\n",
              "\n",
              "    .colab-df-convert:hover {\n",
              "      background-color: #E2EBFA;\n",
              "      box-shadow: 0px 1px 2px rgba(60, 64, 67, 0.3), 0px 1px 3px 1px rgba(60, 64, 67, 0.15);\n",
              "      fill: #174EA6;\n",
              "    }\n",
              "\n",
              "    [theme=dark] .colab-df-convert {\n",
              "      background-color: #3B4455;\n",
              "      fill: #D2E3FC;\n",
              "    }\n",
              "\n",
              "    [theme=dark] .colab-df-convert:hover {\n",
              "      background-color: #434B5C;\n",
              "      box-shadow: 0px 1px 3px 1px rgba(0, 0, 0, 0.15);\n",
              "      filter: drop-shadow(0px 1px 2px rgba(0, 0, 0, 0.3));\n",
              "      fill: #FFFFFF;\n",
              "    }\n",
              "  </style>\n",
              "\n",
              "      <script>\n",
              "        const buttonEl =\n",
              "          document.querySelector('#df-56bf35b0-3540-497a-b880-5d3294192ca2 button.colab-df-convert');\n",
              "        buttonEl.style.display =\n",
              "          google.colab.kernel.accessAllowed ? 'block' : 'none';\n",
              "\n",
              "        async function convertToInteractive(key) {\n",
              "          const element = document.querySelector('#df-56bf35b0-3540-497a-b880-5d3294192ca2');\n",
              "          const dataTable =\n",
              "            await google.colab.kernel.invokeFunction('convertToInteractive',\n",
              "                                                     [key], {});\n",
              "          if (!dataTable) return;\n",
              "\n",
              "          const docLinkHtml = 'Like what you see? Visit the ' +\n",
              "            '<a target=\"_blank\" href=https://colab.research.google.com/notebooks/data_table.ipynb>data table notebook</a>'\n",
              "            + ' to learn more about interactive tables.';\n",
              "          element.innerHTML = '';\n",
              "          dataTable['output_type'] = 'display_data';\n",
              "          await google.colab.output.renderOutput(dataTable, element);\n",
              "          const docLink = document.createElement('div');\n",
              "          docLink.innerHTML = docLinkHtml;\n",
              "          element.appendChild(docLink);\n",
              "        }\n",
              "      </script>\n",
              "    </div>\n",
              "  </div>\n",
              "  "
            ]
          },
          "metadata": {},
          "execution_count": 37
        }
      ]
    },
    {
      "cell_type": "code",
      "source": [
        "y.head()"
      ],
      "metadata": {
        "colab": {
          "base_uri": "https://localhost:8080/"
        },
        "id": "ZRYrNNtNIz-T",
        "outputId": "b840c3dc-9881-41ea-c5f8-e7b1e46d2c58"
      },
      "execution_count": 38,
      "outputs": [
        {
          "output_type": "execute_result",
          "data": {
            "text/plain": [
              "0     60000\n",
              "1    135000\n",
              "2    600000\n",
              "3    250000\n",
              "4    450000\n",
              "Name: selling_price, dtype: int64"
            ]
          },
          "metadata": {},
          "execution_count": 38
        }
      ]
    },
    {
      "cell_type": "code",
      "source": [
        "X.info()"
      ],
      "metadata": {
        "colab": {
          "base_uri": "https://localhost:8080/"
        },
        "id": "zQopbcZOKTEB",
        "outputId": "31c4b09e-85d4-4c6c-c4e1-3d63a202abf1"
      },
      "execution_count": 39,
      "outputs": [
        {
          "output_type": "stream",
          "name": "stdout",
          "text": [
            "<class 'pandas.core.frame.DataFrame'>\n",
            "Int64Index: 3497 entries, 0 to 4339\n",
            "Data columns (total 6 columns):\n",
            " #   Column        Non-Null Count  Dtype \n",
            "---  ------        --------------  ----- \n",
            " 0   km_driven     3497 non-null   int64 \n",
            " 1   fuel          3497 non-null   object\n",
            " 2   seller_type   3497 non-null   object\n",
            " 3   transmission  3497 non-null   object\n",
            " 4   owner         3497 non-null   object\n",
            " 5   age           3497 non-null   int64 \n",
            "dtypes: int64(2), object(4)\n",
            "memory usage: 320.3+ KB\n"
          ]
        }
      ]
    },
    {
      "cell_type": "code",
      "source": [
        "x_train, x_test, y_train, y_test = train_test_split(X, y, test_size=.20, random_state=42)"
      ],
      "metadata": {
        "id": "SnyacHmdI0Aw"
      },
      "execution_count": 43,
      "outputs": []
    },
    {
      "cell_type": "code",
      "source": [
        "print('Training Data Shape:', x_train.shape, y_train.shape)\n",
        "print('Testing Data Shape:', x_test.shape, y_test.shape)"
      ],
      "metadata": {
        "colab": {
          "base_uri": "https://localhost:8080/"
        },
        "id": "Uo2iYAcJvsM3",
        "outputId": "b4ddf784-3393-4180-8075-3e1977d03195"
      },
      "execution_count": 44,
      "outputs": [
        {
          "output_type": "stream",
          "name": "stdout",
          "text": [
            "Training Data Shape: (2797, 6) (2797,)\n",
            "Testing Data Shape: (700, 6) (700,)\n"
          ]
        }
      ]
    },
    {
      "cell_type": "markdown",
      "source": [
        "<a name = Section72></a>\n",
        "### **7.2 Encoding Categorical and Scaling Continuous Features**"
      ],
      "metadata": {
        "id": "BuxHMOwZQoLy"
      }
    },
    {
      "cell_type": "code",
      "source": [
        "x_train_cont = x_train.select_dtypes(exclude = 'object')\n",
        "x_test_cont = x_test.select_dtypes(exclude = 'object')\n",
        "x_train_cat = x_train.select_dtypes(include = 'object')\n",
        "x_test_cat = x_test.select_dtypes(include = 'object')"
      ],
      "metadata": {
        "id": "7amSgZ-WQwIJ"
      },
      "execution_count": 45,
      "outputs": []
    },
    {
      "cell_type": "code",
      "source": [
        "x_train_cont.head()"
      ],
      "metadata": {
        "colab": {
          "base_uri": "https://localhost:8080/",
          "height": 206
        },
        "id": "ryQJnyA0RBM0",
        "outputId": "e2ed48ba-9903-48c4-eb4a-1e68015026d1"
      },
      "execution_count": 46,
      "outputs": [
        {
          "output_type": "execute_result",
          "data": {
            "text/plain": [
              "      km_driven  age\n",
              "175      100000   15\n",
              "1148      26000    4\n",
              "1939      35000   19\n",
              "1150      23000    6\n",
              "1387      25000    6"
            ],
            "text/html": [
              "\n",
              "  <div id=\"df-46f903ed-ca58-48b6-84eb-3912b90388da\">\n",
              "    <div class=\"colab-df-container\">\n",
              "      <div>\n",
              "<style scoped>\n",
              "    .dataframe tbody tr th:only-of-type {\n",
              "        vertical-align: middle;\n",
              "    }\n",
              "\n",
              "    .dataframe tbody tr th {\n",
              "        vertical-align: top;\n",
              "    }\n",
              "\n",
              "    .dataframe thead th {\n",
              "        text-align: right;\n",
              "    }\n",
              "</style>\n",
              "<table border=\"1\" class=\"dataframe\">\n",
              "  <thead>\n",
              "    <tr style=\"text-align: right;\">\n",
              "      <th></th>\n",
              "      <th>km_driven</th>\n",
              "      <th>age</th>\n",
              "    </tr>\n",
              "  </thead>\n",
              "  <tbody>\n",
              "    <tr>\n",
              "      <th>175</th>\n",
              "      <td>100000</td>\n",
              "      <td>15</td>\n",
              "    </tr>\n",
              "    <tr>\n",
              "      <th>1148</th>\n",
              "      <td>26000</td>\n",
              "      <td>4</td>\n",
              "    </tr>\n",
              "    <tr>\n",
              "      <th>1939</th>\n",
              "      <td>35000</td>\n",
              "      <td>19</td>\n",
              "    </tr>\n",
              "    <tr>\n",
              "      <th>1150</th>\n",
              "      <td>23000</td>\n",
              "      <td>6</td>\n",
              "    </tr>\n",
              "    <tr>\n",
              "      <th>1387</th>\n",
              "      <td>25000</td>\n",
              "      <td>6</td>\n",
              "    </tr>\n",
              "  </tbody>\n",
              "</table>\n",
              "</div>\n",
              "      <button class=\"colab-df-convert\" onclick=\"convertToInteractive('df-46f903ed-ca58-48b6-84eb-3912b90388da')\"\n",
              "              title=\"Convert this dataframe to an interactive table.\"\n",
              "              style=\"display:none;\">\n",
              "        \n",
              "  <svg xmlns=\"http://www.w3.org/2000/svg\" height=\"24px\"viewBox=\"0 0 24 24\"\n",
              "       width=\"24px\">\n",
              "    <path d=\"M0 0h24v24H0V0z\" fill=\"none\"/>\n",
              "    <path d=\"M18.56 5.44l.94 2.06.94-2.06 2.06-.94-2.06-.94-.94-2.06-.94 2.06-2.06.94zm-11 1L8.5 8.5l.94-2.06 2.06-.94-2.06-.94L8.5 2.5l-.94 2.06-2.06.94zm10 10l.94 2.06.94-2.06 2.06-.94-2.06-.94-.94-2.06-.94 2.06-2.06.94z\"/><path d=\"M17.41 7.96l-1.37-1.37c-.4-.4-.92-.59-1.43-.59-.52 0-1.04.2-1.43.59L10.3 9.45l-7.72 7.72c-.78.78-.78 2.05 0 2.83L4 21.41c.39.39.9.59 1.41.59.51 0 1.02-.2 1.41-.59l7.78-7.78 2.81-2.81c.8-.78.8-2.07 0-2.86zM5.41 20L4 18.59l7.72-7.72 1.47 1.35L5.41 20z\"/>\n",
              "  </svg>\n",
              "      </button>\n",
              "      \n",
              "  <style>\n",
              "    .colab-df-container {\n",
              "      display:flex;\n",
              "      flex-wrap:wrap;\n",
              "      gap: 12px;\n",
              "    }\n",
              "\n",
              "    .colab-df-convert {\n",
              "      background-color: #E8F0FE;\n",
              "      border: none;\n",
              "      border-radius: 50%;\n",
              "      cursor: pointer;\n",
              "      display: none;\n",
              "      fill: #1967D2;\n",
              "      height: 32px;\n",
              "      padding: 0 0 0 0;\n",
              "      width: 32px;\n",
              "    }\n",
              "\n",
              "    .colab-df-convert:hover {\n",
              "      background-color: #E2EBFA;\n",
              "      box-shadow: 0px 1px 2px rgba(60, 64, 67, 0.3), 0px 1px 3px 1px rgba(60, 64, 67, 0.15);\n",
              "      fill: #174EA6;\n",
              "    }\n",
              "\n",
              "    [theme=dark] .colab-df-convert {\n",
              "      background-color: #3B4455;\n",
              "      fill: #D2E3FC;\n",
              "    }\n",
              "\n",
              "    [theme=dark] .colab-df-convert:hover {\n",
              "      background-color: #434B5C;\n",
              "      box-shadow: 0px 1px 3px 1px rgba(0, 0, 0, 0.15);\n",
              "      filter: drop-shadow(0px 1px 2px rgba(0, 0, 0, 0.3));\n",
              "      fill: #FFFFFF;\n",
              "    }\n",
              "  </style>\n",
              "\n",
              "      <script>\n",
              "        const buttonEl =\n",
              "          document.querySelector('#df-46f903ed-ca58-48b6-84eb-3912b90388da button.colab-df-convert');\n",
              "        buttonEl.style.display =\n",
              "          google.colab.kernel.accessAllowed ? 'block' : 'none';\n",
              "\n",
              "        async function convertToInteractive(key) {\n",
              "          const element = document.querySelector('#df-46f903ed-ca58-48b6-84eb-3912b90388da');\n",
              "          const dataTable =\n",
              "            await google.colab.kernel.invokeFunction('convertToInteractive',\n",
              "                                                     [key], {});\n",
              "          if (!dataTable) return;\n",
              "\n",
              "          const docLinkHtml = 'Like what you see? Visit the ' +\n",
              "            '<a target=\"_blank\" href=https://colab.research.google.com/notebooks/data_table.ipynb>data table notebook</a>'\n",
              "            + ' to learn more about interactive tables.';\n",
              "          element.innerHTML = '';\n",
              "          dataTable['output_type'] = 'display_data';\n",
              "          await google.colab.output.renderOutput(dataTable, element);\n",
              "          const docLink = document.createElement('div');\n",
              "          docLink.innerHTML = docLinkHtml;\n",
              "          element.appendChild(docLink);\n",
              "        }\n",
              "      </script>\n",
              "    </div>\n",
              "  </div>\n",
              "  "
            ]
          },
          "metadata": {},
          "execution_count": 46
        }
      ]
    },
    {
      "cell_type": "code",
      "source": [
        "x_train_cat.head()"
      ],
      "metadata": {
        "colab": {
          "base_uri": "https://localhost:8080/",
          "height": 206
        },
        "id": "s3X2D6pIRBJj",
        "outputId": "feda03dd-a6d6-4ae6-a0da-10ae1c0ed54b"
      },
      "execution_count": 49,
      "outputs": [
        {
          "output_type": "execute_result",
          "data": {
            "text/plain": [
              "        fuel seller_type transmission         owner\n",
              "175   Petrol  Individual       Manual  Second Owner\n",
              "1148  Petrol      Dealer    Automatic   First Owner\n",
              "1939  Petrol  Individual       Manual   First Owner\n",
              "1150  Petrol      Dealer       Manual   First Owner\n",
              "1387  Petrol  Individual       Manual   First Owner"
            ],
            "text/html": [
              "\n",
              "  <div id=\"df-e4d97511-81cc-4923-8a12-738aee920c2e\">\n",
              "    <div class=\"colab-df-container\">\n",
              "      <div>\n",
              "<style scoped>\n",
              "    .dataframe tbody tr th:only-of-type {\n",
              "        vertical-align: middle;\n",
              "    }\n",
              "\n",
              "    .dataframe tbody tr th {\n",
              "        vertical-align: top;\n",
              "    }\n",
              "\n",
              "    .dataframe thead th {\n",
              "        text-align: right;\n",
              "    }\n",
              "</style>\n",
              "<table border=\"1\" class=\"dataframe\">\n",
              "  <thead>\n",
              "    <tr style=\"text-align: right;\">\n",
              "      <th></th>\n",
              "      <th>fuel</th>\n",
              "      <th>seller_type</th>\n",
              "      <th>transmission</th>\n",
              "      <th>owner</th>\n",
              "    </tr>\n",
              "  </thead>\n",
              "  <tbody>\n",
              "    <tr>\n",
              "      <th>175</th>\n",
              "      <td>Petrol</td>\n",
              "      <td>Individual</td>\n",
              "      <td>Manual</td>\n",
              "      <td>Second Owner</td>\n",
              "    </tr>\n",
              "    <tr>\n",
              "      <th>1148</th>\n",
              "      <td>Petrol</td>\n",
              "      <td>Dealer</td>\n",
              "      <td>Automatic</td>\n",
              "      <td>First Owner</td>\n",
              "    </tr>\n",
              "    <tr>\n",
              "      <th>1939</th>\n",
              "      <td>Petrol</td>\n",
              "      <td>Individual</td>\n",
              "      <td>Manual</td>\n",
              "      <td>First Owner</td>\n",
              "    </tr>\n",
              "    <tr>\n",
              "      <th>1150</th>\n",
              "      <td>Petrol</td>\n",
              "      <td>Dealer</td>\n",
              "      <td>Manual</td>\n",
              "      <td>First Owner</td>\n",
              "    </tr>\n",
              "    <tr>\n",
              "      <th>1387</th>\n",
              "      <td>Petrol</td>\n",
              "      <td>Individual</td>\n",
              "      <td>Manual</td>\n",
              "      <td>First Owner</td>\n",
              "    </tr>\n",
              "  </tbody>\n",
              "</table>\n",
              "</div>\n",
              "      <button class=\"colab-df-convert\" onclick=\"convertToInteractive('df-e4d97511-81cc-4923-8a12-738aee920c2e')\"\n",
              "              title=\"Convert this dataframe to an interactive table.\"\n",
              "              style=\"display:none;\">\n",
              "        \n",
              "  <svg xmlns=\"http://www.w3.org/2000/svg\" height=\"24px\"viewBox=\"0 0 24 24\"\n",
              "       width=\"24px\">\n",
              "    <path d=\"M0 0h24v24H0V0z\" fill=\"none\"/>\n",
              "    <path d=\"M18.56 5.44l.94 2.06.94-2.06 2.06-.94-2.06-.94-.94-2.06-.94 2.06-2.06.94zm-11 1L8.5 8.5l.94-2.06 2.06-.94-2.06-.94L8.5 2.5l-.94 2.06-2.06.94zm10 10l.94 2.06.94-2.06 2.06-.94-2.06-.94-.94-2.06-.94 2.06-2.06.94z\"/><path d=\"M17.41 7.96l-1.37-1.37c-.4-.4-.92-.59-1.43-.59-.52 0-1.04.2-1.43.59L10.3 9.45l-7.72 7.72c-.78.78-.78 2.05 0 2.83L4 21.41c.39.39.9.59 1.41.59.51 0 1.02-.2 1.41-.59l7.78-7.78 2.81-2.81c.8-.78.8-2.07 0-2.86zM5.41 20L4 18.59l7.72-7.72 1.47 1.35L5.41 20z\"/>\n",
              "  </svg>\n",
              "      </button>\n",
              "      \n",
              "  <style>\n",
              "    .colab-df-container {\n",
              "      display:flex;\n",
              "      flex-wrap:wrap;\n",
              "      gap: 12px;\n",
              "    }\n",
              "\n",
              "    .colab-df-convert {\n",
              "      background-color: #E8F0FE;\n",
              "      border: none;\n",
              "      border-radius: 50%;\n",
              "      cursor: pointer;\n",
              "      display: none;\n",
              "      fill: #1967D2;\n",
              "      height: 32px;\n",
              "      padding: 0 0 0 0;\n",
              "      width: 32px;\n",
              "    }\n",
              "\n",
              "    .colab-df-convert:hover {\n",
              "      background-color: #E2EBFA;\n",
              "      box-shadow: 0px 1px 2px rgba(60, 64, 67, 0.3), 0px 1px 3px 1px rgba(60, 64, 67, 0.15);\n",
              "      fill: #174EA6;\n",
              "    }\n",
              "\n",
              "    [theme=dark] .colab-df-convert {\n",
              "      background-color: #3B4455;\n",
              "      fill: #D2E3FC;\n",
              "    }\n",
              "\n",
              "    [theme=dark] .colab-df-convert:hover {\n",
              "      background-color: #434B5C;\n",
              "      box-shadow: 0px 1px 3px 1px rgba(0, 0, 0, 0.15);\n",
              "      filter: drop-shadow(0px 1px 2px rgba(0, 0, 0, 0.3));\n",
              "      fill: #FFFFFF;\n",
              "    }\n",
              "  </style>\n",
              "\n",
              "      <script>\n",
              "        const buttonEl =\n",
              "          document.querySelector('#df-e4d97511-81cc-4923-8a12-738aee920c2e button.colab-df-convert');\n",
              "        buttonEl.style.display =\n",
              "          google.colab.kernel.accessAllowed ? 'block' : 'none';\n",
              "\n",
              "        async function convertToInteractive(key) {\n",
              "          const element = document.querySelector('#df-e4d97511-81cc-4923-8a12-738aee920c2e');\n",
              "          const dataTable =\n",
              "            await google.colab.kernel.invokeFunction('convertToInteractive',\n",
              "                                                     [key], {});\n",
              "          if (!dataTable) return;\n",
              "\n",
              "          const docLinkHtml = 'Like what you see? Visit the ' +\n",
              "            '<a target=\"_blank\" href=https://colab.research.google.com/notebooks/data_table.ipynb>data table notebook</a>'\n",
              "            + ' to learn more about interactive tables.';\n",
              "          element.innerHTML = '';\n",
              "          dataTable['output_type'] = 'display_data';\n",
              "          await google.colab.output.renderOutput(dataTable, element);\n",
              "          const docLink = document.createElement('div');\n",
              "          docLink.innerHTML = docLinkHtml;\n",
              "          element.appendChild(docLink);\n",
              "        }\n",
              "      </script>\n",
              "    </div>\n",
              "  </div>\n",
              "  "
            ]
          },
          "metadata": {},
          "execution_count": 49
        }
      ]
    },
    {
      "cell_type": "code",
      "source": [
        "scaler = StandardScaler()\n",
        "scaler.fit(x_train_cont)\n",
        "x_train_cont_s = pd.DataFrame(scaler.transform(x_train_cont), index = x_train_cont.index, columns = x_train_cont.columns)\n",
        "x_test_cont_s = pd.DataFrame(scaler.transform(x_test_cont),index = x_test_cont.index, columns = x_test_cont.columns)"
      ],
      "metadata": {
        "id": "TRc6iNYvRBGr"
      },
      "execution_count": 51,
      "outputs": []
    },
    {
      "cell_type": "code",
      "source": [
        "x_train_cat=x_train_cat.apply(LabelEncoder().fit_transform)\n",
        "x_test_cat=x_test_cat.apply(LabelEncoder().fit_transform)"
      ],
      "metadata": {
        "id": "593OCWi6RAzZ"
      },
      "execution_count": 57,
      "outputs": []
    },
    {
      "cell_type": "code",
      "source": [
        "x_train_cat.head()"
      ],
      "metadata": {
        "colab": {
          "base_uri": "https://localhost:8080/",
          "height": 206
        },
        "id": "2GzUaRFrTOXO",
        "outputId": "cba8ca88-6b78-4424-abd1-a822b158564d"
      },
      "execution_count": 58,
      "outputs": [
        {
          "output_type": "execute_result",
          "data": {
            "text/plain": [
              "      fuel  seller_type  transmission  owner\n",
              "175      3            1             1      2\n",
              "1148     3            0             0      0\n",
              "1939     3            1             1      0\n",
              "1150     3            0             1      0\n",
              "1387     3            1             1      0"
            ],
            "text/html": [
              "\n",
              "  <div id=\"df-622a3297-d1ec-4366-b7f3-93ce16634f84\">\n",
              "    <div class=\"colab-df-container\">\n",
              "      <div>\n",
              "<style scoped>\n",
              "    .dataframe tbody tr th:only-of-type {\n",
              "        vertical-align: middle;\n",
              "    }\n",
              "\n",
              "    .dataframe tbody tr th {\n",
              "        vertical-align: top;\n",
              "    }\n",
              "\n",
              "    .dataframe thead th {\n",
              "        text-align: right;\n",
              "    }\n",
              "</style>\n",
              "<table border=\"1\" class=\"dataframe\">\n",
              "  <thead>\n",
              "    <tr style=\"text-align: right;\">\n",
              "      <th></th>\n",
              "      <th>fuel</th>\n",
              "      <th>seller_type</th>\n",
              "      <th>transmission</th>\n",
              "      <th>owner</th>\n",
              "    </tr>\n",
              "  </thead>\n",
              "  <tbody>\n",
              "    <tr>\n",
              "      <th>175</th>\n",
              "      <td>3</td>\n",
              "      <td>1</td>\n",
              "      <td>1</td>\n",
              "      <td>2</td>\n",
              "    </tr>\n",
              "    <tr>\n",
              "      <th>1148</th>\n",
              "      <td>3</td>\n",
              "      <td>0</td>\n",
              "      <td>0</td>\n",
              "      <td>0</td>\n",
              "    </tr>\n",
              "    <tr>\n",
              "      <th>1939</th>\n",
              "      <td>3</td>\n",
              "      <td>1</td>\n",
              "      <td>1</td>\n",
              "      <td>0</td>\n",
              "    </tr>\n",
              "    <tr>\n",
              "      <th>1150</th>\n",
              "      <td>3</td>\n",
              "      <td>0</td>\n",
              "      <td>1</td>\n",
              "      <td>0</td>\n",
              "    </tr>\n",
              "    <tr>\n",
              "      <th>1387</th>\n",
              "      <td>3</td>\n",
              "      <td>1</td>\n",
              "      <td>1</td>\n",
              "      <td>0</td>\n",
              "    </tr>\n",
              "  </tbody>\n",
              "</table>\n",
              "</div>\n",
              "      <button class=\"colab-df-convert\" onclick=\"convertToInteractive('df-622a3297-d1ec-4366-b7f3-93ce16634f84')\"\n",
              "              title=\"Convert this dataframe to an interactive table.\"\n",
              "              style=\"display:none;\">\n",
              "        \n",
              "  <svg xmlns=\"http://www.w3.org/2000/svg\" height=\"24px\"viewBox=\"0 0 24 24\"\n",
              "       width=\"24px\">\n",
              "    <path d=\"M0 0h24v24H0V0z\" fill=\"none\"/>\n",
              "    <path d=\"M18.56 5.44l.94 2.06.94-2.06 2.06-.94-2.06-.94-.94-2.06-.94 2.06-2.06.94zm-11 1L8.5 8.5l.94-2.06 2.06-.94-2.06-.94L8.5 2.5l-.94 2.06-2.06.94zm10 10l.94 2.06.94-2.06 2.06-.94-2.06-.94-.94-2.06-.94 2.06-2.06.94z\"/><path d=\"M17.41 7.96l-1.37-1.37c-.4-.4-.92-.59-1.43-.59-.52 0-1.04.2-1.43.59L10.3 9.45l-7.72 7.72c-.78.78-.78 2.05 0 2.83L4 21.41c.39.39.9.59 1.41.59.51 0 1.02-.2 1.41-.59l7.78-7.78 2.81-2.81c.8-.78.8-2.07 0-2.86zM5.41 20L4 18.59l7.72-7.72 1.47 1.35L5.41 20z\"/>\n",
              "  </svg>\n",
              "      </button>\n",
              "      \n",
              "  <style>\n",
              "    .colab-df-container {\n",
              "      display:flex;\n",
              "      flex-wrap:wrap;\n",
              "      gap: 12px;\n",
              "    }\n",
              "\n",
              "    .colab-df-convert {\n",
              "      background-color: #E8F0FE;\n",
              "      border: none;\n",
              "      border-radius: 50%;\n",
              "      cursor: pointer;\n",
              "      display: none;\n",
              "      fill: #1967D2;\n",
              "      height: 32px;\n",
              "      padding: 0 0 0 0;\n",
              "      width: 32px;\n",
              "    }\n",
              "\n",
              "    .colab-df-convert:hover {\n",
              "      background-color: #E2EBFA;\n",
              "      box-shadow: 0px 1px 2px rgba(60, 64, 67, 0.3), 0px 1px 3px 1px rgba(60, 64, 67, 0.15);\n",
              "      fill: #174EA6;\n",
              "    }\n",
              "\n",
              "    [theme=dark] .colab-df-convert {\n",
              "      background-color: #3B4455;\n",
              "      fill: #D2E3FC;\n",
              "    }\n",
              "\n",
              "    [theme=dark] .colab-df-convert:hover {\n",
              "      background-color: #434B5C;\n",
              "      box-shadow: 0px 1px 3px 1px rgba(0, 0, 0, 0.15);\n",
              "      filter: drop-shadow(0px 1px 2px rgba(0, 0, 0, 0.3));\n",
              "      fill: #FFFFFF;\n",
              "    }\n",
              "  </style>\n",
              "\n",
              "      <script>\n",
              "        const buttonEl =\n",
              "          document.querySelector('#df-622a3297-d1ec-4366-b7f3-93ce16634f84 button.colab-df-convert');\n",
              "        buttonEl.style.display =\n",
              "          google.colab.kernel.accessAllowed ? 'block' : 'none';\n",
              "\n",
              "        async function convertToInteractive(key) {\n",
              "          const element = document.querySelector('#df-622a3297-d1ec-4366-b7f3-93ce16634f84');\n",
              "          const dataTable =\n",
              "            await google.colab.kernel.invokeFunction('convertToInteractive',\n",
              "                                                     [key], {});\n",
              "          if (!dataTable) return;\n",
              "\n",
              "          const docLinkHtml = 'Like what you see? Visit the ' +\n",
              "            '<a target=\"_blank\" href=https://colab.research.google.com/notebooks/data_table.ipynb>data table notebook</a>'\n",
              "            + ' to learn more about interactive tables.';\n",
              "          element.innerHTML = '';\n",
              "          dataTable['output_type'] = 'display_data';\n",
              "          await google.colab.output.renderOutput(dataTable, element);\n",
              "          const docLink = document.createElement('div');\n",
              "          docLink.innerHTML = docLinkHtml;\n",
              "          element.appendChild(docLink);\n",
              "        }\n",
              "      </script>\n",
              "    </div>\n",
              "  </div>\n",
              "  "
            ]
          },
          "metadata": {},
          "execution_count": 58
        }
      ]
    },
    {
      "cell_type": "code",
      "source": [
        "x_train_final = pd.concat([x_train_cat,x_train_cont_s], axis =1)\n",
        "x_test_final = pd.concat([x_test_cat,x_test_cont_s], axis = 1)"
      ],
      "metadata": {
        "id": "cttRqk0QUTmv"
      },
      "execution_count": 59,
      "outputs": []
    },
    {
      "cell_type": "code",
      "source": [
        "x_train_final.head()"
      ],
      "metadata": {
        "colab": {
          "base_uri": "https://localhost:8080/",
          "height": 206
        },
        "id": "SKNJkUA0UTqE",
        "outputId": "c582d79b-644a-43b8-c168-30ec890db5c6"
      },
      "execution_count": 60,
      "outputs": [
        {
          "output_type": "execute_result",
          "data": {
            "text/plain": [
              "      fuel  seller_type  transmission  owner  km_driven       age\n",
              "175      3            1             1      2   0.633217  1.383605\n",
              "1148     3            0             0      0  -0.899845 -1.184528\n",
              "1939     3            1             1      0  -0.713391  2.317471\n",
              "1150     3            0             1      0  -0.961996 -0.717595\n",
              "1387     3            1             1      0  -0.920562 -0.717595"
            ],
            "text/html": [
              "\n",
              "  <div id=\"df-e43ea8c3-d42a-4d67-ae12-c70dcd3f3baa\">\n",
              "    <div class=\"colab-df-container\">\n",
              "      <div>\n",
              "<style scoped>\n",
              "    .dataframe tbody tr th:only-of-type {\n",
              "        vertical-align: middle;\n",
              "    }\n",
              "\n",
              "    .dataframe tbody tr th {\n",
              "        vertical-align: top;\n",
              "    }\n",
              "\n",
              "    .dataframe thead th {\n",
              "        text-align: right;\n",
              "    }\n",
              "</style>\n",
              "<table border=\"1\" class=\"dataframe\">\n",
              "  <thead>\n",
              "    <tr style=\"text-align: right;\">\n",
              "      <th></th>\n",
              "      <th>fuel</th>\n",
              "      <th>seller_type</th>\n",
              "      <th>transmission</th>\n",
              "      <th>owner</th>\n",
              "      <th>km_driven</th>\n",
              "      <th>age</th>\n",
              "    </tr>\n",
              "  </thead>\n",
              "  <tbody>\n",
              "    <tr>\n",
              "      <th>175</th>\n",
              "      <td>3</td>\n",
              "      <td>1</td>\n",
              "      <td>1</td>\n",
              "      <td>2</td>\n",
              "      <td>0.633217</td>\n",
              "      <td>1.383605</td>\n",
              "    </tr>\n",
              "    <tr>\n",
              "      <th>1148</th>\n",
              "      <td>3</td>\n",
              "      <td>0</td>\n",
              "      <td>0</td>\n",
              "      <td>0</td>\n",
              "      <td>-0.899845</td>\n",
              "      <td>-1.184528</td>\n",
              "    </tr>\n",
              "    <tr>\n",
              "      <th>1939</th>\n",
              "      <td>3</td>\n",
              "      <td>1</td>\n",
              "      <td>1</td>\n",
              "      <td>0</td>\n",
              "      <td>-0.713391</td>\n",
              "      <td>2.317471</td>\n",
              "    </tr>\n",
              "    <tr>\n",
              "      <th>1150</th>\n",
              "      <td>3</td>\n",
              "      <td>0</td>\n",
              "      <td>1</td>\n",
              "      <td>0</td>\n",
              "      <td>-0.961996</td>\n",
              "      <td>-0.717595</td>\n",
              "    </tr>\n",
              "    <tr>\n",
              "      <th>1387</th>\n",
              "      <td>3</td>\n",
              "      <td>1</td>\n",
              "      <td>1</td>\n",
              "      <td>0</td>\n",
              "      <td>-0.920562</td>\n",
              "      <td>-0.717595</td>\n",
              "    </tr>\n",
              "  </tbody>\n",
              "</table>\n",
              "</div>\n",
              "      <button class=\"colab-df-convert\" onclick=\"convertToInteractive('df-e43ea8c3-d42a-4d67-ae12-c70dcd3f3baa')\"\n",
              "              title=\"Convert this dataframe to an interactive table.\"\n",
              "              style=\"display:none;\">\n",
              "        \n",
              "  <svg xmlns=\"http://www.w3.org/2000/svg\" height=\"24px\"viewBox=\"0 0 24 24\"\n",
              "       width=\"24px\">\n",
              "    <path d=\"M0 0h24v24H0V0z\" fill=\"none\"/>\n",
              "    <path d=\"M18.56 5.44l.94 2.06.94-2.06 2.06-.94-2.06-.94-.94-2.06-.94 2.06-2.06.94zm-11 1L8.5 8.5l.94-2.06 2.06-.94-2.06-.94L8.5 2.5l-.94 2.06-2.06.94zm10 10l.94 2.06.94-2.06 2.06-.94-2.06-.94-.94-2.06-.94 2.06-2.06.94z\"/><path d=\"M17.41 7.96l-1.37-1.37c-.4-.4-.92-.59-1.43-.59-.52 0-1.04.2-1.43.59L10.3 9.45l-7.72 7.72c-.78.78-.78 2.05 0 2.83L4 21.41c.39.39.9.59 1.41.59.51 0 1.02-.2 1.41-.59l7.78-7.78 2.81-2.81c.8-.78.8-2.07 0-2.86zM5.41 20L4 18.59l7.72-7.72 1.47 1.35L5.41 20z\"/>\n",
              "  </svg>\n",
              "      </button>\n",
              "      \n",
              "  <style>\n",
              "    .colab-df-container {\n",
              "      display:flex;\n",
              "      flex-wrap:wrap;\n",
              "      gap: 12px;\n",
              "    }\n",
              "\n",
              "    .colab-df-convert {\n",
              "      background-color: #E8F0FE;\n",
              "      border: none;\n",
              "      border-radius: 50%;\n",
              "      cursor: pointer;\n",
              "      display: none;\n",
              "      fill: #1967D2;\n",
              "      height: 32px;\n",
              "      padding: 0 0 0 0;\n",
              "      width: 32px;\n",
              "    }\n",
              "\n",
              "    .colab-df-convert:hover {\n",
              "      background-color: #E2EBFA;\n",
              "      box-shadow: 0px 1px 2px rgba(60, 64, 67, 0.3), 0px 1px 3px 1px rgba(60, 64, 67, 0.15);\n",
              "      fill: #174EA6;\n",
              "    }\n",
              "\n",
              "    [theme=dark] .colab-df-convert {\n",
              "      background-color: #3B4455;\n",
              "      fill: #D2E3FC;\n",
              "    }\n",
              "\n",
              "    [theme=dark] .colab-df-convert:hover {\n",
              "      background-color: #434B5C;\n",
              "      box-shadow: 0px 1px 3px 1px rgba(0, 0, 0, 0.15);\n",
              "      filter: drop-shadow(0px 1px 2px rgba(0, 0, 0, 0.3));\n",
              "      fill: #FFFFFF;\n",
              "    }\n",
              "  </style>\n",
              "\n",
              "      <script>\n",
              "        const buttonEl =\n",
              "          document.querySelector('#df-e43ea8c3-d42a-4d67-ae12-c70dcd3f3baa button.colab-df-convert');\n",
              "        buttonEl.style.display =\n",
              "          google.colab.kernel.accessAllowed ? 'block' : 'none';\n",
              "\n",
              "        async function convertToInteractive(key) {\n",
              "          const element = document.querySelector('#df-e43ea8c3-d42a-4d67-ae12-c70dcd3f3baa');\n",
              "          const dataTable =\n",
              "            await google.colab.kernel.invokeFunction('convertToInteractive',\n",
              "                                                     [key], {});\n",
              "          if (!dataTable) return;\n",
              "\n",
              "          const docLinkHtml = 'Like what you see? Visit the ' +\n",
              "            '<a target=\"_blank\" href=https://colab.research.google.com/notebooks/data_table.ipynb>data table notebook</a>'\n",
              "            + ' to learn more about interactive tables.';\n",
              "          element.innerHTML = '';\n",
              "          dataTable['output_type'] = 'display_data';\n",
              "          await google.colab.output.renderOutput(dataTable, element);\n",
              "          const docLink = document.createElement('div');\n",
              "          docLink.innerHTML = docLinkHtml;\n",
              "          element.appendChild(docLink);\n",
              "        }\n",
              "      </script>\n",
              "    </div>\n",
              "  </div>\n",
              "  "
            ]
          },
          "metadata": {},
          "execution_count": 60
        }
      ]
    },
    {
      "cell_type": "code",
      "source": [
        "x_test_final.head()"
      ],
      "metadata": {
        "colab": {
          "base_uri": "https://localhost:8080/",
          "height": 206
        },
        "id": "MKCtoH6qa8mo",
        "outputId": "22e78b3c-e53b-4c69-afbf-15f959fedab1"
      },
      "execution_count": 61,
      "outputs": [
        {
          "output_type": "execute_result",
          "data": {
            "text/plain": [
              "      fuel  seller_type  transmission  owner  km_driven       age\n",
              "1855     1            1             1      0  -0.091880 -0.017195\n",
              "2955     1            1             1      1   3.181415  1.383605\n",
              "2662     3            1             1      2  -0.920562  1.850538\n",
              "2232     3            1             1      2   1.047558  1.150138\n",
              "325      1            1             1      0  -0.816976 -1.417995"
            ],
            "text/html": [
              "\n",
              "  <div id=\"df-326d07cc-b60d-48c0-9a60-b8972e452a5a\">\n",
              "    <div class=\"colab-df-container\">\n",
              "      <div>\n",
              "<style scoped>\n",
              "    .dataframe tbody tr th:only-of-type {\n",
              "        vertical-align: middle;\n",
              "    }\n",
              "\n",
              "    .dataframe tbody tr th {\n",
              "        vertical-align: top;\n",
              "    }\n",
              "\n",
              "    .dataframe thead th {\n",
              "        text-align: right;\n",
              "    }\n",
              "</style>\n",
              "<table border=\"1\" class=\"dataframe\">\n",
              "  <thead>\n",
              "    <tr style=\"text-align: right;\">\n",
              "      <th></th>\n",
              "      <th>fuel</th>\n",
              "      <th>seller_type</th>\n",
              "      <th>transmission</th>\n",
              "      <th>owner</th>\n",
              "      <th>km_driven</th>\n",
              "      <th>age</th>\n",
              "    </tr>\n",
              "  </thead>\n",
              "  <tbody>\n",
              "    <tr>\n",
              "      <th>1855</th>\n",
              "      <td>1</td>\n",
              "      <td>1</td>\n",
              "      <td>1</td>\n",
              "      <td>0</td>\n",
              "      <td>-0.091880</td>\n",
              "      <td>-0.017195</td>\n",
              "    </tr>\n",
              "    <tr>\n",
              "      <th>2955</th>\n",
              "      <td>1</td>\n",
              "      <td>1</td>\n",
              "      <td>1</td>\n",
              "      <td>1</td>\n",
              "      <td>3.181415</td>\n",
              "      <td>1.383605</td>\n",
              "    </tr>\n",
              "    <tr>\n",
              "      <th>2662</th>\n",
              "      <td>3</td>\n",
              "      <td>1</td>\n",
              "      <td>1</td>\n",
              "      <td>2</td>\n",
              "      <td>-0.920562</td>\n",
              "      <td>1.850538</td>\n",
              "    </tr>\n",
              "    <tr>\n",
              "      <th>2232</th>\n",
              "      <td>3</td>\n",
              "      <td>1</td>\n",
              "      <td>1</td>\n",
              "      <td>2</td>\n",
              "      <td>1.047558</td>\n",
              "      <td>1.150138</td>\n",
              "    </tr>\n",
              "    <tr>\n",
              "      <th>325</th>\n",
              "      <td>1</td>\n",
              "      <td>1</td>\n",
              "      <td>1</td>\n",
              "      <td>0</td>\n",
              "      <td>-0.816976</td>\n",
              "      <td>-1.417995</td>\n",
              "    </tr>\n",
              "  </tbody>\n",
              "</table>\n",
              "</div>\n",
              "      <button class=\"colab-df-convert\" onclick=\"convertToInteractive('df-326d07cc-b60d-48c0-9a60-b8972e452a5a')\"\n",
              "              title=\"Convert this dataframe to an interactive table.\"\n",
              "              style=\"display:none;\">\n",
              "        \n",
              "  <svg xmlns=\"http://www.w3.org/2000/svg\" height=\"24px\"viewBox=\"0 0 24 24\"\n",
              "       width=\"24px\">\n",
              "    <path d=\"M0 0h24v24H0V0z\" fill=\"none\"/>\n",
              "    <path d=\"M18.56 5.44l.94 2.06.94-2.06 2.06-.94-2.06-.94-.94-2.06-.94 2.06-2.06.94zm-11 1L8.5 8.5l.94-2.06 2.06-.94-2.06-.94L8.5 2.5l-.94 2.06-2.06.94zm10 10l.94 2.06.94-2.06 2.06-.94-2.06-.94-.94-2.06-.94 2.06-2.06.94z\"/><path d=\"M17.41 7.96l-1.37-1.37c-.4-.4-.92-.59-1.43-.59-.52 0-1.04.2-1.43.59L10.3 9.45l-7.72 7.72c-.78.78-.78 2.05 0 2.83L4 21.41c.39.39.9.59 1.41.59.51 0 1.02-.2 1.41-.59l7.78-7.78 2.81-2.81c.8-.78.8-2.07 0-2.86zM5.41 20L4 18.59l7.72-7.72 1.47 1.35L5.41 20z\"/>\n",
              "  </svg>\n",
              "      </button>\n",
              "      \n",
              "  <style>\n",
              "    .colab-df-container {\n",
              "      display:flex;\n",
              "      flex-wrap:wrap;\n",
              "      gap: 12px;\n",
              "    }\n",
              "\n",
              "    .colab-df-convert {\n",
              "      background-color: #E8F0FE;\n",
              "      border: none;\n",
              "      border-radius: 50%;\n",
              "      cursor: pointer;\n",
              "      display: none;\n",
              "      fill: #1967D2;\n",
              "      height: 32px;\n",
              "      padding: 0 0 0 0;\n",
              "      width: 32px;\n",
              "    }\n",
              "\n",
              "    .colab-df-convert:hover {\n",
              "      background-color: #E2EBFA;\n",
              "      box-shadow: 0px 1px 2px rgba(60, 64, 67, 0.3), 0px 1px 3px 1px rgba(60, 64, 67, 0.15);\n",
              "      fill: #174EA6;\n",
              "    }\n",
              "\n",
              "    [theme=dark] .colab-df-convert {\n",
              "      background-color: #3B4455;\n",
              "      fill: #D2E3FC;\n",
              "    }\n",
              "\n",
              "    [theme=dark] .colab-df-convert:hover {\n",
              "      background-color: #434B5C;\n",
              "      box-shadow: 0px 1px 3px 1px rgba(0, 0, 0, 0.15);\n",
              "      filter: drop-shadow(0px 1px 2px rgba(0, 0, 0, 0.3));\n",
              "      fill: #FFFFFF;\n",
              "    }\n",
              "  </style>\n",
              "\n",
              "      <script>\n",
              "        const buttonEl =\n",
              "          document.querySelector('#df-326d07cc-b60d-48c0-9a60-b8972e452a5a button.colab-df-convert');\n",
              "        buttonEl.style.display =\n",
              "          google.colab.kernel.accessAllowed ? 'block' : 'none';\n",
              "\n",
              "        async function convertToInteractive(key) {\n",
              "          const element = document.querySelector('#df-326d07cc-b60d-48c0-9a60-b8972e452a5a');\n",
              "          const dataTable =\n",
              "            await google.colab.kernel.invokeFunction('convertToInteractive',\n",
              "                                                     [key], {});\n",
              "          if (!dataTable) return;\n",
              "\n",
              "          const docLinkHtml = 'Like what you see? Visit the ' +\n",
              "            '<a target=\"_blank\" href=https://colab.research.google.com/notebooks/data_table.ipynb>data table notebook</a>'\n",
              "            + ' to learn more about interactive tables.';\n",
              "          element.innerHTML = '';\n",
              "          dataTable['output_type'] = 'display_data';\n",
              "          await google.colab.output.renderOutput(dataTable, element);\n",
              "          const docLink = document.createElement('div');\n",
              "          docLink.innerHTML = docLinkHtml;\n",
              "          element.appendChild(docLink);\n",
              "        }\n",
              "      </script>\n",
              "    </div>\n",
              "  </div>\n",
              "  "
            ]
          },
          "metadata": {},
          "execution_count": 61
        }
      ]
    },
    {
      "cell_type": "markdown",
      "source": [
        "<a name = Section8></a>\n",
        "\n",
        "---\n",
        "# **8. Model Development & Evaluation**\n",
        "---\n",
        "\n",
        "- In this section, you will develop decision tree-based model.\n",
        "\n",
        "- Then **analyze the results** obtained and **make observations**.\n",
        "\n",
        "- For **evaluation purposes** we will **focus** on the **RMSE, R2 and Adjusted R2**.\n",
        "\n",
        "- **Remember** that we want to **generalize results** i.e. same results or error on testing data as that of training data.`"
      ],
      "metadata": {
        "id": "G2Ubof3MCecR"
      }
    },
    {
      "cell_type": "code",
      "source": [
        "y_train.plot.kde()"
      ],
      "metadata": {
        "colab": {
          "base_uri": "https://localhost:8080/",
          "height": 306
        },
        "id": "rMeaEuMFbDU0",
        "outputId": "91a98cd4-066d-47e8-f73b-ab223d1abb02"
      },
      "execution_count": 62,
      "outputs": [
        {
          "output_type": "execute_result",
          "data": {
            "text/plain": [
              "<matplotlib.axes._subplots.AxesSubplot at 0x7f6feadacc90>"
            ]
          },
          "metadata": {},
          "execution_count": 62
        },
        {
          "output_type": "display_data",
          "data": {
            "text/plain": [
              "<Figure size 432x288 with 1 Axes>"
            ],
            "image/png": "[encoded data removed]"
          },
          "metadata": {
            "needs_background": "light"
          }
        }
      ]
    },
    {
      "cell_type": "code",
      "source": [
        "tar_var_train = np.log(y_train)\n",
        "tar_var_test = np.log(y_test)"
      ],
      "metadata": {
        "id": "0vjZmr1ba1_f"
      },
      "execution_count": 63,
      "outputs": []
    },
    {
      "cell_type": "code",
      "source": [
        "tar_var_train.plot.kde()"
      ],
      "metadata": {
        "colab": {
          "base_uri": "https://localhost:8080/",
          "height": 283
        },
        "id": "O6HEn9XObPTQ",
        "outputId": "f194ba5a-3e7b-47dc-ce37-eebf7a2b9e17"
      },
      "execution_count": 64,
      "outputs": [
        {
          "output_type": "execute_result",
          "data": {
            "text/plain": [
              "<matplotlib.axes._subplots.AxesSubplot at 0x7f6fea8a0f10>"
            ]
          },
          "metadata": {},
          "execution_count": 64
        },
        {
          "output_type": "display_data",
          "data": {
            "text/plain": [
              "<Figure size 432x288 with 1 Axes>"
            ],
            "image/png": "[encoded data removed]"
          },
          "metadata": {
            "needs_background": "light"
          }
        }
      ]
    },
    {
      "cell_type": "markdown",
      "source": [
        "**Linear Regression**"
      ],
      "metadata": {
        "id": "MpnN2Uh4kp9A"
      }
    },
    {
      "cell_type": "code",
      "source": [
        "lr= LinearRegression()\n",
        "lr.fit(x_train_final, tar_var_train)"
      ],
      "metadata": {
        "colab": {
          "base_uri": "https://localhost:8080/"
        },
        "id": "e12O0Q7nbbie",
        "outputId": "e04381fe-9d91-45e4-bf98-6cb2eb76942c"
      },
      "execution_count": 66,
      "outputs": [
        {
          "output_type": "execute_result",
          "data": {
            "text/plain": [
              "LinearRegression()"
            ]
          },
          "metadata": {},
          "execution_count": 66
        }
      ]
    },
    {
      "cell_type": "code",
      "source": [
        "tar_var_train_predict= lr.predict(x_train_final)\n",
        "tar_var_test_predict= lr.predict(x_test_final)"
      ],
      "metadata": {
        "id": "HUKgSYvMbblO"
      },
      "execution_count": 67,
      "outputs": []
    },
    {
      "cell_type": "code",
      "source": [
        "print(\"intercept = \" , lr.intercept_)\n",
        "print(\"Coeficient = \" , lr.coef_)"
      ],
      "metadata": {
        "colab": {
          "base_uri": "https://localhost:8080/"
        },
        "id": "ljFL8tgpbbom",
        "outputId": "1abc7f31-1b8c-490d-b167-307780f09d6f"
      },
      "execution_count": 70,
      "outputs": [
        {
          "output_type": "stream",
          "name": "stdout",
          "text": [
            "intercept =  14.059194481815027\n",
            "Coeficient =  [-0.23165715 -0.13428675 -0.81262054 -0.02956552 -0.00964579 -0.49187238]\n"
          ]
        }
      ]
    },
    {
      "cell_type": "code",
      "source": [
        "fea_col =list(x_train_final.columns)\n",
        "# print(fea_col)\n",
        "fea_col.insert(0,'Intercept')\n",
        "coef = lr.coef_.tolist()\n",
        "coef.insert(0, lr.intercept_)\n",
        "# print(fea_col)\n",
        "# print(coef)\n",
        "\n",
        "eq1 = zip(fea_col, coef)\n",
        "\n",
        "for c1,c2 in eq1:\n",
        "    print(c1,\"=\" , c2)"
      ],
      "metadata": {
        "colab": {
          "base_uri": "https://localhost:8080/"
        },
        "id": "NpGEYu9Nc8Rk",
        "outputId": "e9be0f3a-e2bd-4b4d-b611-e3798e3e3741"
      },
      "execution_count": 85,
      "outputs": [
        {
          "output_type": "stream",
          "name": "stdout",
          "text": [
            "['Intercept', 'fuel', 'seller_type', 'transmission', 'owner', 'km_driven', 'age']\n",
            "[14.059194481815027, -0.23165715495495087, -0.13428675385053304, -0.8126205367539944, -0.029565516845617933, -0.00964579272590077, -0.4918723789616856]\n",
            "Intercept = 14.059194481815027\n",
            "fuel = -0.23165715495495087\n",
            "seller_type = -0.13428675385053304\n",
            "transmission = -0.8126205367539944\n",
            "owner = -0.029565516845617933\n",
            "km_driven = -0.00964579272590077\n",
            "age = -0.4918723789616856\n"
          ]
        }
      ]
    },
    {
      "cell_type": "code",
      "source": [
        "RMSE_train = np.sqrt(metrics.mean_squared_error(tar_var_train,tar_var_train_predict))\n",
        "print('RMSE for training set is {}'.format(RMSE_train))\n",
        "RMSE_test= np.sqrt(metrics.mean_squared_error(tar_var_test,tar_var_test_predict))\n",
        "print('RMSE for testing set is {}'.format(RMSE_test))"
      ],
      "metadata": {
        "colab": {
          "base_uri": "https://localhost:8080/"
        },
        "id": "uBVmcRJ9ew8q",
        "outputId": "12e867b1-a4ee-4b41-af0f-95f85c5f211b"
      },
      "execution_count": 86,
      "outputs": [
        {
          "output_type": "stream",
          "name": "stdout",
          "text": [
            "RMSE for training set is 0.4797087304352981\n",
            "RMSE for testing set is 0.4926566322430061\n"
          ]
        }
      ]
    },
    {
      "cell_type": "code",
      "source": [
        "MAE_train = metrics.mean_absolute_error(tar_var_train , tar_var_train_predict)\n",
        "MAE_test = metrics.mean_absolute_error(tar_var_test , tar_var_test_predict)\n",
        "print(\"MAE for training set is :{} \". format(MAE_train))\n",
        "print('MAE for test set is : {}' . format(MAE_test))"
      ],
      "metadata": {
        "colab": {
          "base_uri": "https://localhost:8080/"
        },
        "id": "4LeIRbadgy5R",
        "outputId": "677251c1-a0d6-47fa-ce79-60689cfa07a4"
      },
      "execution_count": 88,
      "outputs": [
        {
          "output_type": "stream",
          "name": "stdout",
          "text": [
            "MAE for training set is :0.37076745258640825 \n",
            "MAE for test set is : 0.3774960599182048\n"
          ]
        }
      ]
    },
    {
      "cell_type": "code",
      "source": [
        "r2_train = metrics.r2_score(tar_var_train, tar_var_train_predict)\n",
        "r2_test = metrics.r2_score(tar_var_test, tar_var_test_predict)\n",
        "print('R2 for training set is : {}'. format(r2_train))\n",
        "print('R2 for test set is : {}'. format(r2_test))"
      ],
      "metadata": {
        "colab": {
          "base_uri": "https://localhost:8080/"
        },
        "id": "ByD7RkFHgy8X",
        "outputId": "1f03851e-e263-497e-c7ac-cabbfa47b40d"
      },
      "execution_count": 89,
      "outputs": [
        {
          "output_type": "stream",
          "name": "stdout",
          "text": [
            "R2 for training set is : 0.6579293017973671\n",
            "R2 for test set is : 0.643556711226503\n"
          ]
        }
      ]
    },
    {
      "cell_type": "code",
      "source": [
        "adjr2_train = 1-(1-r2_train)*(len(tar_var_train)-1)/(len(tar_var_train)-x_train_final.shape[1]-1)   \n",
        "adjr2_test =1-(1-r2_test)*(len(tar_var_test)-1)/(len(tar_var_test)-x_test_final.shape[1]-1)\n",
        "print('Adjusted R2 for training set is : {}'. format(adjr2_train))\n",
        "print('Adjusted R2 for test set is : {}'. format(adjr2_test))"
      ],
      "metadata": {
        "colab": {
          "base_uri": "https://localhost:8080/"
        },
        "id": "lOohSLqqhWkI",
        "outputId": "e6b92169-11d2-444e-e20a-a2a4167ce9cb"
      },
      "execution_count": 90,
      "outputs": [
        {
          "output_type": "stream",
          "name": "stdout",
          "text": [
            "Adjusted R2 for training set is : 0.6571936658872539\n",
            "Adjusted R2 for test set is : 0.6404706221462131\n"
          ]
        }
      ]
    },
    {
      "cell_type": "markdown",
      "source": [
        "**Decision Tree Regressor**"
      ],
      "metadata": {
        "id": "puYRbbja5OEG"
      }
    },
    {
      "cell_type": "code",
      "source": [
        "from sklearn.tree import DecisionTreeRegressor\n",
        "dt = DecisionTreeRegressor(max_depth=4 , min_samples_split= 4)        # Intialize the model\n",
        "dt.fit(x_train_final, tar_var_train)                                  # Fit the data in model\n",
        "preds_dt_train = dt.predict(x_train_final)                            # Predict the train data\n",
        "preds_dt_test = dt.predict(x_test_final)                              # Predict the test data"
      ],
      "metadata": {
        "id": "-vTb_qORySc-"
      },
      "execution_count": 93,
      "outputs": []
    },
    {
      "cell_type": "code",
      "source": [
        "RMSE_train = np.sqrt(metrics.mean_squared_error(tar_var_train,preds_dt_train))\n",
        "print('RMSE for training set is {}'.format(RMSE_train))\n",
        "RMSE_test= np.sqrt(metrics.mean_squared_error(tar_var_test,preds_dt_test))\n",
        "print('RMSE for testing set is {}'.format(RMSE_test))"
      ],
      "metadata": {
        "colab": {
          "base_uri": "https://localhost:8080/"
        },
        "id": "bU-YueZvisrc",
        "outputId": "f41f2ac7-0265-468f-9bbc-7b1a80ca56a4"
      },
      "execution_count": 100,
      "outputs": [
        {
          "output_type": "stream",
          "name": "stdout",
          "text": [
            "RMSE for training set is 0.4823147062681265\n",
            "RMSE for testing set is 0.5168637982608024\n"
          ]
        }
      ]
    },
    {
      "cell_type": "code",
      "source": [
        "r2_train = metrics.r2_score(tar_var_train, preds_dt_train)\n",
        "r2_test = metrics.r2_score(tar_var_test, preds_dt_test)\n",
        "print('R2 for training set is : {}'. format(r2_train))\n",
        "print('R2 for test set is : {}'. format(r2_test))"
      ],
      "metadata": {
        "colab": {
          "base_uri": "https://localhost:8080/"
        },
        "id": "eGDbXcY8j6Qf",
        "outputId": "2efaf32f-d9d6-4a3b-e614-6151f0aaaab2"
      },
      "execution_count": 97,
      "outputs": [
        {
          "output_type": "stream",
          "name": "stdout",
          "text": [
            "R2 for training set is : 0.6542026684539444\n",
            "R2 for test set is : 0.6076677543290745\n"
          ]
        }
      ]
    },
    {
      "cell_type": "markdown",
      "source": [
        "<a name = Section9></a>\n",
        "\n",
        "---\n",
        "# **9. Conclusion**\n",
        "---"
      ],
      "metadata": {
        "id": "lKI0-Gf0Et6p"
      }
    },
    {
      "cell_type": "markdown",
      "source": [
        "- We **analyzed different features** and understood their nature and distribution.\n",
        "\n",
        "- We split the data in a **stratified** fashion and develop a Linear Regression model, Decision Tree Regressor model.\n",
        "\n",
        "- We observed that the **results** obtained by Linear Regression model better than DecisionTreeRegressor model."
      ],
      "metadata": {
        "id": "B_6amO6sEMAY"
      }
    }
  ]
}