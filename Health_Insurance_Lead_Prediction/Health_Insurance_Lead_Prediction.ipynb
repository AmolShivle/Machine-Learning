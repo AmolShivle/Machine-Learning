{
  "nbformat": 4,
  "nbformat_minor": 0,
  "metadata": {
    "kernelspec": {
      "display_name": "Python 3",
      "language": "python",
      "name": "python3"
    },
    "language_info": {
      "codemirror_mode": {
        "name": "ipython",
        "version": 3
      },
      "file_extension": ".py",
      "mimetype": "text/x-python",
      "name": "python",
      "nbconvert_exporter": "python",
      "pygments_lexer": "ipython3",
      "version": "3.6.5"
    },
    "colab": {
      "name": "Health_Insurance_Lead_Prediction.ipynb",
      "provenance": [],
      "collapsed_sections": []
    },
    "widgets": {
      "application/vnd.jupyter.widget-state+json": {
        "5a87ab7295db4327a5a6b326af6cc46e": {
          "model_module": "@jupyter-widgets/controls",
          "model_name": "HBoxModel",
          "state": {
            "_view_name": "HBoxView",
            "_dom_classes": [],
            "_model_name": "HBoxModel",
            "_view_module": "@jupyter-widgets/controls",
            "_model_module_version": "1.5.0",
            "_view_count": null,
            "_view_module_version": "1.5.0",
            "box_style": "",
            "layout": "IPY_MODEL_71f86d5d0da94a20ae119bb4fc3dfbc7",
            "_model_module": "@jupyter-widgets/controls",
            "children": [
              "IPY_MODEL_af9fb9708ac048daa36e9e51858b08d9",
              "IPY_MODEL_b65b9ed33a084af78da9fd62cc860374",
              "IPY_MODEL_1523669bb1294f1a86ed1dc89a8288dc"
            ]
          },
          "model_module_version": "1.5.0"
        },
        "71f86d5d0da94a20ae119bb4fc3dfbc7": {
          "model_module": "@jupyter-widgets/base",
          "model_name": "LayoutModel",
          "state": {
            "_view_name": "LayoutView",
            "grid_template_rows": null,
            "right": null,
            "justify_content": null,
            "_view_module": "@jupyter-widgets/base",
            "overflow": null,
            "_model_module_version": "1.2.0",
            "_view_count": null,
            "flex_flow": null,
            "width": null,
            "min_width": null,
            "border": null,
            "align_items": null,
            "bottom": null,
            "_model_module": "@jupyter-widgets/base",
            "top": null,
            "grid_column": null,
            "overflow_y": null,
            "overflow_x": null,
            "grid_auto_flow": null,
            "grid_area": null,
            "grid_template_columns": null,
            "flex": null,
            "_model_name": "LayoutModel",
            "justify_items": null,
            "grid_row": null,
            "max_height": null,
            "align_content": null,
            "visibility": null,
            "align_self": null,
            "height": null,
            "min_height": null,
            "padding": null,
            "grid_auto_rows": null,
            "grid_gap": null,
            "max_width": null,
            "order": null,
            "_view_module_version": "1.2.0",
            "grid_template_areas": null,
            "object_position": null,
            "object_fit": null,
            "grid_auto_columns": null,
            "margin": null,
            "display": null,
            "left": null
          },
          "model_module_version": "1.2.0"
        },
        "af9fb9708ac048daa36e9e51858b08d9": {
          "model_module": "@jupyter-widgets/controls",
          "model_name": "HTMLModel",
          "state": {
            "_view_name": "HTMLView",
            "style": "IPY_MODEL_eb41de226a354fd8b7330a80c63310d9",
            "_dom_classes": [],
            "description": "",
            "_model_name": "HTMLModel",
            "placeholder": "​",
            "_view_module": "@jupyter-widgets/controls",
            "_model_module_version": "1.5.0",
            "value": "Summarize dataset: 100%",
            "_view_count": null,
            "_view_module_version": "1.5.0",
            "description_tooltip": null,
            "_model_module": "@jupyter-widgets/controls",
            "layout": "IPY_MODEL_528cdcb7c85845b3a5f89e95f3e756bd"
          },
          "model_module_version": "1.5.0"
        },
        "b65b9ed33a084af78da9fd62cc860374": {
          "model_module": "@jupyter-widgets/controls",
          "model_name": "FloatProgressModel",
          "state": {
            "_view_name": "ProgressView",
            "style": "IPY_MODEL_a043b50204564e498a2d5f3deda239d4",
            "_dom_classes": [],
            "description": "",
            "_model_name": "FloatProgressModel",
            "bar_style": "success",
            "max": 26,
            "_view_module": "@jupyter-widgets/controls",
            "_model_module_version": "1.5.0",
            "value": 26,
            "_view_count": null,
            "_view_module_version": "1.5.0",
            "orientation": "horizontal",
            "min": 0,
            "description_tooltip": null,
            "_model_module": "@jupyter-widgets/controls",
            "layout": "IPY_MODEL_79366b6a42164ef6a0025ac0eee5f86a"
          },
          "model_module_version": "1.5.0"
        },
        "1523669bb1294f1a86ed1dc89a8288dc": {
          "model_module": "@jupyter-widgets/controls",
          "model_name": "HTMLModel",
          "state": {
            "_view_name": "HTMLView",
            "style": "IPY_MODEL_c0b50816768e4e72811ecbe61d937867",
            "_dom_classes": [],
            "description": "",
            "_model_name": "HTMLModel",
            "placeholder": "​",
            "_view_module": "@jupyter-widgets/controls",
            "_model_module_version": "1.5.0",
            "value": " 26/26 [00:08&lt;00:00,  3.11it/s, Completed]",
            "_view_count": null,
            "_view_module_version": "1.5.0",
            "description_tooltip": null,
            "_model_module": "@jupyter-widgets/controls",
            "layout": "IPY_MODEL_4dd59d993d304e499c348d794aabc42f"
          },
          "model_module_version": "1.5.0"
        },
        "eb41de226a354fd8b7330a80c63310d9": {
          "model_module": "@jupyter-widgets/controls",
          "model_name": "DescriptionStyleModel",
          "state": {
            "_view_name": "StyleView",
            "_model_name": "DescriptionStyleModel",
            "description_width": "",
            "_view_module": "@jupyter-widgets/base",
            "_model_module_version": "1.5.0",
            "_view_count": null,
            "_view_module_version": "1.2.0",
            "_model_module": "@jupyter-widgets/controls"
          },
          "model_module_version": "1.5.0"
        },
        "528cdcb7c85845b3a5f89e95f3e756bd": {
          "model_module": "@jupyter-widgets/base",
          "model_name": "LayoutModel",
          "state": {
            "_view_name": "LayoutView",
            "grid_template_rows": null,
            "right": null,
            "justify_content": null,
            "_view_module": "@jupyter-widgets/base",
            "overflow": null,
            "_model_module_version": "1.2.0",
            "_view_count": null,
            "flex_flow": null,
            "width": null,
            "min_width": null,
            "border": null,
            "align_items": null,
            "bottom": null,
            "_model_module": "@jupyter-widgets/base",
            "top": null,
            "grid_column": null,
            "overflow_y": null,
            "overflow_x": null,
            "grid_auto_flow": null,
            "grid_area": null,
            "grid_template_columns": null,
            "flex": null,
            "_model_name": "LayoutModel",
            "justify_items": null,
            "grid_row": null,
            "max_height": null,
            "align_content": null,
            "visibility": null,
            "align_self": null,
            "height": null,
            "min_height": null,
            "padding": null,
            "grid_auto_rows": null,
            "grid_gap": null,
            "max_width": null,
            "order": null,
            "_view_module_version": "1.2.0",
            "grid_template_areas": null,
            "object_position": null,
            "object_fit": null,
            "grid_auto_columns": null,
            "margin": null,
            "display": null,
            "left": null
          },
          "model_module_version": "1.2.0"
        },
        "a043b50204564e498a2d5f3deda239d4": {
          "model_module": "@jupyter-widgets/controls",
          "model_name": "ProgressStyleModel",
          "state": {
            "_view_name": "StyleView",
            "_model_name": "ProgressStyleModel",
            "description_width": "",
            "_view_module": "@jupyter-widgets/base",
            "_model_module_version": "1.5.0",
            "_view_count": null,
            "_view_module_version": "1.2.0",
            "bar_color": null,
            "_model_module": "@jupyter-widgets/controls"
          },
          "model_module_version": "1.5.0"
        },
        "79366b6a42164ef6a0025ac0eee5f86a": {
          "model_module": "@jupyter-widgets/base",
          "model_name": "LayoutModel",
          "state": {
            "_view_name": "LayoutView",
            "grid_template_rows": null,
            "right": null,
            "justify_content": null,
            "_view_module": "@jupyter-widgets/base",
            "overflow": null,
            "_model_module_version": "1.2.0",
            "_view_count": null,
            "flex_flow": null,
            "width": null,
            "min_width": null,
            "border": null,
            "align_items": null,
            "bottom": null,
            "_model_module": "@jupyter-widgets/base",
            "top": null,
            "grid_column": null,
            "overflow_y": null,
            "overflow_x": null,
            "grid_auto_flow": null,
            "grid_area": null,
            "grid_template_columns": null,
            "flex": null,
            "_model_name": "LayoutModel",
            "justify_items": null,
            "grid_row": null,
            "max_height": null,
            "align_content": null,
            "visibility": null,
            "align_self": null,
            "height": null,
            "min_height": null,
            "padding": null,
            "grid_auto_rows": null,
            "grid_gap": null,
            "max_width": null,
            "order": null,
            "_view_module_version": "1.2.0",
            "grid_template_areas": null,
            "object_position": null,
            "object_fit": null,
            "grid_auto_columns": null,
            "margin": null,
            "display": null,
            "left": null
          },
          "model_module_version": "1.2.0"
        },
        "c0b50816768e4e72811ecbe61d937867": {
          "model_module": "@jupyter-widgets/controls",
          "model_name": "DescriptionStyleModel",
          "state": {
            "_view_name": "StyleView",
            "_model_name": "DescriptionStyleModel",
            "description_width": "",
            "_view_module": "@jupyter-widgets/base",
            "_model_module_version": "1.5.0",
            "_view_count": null,
            "_view_module_version": "1.2.0",
            "_model_module": "@jupyter-widgets/controls"
          },
          "model_module_version": "1.5.0"
        },
        "4dd59d993d304e499c348d794aabc42f": {
          "model_module": "@jupyter-widgets/base",
          "model_name": "LayoutModel",
          "state": {
            "_view_name": "LayoutView",
            "grid_template_rows": null,
            "right": null,
            "justify_content": null,
            "_view_module": "@jupyter-widgets/base",
            "overflow": null,
            "_model_module_version": "1.2.0",
            "_view_count": null,
            "flex_flow": null,
            "width": null,
            "min_width": null,
            "border": null,
            "align_items": null,
            "bottom": null,
            "_model_module": "@jupyter-widgets/base",
            "top": null,
            "grid_column": null,
            "overflow_y": null,
            "overflow_x": null,
            "grid_auto_flow": null,
            "grid_area": null,
            "grid_template_columns": null,
            "flex": null,
            "_model_name": "LayoutModel",
            "justify_items": null,
            "grid_row": null,
            "max_height": null,
            "align_content": null,
            "visibility": null,
            "align_self": null,
            "height": null,
            "min_height": null,
            "padding": null,
            "grid_auto_rows": null,
            "grid_gap": null,
            "max_width": null,
            "order": null,
            "_view_module_version": "1.2.0",
            "grid_template_areas": null,
            "object_position": null,
            "object_fit": null,
            "grid_auto_columns": null,
            "margin": null,
            "display": null,
            "left": null
          },
          "model_module_version": "1.2.0"
        },
        "91bb6970724c425bad70b86fa7e2f4c9": {
          "model_module": "@jupyter-widgets/controls",
          "model_name": "HBoxModel",
          "state": {
            "_view_name": "HBoxView",
            "_dom_classes": [],
            "_model_name": "HBoxModel",
            "_view_module": "@jupyter-widgets/controls",
            "_model_module_version": "1.5.0",
            "_view_count": null,
            "_view_module_version": "1.5.0",
            "box_style": "",
            "layout": "IPY_MODEL_a9d883b8094c4d60aab9ea8a6715d908",
            "_model_module": "@jupyter-widgets/controls",
            "children": [
              "IPY_MODEL_371209fc71ac4a0cb9bdc36ac9c238a5",
              "IPY_MODEL_ea9629d338bd44c09e7645a3ac17544d",
              "IPY_MODEL_67580c83ac704025a7f7f960496a0300"
            ]
          },
          "model_module_version": "1.5.0"
        },
        "a9d883b8094c4d60aab9ea8a6715d908": {
          "model_module": "@jupyter-widgets/base",
          "model_name": "LayoutModel",
          "state": {
            "_view_name": "LayoutView",
            "grid_template_rows": null,
            "right": null,
            "justify_content": null,
            "_view_module": "@jupyter-widgets/base",
            "overflow": null,
            "_model_module_version": "1.2.0",
            "_view_count": null,
            "flex_flow": null,
            "width": null,
            "min_width": null,
            "border": null,
            "align_items": null,
            "bottom": null,
            "_model_module": "@jupyter-widgets/base",
            "top": null,
            "grid_column": null,
            "overflow_y": null,
            "overflow_x": null,
            "grid_auto_flow": null,
            "grid_area": null,
            "grid_template_columns": null,
            "flex": null,
            "_model_name": "LayoutModel",
            "justify_items": null,
            "grid_row": null,
            "max_height": null,
            "align_content": null,
            "visibility": null,
            "align_self": null,
            "height": null,
            "min_height": null,
            "padding": null,
            "grid_auto_rows": null,
            "grid_gap": null,
            "max_width": null,
            "order": null,
            "_view_module_version": "1.2.0",
            "grid_template_areas": null,
            "object_position": null,
            "object_fit": null,
            "grid_auto_columns": null,
            "margin": null,
            "display": null,
            "left": null
          },
          "model_module_version": "1.2.0"
        },
        "371209fc71ac4a0cb9bdc36ac9c238a5": {
          "model_module": "@jupyter-widgets/controls",
          "model_name": "HTMLModel",
          "state": {
            "_view_name": "HTMLView",
            "style": "IPY_MODEL_c474efb41991452a990d12d32df9ea02",
            "_dom_classes": [],
            "description": "",
            "_model_name": "HTMLModel",
            "placeholder": "​",
            "_view_module": "@jupyter-widgets/controls",
            "_model_module_version": "1.5.0",
            "value": "Generate report structure: 100%",
            "_view_count": null,
            "_view_module_version": "1.5.0",
            "description_tooltip": null,
            "_model_module": "@jupyter-widgets/controls",
            "layout": "IPY_MODEL_99f3dc1d74994276b69fea0f4ce32c70"
          },
          "model_module_version": "1.5.0"
        },
        "ea9629d338bd44c09e7645a3ac17544d": {
          "model_module": "@jupyter-widgets/controls",
          "model_name": "FloatProgressModel",
          "state": {
            "_view_name": "ProgressView",
            "style": "IPY_MODEL_20c063218bae4e02a23d1c37e924357b",
            "_dom_classes": [],
            "description": "",
            "_model_name": "FloatProgressModel",
            "bar_style": "success",
            "max": 1,
            "_view_module": "@jupyter-widgets/controls",
            "_model_module_version": "1.5.0",
            "value": 1,
            "_view_count": null,
            "_view_module_version": "1.5.0",
            "orientation": "horizontal",
            "min": 0,
            "description_tooltip": null,
            "_model_module": "@jupyter-widgets/controls",
            "layout": "IPY_MODEL_4873f36693c043d5863ed49ce7465373"
          },
          "model_module_version": "1.5.0"
        },
        "67580c83ac704025a7f7f960496a0300": {
          "model_module": "@jupyter-widgets/controls",
          "model_name": "HTMLModel",
          "state": {
            "_view_name": "HTMLView",
            "style": "IPY_MODEL_126d080a58d74468b2f2117b4be6649b",
            "_dom_classes": [],
            "description": "",
            "_model_name": "HTMLModel",
            "placeholder": "​",
            "_view_module": "@jupyter-widgets/controls",
            "_model_module_version": "1.5.0",
            "value": " 1/1 [00:08&lt;00:00,  8.38s/it]",
            "_view_count": null,
            "_view_module_version": "1.5.0",
            "description_tooltip": null,
            "_model_module": "@jupyter-widgets/controls",
            "layout": "IPY_MODEL_1601c38151a94969be4a1a7f04e6d9bf"
          },
          "model_module_version": "1.5.0"
        },
        "c474efb41991452a990d12d32df9ea02": {
          "model_module": "@jupyter-widgets/controls",
          "model_name": "DescriptionStyleModel",
          "state": {
            "_view_name": "StyleView",
            "_model_name": "DescriptionStyleModel",
            "description_width": "",
            "_view_module": "@jupyter-widgets/base",
            "_model_module_version": "1.5.0",
            "_view_count": null,
            "_view_module_version": "1.2.0",
            "_model_module": "@jupyter-widgets/controls"
          },
          "model_module_version": "1.5.0"
        },
        "99f3dc1d74994276b69fea0f4ce32c70": {
          "model_module": "@jupyter-widgets/base",
          "model_name": "LayoutModel",
          "state": {
            "_view_name": "LayoutView",
            "grid_template_rows": null,
            "right": null,
            "justify_content": null,
            "_view_module": "@jupyter-widgets/base",
            "overflow": null,
            "_model_module_version": "1.2.0",
            "_view_count": null,
            "flex_flow": null,
            "width": null,
            "min_width": null,
            "border": null,
            "align_items": null,
            "bottom": null,
            "_model_module": "@jupyter-widgets/base",
            "top": null,
            "grid_column": null,
            "overflow_y": null,
            "overflow_x": null,
            "grid_auto_flow": null,
            "grid_area": null,
            "grid_template_columns": null,
            "flex": null,
            "_model_name": "LayoutModel",
            "justify_items": null,
            "grid_row": null,
            "max_height": null,
            "align_content": null,
            "visibility": null,
            "align_self": null,
            "height": null,
            "min_height": null,
            "padding": null,
            "grid_auto_rows": null,
            "grid_gap": null,
            "max_width": null,
            "order": null,
            "_view_module_version": "1.2.0",
            "grid_template_areas": null,
            "object_position": null,
            "object_fit": null,
            "grid_auto_columns": null,
            "margin": null,
            "display": null,
            "left": null
          },
          "model_module_version": "1.2.0"
        },
        "20c063218bae4e02a23d1c37e924357b": {
          "model_module": "@jupyter-widgets/controls",
          "model_name": "ProgressStyleModel",
          "state": {
            "_view_name": "StyleView",
            "_model_name": "ProgressStyleModel",
            "description_width": "",
            "_view_module": "@jupyter-widgets/base",
            "_model_module_version": "1.5.0",
            "_view_count": null,
            "_view_module_version": "1.2.0",
            "bar_color": null,
            "_model_module": "@jupyter-widgets/controls"
          },
          "model_module_version": "1.5.0"
        },
        "4873f36693c043d5863ed49ce7465373": {
          "model_module": "@jupyter-widgets/base",
          "model_name": "LayoutModel",
          "state": {
            "_view_name": "LayoutView",
            "grid_template_rows": null,
            "right": null,
            "justify_content": null,
            "_view_module": "@jupyter-widgets/base",
            "overflow": null,
            "_model_module_version": "1.2.0",
            "_view_count": null,
            "flex_flow": null,
            "width": null,
            "min_width": null,
            "border": null,
            "align_items": null,
            "bottom": null,
            "_model_module": "@jupyter-widgets/base",
            "top": null,
            "grid_column": null,
            "overflow_y": null,
            "overflow_x": null,
            "grid_auto_flow": null,
            "grid_area": null,
            "grid_template_columns": null,
            "flex": null,
            "_model_name": "LayoutModel",
            "justify_items": null,
            "grid_row": null,
            "max_height": null,
            "align_content": null,
            "visibility": null,
            "align_self": null,
            "height": null,
            "min_height": null,
            "padding": null,
            "grid_auto_rows": null,
            "grid_gap": null,
            "max_width": null,
            "order": null,
            "_view_module_version": "1.2.0",
            "grid_template_areas": null,
            "object_position": null,
            "object_fit": null,
            "grid_auto_columns": null,
            "margin": null,
            "display": null,
            "left": null
          },
          "model_module_version": "1.2.0"
        },
        "126d080a58d74468b2f2117b4be6649b": {
          "model_module": "@jupyter-widgets/controls",
          "model_name": "DescriptionStyleModel",
          "state": {
            "_view_name": "StyleView",
            "_model_name": "DescriptionStyleModel",
            "description_width": "",
            "_view_module": "@jupyter-widgets/base",
            "_model_module_version": "1.5.0",
            "_view_count": null,
            "_view_module_version": "1.2.0",
            "_model_module": "@jupyter-widgets/controls"
          },
          "model_module_version": "1.5.0"
        },
        "1601c38151a94969be4a1a7f04e6d9bf": {
          "model_module": "@jupyter-widgets/base",
          "model_name": "LayoutModel",
          "state": {
            "_view_name": "LayoutView",
            "grid_template_rows": null,
            "right": null,
            "justify_content": null,
            "_view_module": "@jupyter-widgets/base",
            "overflow": null,
            "_model_module_version": "1.2.0",
            "_view_count": null,
            "flex_flow": null,
            "width": null,
            "min_width": null,
            "border": null,
            "align_items": null,
            "bottom": null,
            "_model_module": "@jupyter-widgets/base",
            "top": null,
            "grid_column": null,
            "overflow_y": null,
            "overflow_x": null,
            "grid_auto_flow": null,
            "grid_area": null,
            "grid_template_columns": null,
            "flex": null,
            "_model_name": "LayoutModel",
            "justify_items": null,
            "grid_row": null,
            "max_height": null,
            "align_content": null,
            "visibility": null,
            "align_self": null,
            "height": null,
            "min_height": null,
            "padding": null,
            "grid_auto_rows": null,
            "grid_gap": null,
            "max_width": null,
            "order": null,
            "_view_module_version": "1.2.0",
            "grid_template_areas": null,
            "object_position": null,
            "object_fit": null,
            "grid_auto_columns": null,
            "margin": null,
            "display": null,
            "left": null
          },
          "model_module_version": "1.2.0"
        },
        "fca5381ec51442ff895124c6317d306f": {
          "model_module": "@jupyter-widgets/controls",
          "model_name": "HBoxModel",
          "state": {
            "_view_name": "HBoxView",
            "_dom_classes": [],
            "_model_name": "HBoxModel",
            "_view_module": "@jupyter-widgets/controls",
            "_model_module_version": "1.5.0",
            "_view_count": null,
            "_view_module_version": "1.5.0",
            "box_style": "",
            "layout": "IPY_MODEL_ffa7f7c83c78477fbbd5aeaec2d7ca03",
            "_model_module": "@jupyter-widgets/controls",
            "children": [
              "IPY_MODEL_9207967fad264ecaa66197d85976a72c",
              "IPY_MODEL_4f2851ce486a4ca0a25a01a6c1305812",
              "IPY_MODEL_0dcf299edcd341e7b9421412f4f0d027"
            ]
          },
          "model_module_version": "1.5.0"
        },
        "ffa7f7c83c78477fbbd5aeaec2d7ca03": {
          "model_module": "@jupyter-widgets/base",
          "model_name": "LayoutModel",
          "state": {
            "_view_name": "LayoutView",
            "grid_template_rows": null,
            "right": null,
            "justify_content": null,
            "_view_module": "@jupyter-widgets/base",
            "overflow": null,
            "_model_module_version": "1.2.0",
            "_view_count": null,
            "flex_flow": null,
            "width": null,
            "min_width": null,
            "border": null,
            "align_items": null,
            "bottom": null,
            "_model_module": "@jupyter-widgets/base",
            "top": null,
            "grid_column": null,
            "overflow_y": null,
            "overflow_x": null,
            "grid_auto_flow": null,
            "grid_area": null,
            "grid_template_columns": null,
            "flex": null,
            "_model_name": "LayoutModel",
            "justify_items": null,
            "grid_row": null,
            "max_height": null,
            "align_content": null,
            "visibility": null,
            "align_self": null,
            "height": null,
            "min_height": null,
            "padding": null,
            "grid_auto_rows": null,
            "grid_gap": null,
            "max_width": null,
            "order": null,
            "_view_module_version": "1.2.0",
            "grid_template_areas": null,
            "object_position": null,
            "object_fit": null,
            "grid_auto_columns": null,
            "margin": null,
            "display": null,
            "left": null
          },
          "model_module_version": "1.2.0"
        },
        "9207967fad264ecaa66197d85976a72c": {
          "model_module": "@jupyter-widgets/controls",
          "model_name": "HTMLModel",
          "state": {
            "_view_name": "HTMLView",
            "style": "IPY_MODEL_4d33da54f0ed40059ee3a2ee41f778bf",
            "_dom_classes": [],
            "description": "",
            "_model_name": "HTMLModel",
            "placeholder": "​",
            "_view_module": "@jupyter-widgets/controls",
            "_model_module_version": "1.5.0",
            "value": "Render HTML: 100%",
            "_view_count": null,
            "_view_module_version": "1.5.0",
            "description_tooltip": null,
            "_model_module": "@jupyter-widgets/controls",
            "layout": "IPY_MODEL_f4e67f26c49f4dc0a58c5157ee20d8a5"
          },
          "model_module_version": "1.5.0"
        },
        "4f2851ce486a4ca0a25a01a6c1305812": {
          "model_module": "@jupyter-widgets/controls",
          "model_name": "FloatProgressModel",
          "state": {
            "_view_name": "ProgressView",
            "style": "IPY_MODEL_30dd66dbd7fd4b778b86ec10bddf40b6",
            "_dom_classes": [],
            "description": "",
            "_model_name": "FloatProgressModel",
            "bar_style": "success",
            "max": 1,
            "_view_module": "@jupyter-widgets/controls",
            "_model_module_version": "1.5.0",
            "value": 1,
            "_view_count": null,
            "_view_module_version": "1.5.0",
            "orientation": "horizontal",
            "min": 0,
            "description_tooltip": null,
            "_model_module": "@jupyter-widgets/controls",
            "layout": "IPY_MODEL_ac8040229f794a188789f05b0bebe7e4"
          },
          "model_module_version": "1.5.0"
        },
        "0dcf299edcd341e7b9421412f4f0d027": {
          "model_module": "@jupyter-widgets/controls",
          "model_name": "HTMLModel",
          "state": {
            "_view_name": "HTMLView",
            "style": "IPY_MODEL_1f1bd44f4b9f4cddb641e5c4a711b871",
            "_dom_classes": [],
            "description": "",
            "_model_name": "HTMLModel",
            "placeholder": "​",
            "_view_module": "@jupyter-widgets/controls",
            "_model_module_version": "1.5.0",
            "value": " 1/1 [00:01&lt;00:00,  1.77s/it]",
            "_view_count": null,
            "_view_module_version": "1.5.0",
            "description_tooltip": null,
            "_model_module": "@jupyter-widgets/controls",
            "layout": "IPY_MODEL_58b91e54bfa74a13a40212daf0907040"
          },
          "model_module_version": "1.5.0"
        },
        "4d33da54f0ed40059ee3a2ee41f778bf": {
          "model_module": "@jupyter-widgets/controls",
          "model_name": "DescriptionStyleModel",
          "state": {
            "_view_name": "StyleView",
            "_model_name": "DescriptionStyleModel",
            "description_width": "",
            "_view_module": "@jupyter-widgets/base",
            "_model_module_version": "1.5.0",
            "_view_count": null,
            "_view_module_version": "1.2.0",
            "_model_module": "@jupyter-widgets/controls"
          },
          "model_module_version": "1.5.0"
        },
        "f4e67f26c49f4dc0a58c5157ee20d8a5": {
          "model_module": "@jupyter-widgets/base",
          "model_name": "LayoutModel",
          "state": {
            "_view_name": "LayoutView",
            "grid_template_rows": null,
            "right": null,
            "justify_content": null,
            "_view_module": "@jupyter-widgets/base",
            "overflow": null,
            "_model_module_version": "1.2.0",
            "_view_count": null,
            "flex_flow": null,
            "width": null,
            "min_width": null,
            "border": null,
            "align_items": null,
            "bottom": null,
            "_model_module": "@jupyter-widgets/base",
            "top": null,
            "grid_column": null,
            "overflow_y": null,
            "overflow_x": null,
            "grid_auto_flow": null,
            "grid_area": null,
            "grid_template_columns": null,
            "flex": null,
            "_model_name": "LayoutModel",
            "justify_items": null,
            "grid_row": null,
            "max_height": null,
            "align_content": null,
            "visibility": null,
            "align_self": null,
            "height": null,
            "min_height": null,
            "padding": null,
            "grid_auto_rows": null,
            "grid_gap": null,
            "max_width": null,
            "order": null,
            "_view_module_version": "1.2.0",
            "grid_template_areas": null,
            "object_position": null,
            "object_fit": null,
            "grid_auto_columns": null,
            "margin": null,
            "display": null,
            "left": null
          },
          "model_module_version": "1.2.0"
        },
        "30dd66dbd7fd4b778b86ec10bddf40b6": {
          "model_module": "@jupyter-widgets/controls",
          "model_name": "ProgressStyleModel",
          "state": {
            "_view_name": "StyleView",
            "_model_name": "ProgressStyleModel",
            "description_width": "",
            "_view_module": "@jupyter-widgets/base",
            "_model_module_version": "1.5.0",
            "_view_count": null,
            "_view_module_version": "1.2.0",
            "bar_color": null,
            "_model_module": "@jupyter-widgets/controls"
          },
          "model_module_version": "1.5.0"
        },
        "ac8040229f794a188789f05b0bebe7e4": {
          "model_module": "@jupyter-widgets/base",
          "model_name": "LayoutModel",
          "state": {
            "_view_name": "LayoutView",
            "grid_template_rows": null,
            "right": null,
            "justify_content": null,
            "_view_module": "@jupyter-widgets/base",
            "overflow": null,
            "_model_module_version": "1.2.0",
            "_view_count": null,
            "flex_flow": null,
            "width": null,
            "min_width": null,
            "border": null,
            "align_items": null,
            "bottom": null,
            "_model_module": "@jupyter-widgets/base",
            "top": null,
            "grid_column": null,
            "overflow_y": null,
            "overflow_x": null,
            "grid_auto_flow": null,
            "grid_area": null,
            "grid_template_columns": null,
            "flex": null,
            "_model_name": "LayoutModel",
            "justify_items": null,
            "grid_row": null,
            "max_height": null,
            "align_content": null,
            "visibility": null,
            "align_self": null,
            "height": null,
            "min_height": null,
            "padding": null,
            "grid_auto_rows": null,
            "grid_gap": null,
            "max_width": null,
            "order": null,
            "_view_module_version": "1.2.0",
            "grid_template_areas": null,
            "object_position": null,
            "object_fit": null,
            "grid_auto_columns": null,
            "margin": null,
            "display": null,
            "left": null
          },
          "model_module_version": "1.2.0"
        },
        "1f1bd44f4b9f4cddb641e5c4a711b871": {
          "model_module": "@jupyter-widgets/controls",
          "model_name": "DescriptionStyleModel",
          "state": {
            "_view_name": "StyleView",
            "_model_name": "DescriptionStyleModel",
            "description_width": "",
            "_view_module": "@jupyter-widgets/base",
            "_model_module_version": "1.5.0",
            "_view_count": null,
            "_view_module_version": "1.2.0",
            "_model_module": "@jupyter-widgets/controls"
          },
          "model_module_version": "1.5.0"
        },
        "58b91e54bfa74a13a40212daf0907040": {
          "model_module": "@jupyter-widgets/base",
          "model_name": "LayoutModel",
          "state": {
            "_view_name": "LayoutView",
            "grid_template_rows": null,
            "right": null,
            "justify_content": null,
            "_view_module": "@jupyter-widgets/base",
            "overflow": null,
            "_model_module_version": "1.2.0",
            "_view_count": null,
            "flex_flow": null,
            "width": null,
            "min_width": null,
            "border": null,
            "align_items": null,
            "bottom": null,
            "_model_module": "@jupyter-widgets/base",
            "top": null,
            "grid_column": null,
            "overflow_y": null,
            "overflow_x": null,
            "grid_auto_flow": null,
            "grid_area": null,
            "grid_template_columns": null,
            "flex": null,
            "_model_name": "LayoutModel",
            "justify_items": null,
            "grid_row": null,
            "max_height": null,
            "align_content": null,
            "visibility": null,
            "align_self": null,
            "height": null,
            "min_height": null,
            "padding": null,
            "grid_auto_rows": null,
            "grid_gap": null,
            "max_width": null,
            "order": null,
            "_view_module_version": "1.2.0",
            "grid_template_areas": null,
            "object_position": null,
            "object_fit": null,
            "grid_auto_columns": null,
            "margin": null,
            "display": null,
            "left": null
          },
          "model_module_version": "1.2.0"
        },
        "c7b0801571bd438ab42290e093e8a01c": {
          "model_module": "@jupyter-widgets/controls",
          "model_name": "HBoxModel",
          "state": {
            "_view_name": "HBoxView",
            "_dom_classes": [],
            "_model_name": "HBoxModel",
            "_view_module": "@jupyter-widgets/controls",
            "_model_module_version": "1.5.0",
            "_view_count": null,
            "_view_module_version": "1.5.0",
            "box_style": "",
            "layout": "IPY_MODEL_46f9cda2d52d487db73c5e63ac2e196d",
            "_model_module": "@jupyter-widgets/controls",
            "children": [
              "IPY_MODEL_dd7a696a56634a329779586f6d1fd64c",
              "IPY_MODEL_04f4c7914d3a4c8fb22c8bf3c1af504a",
              "IPY_MODEL_265e2a73487f4d7bb0e0c5e91d4ac2f0"
            ]
          },
          "model_module_version": "1.5.0"
        },
        "46f9cda2d52d487db73c5e63ac2e196d": {
          "model_module": "@jupyter-widgets/base",
          "model_name": "LayoutModel",
          "state": {
            "_view_name": "LayoutView",
            "grid_template_rows": null,
            "right": null,
            "justify_content": null,
            "_view_module": "@jupyter-widgets/base",
            "overflow": null,
            "_model_module_version": "1.2.0",
            "_view_count": null,
            "flex_flow": null,
            "width": null,
            "min_width": null,
            "border": null,
            "align_items": null,
            "bottom": null,
            "_model_module": "@jupyter-widgets/base",
            "top": null,
            "grid_column": null,
            "overflow_y": null,
            "overflow_x": null,
            "grid_auto_flow": null,
            "grid_area": null,
            "grid_template_columns": null,
            "flex": null,
            "_model_name": "LayoutModel",
            "justify_items": null,
            "grid_row": null,
            "max_height": null,
            "align_content": null,
            "visibility": null,
            "align_self": null,
            "height": null,
            "min_height": null,
            "padding": null,
            "grid_auto_rows": null,
            "grid_gap": null,
            "max_width": null,
            "order": null,
            "_view_module_version": "1.2.0",
            "grid_template_areas": null,
            "object_position": null,
            "object_fit": null,
            "grid_auto_columns": null,
            "margin": null,
            "display": null,
            "left": null
          },
          "model_module_version": "1.2.0"
        },
        "dd7a696a56634a329779586f6d1fd64c": {
          "model_module": "@jupyter-widgets/controls",
          "model_name": "HTMLModel",
          "state": {
            "_view_name": "HTMLView",
            "style": "IPY_MODEL_10b66261baad460b984c74204d1456ba",
            "_dom_classes": [],
            "description": "",
            "_model_name": "HTMLModel",
            "placeholder": "​",
            "_view_module": "@jupyter-widgets/controls",
            "_model_module_version": "1.5.0",
            "value": "Export report to file: 100%",
            "_view_count": null,
            "_view_module_version": "1.5.0",
            "description_tooltip": null,
            "_model_module": "@jupyter-widgets/controls",
            "layout": "IPY_MODEL_747556df4033438ba74123fa53dae24c"
          },
          "model_module_version": "1.5.0"
        },
        "04f4c7914d3a4c8fb22c8bf3c1af504a": {
          "model_module": "@jupyter-widgets/controls",
          "model_name": "FloatProgressModel",
          "state": {
            "_view_name": "ProgressView",
            "style": "IPY_MODEL_d28ae2a5a8e143af921a6ebd30e3b468",
            "_dom_classes": [],
            "description": "",
            "_model_name": "FloatProgressModel",
            "bar_style": "success",
            "max": 1,
            "_view_module": "@jupyter-widgets/controls",
            "_model_module_version": "1.5.0",
            "value": 1,
            "_view_count": null,
            "_view_module_version": "1.5.0",
            "orientation": "horizontal",
            "min": 0,
            "description_tooltip": null,
            "_model_module": "@jupyter-widgets/controls",
            "layout": "IPY_MODEL_9b653f929fa84d40b02547f576220690"
          },
          "model_module_version": "1.5.0"
        },
        "265e2a73487f4d7bb0e0c5e91d4ac2f0": {
          "model_module": "@jupyter-widgets/controls",
          "model_name": "HTMLModel",
          "state": {
            "_view_name": "HTMLView",
            "style": "IPY_MODEL_c90cd5626e7e4d68b243b69e423f42da",
            "_dom_classes": [],
            "description": "",
            "_model_name": "HTMLModel",
            "placeholder": "​",
            "_view_module": "@jupyter-widgets/controls",
            "_model_module_version": "1.5.0",
            "value": " 1/1 [00:00&lt;00:00, 16.21it/s]",
            "_view_count": null,
            "_view_module_version": "1.5.0",
            "description_tooltip": null,
            "_model_module": "@jupyter-widgets/controls",
            "layout": "IPY_MODEL_2e068cb8e9184704acf5c33687edf068"
          },
          "model_module_version": "1.5.0"
        },
        "10b66261baad460b984c74204d1456ba": {
          "model_module": "@jupyter-widgets/controls",
          "model_name": "DescriptionStyleModel",
          "state": {
            "_view_name": "StyleView",
            "_model_name": "DescriptionStyleModel",
            "description_width": "",
            "_view_module": "@jupyter-widgets/base",
            "_model_module_version": "1.5.0",
            "_view_count": null,
            "_view_module_version": "1.2.0",
            "_model_module": "@jupyter-widgets/controls"
          },
          "model_module_version": "1.5.0"
        },
        "747556df4033438ba74123fa53dae24c": {
          "model_module": "@jupyter-widgets/base",
          "model_name": "LayoutModel",
          "state": {
            "_view_name": "LayoutView",
            "grid_template_rows": null,
            "right": null,
            "justify_content": null,
            "_view_module": "@jupyter-widgets/base",
            "overflow": null,
            "_model_module_version": "1.2.0",
            "_view_count": null,
            "flex_flow": null,
            "width": null,
            "min_width": null,
            "border": null,
            "align_items": null,
            "bottom": null,
            "_model_module": "@jupyter-widgets/base",
            "top": null,
            "grid_column": null,
            "overflow_y": null,
            "overflow_x": null,
            "grid_auto_flow": null,
            "grid_area": null,
            "grid_template_columns": null,
            "flex": null,
            "_model_name": "LayoutModel",
            "justify_items": null,
            "grid_row": null,
            "max_height": null,
            "align_content": null,
            "visibility": null,
            "align_self": null,
            "height": null,
            "min_height": null,
            "padding": null,
            "grid_auto_rows": null,
            "grid_gap": null,
            "max_width": null,
            "order": null,
            "_view_module_version": "1.2.0",
            "grid_template_areas": null,
            "object_position": null,
            "object_fit": null,
            "grid_auto_columns": null,
            "margin": null,
            "display": null,
            "left": null
          },
          "model_module_version": "1.2.0"
        },
        "d28ae2a5a8e143af921a6ebd30e3b468": {
          "model_module": "@jupyter-widgets/controls",
          "model_name": "ProgressStyleModel",
          "state": {
            "_view_name": "StyleView",
            "_model_name": "ProgressStyleModel",
            "description_width": "",
            "_view_module": "@jupyter-widgets/base",
            "_model_module_version": "1.5.0",
            "_view_count": null,
            "_view_module_version": "1.2.0",
            "bar_color": null,
            "_model_module": "@jupyter-widgets/controls"
          },
          "model_module_version": "1.5.0"
        },
        "9b653f929fa84d40b02547f576220690": {
          "model_module": "@jupyter-widgets/base",
          "model_name": "LayoutModel",
          "state": {
            "_view_name": "LayoutView",
            "grid_template_rows": null,
            "right": null,
            "justify_content": null,
            "_view_module": "@jupyter-widgets/base",
            "overflow": null,
            "_model_module_version": "1.2.0",
            "_view_count": null,
            "flex_flow": null,
            "width": null,
            "min_width": null,
            "border": null,
            "align_items": null,
            "bottom": null,
            "_model_module": "@jupyter-widgets/base",
            "top": null,
            "grid_column": null,
            "overflow_y": null,
            "overflow_x": null,
            "grid_auto_flow": null,
            "grid_area": null,
            "grid_template_columns": null,
            "flex": null,
            "_model_name": "LayoutModel",
            "justify_items": null,
            "grid_row": null,
            "max_height": null,
            "align_content": null,
            "visibility": null,
            "align_self": null,
            "height": null,
            "min_height": null,
            "padding": null,
            "grid_auto_rows": null,
            "grid_gap": null,
            "max_width": null,
            "order": null,
            "_view_module_version": "1.2.0",
            "grid_template_areas": null,
            "object_position": null,
            "object_fit": null,
            "grid_auto_columns": null,
            "margin": null,
            "display": null,
            "left": null
          },
          "model_module_version": "1.2.0"
        },
        "c90cd5626e7e4d68b243b69e423f42da": {
          "model_module": "@jupyter-widgets/controls",
          "model_name": "DescriptionStyleModel",
          "state": {
            "_view_name": "StyleView",
            "_model_name": "DescriptionStyleModel",
            "description_width": "",
            "_view_module": "@jupyter-widgets/base",
            "_model_module_version": "1.5.0",
            "_view_count": null,
            "_view_module_version": "1.2.0",
            "_model_module": "@jupyter-widgets/controls"
          },
          "model_module_version": "1.5.0"
        },
        "2e068cb8e9184704acf5c33687edf068": {
          "model_module": "@jupyter-widgets/base",
          "model_name": "LayoutModel",
          "state": {
            "_view_name": "LayoutView",
            "grid_template_rows": null,
            "right": null,
            "justify_content": null,
            "_view_module": "@jupyter-widgets/base",
            "overflow": null,
            "_model_module_version": "1.2.0",
            "_view_count": null,
            "flex_flow": null,
            "width": null,
            "min_width": null,
            "border": null,
            "align_items": null,
            "bottom": null,
            "_model_module": "@jupyter-widgets/base",
            "top": null,
            "grid_column": null,
            "overflow_y": null,
            "overflow_x": null,
            "grid_auto_flow": null,
            "grid_area": null,
            "grid_template_columns": null,
            "flex": null,
            "_model_name": "LayoutModel",
            "justify_items": null,
            "grid_row": null,
            "max_height": null,
            "align_content": null,
            "visibility": null,
            "align_self": null,
            "height": null,
            "min_height": null,
            "padding": null,
            "grid_auto_rows": null,
            "grid_gap": null,
            "max_width": null,
            "order": null,
            "_view_module_version": "1.2.0",
            "grid_template_areas": null,
            "object_position": null,
            "object_fit": null,
            "grid_auto_columns": null,
            "margin": null,
            "display": null,
            "left": null
          },
          "model_module_version": "1.2.0"
        }
      }
    }
  },
  "cells": [
    {
      "cell_type": "markdown",
      "metadata": {
        "id": "i5mrcNh2jkEg"
      },
      "source": [
        "# **Logistic Regression on Health Insurance Lead  Prediction**"
      ]
    },
    {
      "cell_type": "markdown",
      "metadata": {
        "id": "BFcby5v51ix4"
      },
      "source": [
        "---\n",
        "# **Table of Contents**\n",
        "---\n",
        "\n",
        "**1.** [**Introduction**](#Section1)<br>\n",
        "**2.** [**Problem Statement**](#Section2)<br>\n",
        "**3.** [**Installing & Importing Libraries**](#Section3)<br>\n",
        "  - **3.1** [**Installing Libraries**](#Section31)\n",
        "  - **3.2** [**Upgrading Libraries**](#Section32)\n",
        "  - **3.3** [**Importing Libraries**](#Section33)\n",
        "\n",
        "**4.** [**Data Acquisition & Description**](#Section4)<br>\n",
        "  - **4.1** [**Data Information**](#Section41)\n",
        "  - **4.2** [**Data Statistics**](#Section42)\n",
        "\n",
        "**5.** [**Data Pre-processing**](#Section5)<br>\n",
        "  - **5.1** [**Pre-Profiling Report**](#Section51)\n",
        "  - **5.2** [**Identification & Handling of Missing Data**](#Section52)<br>\n",
        "\n",
        "**6.** [**Exploratory Data Analysis**](#Section6)<br>\n",
        "\n",
        "**7.** [**Post Data Processing & Feature Selection**](#Section7)<br>\n",
        "  - **7.1** [**Feature Selection**](#Section71)<br>\n",
        "  - **7.2** [**Post Profiling Report**](#Section72)<br>\n",
        "  - **7.3** [**Encoding the Categorical Data**](#Section73)<br>\n",
        "  - **7.4** [**Data Preparation**](#Section74)<br>\n",
        "\n",
        "**8.** [**Model Development & Evaluation**](#Section8)<br>\n",
        "  - **8.1** [**Logistic Regression/Decision Tree - Baseline Model**](#Section81)<br>\n",
        "  - **8.2** [**Using Trained Model for Prediction**](#Section82)<br>\n",
        "  - **8.3** [**Logistic Regression/Decision Tree - Model Evaluation**](#Section83)<br>\n",
        "\n",
        "**9.** [**Conclusion**](#Section9)<br>\n",
        "\n"
      ]
    },
    {
      "cell_type": "markdown",
      "metadata": {
        "id": "XU2bTTAjjkEi"
      },
      "source": [
        "<a id=section1></a>"
      ]
    },
    {
      "cell_type": "markdown",
      "metadata": {
        "id": "45LUuRZpxieH"
      },
      "source": [
        "---\n",
        "<a name = Section1></a>\n",
        "# **1. Introduction**\n",
        "---\n",
        "- LIA is a leading General Insurance Company.\n",
        "- LIA has introduced over 200 types of insurance including for life, health, and accidents\n",
        "- The company currently operates in 15 countries, including 10 in Asia. Its customer base has grown from two million in 2008 to more than 40 million today, and date, it has paid more than $20 million in claims.\n",
        "- LIA wishes to cross-sell health insurance to existing customers who may or may not hold insurance policies with the company.\n",
        "- The company recommends health insurance to its customers based on their profile once these customers land on the website.\n",
        "\n"
      ]
    },
    {
      "cell_type": "markdown",
      "metadata": {
        "id": "zm05qOVsjkEi"
      },
      "source": [
        "---\n",
        "<a name = Section2></a>\n",
        "# **2. Problem Statement**\n",
        "---\n",
        "- The current process is a manual prediction of whether customers will be interested in recommended policy. This is very tedious and time-consuming as it needs to be repeated every time a new customer we contact so need to automate the process of predicting whether the customer is interested in recommended policy or not using the information provided by the customer.\n",
        "-  So need to build a classification model using the dataset on cusotmer response.\n",
        "\n",
        "<br> \n",
        "<center><img src=\"data:image/jpeg;base64,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\" width=\"600\" height=\"300\" /></center>\n",
        "\n"
      ]
    },
    {
      "cell_type": "markdown",
      "metadata": {
        "id": "ETeXZ8X1JdQT"
      },
      "source": [
        "---\n",
        "<a name = Section3></a>\n",
        "# **3. Installing & Importing Libraries**\n",
        "---"
      ]
    },
    {
      "cell_type": "markdown",
      "metadata": {
        "id": "QihcIrXkJgr7"
      },
      "source": [
        "<a name = Section31></a>\n",
        "### **3.1 Installing Libraries**"
      ]
    },
    {
      "cell_type": "code",
      "metadata": {
        "id": "f7ygnViDJo0b",
        "outputId": "b2c4af6e-8773-41ac-ecb7-7454d8f56f69",
        "colab": {
          "base_uri": "https://localhost:8080/"
        }
      },
      "source": [
        "# !pip install -q datascience                   # Package that is required by pandas profiling\n",
        "# !pip install -q pandas-profiling              # Library to generate basic statistics about data"
      ],
      "execution_count": null,
      "outputs": [
        {
          "output_type": "stream",
          "name": "stdout",
          "text": [
            "\u001b[?25l\r\u001b[K     |████▊                           | 10 kB 24.2 MB/s eta 0:00:01\r\u001b[K     |█████████▍                      | 20 kB 24.6 MB/s eta 0:00:01\r\u001b[K     |██████████████                  | 30 kB 13.1 MB/s eta 0:00:01\r\u001b[K     |██████████████████▊             | 40 kB 5.0 MB/s eta 0:00:01\r\u001b[K     |███████████████████████▍        | 51 kB 4.8 MB/s eta 0:00:01\r\u001b[K     |████████████████████████████    | 61 kB 5.7 MB/s eta 0:00:01\r\u001b[K     |████████████████████████████████| 69 kB 3.8 MB/s \n",
            "\u001b[?25h  Building wheel for folium (setup.py) ... \u001b[?25l\u001b[?25hdone\n"
          ]
        }
      ]
    },
    {
      "cell_type": "markdown",
      "metadata": {
        "id": "jYL7nqNGJu6a"
      },
      "source": [
        "<a name = Section32></a>\n",
        "### **3.2 Upgrading Libraries**\n",
        "\n",
        "- **After upgrading** the libraries, you need to **restart the runtime** to make the libraries in sync. \n",
        "\n",
        "- Make sure not to execute the cell above (3.1) and below (3.2) again after restarting the runtime."
      ]
    },
    {
      "cell_type": "code",
      "metadata": {
        "id": "AWfdmmRfJwEw",
        "outputId": "448a25a5-7ba8-4bfd-d07e-15fe96eb15af",
        "colab": {
          "base_uri": "https://localhost:8080/",
          "height": 168
        }
      },
      "source": [
        "# !pip install -q --upgrade pandas-profiling"
      ],
      "execution_count": null,
      "outputs": [
        {
          "output_type": "stream",
          "text": [
            "\u001b[K     |████████████████████████████████| 266kB 1.7MB/s \n",
            "\u001b[K     |████████████████████████████████| 71kB 4.0MB/s \n",
            "\u001b[K     |████████████████████████████████| 71kB 4.3MB/s \n",
            "\u001b[K     |████████████████████████████████| 3.1MB 5.2MB/s \n",
            "\u001b[K     |████████████████████████████████| 71kB 7.3MB/s \n",
            "\u001b[K     |████████████████████████████████| 604kB 18.8MB/s \n",
            "\u001b[K     |████████████████████████████████| 296kB 17.0MB/s \n",
            "\u001b[?25h  Building wheel for htmlmin (setup.py) ... \u001b[?25l\u001b[?25hdone\n",
            "  Building wheel for imagehash (setup.py) ... \u001b[?25l\u001b[?25hdone\n"
          ],
          "name": "stdout"
        }
      ]
    },
    {
      "cell_type": "markdown",
      "metadata": {
        "id": "REfuSsMyJ6fL"
      },
      "source": [
        "<a name = Section33></a>\n",
        "### **3.3 Importing Libraries**"
      ]
    },
    {
      "cell_type": "code",
      "metadata": {
        "id": "pj3uoMNqJ7cR"
      },
      "source": [
        "#-------------------------------------------------------------------------------------------------------------------------------\n",
        "import pandas as pd                                                 # Importing for panel data analysis\n",
        "from pandas_profiling import ProfileReport                          # Import Pandas Profiling (To generate Univariate Analysis) \n",
        "#-------------------------------------------------------------------------------------------------------------------------------\n",
        "import numpy as np                                                  # Importing package numpys (For Numerical Python)\n",
        "#-------------------------------------------------------------------------------------------------------------------------------\n",
        "import matplotlib.pyplot as plt                                     # Importing pyplot interface using matplotlib\n",
        "import seaborn as sns                                               # Importin seaborm library for interactive visualization\n",
        "%matplotlib inline\n",
        "#-------------------------------------------------------------------------------------------------------------------------------\n",
        "from sklearn.metrics import accuracy_score                          # For calculating the accuracy for the model\n",
        "from sklearn.metrics import precision_score                         # For calculating the Precision of the model\n",
        "from sklearn.metrics import recall_score                            # For calculating the recall of the model\n",
        "from sklearn.metrics import precision_recall_curve                  # For precision and recall metric estimation\n",
        "from sklearn.metrics import confusion_matrix, classification_report # For verifying model performance using confusion matrix\n",
        "from sklearn.metrics import f1_score                                # For Checking the F1-Score of our model  \n",
        "from sklearn.metrics import roc_curve                               # For Roc-Auc metric estimation\n",
        "#-------------------------------------------------------------------------------------------------------------------------------\n",
        "from sklearn.model_selection import train_test_split                # To split the data in training and testing part     \n",
        "from sklearn.linear_model import LogisticRegression                 # To create the Logistic Regression Model\n",
        "from sklearn.ensemble import RandomForestClassifier                 # To create the RandomForest Model\n",
        "from sklearn.tree import DecisionTreeClassifier                     # to create a DecisionTreeclassifier\n",
        "\n",
        "#-------------------------------------------------------------------------------------------------------------------------------\n",
        "import warnings                                                     # Importing warning to disable runtime warnings\n",
        "warnings.filterwarnings(\"ignore\")                                   # Warnings will appear only once"
      ],
      "execution_count": 1,
      "outputs": []
    },
    {
      "cell_type": "markdown",
      "metadata": {
        "id": "8V-IfUxYjkEk"
      },
      "source": [
        "---\n",
        "<a name = Section4></a>\n",
        "# **4. Data Acquisition & Description**\n",
        "---"
      ]
    },
    {
      "cell_type": "markdown",
      "metadata": {
        "id": "9yFrFAo8jkEk"
      },
      "source": [
        "<center><img src=\"data:image/jpeg;base64,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\" width=\"480\" height=\"240\" /></center>"
      ]
    },
    {
      "cell_type": "markdown",
      "metadata": {
        "_cell_guid": "e4a1cf77-b695-4ca0-9653-6c41ce2393d8",
        "_uuid": "ca91678a9dc8cc103a7fbf799a5d903a011334ef",
        "id": "pyLlAS1gjkEl"
      },
      "source": [
        "- The train set contains 38000 rows and 14 columns and The last column response is the target variable.\n",
        "- The test set contains 12882 rows and 13 columns and The test set doesn’t contain the Response column."
      ]
    },
    {
      "cell_type": "markdown",
      "metadata": {
        "id": "Fyp7-gnRjkEl"
      },
      "source": [
        "| Column Name:\t\t\t\t\t\t| Description:\n",
        "| -----------------------\t\t\t| :--------------------------------------     \n",
        "| Id\t\t\t\t\t\t\t\t| Customer Id\n",
        "| City_Code\t\t\t\t\t\t\t| Customer’s City Code\n",
        "| Region_Code\t\t\t\t\t\t| Customer’s Region Code\n",
        "| Accomodation_Type\t\t\t\t\t| Type of Accomodation\n",
        "| Reco_Insurance_Type\t\t\t\t| Recommended Insurance Type(i.e. Joint, Single)\n",
        "| Upper_Age\t\t\t\t\t\t\t| Upper Age of customer\n",
        "| Lower_Age\t\t\t\t\t\t\t| Lower age of customer\n",
        "| Is_Spouse\t\t\t\t\t\t\t| Customer’s relation(In case of joint policy)\n",
        "| Health Indicator\t\t\t\t\t| Current Health Indicator Category\n",
        "| Holding_Policy_Duration\t\t\t| Current Holding policy duration\n",
        "| Reco_Policy_Cat\t\t\t\t\t| Recommended Policy Category\n",
        "| Holding_Policy_Type\t\t\t\t| Current Holding Policy Type\n",
        "| Reco_Policy_Premium\t\t\t\t| Recommended Policy Premium Price\n",
        "| Response\t\t\t\t\t\t\t| Response of Customer"
      ]
    },
    {
      "cell_type": "code",
      "metadata": {
        "id": "CffSlDpGLeB7",
        "outputId": "634aa9c4-8b72-41c6-8448-ef7680358489",
        "colab": {
          "base_uri": "https://localhost:8080/",
          "height": 288
        }
      },
      "source": [
        "# Importing data using pd.read_csv\n",
        "health_train = pd.read_csv(\"train_data.csv\")     \n",
        "health_test = pd.read_csv(\"test_data.csv\")\n",
        "health_train.head()"
      ],
      "execution_count": 2,
      "outputs": [
        {
          "output_type": "execute_result",
          "data": {
            "text/plain": [
              "   ID City_Code  Region_Code Accomodation_Type Reco_Insurance_Type  Upper_Age  \\\n",
              "0   1        C3         3213            Rented          Individual         36   \n",
              "1   2        C5         1117             Owned               Joint         75   \n",
              "2   3        C5         3732             Owned          Individual         32   \n",
              "3   4       C24         4378             Owned               Joint         52   \n",
              "4   5        C8         2190            Rented          Individual         44   \n",
              "\n",
              "   Lower_Age Is_Spouse Health Indicator Holding_Policy_Duration  \\\n",
              "0         36        No               X1                     14+   \n",
              "1         22        No               X2                     NaN   \n",
              "2         32        No              NaN                       1   \n",
              "3         48        No               X1                     14+   \n",
              "4         44        No               X2                       3   \n",
              "\n",
              "   Holding_Policy_Type  Reco_Policy_Cat  Reco_Policy_Premium  Response  \n",
              "0                  3.0               22              11628.0         0  \n",
              "1                  NaN               22              30510.0         0  \n",
              "2                  1.0               19               7450.0         1  \n",
              "3                  3.0               19              17780.0         0  \n",
              "4                  1.0               16              10404.0         0  "
            ],
            "text/html": [
              "\n",
              "  <div id=\"df-82c2a283-4363-408a-8063-a83f18d5d18f\">\n",
              "    <div class=\"colab-df-container\">\n",
              "      <div>\n",
              "<style scoped>\n",
              "    .dataframe tbody tr th:only-of-type {\n",
              "        vertical-align: middle;\n",
              "    }\n",
              "\n",
              "    .dataframe tbody tr th {\n",
              "        vertical-align: top;\n",
              "    }\n",
              "\n",
              "    .dataframe thead th {\n",
              "        text-align: right;\n",
              "    }\n",
              "</style>\n",
              "<table border=\"1\" class=\"dataframe\">\n",
              "  <thead>\n",
              "    <tr style=\"text-align: right;\">\n",
              "      <th></th>\n",
              "      <th>ID</th>\n",
              "      <th>City_Code</th>\n",
              "      <th>Region_Code</th>\n",
              "      <th>Accomodation_Type</th>\n",
              "      <th>Reco_Insurance_Type</th>\n",
              "      <th>Upper_Age</th>\n",
              "      <th>Lower_Age</th>\n",
              "      <th>Is_Spouse</th>\n",
              "      <th>Health Indicator</th>\n",
              "      <th>Holding_Policy_Duration</th>\n",
              "      <th>Holding_Policy_Type</th>\n",
              "      <th>Reco_Policy_Cat</th>\n",
              "      <th>Reco_Policy_Premium</th>\n",
              "      <th>Response</th>\n",
              "    </tr>\n",
              "  </thead>\n",
              "  <tbody>\n",
              "    <tr>\n",
              "      <th>0</th>\n",
              "      <td>1</td>\n",
              "      <td>C3</td>\n",
              "      <td>3213</td>\n",
              "      <td>Rented</td>\n",
              "      <td>Individual</td>\n",
              "      <td>36</td>\n",
              "      <td>36</td>\n",
              "      <td>No</td>\n",
              "      <td>X1</td>\n",
              "      <td>14+</td>\n",
              "      <td>3.0</td>\n",
              "      <td>22</td>\n",
              "      <td>11628.0</td>\n",
              "      <td>0</td>\n",
              "    </tr>\n",
              "    <tr>\n",
              "      <th>1</th>\n",
              "      <td>2</td>\n",
              "      <td>C5</td>\n",
              "      <td>1117</td>\n",
              "      <td>Owned</td>\n",
              "      <td>Joint</td>\n",
              "      <td>75</td>\n",
              "      <td>22</td>\n",
              "      <td>No</td>\n",
              "      <td>X2</td>\n",
              "      <td>NaN</td>\n",
              "      <td>NaN</td>\n",
              "      <td>22</td>\n",
              "      <td>30510.0</td>\n",
              "      <td>0</td>\n",
              "    </tr>\n",
              "    <tr>\n",
              "      <th>2</th>\n",
              "      <td>3</td>\n",
              "      <td>C5</td>\n",
              "      <td>3732</td>\n",
              "      <td>Owned</td>\n",
              "      <td>Individual</td>\n",
              "      <td>32</td>\n",
              "      <td>32</td>\n",
              "      <td>No</td>\n",
              "      <td>NaN</td>\n",
              "      <td>1</td>\n",
              "      <td>1.0</td>\n",
              "      <td>19</td>\n",
              "      <td>7450.0</td>\n",
              "      <td>1</td>\n",
              "    </tr>\n",
              "    <tr>\n",
              "      <th>3</th>\n",
              "      <td>4</td>\n",
              "      <td>C24</td>\n",
              "      <td>4378</td>\n",
              "      <td>Owned</td>\n",
              "      <td>Joint</td>\n",
              "      <td>52</td>\n",
              "      <td>48</td>\n",
              "      <td>No</td>\n",
              "      <td>X1</td>\n",
              "      <td>14+</td>\n",
              "      <td>3.0</td>\n",
              "      <td>19</td>\n",
              "      <td>17780.0</td>\n",
              "      <td>0</td>\n",
              "    </tr>\n",
              "    <tr>\n",
              "      <th>4</th>\n",
              "      <td>5</td>\n",
              "      <td>C8</td>\n",
              "      <td>2190</td>\n",
              "      <td>Rented</td>\n",
              "      <td>Individual</td>\n",
              "      <td>44</td>\n",
              "      <td>44</td>\n",
              "      <td>No</td>\n",
              "      <td>X2</td>\n",
              "      <td>3</td>\n",
              "      <td>1.0</td>\n",
              "      <td>16</td>\n",
              "      <td>10404.0</td>\n",
              "      <td>0</td>\n",
              "    </tr>\n",
              "  </tbody>\n",
              "</table>\n",
              "</div>\n",
              "      <button class=\"colab-df-convert\" onclick=\"convertToInteractive('df-82c2a283-4363-408a-8063-a83f18d5d18f')\"\n",
              "              title=\"Convert this dataframe to an interactive table.\"\n",
              "              style=\"display:none;\">\n",
              "        \n",
              "  <svg xmlns=\"http://www.w3.org/2000/svg\" height=\"24px\"viewBox=\"0 0 24 24\"\n",
              "       width=\"24px\">\n",
              "    <path d=\"M0 0h24v24H0V0z\" fill=\"none\"/>\n",
              "    <path d=\"M18.56 5.44l.94 2.06.94-2.06 2.06-.94-2.06-.94-.94-2.06-.94 2.06-2.06.94zm-11 1L8.5 8.5l.94-2.06 2.06-.94-2.06-.94L8.5 2.5l-.94 2.06-2.06.94zm10 10l.94 2.06.94-2.06 2.06-.94-2.06-.94-.94-2.06-.94 2.06-2.06.94z\"/><path d=\"M17.41 7.96l-1.37-1.37c-.4-.4-.92-.59-1.43-.59-.52 0-1.04.2-1.43.59L10.3 9.45l-7.72 7.72c-.78.78-.78 2.05 0 2.83L4 21.41c.39.39.9.59 1.41.59.51 0 1.02-.2 1.41-.59l7.78-7.78 2.81-2.81c.8-.78.8-2.07 0-2.86zM5.41 20L4 18.59l7.72-7.72 1.47 1.35L5.41 20z\"/>\n",
              "  </svg>\n",
              "      </button>\n",
              "      \n",
              "  <style>\n",
              "    .colab-df-container {\n",
              "      display:flex;\n",
              "      flex-wrap:wrap;\n",
              "      gap: 12px;\n",
              "    }\n",
              "\n",
              "    .colab-df-convert {\n",
              "      background-color: #E8F0FE;\n",
              "      border: none;\n",
              "      border-radius: 50%;\n",
              "      cursor: pointer;\n",
              "      display: none;\n",
              "      fill: #1967D2;\n",
              "      height: 32px;\n",
              "      padding: 0 0 0 0;\n",
              "      width: 32px;\n",
              "    }\n",
              "\n",
              "    .colab-df-convert:hover {\n",
              "      background-color: #E2EBFA;\n",
              "      box-shadow: 0px 1px 2px rgba(60, 64, 67, 0.3), 0px 1px 3px 1px rgba(60, 64, 67, 0.15);\n",
              "      fill: #174EA6;\n",
              "    }\n",
              "\n",
              "    [theme=dark] .colab-df-convert {\n",
              "      background-color: #3B4455;\n",
              "      fill: #D2E3FC;\n",
              "    }\n",
              "\n",
              "    [theme=dark] .colab-df-convert:hover {\n",
              "      background-color: #434B5C;\n",
              "      box-shadow: 0px 1px 3px 1px rgba(0, 0, 0, 0.15);\n",
              "      filter: drop-shadow(0px 1px 2px rgba(0, 0, 0, 0.3));\n",
              "      fill: #FFFFFF;\n",
              "    }\n",
              "  </style>\n",
              "\n",
              "      <script>\n",
              "        const buttonEl =\n",
              "          document.querySelector('#df-82c2a283-4363-408a-8063-a83f18d5d18f button.colab-df-convert');\n",
              "        buttonEl.style.display =\n",
              "          google.colab.kernel.accessAllowed ? 'block' : 'none';\n",
              "\n",
              "        async function convertToInteractive(key) {\n",
              "          const element = document.querySelector('#df-82c2a283-4363-408a-8063-a83f18d5d18f');\n",
              "          const dataTable =\n",
              "            await google.colab.kernel.invokeFunction('convertToInteractive',\n",
              "                                                     [key], {});\n",
              "          if (!dataTable) return;\n",
              "\n",
              "          const docLinkHtml = 'Like what you see? Visit the ' +\n",
              "            '<a target=\"_blank\" href=https://colab.research.google.com/notebooks/data_table.ipynb>data table notebook</a>'\n",
              "            + ' to learn more about interactive tables.';\n",
              "          element.innerHTML = '';\n",
              "          dataTable['output_type'] = 'display_data';\n",
              "          await google.colab.output.renderOutput(dataTable, element);\n",
              "          const docLink = document.createElement('div');\n",
              "          docLink.innerHTML = docLinkHtml;\n",
              "          element.appendChild(docLink);\n",
              "        }\n",
              "      </script>\n",
              "    </div>\n",
              "  </div>\n",
              "  "
            ]
          },
          "metadata": {},
          "execution_count": 2
        }
      ]
    },
    {
      "cell_type": "code",
      "source": [
        "# make copy of train & test\n",
        "train_original = health_train.copy()\n",
        "test_original = health_test.copy()"
      ],
      "metadata": {
        "id": "A001D3HR1SMY"
      },
      "execution_count": 3,
      "outputs": []
    },
    {
      "cell_type": "markdown",
      "metadata": {
        "id": "W_n3MIHaO12q"
      },
      "source": [
        "<a name = Section41></a>\n",
        "### **4.1 Data Information**\n",
        "\n",
        "- In this section we will see the **information about the types of features**."
      ]
    },
    {
      "cell_type": "code",
      "metadata": {
        "id": "jSt57iLTVtGE",
        "outputId": "8975285c-5d29-44d3-8662-4ef17fe9827c",
        "colab": {
          "base_uri": "https://localhost:8080/"
        }
      },
      "source": [
        "print(\"Shape of our health train data is :\", health_train.shape)\n",
        "print(\"Shape of our health test data is :\", health_test.shape)"
      ],
      "execution_count": 4,
      "outputs": [
        {
          "output_type": "stream",
          "name": "stdout",
          "text": [
            "Shape of our health train data is : (38000, 14)\n",
            "Shape of our health test data is : (12882, 13)\n"
          ]
        }
      ]
    },
    {
      "cell_type": "markdown",
      "metadata": {
        "id": "rkk6Gt6P5MTm"
      },
      "source": [
        "- Shape of our health train data is : (38000, 14)\n",
        "- Shape of our health test data is : (12882, 13)"
      ]
    },
    {
      "cell_type": "code",
      "metadata": {
        "id": "AKcColLZO4b4",
        "outputId": "ac3b9252-d4a7-4cdc-ee48-e2f3c4d7a79f",
        "colab": {
          "base_uri": "https://localhost:8080/"
        }
      },
      "source": [
        "health_train.info()"
      ],
      "execution_count": 5,
      "outputs": [
        {
          "output_type": "stream",
          "name": "stdout",
          "text": [
            "<class 'pandas.core.frame.DataFrame'>\n",
            "RangeIndex: 38000 entries, 0 to 37999\n",
            "Data columns (total 14 columns):\n",
            " #   Column                   Non-Null Count  Dtype  \n",
            "---  ------                   --------------  -----  \n",
            " 0   ID                       38000 non-null  int64  \n",
            " 1   City_Code                38000 non-null  object \n",
            " 2   Region_Code              38000 non-null  int64  \n",
            " 3   Accomodation_Type        38000 non-null  object \n",
            " 4   Reco_Insurance_Type      38000 non-null  object \n",
            " 5   Upper_Age                38000 non-null  int64  \n",
            " 6   Lower_Age                38000 non-null  int64  \n",
            " 7   Is_Spouse                38000 non-null  object \n",
            " 8   Health Indicator         29280 non-null  object \n",
            " 9   Holding_Policy_Duration  22919 non-null  object \n",
            " 10  Holding_Policy_Type      22919 non-null  float64\n",
            " 11  Reco_Policy_Cat          38000 non-null  int64  \n",
            " 12  Reco_Policy_Premium      38000 non-null  float64\n",
            " 13  Response                 38000 non-null  int64  \n",
            "dtypes: float64(2), int64(6), object(6)\n",
            "memory usage: 4.1+ MB\n"
          ]
        }
      ]
    },
    {
      "cell_type": "code",
      "source": [
        "health_test.info()"
      ],
      "metadata": {
        "colab": {
          "base_uri": "https://localhost:8080/"
        },
        "id": "SKjOWsyijHki",
        "outputId": "bcfd6a91-e9da-431f-e92d-f0411ea433a1"
      },
      "execution_count": 6,
      "outputs": [
        {
          "output_type": "stream",
          "name": "stdout",
          "text": [
            "<class 'pandas.core.frame.DataFrame'>\n",
            "RangeIndex: 12882 entries, 0 to 12881\n",
            "Data columns (total 13 columns):\n",
            " #   Column                   Non-Null Count  Dtype  \n",
            "---  ------                   --------------  -----  \n",
            " 0   ID                       12882 non-null  int64  \n",
            " 1   City_Code                12882 non-null  object \n",
            " 2   Region_Code              12882 non-null  int64  \n",
            " 3   Accomodation_Type        12882 non-null  object \n",
            " 4   Reco_Insurance_Type      12882 non-null  object \n",
            " 5   Upper_Age                12882 non-null  int64  \n",
            " 6   Lower_Age                12882 non-null  int64  \n",
            " 7   Is_Spouse                12882 non-null  object \n",
            " 8   Health Indicator         9911 non-null   object \n",
            " 9   Holding_Policy_Duration  7712 non-null   object \n",
            " 10  Holding_Policy_Type      7712 non-null   float64\n",
            " 11  Reco_Policy_Cat          12882 non-null  int64  \n",
            " 12  Reco_Policy_Premium      12882 non-null  float64\n",
            "dtypes: float64(2), int64(5), object(6)\n",
            "memory usage: 1.3+ MB\n"
          ]
        }
      ]
    },
    {
      "cell_type": "markdown",
      "metadata": {
        "id": "-wAUH-YkPGee"
      },
      "source": [
        "**Observation:**\n",
        "\n",
        "- There are **null values present** in Health_Indicator,  Holding_Policy_Duration,  and Holding_Policy_Type.\n",
        "\n",
        "- **Holding_Policy_Duration  ** seems to have **incorrect data type**."
      ]
    },
    {
      "cell_type": "markdown",
      "metadata": {
        "id": "LwPC1JL1MC2Y"
      },
      "source": [
        "<a name = Section42></a>\n",
        "### **4.2 Data Statistics**\n",
        "\n",
        "- In this section we will get **information about the data** and see some observations."
      ]
    },
    {
      "cell_type": "code",
      "metadata": {
        "id": "DZiIO0qoMERw",
        "outputId": "11cf7e87-9f15-442b-9efc-1b3833fa9d5a",
        "colab": {
          "base_uri": "https://localhost:8080/",
          "height": 300
        }
      },
      "source": [
        "health_train.describe()"
      ],
      "execution_count": 7,
      "outputs": [
        {
          "output_type": "execute_result",
          "data": {
            "text/plain": [
              "                 ID   Region_Code     Upper_Age     Lower_Age  \\\n",
              "count  38000.000000  38000.000000  38000.000000  38000.000000   \n",
              "mean   19000.500000   1732.998842     44.860211     42.722395   \n",
              "std    10969.799451   1425.165034     17.324897     17.321885   \n",
              "min        1.000000      1.000000     18.000000     16.000000   \n",
              "25%     9500.750000    521.000000     28.000000     27.000000   \n",
              "50%    19000.500000   1388.500000     44.000000     40.000000   \n",
              "75%    28500.250000   2675.000000     59.000000     57.000000   \n",
              "max    38000.000000   6194.000000     75.000000     75.000000   \n",
              "\n",
              "       Holding_Policy_Type  Reco_Policy_Cat  Reco_Policy_Premium      Response  \n",
              "count         22919.000000     38000.000000         38000.000000  38000.000000  \n",
              "mean              2.432392        15.112289         14181.819774      0.238632  \n",
              "std               1.027355         6.342908          6600.185168      0.426253  \n",
              "min               1.000000         1.000000          2280.000000      0.000000  \n",
              "25%               1.000000        12.000000          9226.000000      0.000000  \n",
              "50%               3.000000        17.000000         13180.000000      0.000000  \n",
              "75%               3.000000        20.000000         18090.000000      0.000000  \n",
              "max               4.000000        22.000000         43350.400000      1.000000  "
            ],
            "text/html": [
              "\n",
              "  <div id=\"df-e3746ca2-1f56-4e57-975d-337efecf45b8\">\n",
              "    <div class=\"colab-df-container\">\n",
              "      <div>\n",
              "<style scoped>\n",
              "    .dataframe tbody tr th:only-of-type {\n",
              "        vertical-align: middle;\n",
              "    }\n",
              "\n",
              "    .dataframe tbody tr th {\n",
              "        vertical-align: top;\n",
              "    }\n",
              "\n",
              "    .dataframe thead th {\n",
              "        text-align: right;\n",
              "    }\n",
              "</style>\n",
              "<table border=\"1\" class=\"dataframe\">\n",
              "  <thead>\n",
              "    <tr style=\"text-align: right;\">\n",
              "      <th></th>\n",
              "      <th>ID</th>\n",
              "      <th>Region_Code</th>\n",
              "      <th>Upper_Age</th>\n",
              "      <th>Lower_Age</th>\n",
              "      <th>Holding_Policy_Type</th>\n",
              "      <th>Reco_Policy_Cat</th>\n",
              "      <th>Reco_Policy_Premium</th>\n",
              "      <th>Response</th>\n",
              "    </tr>\n",
              "  </thead>\n",
              "  <tbody>\n",
              "    <tr>\n",
              "      <th>count</th>\n",
              "      <td>38000.000000</td>\n",
              "      <td>38000.000000</td>\n",
              "      <td>38000.000000</td>\n",
              "      <td>38000.000000</td>\n",
              "      <td>22919.000000</td>\n",
              "      <td>38000.000000</td>\n",
              "      <td>38000.000000</td>\n",
              "      <td>38000.000000</td>\n",
              "    </tr>\n",
              "    <tr>\n",
              "      <th>mean</th>\n",
              "      <td>19000.500000</td>\n",
              "      <td>1732.998842</td>\n",
              "      <td>44.860211</td>\n",
              "      <td>42.722395</td>\n",
              "      <td>2.432392</td>\n",
              "      <td>15.112289</td>\n",
              "      <td>14181.819774</td>\n",
              "      <td>0.238632</td>\n",
              "    </tr>\n",
              "    <tr>\n",
              "      <th>std</th>\n",
              "      <td>10969.799451</td>\n",
              "      <td>1425.165034</td>\n",
              "      <td>17.324897</td>\n",
              "      <td>17.321885</td>\n",
              "      <td>1.027355</td>\n",
              "      <td>6.342908</td>\n",
              "      <td>6600.185168</td>\n",
              "      <td>0.426253</td>\n",
              "    </tr>\n",
              "    <tr>\n",
              "      <th>min</th>\n",
              "      <td>1.000000</td>\n",
              "      <td>1.000000</td>\n",
              "      <td>18.000000</td>\n",
              "      <td>16.000000</td>\n",
              "      <td>1.000000</td>\n",
              "      <td>1.000000</td>\n",
              "      <td>2280.000000</td>\n",
              "      <td>0.000000</td>\n",
              "    </tr>\n",
              "    <tr>\n",
              "      <th>25%</th>\n",
              "      <td>9500.750000</td>\n",
              "      <td>521.000000</td>\n",
              "      <td>28.000000</td>\n",
              "      <td>27.000000</td>\n",
              "      <td>1.000000</td>\n",
              "      <td>12.000000</td>\n",
              "      <td>9226.000000</td>\n",
              "      <td>0.000000</td>\n",
              "    </tr>\n",
              "    <tr>\n",
              "      <th>50%</th>\n",
              "      <td>19000.500000</td>\n",
              "      <td>1388.500000</td>\n",
              "      <td>44.000000</td>\n",
              "      <td>40.000000</td>\n",
              "      <td>3.000000</td>\n",
              "      <td>17.000000</td>\n",
              "      <td>13180.000000</td>\n",
              "      <td>0.000000</td>\n",
              "    </tr>\n",
              "    <tr>\n",
              "      <th>75%</th>\n",
              "      <td>28500.250000</td>\n",
              "      <td>2675.000000</td>\n",
              "      <td>59.000000</td>\n",
              "      <td>57.000000</td>\n",
              "      <td>3.000000</td>\n",
              "      <td>20.000000</td>\n",
              "      <td>18090.000000</td>\n",
              "      <td>0.000000</td>\n",
              "    </tr>\n",
              "    <tr>\n",
              "      <th>max</th>\n",
              "      <td>38000.000000</td>\n",
              "      <td>6194.000000</td>\n",
              "      <td>75.000000</td>\n",
              "      <td>75.000000</td>\n",
              "      <td>4.000000</td>\n",
              "      <td>22.000000</td>\n",
              "      <td>43350.400000</td>\n",
              "      <td>1.000000</td>\n",
              "    </tr>\n",
              "  </tbody>\n",
              "</table>\n",
              "</div>\n",
              "      <button class=\"colab-df-convert\" onclick=\"convertToInteractive('df-e3746ca2-1f56-4e57-975d-337efecf45b8')\"\n",
              "              title=\"Convert this dataframe to an interactive table.\"\n",
              "              style=\"display:none;\">\n",
              "        \n",
              "  <svg xmlns=\"http://www.w3.org/2000/svg\" height=\"24px\"viewBox=\"0 0 24 24\"\n",
              "       width=\"24px\">\n",
              "    <path d=\"M0 0h24v24H0V0z\" fill=\"none\"/>\n",
              "    <path d=\"M18.56 5.44l.94 2.06.94-2.06 2.06-.94-2.06-.94-.94-2.06-.94 2.06-2.06.94zm-11 1L8.5 8.5l.94-2.06 2.06-.94-2.06-.94L8.5 2.5l-.94 2.06-2.06.94zm10 10l.94 2.06.94-2.06 2.06-.94-2.06-.94-.94-2.06-.94 2.06-2.06.94z\"/><path d=\"M17.41 7.96l-1.37-1.37c-.4-.4-.92-.59-1.43-.59-.52 0-1.04.2-1.43.59L10.3 9.45l-7.72 7.72c-.78.78-.78 2.05 0 2.83L4 21.41c.39.39.9.59 1.41.59.51 0 1.02-.2 1.41-.59l7.78-7.78 2.81-2.81c.8-.78.8-2.07 0-2.86zM5.41 20L4 18.59l7.72-7.72 1.47 1.35L5.41 20z\"/>\n",
              "  </svg>\n",
              "      </button>\n",
              "      \n",
              "  <style>\n",
              "    .colab-df-container {\n",
              "      display:flex;\n",
              "      flex-wrap:wrap;\n",
              "      gap: 12px;\n",
              "    }\n",
              "\n",
              "    .colab-df-convert {\n",
              "      background-color: #E8F0FE;\n",
              "      border: none;\n",
              "      border-radius: 50%;\n",
              "      cursor: pointer;\n",
              "      display: none;\n",
              "      fill: #1967D2;\n",
              "      height: 32px;\n",
              "      padding: 0 0 0 0;\n",
              "      width: 32px;\n",
              "    }\n",
              "\n",
              "    .colab-df-convert:hover {\n",
              "      background-color: #E2EBFA;\n",
              "      box-shadow: 0px 1px 2px rgba(60, 64, 67, 0.3), 0px 1px 3px 1px rgba(60, 64, 67, 0.15);\n",
              "      fill: #174EA6;\n",
              "    }\n",
              "\n",
              "    [theme=dark] .colab-df-convert {\n",
              "      background-color: #3B4455;\n",
              "      fill: #D2E3FC;\n",
              "    }\n",
              "\n",
              "    [theme=dark] .colab-df-convert:hover {\n",
              "      background-color: #434B5C;\n",
              "      box-shadow: 0px 1px 3px 1px rgba(0, 0, 0, 0.15);\n",
              "      filter: drop-shadow(0px 1px 2px rgba(0, 0, 0, 0.3));\n",
              "      fill: #FFFFFF;\n",
              "    }\n",
              "  </style>\n",
              "\n",
              "      <script>\n",
              "        const buttonEl =\n",
              "          document.querySelector('#df-e3746ca2-1f56-4e57-975d-337efecf45b8 button.colab-df-convert');\n",
              "        buttonEl.style.display =\n",
              "          google.colab.kernel.accessAllowed ? 'block' : 'none';\n",
              "\n",
              "        async function convertToInteractive(key) {\n",
              "          const element = document.querySelector('#df-e3746ca2-1f56-4e57-975d-337efecf45b8');\n",
              "          const dataTable =\n",
              "            await google.colab.kernel.invokeFunction('convertToInteractive',\n",
              "                                                     [key], {});\n",
              "          if (!dataTable) return;\n",
              "\n",
              "          const docLinkHtml = 'Like what you see? Visit the ' +\n",
              "            '<a target=\"_blank\" href=https://colab.research.google.com/notebooks/data_table.ipynb>data table notebook</a>'\n",
              "            + ' to learn more about interactive tables.';\n",
              "          element.innerHTML = '';\n",
              "          dataTable['output_type'] = 'display_data';\n",
              "          await google.colab.output.renderOutput(dataTable, element);\n",
              "          const docLink = document.createElement('div');\n",
              "          docLink.innerHTML = docLinkHtml;\n",
              "          element.appendChild(docLink);\n",
              "        }\n",
              "      </script>\n",
              "    </div>\n",
              "  </div>\n",
              "  "
            ]
          },
          "metadata": {},
          "execution_count": 7
        }
      ]
    },
    {
      "cell_type": "markdown",
      "metadata": {
        "id": "ELB4xc0OMMLV"
      },
      "source": [
        "**Observation:**\n",
        "\n",
        "- The **average** age of the insured people in upper age is 44 and lower age is 42 years.\n",
        "\n",
        "- **Minimum** age seems for upper age class is 18 and lower age class is 16 years.. Where, the **Max** age was 75.\n",
        "\n",
        "- Recommended policy catogeory 1 for minimum and 22 for maximum."
      ]
    },
    {
      "cell_type": "code",
      "source": [
        "health_test.describe()"
      ],
      "metadata": {
        "colab": {
          "base_uri": "https://localhost:8080/",
          "height": 300
        },
        "id": "R8aUDF1Ksf8M",
        "outputId": "9d51c747-64db-49a3-913a-36e23bc9446d"
      },
      "execution_count": 8,
      "outputs": [
        {
          "output_type": "execute_result",
          "data": {
            "text/plain": [
              "                 ID   Region_Code     Upper_Age     Lower_Age  \\\n",
              "count  12882.000000  12882.000000  12882.000000  12882.000000   \n",
              "mean   44441.500000   1732.168840     44.844667     42.787455   \n",
              "std     3718.857419   1420.936077     17.267722     17.312550   \n",
              "min    38001.000000      1.000000     18.000000     16.000000   \n",
              "25%    41221.250000    534.000000     28.000000     27.000000   \n",
              "50%    44441.500000   1400.000000     44.000000     41.000000   \n",
              "75%    47661.750000   2644.000000     59.000000     57.000000   \n",
              "max    50882.000000   6181.000000     75.000000     75.000000   \n",
              "\n",
              "       Holding_Policy_Type  Reco_Policy_Cat  Reco_Policy_Premium  \n",
              "count          7712.000000     12882.000000         12882.000000  \n",
              "mean              2.459544        15.123739         14190.234125  \n",
              "std               1.021452         6.334274          6560.411622  \n",
              "min               1.000000         1.000000          2280.000000  \n",
              "25%               1.000000        12.000000          9296.000000  \n",
              "50%               3.000000        17.000000         13154.000000  \n",
              "75%               3.000000        20.000000         18120.000000  \n",
              "max               4.000000        22.000000         43046.400000  "
            ],
            "text/html": [
              "\n",
              "  <div id=\"df-c8b24565-1353-4542-9e6a-1c2a012e732b\">\n",
              "    <div class=\"colab-df-container\">\n",
              "      <div>\n",
              "<style scoped>\n",
              "    .dataframe tbody tr th:only-of-type {\n",
              "        vertical-align: middle;\n",
              "    }\n",
              "\n",
              "    .dataframe tbody tr th {\n",
              "        vertical-align: top;\n",
              "    }\n",
              "\n",
              "    .dataframe thead th {\n",
              "        text-align: right;\n",
              "    }\n",
              "</style>\n",
              "<table border=\"1\" class=\"dataframe\">\n",
              "  <thead>\n",
              "    <tr style=\"text-align: right;\">\n",
              "      <th></th>\n",
              "      <th>ID</th>\n",
              "      <th>Region_Code</th>\n",
              "      <th>Upper_Age</th>\n",
              "      <th>Lower_Age</th>\n",
              "      <th>Holding_Policy_Type</th>\n",
              "      <th>Reco_Policy_Cat</th>\n",
              "      <th>Reco_Policy_Premium</th>\n",
              "    </tr>\n",
              "  </thead>\n",
              "  <tbody>\n",
              "    <tr>\n",
              "      <th>count</th>\n",
              "      <td>12882.000000</td>\n",
              "      <td>12882.000000</td>\n",
              "      <td>12882.000000</td>\n",
              "      <td>12882.000000</td>\n",
              "      <td>7712.000000</td>\n",
              "      <td>12882.000000</td>\n",
              "      <td>12882.000000</td>\n",
              "    </tr>\n",
              "    <tr>\n",
              "      <th>mean</th>\n",
              "      <td>44441.500000</td>\n",
              "      <td>1732.168840</td>\n",
              "      <td>44.844667</td>\n",
              "      <td>42.787455</td>\n",
              "      <td>2.459544</td>\n",
              "      <td>15.123739</td>\n",
              "      <td>14190.234125</td>\n",
              "    </tr>\n",
              "    <tr>\n",
              "      <th>std</th>\n",
              "      <td>3718.857419</td>\n",
              "      <td>1420.936077</td>\n",
              "      <td>17.267722</td>\n",
              "      <td>17.312550</td>\n",
              "      <td>1.021452</td>\n",
              "      <td>6.334274</td>\n",
              "      <td>6560.411622</td>\n",
              "    </tr>\n",
              "    <tr>\n",
              "      <th>min</th>\n",
              "      <td>38001.000000</td>\n",
              "      <td>1.000000</td>\n",
              "      <td>18.000000</td>\n",
              "      <td>16.000000</td>\n",
              "      <td>1.000000</td>\n",
              "      <td>1.000000</td>\n",
              "      <td>2280.000000</td>\n",
              "    </tr>\n",
              "    <tr>\n",
              "      <th>25%</th>\n",
              "      <td>41221.250000</td>\n",
              "      <td>534.000000</td>\n",
              "      <td>28.000000</td>\n",
              "      <td>27.000000</td>\n",
              "      <td>1.000000</td>\n",
              "      <td>12.000000</td>\n",
              "      <td>9296.000000</td>\n",
              "    </tr>\n",
              "    <tr>\n",
              "      <th>50%</th>\n",
              "      <td>44441.500000</td>\n",
              "      <td>1400.000000</td>\n",
              "      <td>44.000000</td>\n",
              "      <td>41.000000</td>\n",
              "      <td>3.000000</td>\n",
              "      <td>17.000000</td>\n",
              "      <td>13154.000000</td>\n",
              "    </tr>\n",
              "    <tr>\n",
              "      <th>75%</th>\n",
              "      <td>47661.750000</td>\n",
              "      <td>2644.000000</td>\n",
              "      <td>59.000000</td>\n",
              "      <td>57.000000</td>\n",
              "      <td>3.000000</td>\n",
              "      <td>20.000000</td>\n",
              "      <td>18120.000000</td>\n",
              "    </tr>\n",
              "    <tr>\n",
              "      <th>max</th>\n",
              "      <td>50882.000000</td>\n",
              "      <td>6181.000000</td>\n",
              "      <td>75.000000</td>\n",
              "      <td>75.000000</td>\n",
              "      <td>4.000000</td>\n",
              "      <td>22.000000</td>\n",
              "      <td>43046.400000</td>\n",
              "    </tr>\n",
              "  </tbody>\n",
              "</table>\n",
              "</div>\n",
              "      <button class=\"colab-df-convert\" onclick=\"convertToInteractive('df-c8b24565-1353-4542-9e6a-1c2a012e732b')\"\n",
              "              title=\"Convert this dataframe to an interactive table.\"\n",
              "              style=\"display:none;\">\n",
              "        \n",
              "  <svg xmlns=\"http://www.w3.org/2000/svg\" height=\"24px\"viewBox=\"0 0 24 24\"\n",
              "       width=\"24px\">\n",
              "    <path d=\"M0 0h24v24H0V0z\" fill=\"none\"/>\n",
              "    <path d=\"M18.56 5.44l.94 2.06.94-2.06 2.06-.94-2.06-.94-.94-2.06-.94 2.06-2.06.94zm-11 1L8.5 8.5l.94-2.06 2.06-.94-2.06-.94L8.5 2.5l-.94 2.06-2.06.94zm10 10l.94 2.06.94-2.06 2.06-.94-2.06-.94-.94-2.06-.94 2.06-2.06.94z\"/><path d=\"M17.41 7.96l-1.37-1.37c-.4-.4-.92-.59-1.43-.59-.52 0-1.04.2-1.43.59L10.3 9.45l-7.72 7.72c-.78.78-.78 2.05 0 2.83L4 21.41c.39.39.9.59 1.41.59.51 0 1.02-.2 1.41-.59l7.78-7.78 2.81-2.81c.8-.78.8-2.07 0-2.86zM5.41 20L4 18.59l7.72-7.72 1.47 1.35L5.41 20z\"/>\n",
              "  </svg>\n",
              "      </button>\n",
              "      \n",
              "  <style>\n",
              "    .colab-df-container {\n",
              "      display:flex;\n",
              "      flex-wrap:wrap;\n",
              "      gap: 12px;\n",
              "    }\n",
              "\n",
              "    .colab-df-convert {\n",
              "      background-color: #E8F0FE;\n",
              "      border: none;\n",
              "      border-radius: 50%;\n",
              "      cursor: pointer;\n",
              "      display: none;\n",
              "      fill: #1967D2;\n",
              "      height: 32px;\n",
              "      padding: 0 0 0 0;\n",
              "      width: 32px;\n",
              "    }\n",
              "\n",
              "    .colab-df-convert:hover {\n",
              "      background-color: #E2EBFA;\n",
              "      box-shadow: 0px 1px 2px rgba(60, 64, 67, 0.3), 0px 1px 3px 1px rgba(60, 64, 67, 0.15);\n",
              "      fill: #174EA6;\n",
              "    }\n",
              "\n",
              "    [theme=dark] .colab-df-convert {\n",
              "      background-color: #3B4455;\n",
              "      fill: #D2E3FC;\n",
              "    }\n",
              "\n",
              "    [theme=dark] .colab-df-convert:hover {\n",
              "      background-color: #434B5C;\n",
              "      box-shadow: 0px 1px 3px 1px rgba(0, 0, 0, 0.15);\n",
              "      filter: drop-shadow(0px 1px 2px rgba(0, 0, 0, 0.3));\n",
              "      fill: #FFFFFF;\n",
              "    }\n",
              "  </style>\n",
              "\n",
              "      <script>\n",
              "        const buttonEl =\n",
              "          document.querySelector('#df-c8b24565-1353-4542-9e6a-1c2a012e732b button.colab-df-convert');\n",
              "        buttonEl.style.display =\n",
              "          google.colab.kernel.accessAllowed ? 'block' : 'none';\n",
              "\n",
              "        async function convertToInteractive(key) {\n",
              "          const element = document.querySelector('#df-c8b24565-1353-4542-9e6a-1c2a012e732b');\n",
              "          const dataTable =\n",
              "            await google.colab.kernel.invokeFunction('convertToInteractive',\n",
              "                                                     [key], {});\n",
              "          if (!dataTable) return;\n",
              "\n",
              "          const docLinkHtml = 'Like what you see? Visit the ' +\n",
              "            '<a target=\"_blank\" href=https://colab.research.google.com/notebooks/data_table.ipynb>data table notebook</a>'\n",
              "            + ' to learn more about interactive tables.';\n",
              "          element.innerHTML = '';\n",
              "          dataTable['output_type'] = 'display_data';\n",
              "          await google.colab.output.renderOutput(dataTable, element);\n",
              "          const docLink = document.createElement('div');\n",
              "          docLink.innerHTML = docLinkHtml;\n",
              "          element.appendChild(docLink);\n",
              "        }\n",
              "      </script>\n",
              "    </div>\n",
              "  </div>\n",
              "  "
            ]
          },
          "metadata": {},
          "execution_count": 8
        }
      ]
    },
    {
      "cell_type": "markdown",
      "metadata": {
        "id": "8C79QIcUPSyd"
      },
      "source": [
        "<a name = Section5></a>\n",
        "\n",
        "---\n",
        "# **5. Data Pre-Processing**\n",
        "---"
      ]
    },
    {
      "cell_type": "markdown",
      "metadata": {
        "id": "UythVs5wP9d5"
      },
      "source": [
        "<a name = Section51></a>\n",
        "### **5.1 Pre-Profiling Report**\n",
        "\n",
        "- For **quick analysis** pandas profiling is very handy.\n",
        "\n",
        "- Generates profile reports from a pandas DataFrame.\n",
        "\n",
        "- For each column **statistics** are presented in an interactive HTML report."
      ]
    },
    {
      "cell_type": "code",
      "source": [
        "# need to install for to fix the cat_join error.\n",
        "# !pip install https://github.com/pandas-profiling/pandas-profiling/archive/master.zip"
      ],
      "metadata": {
        "id": "QVrWCo_vriQi"
      },
      "execution_count": null,
      "outputs": []
    },
    {
      "cell_type": "code",
      "metadata": {
        "id": "SKh0u3E7PVF_"
      },
      "source": [
        "profile = ProfileReport(df = health_train)\n",
        "profile.to_file(output_file = 'Pre Profiling Report.html')\n",
        "print('Accomplished!')"
      ],
      "execution_count": null,
      "outputs": []
    },
    {
      "cell_type": "markdown",
      "metadata": {
        "id": "Qp-cWI2y-och"
      },
      "source": [
        "**Uncomment and run** the below to generate the profiling report."
      ]
    },
    {
      "cell_type": "code",
      "metadata": {
        "id": "fB2_XhsIPaw-",
        "outputId": "959ffbdc-8b61-43bc-8e63-370664332a9b",
        "colab": {
          "base_uri": "https://localhost:8080/",
          "height": 17
        }
      },
      "source": [
        "from google.colab import files                   # Use only if you are using Google Colab, otherwise remove it\n",
        "files.download('Pre Profiling Report.html')      # Use only if you are using Google Colab, otherwise remove it"
      ],
      "execution_count": null,
      "outputs": [
        {
          "output_type": "display_data",
          "data": {
            "text/plain": [
              "<IPython.core.display.Javascript object>"
            ],
            "application/javascript": [
              "\n",
              "    async function download(id, filename, size) {\n",
              "      if (!google.colab.kernel.accessAllowed) {\n",
              "        return;\n",
              "      }\n",
              "      const div = document.createElement('div');\n",
              "      const label = document.createElement('label');\n",
              "      label.textContent = `Downloading \"${filename}\": `;\n",
              "      div.appendChild(label);\n",
              "      const progress = document.createElement('progress');\n",
              "      progress.max = size;\n",
              "      div.appendChild(progress);\n",
              "      document.body.appendChild(div);\n",
              "\n",
              "      const buffers = [];\n",
              "      let downloaded = 0;\n",
              "\n",
              "      const channel = await google.colab.kernel.comms.open(id);\n",
              "      // Send a message to notify the kernel that we're ready.\n",
              "      channel.send({})\n",
              "\n",
              "      for await (const message of channel.messages) {\n",
              "        // Send a message to notify the kernel that we're ready.\n",
              "        channel.send({})\n",
              "        if (message.buffers) {\n",
              "          for (const buffer of message.buffers) {\n",
              "            buffers.push(buffer);\n",
              "            downloaded += buffer.byteLength;\n",
              "            progress.value = downloaded;\n",
              "          }\n",
              "        }\n",
              "      }\n",
              "      const blob = new Blob(buffers, {type: 'application/binary'});\n",
              "      const a = document.createElement('a');\n",
              "      a.href = window.URL.createObjectURL(blob);\n",
              "      a.download = filename;\n",
              "      div.appendChild(a);\n",
              "      a.click();\n",
              "      div.remove();\n",
              "    }\n",
              "  "
            ]
          },
          "metadata": {}
        },
        {
          "output_type": "display_data",
          "data": {
            "text/plain": [
              "<IPython.core.display.Javascript object>"
            ],
            "application/javascript": [
              "download(\"download_f268377b-ad86-4933-8f74-14dfe32b405c\", \"Pre Profiling Report.html\", 3123194)"
            ]
          },
          "metadata": {}
        }
      ]
    },
    {
      "cell_type": "markdown",
      "metadata": {
        "id": "2k7QAdvuUkGd"
      },
      "source": [
        "**Observation:**\n",
        "\n",
        "\n",
        "- Reports shows that the **number of variables**\tin our data is **14**.\n",
        "\n",
        "- **Number of observations(rows)** is\t38000\n",
        "\n",
        "- **Duplicate rows** are **0**\n",
        "\n",
        "- There is huge amount of **missing data** in Health_Indicator, Holding_Policy_Duration, and Holding_Policy_Type.\n",
        "\n",
        "- For full details checkout the report."
      ]
    },
    {
      "cell_type": "markdown",
      "metadata": {
        "id": "OZlh7APFQT89"
      },
      "source": [
        "<a name = Section52></a>\n",
        "### **5.2 Identification & Handling of Missing Data**\n",
        "\n",
        "- In this section we will **analyze** and **identify** **missing information** such as **null data** and **zero data**."
      ]
    },
    {
      "cell_type": "code",
      "metadata": {
        "id": "LMmJsh_hQGDI",
        "outputId": "a11f42c0-27bd-4838-a86f-72b76c57ddfd",
        "colab": {
          "base_uri": "https://localhost:8080/",
          "height": 326
        }
      },
      "source": [
        "#Creating a New dataframe\n",
        "missing_frame = pd.DataFrame(index = health_train.columns.values) \n",
        "\n",
        "#Adding a column in the newly created dataframe\n",
        "missing_frame['Null Frequency'] = health_train.isnull().sum().values\n",
        "\n",
        "#Calculating the percentage of null values\n",
        "nullpercent = health_train.isnull().sum().values/health_train.shape[0]\n",
        "\n",
        "#Rounding the percentage of missing values and adding it to the dataFrame\n",
        "missing_frame['Missing Null %age'] = np.round(nullpercent, decimals = 4) * 100\n",
        "\n",
        "#Counting the number of 0 value present and adding it to the column in our dataFrame\n",
        "missing_frame['Zero Frequency'] = health_train[health_train == 0].count().values\n",
        "\n",
        "#Calculating the Percentage of Zero\n",
        "zero_percent = health_train[health_train == 0].count().values / health_train.shape[0]\n",
        "\n",
        "#Rounding and adding a column the dataframe which consists of the percent of 0 value present.\n",
        "missing_frame['Missing %age'] = np.round(zero_percent, decimals = 4) * 100\n",
        "missing_frame.transpose()"
      ],
      "execution_count": 9,
      "outputs": [
        {
          "output_type": "execute_result",
          "data": {
            "text/plain": [
              "                    ID  City_Code  Region_Code  Accomodation_Type  \\\n",
              "Null Frequency     0.0        0.0          0.0                0.0   \n",
              "Missing Null %age  0.0        0.0          0.0                0.0   \n",
              "Zero Frequency     0.0        0.0          0.0                0.0   \n",
              "Missing %age       0.0        0.0          0.0                0.0   \n",
              "\n",
              "                   Reco_Insurance_Type  Upper_Age  Lower_Age  Is_Spouse  \\\n",
              "Null Frequency                     0.0        0.0        0.0        0.0   \n",
              "Missing Null %age                  0.0        0.0        0.0        0.0   \n",
              "Zero Frequency                     0.0        0.0        0.0        0.0   \n",
              "Missing %age                       0.0        0.0        0.0        0.0   \n",
              "\n",
              "                   Health Indicator  Holding_Policy_Duration  \\\n",
              "Null Frequency              8720.00                 15081.00   \n",
              "Missing Null %age             22.95                    39.69   \n",
              "Zero Frequency                 0.00                     0.00   \n",
              "Missing %age                   0.00                     0.00   \n",
              "\n",
              "                   Holding_Policy_Type  Reco_Policy_Cat  Reco_Policy_Premium  \\\n",
              "Null Frequency                15081.00              0.0                  0.0   \n",
              "Missing Null %age                39.69              0.0                  0.0   \n",
              "Zero Frequency                    0.00              0.0                  0.0   \n",
              "Missing %age                      0.00              0.0                  0.0   \n",
              "\n",
              "                   Response  \n",
              "Null Frequency         0.00  \n",
              "Missing Null %age      0.00  \n",
              "Zero Frequency     28932.00  \n",
              "Missing %age          76.14  "
            ],
            "text/html": [
              "\n",
              "  <div id=\"df-bd743b84-7af2-4c8a-98ec-6693162d8eb3\">\n",
              "    <div class=\"colab-df-container\">\n",
              "      <div>\n",
              "<style scoped>\n",
              "    .dataframe tbody tr th:only-of-type {\n",
              "        vertical-align: middle;\n",
              "    }\n",
              "\n",
              "    .dataframe tbody tr th {\n",
              "        vertical-align: top;\n",
              "    }\n",
              "\n",
              "    .dataframe thead th {\n",
              "        text-align: right;\n",
              "    }\n",
              "</style>\n",
              "<table border=\"1\" class=\"dataframe\">\n",
              "  <thead>\n",
              "    <tr style=\"text-align: right;\">\n",
              "      <th></th>\n",
              "      <th>ID</th>\n",
              "      <th>City_Code</th>\n",
              "      <th>Region_Code</th>\n",
              "      <th>Accomodation_Type</th>\n",
              "      <th>Reco_Insurance_Type</th>\n",
              "      <th>Upper_Age</th>\n",
              "      <th>Lower_Age</th>\n",
              "      <th>Is_Spouse</th>\n",
              "      <th>Health Indicator</th>\n",
              "      <th>Holding_Policy_Duration</th>\n",
              "      <th>Holding_Policy_Type</th>\n",
              "      <th>Reco_Policy_Cat</th>\n",
              "      <th>Reco_Policy_Premium</th>\n",
              "      <th>Response</th>\n",
              "    </tr>\n",
              "  </thead>\n",
              "  <tbody>\n",
              "    <tr>\n",
              "      <th>Null Frequency</th>\n",
              "      <td>0.0</td>\n",
              "      <td>0.0</td>\n",
              "      <td>0.0</td>\n",
              "      <td>0.0</td>\n",
              "      <td>0.0</td>\n",
              "      <td>0.0</td>\n",
              "      <td>0.0</td>\n",
              "      <td>0.0</td>\n",
              "      <td>8720.00</td>\n",
              "      <td>15081.00</td>\n",
              "      <td>15081.00</td>\n",
              "      <td>0.0</td>\n",
              "      <td>0.0</td>\n",
              "      <td>0.00</td>\n",
              "    </tr>\n",
              "    <tr>\n",
              "      <th>Missing Null %age</th>\n",
              "      <td>0.0</td>\n",
              "      <td>0.0</td>\n",
              "      <td>0.0</td>\n",
              "      <td>0.0</td>\n",
              "      <td>0.0</td>\n",
              "      <td>0.0</td>\n",
              "      <td>0.0</td>\n",
              "      <td>0.0</td>\n",
              "      <td>22.95</td>\n",
              "      <td>39.69</td>\n",
              "      <td>39.69</td>\n",
              "      <td>0.0</td>\n",
              "      <td>0.0</td>\n",
              "      <td>0.00</td>\n",
              "    </tr>\n",
              "    <tr>\n",
              "      <th>Zero Frequency</th>\n",
              "      <td>0.0</td>\n",
              "      <td>0.0</td>\n",
              "      <td>0.0</td>\n",
              "      <td>0.0</td>\n",
              "      <td>0.0</td>\n",
              "      <td>0.0</td>\n",
              "      <td>0.0</td>\n",
              "      <td>0.0</td>\n",
              "      <td>0.00</td>\n",
              "      <td>0.00</td>\n",
              "      <td>0.00</td>\n",
              "      <td>0.0</td>\n",
              "      <td>0.0</td>\n",
              "      <td>28932.00</td>\n",
              "    </tr>\n",
              "    <tr>\n",
              "      <th>Missing %age</th>\n",
              "      <td>0.0</td>\n",
              "      <td>0.0</td>\n",
              "      <td>0.0</td>\n",
              "      <td>0.0</td>\n",
              "      <td>0.0</td>\n",
              "      <td>0.0</td>\n",
              "      <td>0.0</td>\n",
              "      <td>0.0</td>\n",
              "      <td>0.00</td>\n",
              "      <td>0.00</td>\n",
              "      <td>0.00</td>\n",
              "      <td>0.0</td>\n",
              "      <td>0.0</td>\n",
              "      <td>76.14</td>\n",
              "    </tr>\n",
              "  </tbody>\n",
              "</table>\n",
              "</div>\n",
              "      <button class=\"colab-df-convert\" onclick=\"convertToInteractive('df-bd743b84-7af2-4c8a-98ec-6693162d8eb3')\"\n",
              "              title=\"Convert this dataframe to an interactive table.\"\n",
              "              style=\"display:none;\">\n",
              "        \n",
              "  <svg xmlns=\"http://www.w3.org/2000/svg\" height=\"24px\"viewBox=\"0 0 24 24\"\n",
              "       width=\"24px\">\n",
              "    <path d=\"M0 0h24v24H0V0z\" fill=\"none\"/>\n",
              "    <path d=\"M18.56 5.44l.94 2.06.94-2.06 2.06-.94-2.06-.94-.94-2.06-.94 2.06-2.06.94zm-11 1L8.5 8.5l.94-2.06 2.06-.94-2.06-.94L8.5 2.5l-.94 2.06-2.06.94zm10 10l.94 2.06.94-2.06 2.06-.94-2.06-.94-.94-2.06-.94 2.06-2.06.94z\"/><path d=\"M17.41 7.96l-1.37-1.37c-.4-.4-.92-.59-1.43-.59-.52 0-1.04.2-1.43.59L10.3 9.45l-7.72 7.72c-.78.78-.78 2.05 0 2.83L4 21.41c.39.39.9.59 1.41.59.51 0 1.02-.2 1.41-.59l7.78-7.78 2.81-2.81c.8-.78.8-2.07 0-2.86zM5.41 20L4 18.59l7.72-7.72 1.47 1.35L5.41 20z\"/>\n",
              "  </svg>\n",
              "      </button>\n",
              "      \n",
              "  <style>\n",
              "    .colab-df-container {\n",
              "      display:flex;\n",
              "      flex-wrap:wrap;\n",
              "      gap: 12px;\n",
              "    }\n",
              "\n",
              "    .colab-df-convert {\n",
              "      background-color: #E8F0FE;\n",
              "      border: none;\n",
              "      border-radius: 50%;\n",
              "      cursor: pointer;\n",
              "      display: none;\n",
              "      fill: #1967D2;\n",
              "      height: 32px;\n",
              "      padding: 0 0 0 0;\n",
              "      width: 32px;\n",
              "    }\n",
              "\n",
              "    .colab-df-convert:hover {\n",
              "      background-color: #E2EBFA;\n",
              "      box-shadow: 0px 1px 2px rgba(60, 64, 67, 0.3), 0px 1px 3px 1px rgba(60, 64, 67, 0.15);\n",
              "      fill: #174EA6;\n",
              "    }\n",
              "\n",
              "    [theme=dark] .colab-df-convert {\n",
              "      background-color: #3B4455;\n",
              "      fill: #D2E3FC;\n",
              "    }\n",
              "\n",
              "    [theme=dark] .colab-df-convert:hover {\n",
              "      background-color: #434B5C;\n",
              "      box-shadow: 0px 1px 3px 1px rgba(0, 0, 0, 0.15);\n",
              "      filter: drop-shadow(0px 1px 2px rgba(0, 0, 0, 0.3));\n",
              "      fill: #FFFFFF;\n",
              "    }\n",
              "  </style>\n",
              "\n",
              "      <script>\n",
              "        const buttonEl =\n",
              "          document.querySelector('#df-bd743b84-7af2-4c8a-98ec-6693162d8eb3 button.colab-df-convert');\n",
              "        buttonEl.style.display =\n",
              "          google.colab.kernel.accessAllowed ? 'block' : 'none';\n",
              "\n",
              "        async function convertToInteractive(key) {\n",
              "          const element = document.querySelector('#df-bd743b84-7af2-4c8a-98ec-6693162d8eb3');\n",
              "          const dataTable =\n",
              "            await google.colab.kernel.invokeFunction('convertToInteractive',\n",
              "                                                     [key], {});\n",
              "          if (!dataTable) return;\n",
              "\n",
              "          const docLinkHtml = 'Like what you see? Visit the ' +\n",
              "            '<a target=\"_blank\" href=https://colab.research.google.com/notebooks/data_table.ipynb>data table notebook</a>'\n",
              "            + ' to learn more about interactive tables.';\n",
              "          element.innerHTML = '';\n",
              "          dataTable['output_type'] = 'display_data';\n",
              "          await google.colab.output.renderOutput(dataTable, element);\n",
              "          const docLink = document.createElement('div');\n",
              "          docLink.innerHTML = docLinkHtml;\n",
              "          element.appendChild(docLink);\n",
              "        }\n",
              "      </script>\n",
              "    </div>\n",
              "  </div>\n",
              "  "
            ]
          },
          "metadata": {},
          "execution_count": 9
        }
      ]
    },
    {
      "cell_type": "code",
      "source": [
        "#Replacing polocy duration from 14+ to 14.\n",
        "health_train[\"Holding_Policy_Duration\"] = health_train[\"Holding_Policy_Duration\"].replace('14+', 14)\n",
        "health_test[\"Holding_Policy_Duration\"] = health_test[\"Holding_Policy_Duration\"].replace('14+', 14)"
      ],
      "metadata": {
        "id": "1vSp-oPfrSSW"
      },
      "execution_count": 10,
      "outputs": []
    },
    {
      "cell_type": "code",
      "source": [
        "#changing the data type from string to float\n",
        "health_train[\"Holding_Policy_Duration\"] = health_train[\"Holding_Policy_Duration\"].astype('float64')\n",
        "health_test[\"Holding_Policy_Duration\"] = health_test[\"Holding_Policy_Duration\"].astype('float64')"
      ],
      "metadata": {
        "id": "BFJTkn02rkzP"
      },
      "execution_count": 11,
      "outputs": []
    },
    {
      "cell_type": "markdown",
      "metadata": {
        "id": "JcscQyiCQ9pU"
      },
      "source": [
        "- Dealing with missing values<br/>\n",
        "    - Missing value imputation for numerical features can be done using the mean or the median.\n",
        "    - The missing value in the data should always be checked before moving on with any experimentation."
      ]
    },
    {
      "cell_type": "code",
      "metadata": {
        "id": "bIHPTyZSRONW"
      },
      "source": [
        "#filling missing value in train data\n",
        "health_train[\"Health Indicator\"] = health_train[\"Health Indicator\"].fillna(health_train[\"Health Indicator\"].mode()[0])\n",
        "health_train[\"Holding_Policy_Type\"] = health_train[\"Holding_Policy_Type\"].fillna(health_train[\"Holding_Policy_Type\"].median())\n",
        "health_train[\"Holding_Policy_Duration\"] = health_train[\"Holding_Policy_Duration\"].fillna(health_train[\"Holding_Policy_Duration\"].median())\n",
        "\n",
        "#filling missing value in test data\n",
        "health_test[\"Health Indicator\"] = health_test[\"Health Indicator\"].fillna(health_test[\"Health Indicator\"].mode()[0])\n",
        "health_test[\"Holding_Policy_Type\"] = health_test[\"Holding_Policy_Type\"].fillna(health_test[\"Holding_Policy_Type\"].median())\n",
        "health_test[\"Holding_Policy_Duration\"] = health_test[\"Holding_Policy_Duration\"].fillna(health_test[\"Holding_Policy_Duration\"].median())\n"
      ],
      "execution_count": 12,
      "outputs": []
    },
    {
      "cell_type": "code",
      "metadata": {
        "id": "7GpliTMARsHi",
        "colab": {
          "base_uri": "https://localhost:8080/"
        },
        "outputId": "dce42023-3d26-4efe-9b7f-5dd811f04b07"
      },
      "source": [
        "health_train.info()"
      ],
      "execution_count": 13,
      "outputs": [
        {
          "output_type": "stream",
          "name": "stdout",
          "text": [
            "<class 'pandas.core.frame.DataFrame'>\n",
            "RangeIndex: 38000 entries, 0 to 37999\n",
            "Data columns (total 14 columns):\n",
            " #   Column                   Non-Null Count  Dtype  \n",
            "---  ------                   --------------  -----  \n",
            " 0   ID                       38000 non-null  int64  \n",
            " 1   City_Code                38000 non-null  object \n",
            " 2   Region_Code              38000 non-null  int64  \n",
            " 3   Accomodation_Type        38000 non-null  object \n",
            " 4   Reco_Insurance_Type      38000 non-null  object \n",
            " 5   Upper_Age                38000 non-null  int64  \n",
            " 6   Lower_Age                38000 non-null  int64  \n",
            " 7   Is_Spouse                38000 non-null  object \n",
            " 8   Health Indicator         38000 non-null  object \n",
            " 9   Holding_Policy_Duration  38000 non-null  float64\n",
            " 10  Holding_Policy_Type      38000 non-null  float64\n",
            " 11  Reco_Policy_Cat          38000 non-null  int64  \n",
            " 12  Reco_Policy_Premium      38000 non-null  float64\n",
            " 13  Response                 38000 non-null  int64  \n",
            "dtypes: float64(3), int64(6), object(5)\n",
            "memory usage: 4.1+ MB\n"
          ]
        }
      ]
    },
    {
      "cell_type": "code",
      "source": [
        "health_test.info()"
      ],
      "metadata": {
        "colab": {
          "base_uri": "https://localhost:8080/"
        },
        "id": "f2Cve9RpyZqI",
        "outputId": "37337d49-146c-44cc-9008-04c5c3e51e8f"
      },
      "execution_count": 14,
      "outputs": [
        {
          "output_type": "stream",
          "name": "stdout",
          "text": [
            "<class 'pandas.core.frame.DataFrame'>\n",
            "RangeIndex: 12882 entries, 0 to 12881\n",
            "Data columns (total 13 columns):\n",
            " #   Column                   Non-Null Count  Dtype  \n",
            "---  ------                   --------------  -----  \n",
            " 0   ID                       12882 non-null  int64  \n",
            " 1   City_Code                12882 non-null  object \n",
            " 2   Region_Code              12882 non-null  int64  \n",
            " 3   Accomodation_Type        12882 non-null  object \n",
            " 4   Reco_Insurance_Type      12882 non-null  object \n",
            " 5   Upper_Age                12882 non-null  int64  \n",
            " 6   Lower_Age                12882 non-null  int64  \n",
            " 7   Is_Spouse                12882 non-null  object \n",
            " 8   Health Indicator         12882 non-null  object \n",
            " 9   Holding_Policy_Duration  12882 non-null  float64\n",
            " 10  Holding_Policy_Type      12882 non-null  float64\n",
            " 11  Reco_Policy_Cat          12882 non-null  int64  \n",
            " 12  Reco_Policy_Premium      12882 non-null  float64\n",
            "dtypes: float64(3), int64(5), object(5)\n",
            "memory usage: 1.3+ MB\n"
          ]
        }
      ]
    },
    {
      "cell_type": "markdown",
      "metadata": {
        "id": "t_h3On9DRr1O"
      },
      "source": [
        "<a name = Section6></a>\n",
        "\n",
        "---\n",
        "# **6. Exploratory Data Analysis**\n",
        "---"
      ]
    },
    {
      "cell_type": "markdown",
      "metadata": {
        "id": "KP0gF-CJTmsF"
      },
      "source": [
        "**<h4>Question: What is the frequency and proportion of Response?</h4>**"
      ]
    },
    {
      "cell_type": "code",
      "metadata": {
        "id": "e6WUTof_TVou",
        "outputId": "6f5735bd-400b-472e-ea9a-e9066b00f869",
        "colab": {
          "base_uri": "https://localhost:8080/"
        }
      },
      "source": [
        "health_train.Response.value_counts()"
      ],
      "execution_count": 15,
      "outputs": [
        {
          "output_type": "execute_result",
          "data": {
            "text/plain": [
              "0    28932\n",
              "1     9068\n",
              "Name: Response, dtype: int64"
            ]
          },
          "metadata": {},
          "execution_count": 15
        }
      ]
    },
    {
      "cell_type": "code",
      "metadata": {
        "id": "TTSJZZPiSJYN",
        "outputId": "0a75b45c-df07-4487-a6b9-bf0cea02702e",
        "colab": {
          "base_uri": "https://localhost:8080/",
          "height": 518
        }
      },
      "source": [
        "# setting a figure of size of 20 x 7 inches\n",
        "fig = plt.figure(figsize = [15, 8])\n",
        "\n",
        "sns.countplot(x = 'Response', data = health_train)\n",
        "\n",
        "# Adding cosmetics to graph\n",
        "plt.xlabel(xlabel = 'Response', size = 14)\n",
        "plt.ylabel(ylabel = 'Frequency', size = 14)\n",
        "plt.title(label = 'Frequency Distribution', size = 14)\n",
        "\n",
        "# Display the plot\n",
        "plt.show()"
      ],
      "execution_count": 16,
      "outputs": [
        {
          "output_type": "display_data",
          "data": {
            "text/plain": [
              "<Figure size 1080x576 with 1 Axes>"
            ],
            "image/png": "[encoded data removed]"
          },
          "metadata": {
            "needs_background": "light"
          }
        }
      ]
    },
    {
      "cell_type": "markdown",
      "metadata": {
        "id": "p56bCEDkTtet"
      },
      "source": [
        "**Observation:**\n",
        "\n",
        "- We can observe that there are lesser number of responses on recommended policy.\n",
        "- This might pose a **big problem** while **performing model building**, but we **will see what we can do**."
      ]
    },
    {
      "cell_type": "markdown",
      "metadata": {
        "id": "J1mckMVnUAes"
      },
      "source": [
        "**<h4>Question: Is there any association between Age and Survival?</h4>**\n"
      ]
    },
    {
      "cell_type": "code",
      "metadata": {
        "id": "uc_2tbIYUQhU",
        "outputId": "5806fc3f-f27c-4451-b79b-3d2f728bc0b0",
        "colab": {
          "base_uri": "https://localhost:8080/",
          "height": 460
        }
      },
      "source": [
        "# Slicing data with non-resonse\n",
        "Not_Response = health_train['Upper_Age'][health_train['Response'] == 0]\n",
        "\n",
        "# Slicing data with response\n",
        "Response = health_train['Upper_Age'][health_train['Response'] == 1]\n",
        "\n",
        "# Plotting the distribution of the sliced data\n",
        "fig, (ax1, ax2) = plt.subplots(nrows = 2, ncols = 1, sharex = True, figsize = (20, 7))\n",
        "sns.distplot(a = Not_Response, bins = 50, ax = ax1, color = 'red')\n",
        "ax1.set_title(label = 'Distribution of People who did not Responded', size = 14)\n",
        "ax1.set_xlabel(xlabel = '')\n",
        "sns.distplot(a = Response, bins = 50, ax = ax2, color = 'green')\n",
        "ax2.set_title(label = 'Distribution of People who Responded', size = 14)\n",
        "plt.show()"
      ],
      "execution_count": 17,
      "outputs": [
        {
          "output_type": "display_data",
          "data": {
            "text/plain": [
              "<Figure size 1440x504 with 2 Axes>"
            ],
            "image/png": "[encoded data removed]"
          },
          "metadata": {
            "needs_background": "light"
          }
        }
      ]
    },
    {
      "cell_type": "markdown",
      "metadata": {
        "id": "H_dCvfIbeHmB"
      },
      "source": [
        "**Observation:**\n",
        "\n",
        "- We can see that the distribution of both the cases are similar."
      ]
    },
    {
      "cell_type": "markdown",
      "metadata": {
        "id": "-ONKh0g9Vs73"
      },
      "source": [
        "**<h4>Question: Is there any relation between Response and Accomodation_Type?</h4>**"
      ]
    },
    {
      "cell_type": "code",
      "metadata": {
        "id": "XgMpGE-tWyXV",
        "outputId": "ff8a1379-fd1c-4e0f-9eb2-5d1e733544dc",
        "colab": {
          "base_uri": "https://localhost:8080/"
        }
      },
      "source": [
        "Not_Responded = health_train['Accomodation_Type'][health_train['Response'] == 0]\n",
        "Not_Responded.value_counts()"
      ],
      "execution_count": 18,
      "outputs": [
        {
          "output_type": "execute_result",
          "data": {
            "text/plain": [
              "Owned     15787\n",
              "Rented    13145\n",
              "Name: Accomodation_Type, dtype: int64"
            ]
          },
          "metadata": {},
          "execution_count": 18
        }
      ]
    },
    {
      "cell_type": "code",
      "source": [
        "Responded = health_train['Accomodation_Type'][health_train['Response'] == 1]\n",
        "Responded.value_counts()"
      ],
      "metadata": {
        "colab": {
          "base_uri": "https://localhost:8080/"
        },
        "id": "uxUAnHC02XqJ",
        "outputId": "c7d55bab-f3a4-4231-c75f-3a3a45803ebc"
      },
      "execution_count": 19,
      "outputs": [
        {
          "output_type": "execute_result",
          "data": {
            "text/plain": [
              "Owned     4999\n",
              "Rented    4069\n",
              "Name: Accomodation_Type, dtype: int64"
            ]
          },
          "metadata": {},
          "execution_count": 19
        }
      ]
    },
    {
      "cell_type": "code",
      "metadata": {
        "id": "Gtp-k1kmVrJd",
        "outputId": "f1721d27-6791-4f65-c4a8-d17664fb16cf",
        "colab": {
          "base_uri": "https://localhost:8080/",
          "height": 623
        }
      },
      "source": [
        "# Slicing data with non-responded\n",
        "Not_Respond = health_train['Accomodation_Type'][health_train['Response'] == 0]\n",
        "\n",
        "# Slicing data with responded\n",
        "Respond = health_train['Accomodation_Type'][health_train['Response'] == 1]\n",
        "\n",
        "fig, (ax1, ax2) = plt.subplots(nrows = 2, ncols = 1, sharex = True, figsize = (20, 10))\n",
        "sns.countplot(Not_Respond,ax=ax1)\n",
        "ax1.set_title(label = 'Distribution of People who did not Responded', size = 14)\n",
        "ax1.set_xlabel(xlabel = 'Accomodation Type')\n",
        "sns.countplot( Respond,ax=ax2)\n",
        "ax2.set_title(label = 'Distribution of People who did Responded', size = 14)\n",
        "plt.show()"
      ],
      "execution_count": 20,
      "outputs": [
        {
          "output_type": "display_data",
          "data": {
            "text/plain": [
              "<Figure size 1440x720 with 2 Axes>"
            ],
            "image/png": "[encoded data removed]"
          },
          "metadata": {
            "needs_background": "light"
          }
        }
      ]
    },
    {
      "cell_type": "markdown",
      "metadata": {
        "id": "4ywY8Q0qXxkO"
      },
      "source": [
        "**Observation:**\n",
        "\n",
        "- We can **observe** most Owner has been responded and non-responded category as compare to rented type."
      ]
    },
    {
      "cell_type": "markdown",
      "metadata": {
        "id": "dlQrElicYYFF"
      },
      "source": [
        "**<h4>Question: Is there any relation between Reco_Policy_Premium and Reco_Insurance_TypeReco_Policy_Premium?</h4>**"
      ]
    },
    {
      "cell_type": "code",
      "metadata": {
        "id": "W4ho2c9mYXM5",
        "outputId": "145036c0-681e-441e-cd60-bd6917bd800d",
        "colab": {
          "base_uri": "https://localhost:8080/",
          "height": 175
        }
      },
      "source": [
        "health_train[['Reco_Policy_Premium','Reco_Insurance_Type']].groupby(by = 'Reco_Insurance_Type').describe()"
      ],
      "execution_count": 21,
      "outputs": [
        {
          "output_type": "execute_result",
          "data": {
            "text/plain": [
              "                    Reco_Policy_Premium                                     \\\n",
              "                                  count          mean          std     min   \n",
              "Reco_Insurance_Type                                                          \n",
              "Individual                      30214.0  12175.443238  4852.368884  2280.0   \n",
              "Joint                            7786.0  21967.673953  6708.329567  3762.0   \n",
              "\n",
              "                                                         \n",
              "                         25%      50%      75%      max  \n",
              "Reco_Insurance_Type                                      \n",
              "Individual            8428.0  11682.0  15678.0  29488.0  \n",
              "Joint                17136.0  22104.0  26747.4  43350.4  "
            ],
            "text/html": [
              "\n",
              "  <div id=\"df-de69735e-30b7-4076-b0fc-7bfc4481646f\">\n",
              "    <div class=\"colab-df-container\">\n",
              "      <div>\n",
              "<style scoped>\n",
              "    .dataframe tbody tr th:only-of-type {\n",
              "        vertical-align: middle;\n",
              "    }\n",
              "\n",
              "    .dataframe tbody tr th {\n",
              "        vertical-align: top;\n",
              "    }\n",
              "\n",
              "    .dataframe thead tr th {\n",
              "        text-align: left;\n",
              "    }\n",
              "\n",
              "    .dataframe thead tr:last-of-type th {\n",
              "        text-align: right;\n",
              "    }\n",
              "</style>\n",
              "<table border=\"1\" class=\"dataframe\">\n",
              "  <thead>\n",
              "    <tr>\n",
              "      <th></th>\n",
              "      <th colspan=\"8\" halign=\"left\">Reco_Policy_Premium</th>\n",
              "    </tr>\n",
              "    <tr>\n",
              "      <th></th>\n",
              "      <th>count</th>\n",
              "      <th>mean</th>\n",
              "      <th>std</th>\n",
              "      <th>min</th>\n",
              "      <th>25%</th>\n",
              "      <th>50%</th>\n",
              "      <th>75%</th>\n",
              "      <th>max</th>\n",
              "    </tr>\n",
              "    <tr>\n",
              "      <th>Reco_Insurance_Type</th>\n",
              "      <th></th>\n",
              "      <th></th>\n",
              "      <th></th>\n",
              "      <th></th>\n",
              "      <th></th>\n",
              "      <th></th>\n",
              "      <th></th>\n",
              "      <th></th>\n",
              "    </tr>\n",
              "  </thead>\n",
              "  <tbody>\n",
              "    <tr>\n",
              "      <th>Individual</th>\n",
              "      <td>30214.0</td>\n",
              "      <td>12175.443238</td>\n",
              "      <td>4852.368884</td>\n",
              "      <td>2280.0</td>\n",
              "      <td>8428.0</td>\n",
              "      <td>11682.0</td>\n",
              "      <td>15678.0</td>\n",
              "      <td>29488.0</td>\n",
              "    </tr>\n",
              "    <tr>\n",
              "      <th>Joint</th>\n",
              "      <td>7786.0</td>\n",
              "      <td>21967.673953</td>\n",
              "      <td>6708.329567</td>\n",
              "      <td>3762.0</td>\n",
              "      <td>17136.0</td>\n",
              "      <td>22104.0</td>\n",
              "      <td>26747.4</td>\n",
              "      <td>43350.4</td>\n",
              "    </tr>\n",
              "  </tbody>\n",
              "</table>\n",
              "</div>\n",
              "      <button class=\"colab-df-convert\" onclick=\"convertToInteractive('df-de69735e-30b7-4076-b0fc-7bfc4481646f')\"\n",
              "              title=\"Convert this dataframe to an interactive table.\"\n",
              "              style=\"display:none;\">\n",
              "        \n",
              "  <svg xmlns=\"http://www.w3.org/2000/svg\" height=\"24px\"viewBox=\"0 0 24 24\"\n",
              "       width=\"24px\">\n",
              "    <path d=\"M0 0h24v24H0V0z\" fill=\"none\"/>\n",
              "    <path d=\"M18.56 5.44l.94 2.06.94-2.06 2.06-.94-2.06-.94-.94-2.06-.94 2.06-2.06.94zm-11 1L8.5 8.5l.94-2.06 2.06-.94-2.06-.94L8.5 2.5l-.94 2.06-2.06.94zm10 10l.94 2.06.94-2.06 2.06-.94-2.06-.94-.94-2.06-.94 2.06-2.06.94z\"/><path d=\"M17.41 7.96l-1.37-1.37c-.4-.4-.92-.59-1.43-.59-.52 0-1.04.2-1.43.59L10.3 9.45l-7.72 7.72c-.78.78-.78 2.05 0 2.83L4 21.41c.39.39.9.59 1.41.59.51 0 1.02-.2 1.41-.59l7.78-7.78 2.81-2.81c.8-.78.8-2.07 0-2.86zM5.41 20L4 18.59l7.72-7.72 1.47 1.35L5.41 20z\"/>\n",
              "  </svg>\n",
              "      </button>\n",
              "      \n",
              "  <style>\n",
              "    .colab-df-container {\n",
              "      display:flex;\n",
              "      flex-wrap:wrap;\n",
              "      gap: 12px;\n",
              "    }\n",
              "\n",
              "    .colab-df-convert {\n",
              "      background-color: #E8F0FE;\n",
              "      border: none;\n",
              "      border-radius: 50%;\n",
              "      cursor: pointer;\n",
              "      display: none;\n",
              "      fill: #1967D2;\n",
              "      height: 32px;\n",
              "      padding: 0 0 0 0;\n",
              "      width: 32px;\n",
              "    }\n",
              "\n",
              "    .colab-df-convert:hover {\n",
              "      background-color: #E2EBFA;\n",
              "      box-shadow: 0px 1px 2px rgba(60, 64, 67, 0.3), 0px 1px 3px 1px rgba(60, 64, 67, 0.15);\n",
              "      fill: #174EA6;\n",
              "    }\n",
              "\n",
              "    [theme=dark] .colab-df-convert {\n",
              "      background-color: #3B4455;\n",
              "      fill: #D2E3FC;\n",
              "    }\n",
              "\n",
              "    [theme=dark] .colab-df-convert:hover {\n",
              "      background-color: #434B5C;\n",
              "      box-shadow: 0px 1px 3px 1px rgba(0, 0, 0, 0.15);\n",
              "      filter: drop-shadow(0px 1px 2px rgba(0, 0, 0, 0.3));\n",
              "      fill: #FFFFFF;\n",
              "    }\n",
              "  </style>\n",
              "\n",
              "      <script>\n",
              "        const buttonEl =\n",
              "          document.querySelector('#df-de69735e-30b7-4076-b0fc-7bfc4481646f button.colab-df-convert');\n",
              "        buttonEl.style.display =\n",
              "          google.colab.kernel.accessAllowed ? 'block' : 'none';\n",
              "\n",
              "        async function convertToInteractive(key) {\n",
              "          const element = document.querySelector('#df-de69735e-30b7-4076-b0fc-7bfc4481646f');\n",
              "          const dataTable =\n",
              "            await google.colab.kernel.invokeFunction('convertToInteractive',\n",
              "                                                     [key], {});\n",
              "          if (!dataTable) return;\n",
              "\n",
              "          const docLinkHtml = 'Like what you see? Visit the ' +\n",
              "            '<a target=\"_blank\" href=https://colab.research.google.com/notebooks/data_table.ipynb>data table notebook</a>'\n",
              "            + ' to learn more about interactive tables.';\n",
              "          element.innerHTML = '';\n",
              "          dataTable['output_type'] = 'display_data';\n",
              "          await google.colab.output.renderOutput(dataTable, element);\n",
              "          const docLink = document.createElement('div');\n",
              "          docLink.innerHTML = docLinkHtml;\n",
              "          element.appendChild(docLink);\n",
              "        }\n",
              "      </script>\n",
              "    </div>\n",
              "  </div>\n",
              "  "
            ]
          },
          "metadata": {},
          "execution_count": 21
        }
      ]
    },
    {
      "cell_type": "markdown",
      "metadata": {
        "id": "2RUZT8AfZnXB"
      },
      "source": [
        "**Observation:**\n",
        "\n",
        "- We can **observe** that individual policy holder is higher than joint policy holder but joint holder paying highest premium as compare to individual."
      ]
    },
    {
      "cell_type": "markdown",
      "source": [
        "**<h4>Question: Is there any outlier in policy data?</h4>**"
      ],
      "metadata": {
        "id": "ypl9b5ZStHE7"
      }
    },
    {
      "cell_type": "code",
      "source": [
        "plt.figure(figsize=(20,15))\n",
        "\n",
        "sns.boxplot(data=health_train)\n",
        "\n",
        "plt.xticks(fontsize=16 ,rotation=45)\n",
        "plt.yticks(fontsize=16)\n",
        "\n",
        "plt.show()"
      ],
      "metadata": {
        "colab": {
          "base_uri": "https://localhost:8080/",
          "height": 1000
        },
        "id": "VUUPE3fVtATW",
        "outputId": "087d365b-5f68-49c3-e8f0-2d5af3156f61"
      },
      "execution_count": 22,
      "outputs": [
        {
          "output_type": "display_data",
          "data": {
            "text/plain": [
              "<Figure size 1440x1080 with 1 Axes>"
            ],
            "image/png": "[encoded data removed]"
          },
          "metadata": {
            "needs_background": "light"
          }
        }
      ]
    },
    {
      "cell_type": "markdown",
      "metadata": {
        "id": "J4F1EvtbaHoq"
      },
      "source": [
        "<a name = Section7></a>\n",
        "\n",
        "---\n",
        "# **7. Post Data Processing & Feature Selection**\n",
        "---\n",
        "- Now we will **perform encoding of the categorical columns** and **feed it** to the **LogisticRegression**."
      ]
    },
    {
      "cell_type": "markdown",
      "metadata": {
        "id": "2oUgZb6wavso"
      },
      "source": [
        "<a name = Section71></a>\n",
        "### **7.1 Feature Selection**\n",
        "\n",
        "- we will **visualize  the correlation** of input features **using Heatmap**.\n"
      ]
    },
    {
      "cell_type": "code",
      "metadata": {
        "id": "BV3DUQHmjkFK",
        "outputId": "e4e8ff84-db96-4f10-a7cd-5dcc6b167094",
        "colab": {
          "base_uri": "https://localhost:8080/",
          "height": 922
        }
      },
      "source": [
        "corr = health_train.corr()\n",
        "plt.figure(figsize=(15,15))\n",
        "sns.heatmap(corr,vmax=.8,linewidth=.01, square = True, annot = True,cmap='YlGnBu',linecolor ='black')\n",
        "plt.title('Correlation between features')"
      ],
      "execution_count": 23,
      "outputs": [
        {
          "output_type": "execute_result",
          "data": {
            "text/plain": [
              "Text(0.5, 1.0, 'Correlation between features')"
            ]
          },
          "metadata": {},
          "execution_count": 23
        },
        {
          "output_type": "display_data",
          "data": {
            "text/plain": [
              "<Figure size 1080x1080 with 2 Axes>"
            ],
            "image/png": "[encoded data removed]"
          },
          "metadata": {
            "needs_background": "light"
          }
        }
      ]
    },
    {
      "cell_type": "markdown",
      "metadata": {
        "id": "aCIy4vYnjkFM"
      },
      "source": [
        "**Observation:** \n",
        "\n",
        "- __Region_Code__ is negatively corelated with __Response.__\n",
        "- __Reco_Policy_Cat__ are highly positively corelated with __Response.__\n",
        "- __Holding_Policy_duration__, __Upper_Age__ and __Reco_Policy_Premium__ as positiviely corelated with __Response.__"
      ]
    },
    {
      "cell_type": "markdown",
      "metadata": {
        "id": "Xet8w1fdbzj3"
      },
      "source": [
        "We will drop few features like `'ID', 'Region_Code', 'City_Code' and  'Lower_age'."
      ]
    },
    {
      "cell_type": "code",
      "metadata": {
        "id": "FsM7lHtPbqF4",
        "outputId": "3e95917b-4640-410b-aef0-b852e093f249",
        "colab": {
          "base_uri": "https://localhost:8080/",
          "height": 288
        }
      },
      "source": [
        "health_train_df = health_train.drop(['ID','Region_Code','City_Code','Lower_Age'], axis = 1)\n",
        "health_train_df.head()"
      ],
      "execution_count": 24,
      "outputs": [
        {
          "output_type": "execute_result",
          "data": {
            "text/plain": [
              "  Accomodation_Type Reco_Insurance_Type  Upper_Age Is_Spouse Health Indicator  \\\n",
              "0            Rented          Individual         36        No               X1   \n",
              "1             Owned               Joint         75        No               X2   \n",
              "2             Owned          Individual         32        No               X1   \n",
              "3             Owned               Joint         52        No               X1   \n",
              "4            Rented          Individual         44        No               X2   \n",
              "\n",
              "   Holding_Policy_Duration  Holding_Policy_Type  Reco_Policy_Cat  \\\n",
              "0                     14.0                  3.0               22   \n",
              "1                      5.0                  3.0               22   \n",
              "2                      1.0                  1.0               19   \n",
              "3                     14.0                  3.0               19   \n",
              "4                      3.0                  1.0               16   \n",
              "\n",
              "   Reco_Policy_Premium  Response  \n",
              "0              11628.0         0  \n",
              "1              30510.0         0  \n",
              "2               7450.0         1  \n",
              "3              17780.0         0  \n",
              "4              10404.0         0  "
            ],
            "text/html": [
              "\n",
              "  <div id=\"df-31a93a30-f182-406e-aafc-4bb3dd6de0d6\">\n",
              "    <div class=\"colab-df-container\">\n",
              "      <div>\n",
              "<style scoped>\n",
              "    .dataframe tbody tr th:only-of-type {\n",
              "        vertical-align: middle;\n",
              "    }\n",
              "\n",
              "    .dataframe tbody tr th {\n",
              "        vertical-align: top;\n",
              "    }\n",
              "\n",
              "    .dataframe thead th {\n",
              "        text-align: right;\n",
              "    }\n",
              "</style>\n",
              "<table border=\"1\" class=\"dataframe\">\n",
              "  <thead>\n",
              "    <tr style=\"text-align: right;\">\n",
              "      <th></th>\n",
              "      <th>Accomodation_Type</th>\n",
              "      <th>Reco_Insurance_Type</th>\n",
              "      <th>Upper_Age</th>\n",
              "      <th>Is_Spouse</th>\n",
              "      <th>Health Indicator</th>\n",
              "      <th>Holding_Policy_Duration</th>\n",
              "      <th>Holding_Policy_Type</th>\n",
              "      <th>Reco_Policy_Cat</th>\n",
              "      <th>Reco_Policy_Premium</th>\n",
              "      <th>Response</th>\n",
              "    </tr>\n",
              "  </thead>\n",
              "  <tbody>\n",
              "    <tr>\n",
              "      <th>0</th>\n",
              "      <td>Rented</td>\n",
              "      <td>Individual</td>\n",
              "      <td>36</td>\n",
              "      <td>No</td>\n",
              "      <td>X1</td>\n",
              "      <td>14.0</td>\n",
              "      <td>3.0</td>\n",
              "      <td>22</td>\n",
              "      <td>11628.0</td>\n",
              "      <td>0</td>\n",
              "    </tr>\n",
              "    <tr>\n",
              "      <th>1</th>\n",
              "      <td>Owned</td>\n",
              "      <td>Joint</td>\n",
              "      <td>75</td>\n",
              "      <td>No</td>\n",
              "      <td>X2</td>\n",
              "      <td>5.0</td>\n",
              "      <td>3.0</td>\n",
              "      <td>22</td>\n",
              "      <td>30510.0</td>\n",
              "      <td>0</td>\n",
              "    </tr>\n",
              "    <tr>\n",
              "      <th>2</th>\n",
              "      <td>Owned</td>\n",
              "      <td>Individual</td>\n",
              "      <td>32</td>\n",
              "      <td>No</td>\n",
              "      <td>X1</td>\n",
              "      <td>1.0</td>\n",
              "      <td>1.0</td>\n",
              "      <td>19</td>\n",
              "      <td>7450.0</td>\n",
              "      <td>1</td>\n",
              "    </tr>\n",
              "    <tr>\n",
              "      <th>3</th>\n",
              "      <td>Owned</td>\n",
              "      <td>Joint</td>\n",
              "      <td>52</td>\n",
              "      <td>No</td>\n",
              "      <td>X1</td>\n",
              "      <td>14.0</td>\n",
              "      <td>3.0</td>\n",
              "      <td>19</td>\n",
              "      <td>17780.0</td>\n",
              "      <td>0</td>\n",
              "    </tr>\n",
              "    <tr>\n",
              "      <th>4</th>\n",
              "      <td>Rented</td>\n",
              "      <td>Individual</td>\n",
              "      <td>44</td>\n",
              "      <td>No</td>\n",
              "      <td>X2</td>\n",
              "      <td>3.0</td>\n",
              "      <td>1.0</td>\n",
              "      <td>16</td>\n",
              "      <td>10404.0</td>\n",
              "      <td>0</td>\n",
              "    </tr>\n",
              "  </tbody>\n",
              "</table>\n",
              "</div>\n",
              "      <button class=\"colab-df-convert\" onclick=\"convertToInteractive('df-31a93a30-f182-406e-aafc-4bb3dd6de0d6')\"\n",
              "              title=\"Convert this dataframe to an interactive table.\"\n",
              "              style=\"display:none;\">\n",
              "        \n",
              "  <svg xmlns=\"http://www.w3.org/2000/svg\" height=\"24px\"viewBox=\"0 0 24 24\"\n",
              "       width=\"24px\">\n",
              "    <path d=\"M0 0h24v24H0V0z\" fill=\"none\"/>\n",
              "    <path d=\"M18.56 5.44l.94 2.06.94-2.06 2.06-.94-2.06-.94-.94-2.06-.94 2.06-2.06.94zm-11 1L8.5 8.5l.94-2.06 2.06-.94-2.06-.94L8.5 2.5l-.94 2.06-2.06.94zm10 10l.94 2.06.94-2.06 2.06-.94-2.06-.94-.94-2.06-.94 2.06-2.06.94z\"/><path d=\"M17.41 7.96l-1.37-1.37c-.4-.4-.92-.59-1.43-.59-.52 0-1.04.2-1.43.59L10.3 9.45l-7.72 7.72c-.78.78-.78 2.05 0 2.83L4 21.41c.39.39.9.59 1.41.59.51 0 1.02-.2 1.41-.59l7.78-7.78 2.81-2.81c.8-.78.8-2.07 0-2.86zM5.41 20L4 18.59l7.72-7.72 1.47 1.35L5.41 20z\"/>\n",
              "  </svg>\n",
              "      </button>\n",
              "      \n",
              "  <style>\n",
              "    .colab-df-container {\n",
              "      display:flex;\n",
              "      flex-wrap:wrap;\n",
              "      gap: 12px;\n",
              "    }\n",
              "\n",
              "    .colab-df-convert {\n",
              "      background-color: #E8F0FE;\n",
              "      border: none;\n",
              "      border-radius: 50%;\n",
              "      cursor: pointer;\n",
              "      display: none;\n",
              "      fill: #1967D2;\n",
              "      height: 32px;\n",
              "      padding: 0 0 0 0;\n",
              "      width: 32px;\n",
              "    }\n",
              "\n",
              "    .colab-df-convert:hover {\n",
              "      background-color: #E2EBFA;\n",
              "      box-shadow: 0px 1px 2px rgba(60, 64, 67, 0.3), 0px 1px 3px 1px rgba(60, 64, 67, 0.15);\n",
              "      fill: #174EA6;\n",
              "    }\n",
              "\n",
              "    [theme=dark] .colab-df-convert {\n",
              "      background-color: #3B4455;\n",
              "      fill: #D2E3FC;\n",
              "    }\n",
              "\n",
              "    [theme=dark] .colab-df-convert:hover {\n",
              "      background-color: #434B5C;\n",
              "      box-shadow: 0px 1px 3px 1px rgba(0, 0, 0, 0.15);\n",
              "      filter: drop-shadow(0px 1px 2px rgba(0, 0, 0, 0.3));\n",
              "      fill: #FFFFFF;\n",
              "    }\n",
              "  </style>\n",
              "\n",
              "      <script>\n",
              "        const buttonEl =\n",
              "          document.querySelector('#df-31a93a30-f182-406e-aafc-4bb3dd6de0d6 button.colab-df-convert');\n",
              "        buttonEl.style.display =\n",
              "          google.colab.kernel.accessAllowed ? 'block' : 'none';\n",
              "\n",
              "        async function convertToInteractive(key) {\n",
              "          const element = document.querySelector('#df-31a93a30-f182-406e-aafc-4bb3dd6de0d6');\n",
              "          const dataTable =\n",
              "            await google.colab.kernel.invokeFunction('convertToInteractive',\n",
              "                                                     [key], {});\n",
              "          if (!dataTable) return;\n",
              "\n",
              "          const docLinkHtml = 'Like what you see? Visit the ' +\n",
              "            '<a target=\"_blank\" href=https://colab.research.google.com/notebooks/data_table.ipynb>data table notebook</a>'\n",
              "            + ' to learn more about interactive tables.';\n",
              "          element.innerHTML = '';\n",
              "          dataTable['output_type'] = 'display_data';\n",
              "          await google.colab.output.renderOutput(dataTable, element);\n",
              "          const docLink = document.createElement('div');\n",
              "          docLink.innerHTML = docLinkHtml;\n",
              "          element.appendChild(docLink);\n",
              "        }\n",
              "      </script>\n",
              "    </div>\n",
              "  </div>\n",
              "  "
            ]
          },
          "metadata": {},
          "execution_count": 24
        }
      ]
    },
    {
      "cell_type": "code",
      "source": [
        "health_test_df = health_test.drop(['ID','Region_Code','City_Code','Lower_Age'], axis = 1)\n",
        "health_test_df.head()"
      ],
      "metadata": {
        "colab": {
          "base_uri": "https://localhost:8080/",
          "height": 268
        },
        "id": "kljfC4430Wj_",
        "outputId": "2cc932fc-12d6-42cd-beba-1d05bc8cf9bd"
      },
      "execution_count": 25,
      "outputs": [
        {
          "output_type": "execute_result",
          "data": {
            "text/plain": [
              "  Accomodation_Type Reco_Insurance_Type  Upper_Age Is_Spouse Health Indicator  \\\n",
              "0            Rented               Joint         65        No               X4   \n",
              "1             Owned          Individual         39        No               X4   \n",
              "2             Owned          Individual         33        No               X4   \n",
              "3             Owned               Joint         28       Yes               X1   \n",
              "4             Owned          Individual         43        No               X2   \n",
              "\n",
              "   Holding_Policy_Duration  Holding_Policy_Type  Reco_Policy_Cat  \\\n",
              "0                      5.0                  3.0               19   \n",
              "1                      4.0                  2.0               16   \n",
              "2                      1.0                  2.0                3   \n",
              "3                      5.0                  3.0                8   \n",
              "4                      5.0                  4.0               18   \n",
              "\n",
              "   Reco_Policy_Premium  \n",
              "0              30768.0  \n",
              "1              13618.0  \n",
              "2               6740.0  \n",
              "3               9135.0  \n",
              "4              12760.0  "
            ],
            "text/html": [
              "\n",
              "  <div id=\"df-ea16ea08-63e1-4714-a22e-2d2360c36dea\">\n",
              "    <div class=\"colab-df-container\">\n",
              "      <div>\n",
              "<style scoped>\n",
              "    .dataframe tbody tr th:only-of-type {\n",
              "        vertical-align: middle;\n",
              "    }\n",
              "\n",
              "    .dataframe tbody tr th {\n",
              "        vertical-align: top;\n",
              "    }\n",
              "\n",
              "    .dataframe thead th {\n",
              "        text-align: right;\n",
              "    }\n",
              "</style>\n",
              "<table border=\"1\" class=\"dataframe\">\n",
              "  <thead>\n",
              "    <tr style=\"text-align: right;\">\n",
              "      <th></th>\n",
              "      <th>Accomodation_Type</th>\n",
              "      <th>Reco_Insurance_Type</th>\n",
              "      <th>Upper_Age</th>\n",
              "      <th>Is_Spouse</th>\n",
              "      <th>Health Indicator</th>\n",
              "      <th>Holding_Policy_Duration</th>\n",
              "      <th>Holding_Policy_Type</th>\n",
              "      <th>Reco_Policy_Cat</th>\n",
              "      <th>Reco_Policy_Premium</th>\n",
              "    </tr>\n",
              "  </thead>\n",
              "  <tbody>\n",
              "    <tr>\n",
              "      <th>0</th>\n",
              "      <td>Rented</td>\n",
              "      <td>Joint</td>\n",
              "      <td>65</td>\n",
              "      <td>No</td>\n",
              "      <td>X4</td>\n",
              "      <td>5.0</td>\n",
              "      <td>3.0</td>\n",
              "      <td>19</td>\n",
              "      <td>30768.0</td>\n",
              "    </tr>\n",
              "    <tr>\n",
              "      <th>1</th>\n",
              "      <td>Owned</td>\n",
              "      <td>Individual</td>\n",
              "      <td>39</td>\n",
              "      <td>No</td>\n",
              "      <td>X4</td>\n",
              "      <td>4.0</td>\n",
              "      <td>2.0</td>\n",
              "      <td>16</td>\n",
              "      <td>13618.0</td>\n",
              "    </tr>\n",
              "    <tr>\n",
              "      <th>2</th>\n",
              "      <td>Owned</td>\n",
              "      <td>Individual</td>\n",
              "      <td>33</td>\n",
              "      <td>No</td>\n",
              "      <td>X4</td>\n",
              "      <td>1.0</td>\n",
              "      <td>2.0</td>\n",
              "      <td>3</td>\n",
              "      <td>6740.0</td>\n",
              "    </tr>\n",
              "    <tr>\n",
              "      <th>3</th>\n",
              "      <td>Owned</td>\n",
              "      <td>Joint</td>\n",
              "      <td>28</td>\n",
              "      <td>Yes</td>\n",
              "      <td>X1</td>\n",
              "      <td>5.0</td>\n",
              "      <td>3.0</td>\n",
              "      <td>8</td>\n",
              "      <td>9135.0</td>\n",
              "    </tr>\n",
              "    <tr>\n",
              "      <th>4</th>\n",
              "      <td>Owned</td>\n",
              "      <td>Individual</td>\n",
              "      <td>43</td>\n",
              "      <td>No</td>\n",
              "      <td>X2</td>\n",
              "      <td>5.0</td>\n",
              "      <td>4.0</td>\n",
              "      <td>18</td>\n",
              "      <td>12760.0</td>\n",
              "    </tr>\n",
              "  </tbody>\n",
              "</table>\n",
              "</div>\n",
              "      <button class=\"colab-df-convert\" onclick=\"convertToInteractive('df-ea16ea08-63e1-4714-a22e-2d2360c36dea')\"\n",
              "              title=\"Convert this dataframe to an interactive table.\"\n",
              "              style=\"display:none;\">\n",
              "        \n",
              "  <svg xmlns=\"http://www.w3.org/2000/svg\" height=\"24px\"viewBox=\"0 0 24 24\"\n",
              "       width=\"24px\">\n",
              "    <path d=\"M0 0h24v24H0V0z\" fill=\"none\"/>\n",
              "    <path d=\"M18.56 5.44l.94 2.06.94-2.06 2.06-.94-2.06-.94-.94-2.06-.94 2.06-2.06.94zm-11 1L8.5 8.5l.94-2.06 2.06-.94-2.06-.94L8.5 2.5l-.94 2.06-2.06.94zm10 10l.94 2.06.94-2.06 2.06-.94-2.06-.94-.94-2.06-.94 2.06-2.06.94z\"/><path d=\"M17.41 7.96l-1.37-1.37c-.4-.4-.92-.59-1.43-.59-.52 0-1.04.2-1.43.59L10.3 9.45l-7.72 7.72c-.78.78-.78 2.05 0 2.83L4 21.41c.39.39.9.59 1.41.59.51 0 1.02-.2 1.41-.59l7.78-7.78 2.81-2.81c.8-.78.8-2.07 0-2.86zM5.41 20L4 18.59l7.72-7.72 1.47 1.35L5.41 20z\"/>\n",
              "  </svg>\n",
              "      </button>\n",
              "      \n",
              "  <style>\n",
              "    .colab-df-container {\n",
              "      display:flex;\n",
              "      flex-wrap:wrap;\n",
              "      gap: 12px;\n",
              "    }\n",
              "\n",
              "    .colab-df-convert {\n",
              "      background-color: #E8F0FE;\n",
              "      border: none;\n",
              "      border-radius: 50%;\n",
              "      cursor: pointer;\n",
              "      display: none;\n",
              "      fill: #1967D2;\n",
              "      height: 32px;\n",
              "      padding: 0 0 0 0;\n",
              "      width: 32px;\n",
              "    }\n",
              "\n",
              "    .colab-df-convert:hover {\n",
              "      background-color: #E2EBFA;\n",
              "      box-shadow: 0px 1px 2px rgba(60, 64, 67, 0.3), 0px 1px 3px 1px rgba(60, 64, 67, 0.15);\n",
              "      fill: #174EA6;\n",
              "    }\n",
              "\n",
              "    [theme=dark] .colab-df-convert {\n",
              "      background-color: #3B4455;\n",
              "      fill: #D2E3FC;\n",
              "    }\n",
              "\n",
              "    [theme=dark] .colab-df-convert:hover {\n",
              "      background-color: #434B5C;\n",
              "      box-shadow: 0px 1px 3px 1px rgba(0, 0, 0, 0.15);\n",
              "      filter: drop-shadow(0px 1px 2px rgba(0, 0, 0, 0.3));\n",
              "      fill: #FFFFFF;\n",
              "    }\n",
              "  </style>\n",
              "\n",
              "      <script>\n",
              "        const buttonEl =\n",
              "          document.querySelector('#df-ea16ea08-63e1-4714-a22e-2d2360c36dea button.colab-df-convert');\n",
              "        buttonEl.style.display =\n",
              "          google.colab.kernel.accessAllowed ? 'block' : 'none';\n",
              "\n",
              "        async function convertToInteractive(key) {\n",
              "          const element = document.querySelector('#df-ea16ea08-63e1-4714-a22e-2d2360c36dea');\n",
              "          const dataTable =\n",
              "            await google.colab.kernel.invokeFunction('convertToInteractive',\n",
              "                                                     [key], {});\n",
              "          if (!dataTable) return;\n",
              "\n",
              "          const docLinkHtml = 'Like what you see? Visit the ' +\n",
              "            '<a target=\"_blank\" href=https://colab.research.google.com/notebooks/data_table.ipynb>data table notebook</a>'\n",
              "            + ' to learn more about interactive tables.';\n",
              "          element.innerHTML = '';\n",
              "          dataTable['output_type'] = 'display_data';\n",
              "          await google.colab.output.renderOutput(dataTable, element);\n",
              "          const docLink = document.createElement('div');\n",
              "          docLink.innerHTML = docLinkHtml;\n",
              "          element.appendChild(docLink);\n",
              "        }\n",
              "      </script>\n",
              "    </div>\n",
              "  </div>\n",
              "  "
            ]
          },
          "metadata": {},
          "execution_count": 25
        }
      ]
    },
    {
      "cell_type": "markdown",
      "metadata": {
        "id": "vmbjhbARYKK4"
      },
      "source": [
        "<a name = Section72></a>\n",
        "### **7.2 Post-Profiling Report**\n",
        "\n",
        "- After doing **dropping missing value**, **Removing unwanted features** we will now look at the report again."
      ]
    },
    {
      "cell_type": "code",
      "metadata": {
        "id": "Nl3hHzo9fiqW",
        "outputId": "a2cc5f9d-9eca-404d-ef7a-186ed74cc817",
        "colab": {
          "base_uri": "https://localhost:8080/",
          "height": 229,
          "referenced_widgets": [
            "5a87ab7295db4327a5a6b326af6cc46e",
            "71f86d5d0da94a20ae119bb4fc3dfbc7",
            "af9fb9708ac048daa36e9e51858b08d9",
            "b65b9ed33a084af78da9fd62cc860374",
            "1523669bb1294f1a86ed1dc89a8288dc",
            "eb41de226a354fd8b7330a80c63310d9",
            "528cdcb7c85845b3a5f89e95f3e756bd",
            "a043b50204564e498a2d5f3deda239d4",
            "79366b6a42164ef6a0025ac0eee5f86a",
            "c0b50816768e4e72811ecbe61d937867",
            "4dd59d993d304e499c348d794aabc42f",
            "91bb6970724c425bad70b86fa7e2f4c9",
            "a9d883b8094c4d60aab9ea8a6715d908",
            "371209fc71ac4a0cb9bdc36ac9c238a5",
            "ea9629d338bd44c09e7645a3ac17544d",
            "67580c83ac704025a7f7f960496a0300",
            "c474efb41991452a990d12d32df9ea02",
            "99f3dc1d74994276b69fea0f4ce32c70",
            "20c063218bae4e02a23d1c37e924357b",
            "4873f36693c043d5863ed49ce7465373",
            "126d080a58d74468b2f2117b4be6649b",
            "1601c38151a94969be4a1a7f04e6d9bf",
            "fca5381ec51442ff895124c6317d306f",
            "ffa7f7c83c78477fbbd5aeaec2d7ca03",
            "9207967fad264ecaa66197d85976a72c",
            "4f2851ce486a4ca0a25a01a6c1305812",
            "0dcf299edcd341e7b9421412f4f0d027",
            "4d33da54f0ed40059ee3a2ee41f778bf",
            "f4e67f26c49f4dc0a58c5157ee20d8a5",
            "30dd66dbd7fd4b778b86ec10bddf40b6",
            "ac8040229f794a188789f05b0bebe7e4",
            "1f1bd44f4b9f4cddb641e5c4a711b871",
            "58b91e54bfa74a13a40212daf0907040",
            "c7b0801571bd438ab42290e093e8a01c",
            "46f9cda2d52d487db73c5e63ac2e196d",
            "dd7a696a56634a329779586f6d1fd64c",
            "04f4c7914d3a4c8fb22c8bf3c1af504a",
            "265e2a73487f4d7bb0e0c5e91d4ac2f0",
            "10b66261baad460b984c74204d1456ba",
            "747556df4033438ba74123fa53dae24c",
            "d28ae2a5a8e143af921a6ebd30e3b468",
            "9b653f929fa84d40b02547f576220690",
            "c90cd5626e7e4d68b243b69e423f42da",
            "2e068cb8e9184704acf5c33687edf068"
          ]
        }
      },
      "source": [
        "profile = ProfileReport(df = health_train_df)\n",
        "profile.to_file(output_file = 'Pre Profiling Report.html')\n",
        "print('Accomplished!')"
      ],
      "execution_count": null,
      "outputs": [
        {
          "output_type": "display_data",
          "data": {
            "application/vnd.jupyter.widget-view+json": {
              "model_id": "5a87ab7295db4327a5a6b326af6cc46e",
              "version_minor": 0,
              "version_major": 2
            },
            "text/plain": [
              "HBox(children=(HTML(value='Summarize dataset'), FloatProgress(value=0.0, max=26.0), HTML(value='')))"
            ]
          },
          "metadata": {
            "tags": []
          }
        },
        {
          "output_type": "stream",
          "text": [
            "\n"
          ],
          "name": "stdout"
        },
        {
          "output_type": "display_data",
          "data": {
            "application/vnd.jupyter.widget-view+json": {
              "model_id": "91bb6970724c425bad70b86fa7e2f4c9",
              "version_minor": 0,
              "version_major": 2
            },
            "text/plain": [
              "HBox(children=(HTML(value='Generate report structure'), FloatProgress(value=0.0, max=1.0), HTML(value='')))"
            ]
          },
          "metadata": {
            "tags": []
          }
        },
        {
          "output_type": "stream",
          "text": [
            "\n"
          ],
          "name": "stdout"
        },
        {
          "output_type": "display_data",
          "data": {
            "application/vnd.jupyter.widget-view+json": {
              "model_id": "fca5381ec51442ff895124c6317d306f",
              "version_minor": 0,
              "version_major": 2
            },
            "text/plain": [
              "HBox(children=(HTML(value='Render HTML'), FloatProgress(value=0.0, max=1.0), HTML(value='')))"
            ]
          },
          "metadata": {
            "tags": []
          }
        },
        {
          "output_type": "stream",
          "text": [
            "\n"
          ],
          "name": "stdout"
        },
        {
          "output_type": "display_data",
          "data": {
            "application/vnd.jupyter.widget-view+json": {
              "model_id": "c7b0801571bd438ab42290e093e8a01c",
              "version_minor": 0,
              "version_major": 2
            },
            "text/plain": [
              "HBox(children=(HTML(value='Export report to file'), FloatProgress(value=0.0, max=1.0), HTML(value='')))"
            ]
          },
          "metadata": {
            "tags": []
          }
        },
        {
          "output_type": "stream",
          "text": [
            "\n",
            "Accomplished!\n"
          ],
          "name": "stdout"
        }
      ]
    },
    {
      "cell_type": "code",
      "metadata": {
        "id": "rmgFXWuvfkna",
        "outputId": "4c19be93-5f78-4bc6-a1da-79aec714f2a6",
        "colab": {
          "base_uri": "https://localhost:8080/",
          "height": 17
        }
      },
      "source": [
        "from google.colab import files                   # Use only if you are using Google Colab, otherwise remove it\n",
        "files.download('Pre Profiling Report.html')      # Use only if you are using Google Colab, otherwise remove it"
      ],
      "execution_count": null,
      "outputs": [
        {
          "output_type": "display_data",
          "data": {
            "application/javascript": [
              "\n",
              "    async function download(id, filename, size) {\n",
              "      if (!google.colab.kernel.accessAllowed) {\n",
              "        return;\n",
              "      }\n",
              "      const div = document.createElement('div');\n",
              "      const label = document.createElement('label');\n",
              "      label.textContent = `Downloading \"${filename}\": `;\n",
              "      div.appendChild(label);\n",
              "      const progress = document.createElement('progress');\n",
              "      progress.max = size;\n",
              "      div.appendChild(progress);\n",
              "      document.body.appendChild(div);\n",
              "\n",
              "      const buffers = [];\n",
              "      let downloaded = 0;\n",
              "\n",
              "      const channel = await google.colab.kernel.comms.open(id);\n",
              "      // Send a message to notify the kernel that we're ready.\n",
              "      channel.send({})\n",
              "\n",
              "      for await (const message of channel.messages) {\n",
              "        // Send a message to notify the kernel that we're ready.\n",
              "        channel.send({})\n",
              "        if (message.buffers) {\n",
              "          for (const buffer of message.buffers) {\n",
              "            buffers.push(buffer);\n",
              "            downloaded += buffer.byteLength;\n",
              "            progress.value = downloaded;\n",
              "          }\n",
              "        }\n",
              "      }\n",
              "      const blob = new Blob(buffers, {type: 'application/binary'});\n",
              "      const a = document.createElement('a');\n",
              "      a.href = window.URL.createObjectURL(blob);\n",
              "      a.download = filename;\n",
              "      div.appendChild(a);\n",
              "      a.click();\n",
              "      div.remove();\n",
              "    }\n",
              "  "
            ],
            "text/plain": [
              "<IPython.core.display.Javascript object>"
            ]
          },
          "metadata": {
            "tags": []
          }
        },
        {
          "output_type": "display_data",
          "data": {
            "application/javascript": [
              "download(\"download_e2369089-a506-4bbe-b355-82e1cb9cbb38\", \"Pre Profiling Report.html\", 3880325)"
            ],
            "text/plain": [
              "<IPython.core.display.Javascript object>"
            ]
          },
          "metadata": {
            "tags": []
          }
        }
      ]
    },
    {
      "cell_type": "markdown",
      "metadata": {
        "id": "8Zb16jj_flQW"
      },
      "source": [
        "**Observation:**\n",
        "\n",
        "\n",
        "- For full details after the data processing checkout the report."
      ]
    },
    {
      "cell_type": "markdown",
      "metadata": {
        "id": "aSP6la2mcirc"
      },
      "source": [
        "<a name = Section73></a>\n",
        "### **7.3 Encoding Categorical Features**"
      ]
    },
    {
      "cell_type": "code",
      "metadata": {
        "id": "0lN5KeCBdRod",
        "outputId": "c9dfeee7-e6b8-4cc4-d1c6-32730d2938be",
        "colab": {
          "base_uri": "https://localhost:8080/"
        }
      },
      "source": [
        "health_train_df.dtypes #Checking for data types of features"
      ],
      "execution_count": 26,
      "outputs": [
        {
          "output_type": "execute_result",
          "data": {
            "text/plain": [
              "Accomodation_Type           object\n",
              "Reco_Insurance_Type         object\n",
              "Upper_Age                    int64\n",
              "Is_Spouse                   object\n",
              "Health Indicator            object\n",
              "Holding_Policy_Duration    float64\n",
              "Holding_Policy_Type        float64\n",
              "Reco_Policy_Cat              int64\n",
              "Reco_Policy_Premium        float64\n",
              "Response                     int64\n",
              "dtype: object"
            ]
          },
          "metadata": {},
          "execution_count": 26
        }
      ]
    },
    {
      "cell_type": "code",
      "source": [
        "#Seperating Categorical and Continuos features from train data\n",
        "train_cat =health_train_df[['Accomodation_Type','Reco_Insurance_Type','Is_Spouse','Health Indicator']]\n",
        "train_cont= health_train_df.drop(['Accomodation_Type','Reco_Insurance_Type','Is_Spouse','Health Indicator'], axis=1)"
      ],
      "metadata": {
        "id": "VCeAJ2PKoop2"
      },
      "execution_count": 27,
      "outputs": []
    },
    {
      "cell_type": "code",
      "source": [
        "#Seperating Categorical and Continuos features from test data\n",
        "test_cat =health_test_df[['Accomodation_Type','Reco_Insurance_Type','Is_Spouse','Health Indicator']]\n",
        "test_cont= health_test_df.drop(['Accomodation_Type','Reco_Insurance_Type','Is_Spouse','Health Indicator'], axis=1)"
      ],
      "metadata": {
        "id": "j7f7VxJIoo4M"
      },
      "execution_count": 28,
      "outputs": []
    },
    {
      "cell_type": "code",
      "metadata": {
        "id": "T0g4S-1KdL8K"
      },
      "source": [
        "from sklearn.preprocessing import LabelEncoder\n",
        "train_cat=train_cat.apply(LabelEncoder().fit_transform)\n",
        "test_cat=test_cat.apply(LabelEncoder().fit_transform)"
      ],
      "execution_count": 29,
      "outputs": []
    },
    {
      "cell_type": "code",
      "source": [
        "train_final= pd.concat([train_cont, train_cat], axis = 1)\n",
        "train_final.head()"
      ],
      "metadata": {
        "colab": {
          "base_uri": "https://localhost:8080/",
          "height": 288
        },
        "id": "k3LTt1vb0598",
        "outputId": "95843486-744f-4130-9393-81efb2dabb72"
      },
      "execution_count": 30,
      "outputs": [
        {
          "output_type": "execute_result",
          "data": {
            "text/plain": [
              "   Upper_Age  Holding_Policy_Duration  Holding_Policy_Type  Reco_Policy_Cat  \\\n",
              "0         36                     14.0                  3.0               22   \n",
              "1         75                      5.0                  3.0               22   \n",
              "2         32                      1.0                  1.0               19   \n",
              "3         52                     14.0                  3.0               19   \n",
              "4         44                      3.0                  1.0               16   \n",
              "\n",
              "   Reco_Policy_Premium  Response  Accomodation_Type  Reco_Insurance_Type  \\\n",
              "0              11628.0         0                  1                    0   \n",
              "1              30510.0         0                  0                    1   \n",
              "2               7450.0         1                  0                    0   \n",
              "3              17780.0         0                  0                    1   \n",
              "4              10404.0         0                  1                    0   \n",
              "\n",
              "   Is_Spouse  Health Indicator  \n",
              "0          0                 0  \n",
              "1          0                 1  \n",
              "2          0                 0  \n",
              "3          0                 0  \n",
              "4          0                 1  "
            ],
            "text/html": [
              "\n",
              "  <div id=\"df-d3498fc7-2404-4ab1-b421-d663793a7a0e\">\n",
              "    <div class=\"colab-df-container\">\n",
              "      <div>\n",
              "<style scoped>\n",
              "    .dataframe tbody tr th:only-of-type {\n",
              "        vertical-align: middle;\n",
              "    }\n",
              "\n",
              "    .dataframe tbody tr th {\n",
              "        vertical-align: top;\n",
              "    }\n",
              "\n",
              "    .dataframe thead th {\n",
              "        text-align: right;\n",
              "    }\n",
              "</style>\n",
              "<table border=\"1\" class=\"dataframe\">\n",
              "  <thead>\n",
              "    <tr style=\"text-align: right;\">\n",
              "      <th></th>\n",
              "      <th>Upper_Age</th>\n",
              "      <th>Holding_Policy_Duration</th>\n",
              "      <th>Holding_Policy_Type</th>\n",
              "      <th>Reco_Policy_Cat</th>\n",
              "      <th>Reco_Policy_Premium</th>\n",
              "      <th>Response</th>\n",
              "      <th>Accomodation_Type</th>\n",
              "      <th>Reco_Insurance_Type</th>\n",
              "      <th>Is_Spouse</th>\n",
              "      <th>Health Indicator</th>\n",
              "    </tr>\n",
              "  </thead>\n",
              "  <tbody>\n",
              "    <tr>\n",
              "      <th>0</th>\n",
              "      <td>36</td>\n",
              "      <td>14.0</td>\n",
              "      <td>3.0</td>\n",
              "      <td>22</td>\n",
              "      <td>11628.0</td>\n",
              "      <td>0</td>\n",
              "      <td>1</td>\n",
              "      <td>0</td>\n",
              "      <td>0</td>\n",
              "      <td>0</td>\n",
              "    </tr>\n",
              "    <tr>\n",
              "      <th>1</th>\n",
              "      <td>75</td>\n",
              "      <td>5.0</td>\n",
              "      <td>3.0</td>\n",
              "      <td>22</td>\n",
              "      <td>30510.0</td>\n",
              "      <td>0</td>\n",
              "      <td>0</td>\n",
              "      <td>1</td>\n",
              "      <td>0</td>\n",
              "      <td>1</td>\n",
              "    </tr>\n",
              "    <tr>\n",
              "      <th>2</th>\n",
              "      <td>32</td>\n",
              "      <td>1.0</td>\n",
              "      <td>1.0</td>\n",
              "      <td>19</td>\n",
              "      <td>7450.0</td>\n",
              "      <td>1</td>\n",
              "      <td>0</td>\n",
              "      <td>0</td>\n",
              "      <td>0</td>\n",
              "      <td>0</td>\n",
              "    </tr>\n",
              "    <tr>\n",
              "      <th>3</th>\n",
              "      <td>52</td>\n",
              "      <td>14.0</td>\n",
              "      <td>3.0</td>\n",
              "      <td>19</td>\n",
              "      <td>17780.0</td>\n",
              "      <td>0</td>\n",
              "      <td>0</td>\n",
              "      <td>1</td>\n",
              "      <td>0</td>\n",
              "      <td>0</td>\n",
              "    </tr>\n",
              "    <tr>\n",
              "      <th>4</th>\n",
              "      <td>44</td>\n",
              "      <td>3.0</td>\n",
              "      <td>1.0</td>\n",
              "      <td>16</td>\n",
              "      <td>10404.0</td>\n",
              "      <td>0</td>\n",
              "      <td>1</td>\n",
              "      <td>0</td>\n",
              "      <td>0</td>\n",
              "      <td>1</td>\n",
              "    </tr>\n",
              "  </tbody>\n",
              "</table>\n",
              "</div>\n",
              "      <button class=\"colab-df-convert\" onclick=\"convertToInteractive('df-d3498fc7-2404-4ab1-b421-d663793a7a0e')\"\n",
              "              title=\"Convert this dataframe to an interactive table.\"\n",
              "              style=\"display:none;\">\n",
              "        \n",
              "  <svg xmlns=\"http://www.w3.org/2000/svg\" height=\"24px\"viewBox=\"0 0 24 24\"\n",
              "       width=\"24px\">\n",
              "    <path d=\"M0 0h24v24H0V0z\" fill=\"none\"/>\n",
              "    <path d=\"M18.56 5.44l.94 2.06.94-2.06 2.06-.94-2.06-.94-.94-2.06-.94 2.06-2.06.94zm-11 1L8.5 8.5l.94-2.06 2.06-.94-2.06-.94L8.5 2.5l-.94 2.06-2.06.94zm10 10l.94 2.06.94-2.06 2.06-.94-2.06-.94-.94-2.06-.94 2.06-2.06.94z\"/><path d=\"M17.41 7.96l-1.37-1.37c-.4-.4-.92-.59-1.43-.59-.52 0-1.04.2-1.43.59L10.3 9.45l-7.72 7.72c-.78.78-.78 2.05 0 2.83L4 21.41c.39.39.9.59 1.41.59.51 0 1.02-.2 1.41-.59l7.78-7.78 2.81-2.81c.8-.78.8-2.07 0-2.86zM5.41 20L4 18.59l7.72-7.72 1.47 1.35L5.41 20z\"/>\n",
              "  </svg>\n",
              "      </button>\n",
              "      \n",
              "  <style>\n",
              "    .colab-df-container {\n",
              "      display:flex;\n",
              "      flex-wrap:wrap;\n",
              "      gap: 12px;\n",
              "    }\n",
              "\n",
              "    .colab-df-convert {\n",
              "      background-color: #E8F0FE;\n",
              "      border: none;\n",
              "      border-radius: 50%;\n",
              "      cursor: pointer;\n",
              "      display: none;\n",
              "      fill: #1967D2;\n",
              "      height: 32px;\n",
              "      padding: 0 0 0 0;\n",
              "      width: 32px;\n",
              "    }\n",
              "\n",
              "    .colab-df-convert:hover {\n",
              "      background-color: #E2EBFA;\n",
              "      box-shadow: 0px 1px 2px rgba(60, 64, 67, 0.3), 0px 1px 3px 1px rgba(60, 64, 67, 0.15);\n",
              "      fill: #174EA6;\n",
              "    }\n",
              "\n",
              "    [theme=dark] .colab-df-convert {\n",
              "      background-color: #3B4455;\n",
              "      fill: #D2E3FC;\n",
              "    }\n",
              "\n",
              "    [theme=dark] .colab-df-convert:hover {\n",
              "      background-color: #434B5C;\n",
              "      box-shadow: 0px 1px 3px 1px rgba(0, 0, 0, 0.15);\n",
              "      filter: drop-shadow(0px 1px 2px rgba(0, 0, 0, 0.3));\n",
              "      fill: #FFFFFF;\n",
              "    }\n",
              "  </style>\n",
              "\n",
              "      <script>\n",
              "        const buttonEl =\n",
              "          document.querySelector('#df-d3498fc7-2404-4ab1-b421-d663793a7a0e button.colab-df-convert');\n",
              "        buttonEl.style.display =\n",
              "          google.colab.kernel.accessAllowed ? 'block' : 'none';\n",
              "\n",
              "        async function convertToInteractive(key) {\n",
              "          const element = document.querySelector('#df-d3498fc7-2404-4ab1-b421-d663793a7a0e');\n",
              "          const dataTable =\n",
              "            await google.colab.kernel.invokeFunction('convertToInteractive',\n",
              "                                                     [key], {});\n",
              "          if (!dataTable) return;\n",
              "\n",
              "          const docLinkHtml = 'Like what you see? Visit the ' +\n",
              "            '<a target=\"_blank\" href=https://colab.research.google.com/notebooks/data_table.ipynb>data table notebook</a>'\n",
              "            + ' to learn more about interactive tables.';\n",
              "          element.innerHTML = '';\n",
              "          dataTable['output_type'] = 'display_data';\n",
              "          await google.colab.output.renderOutput(dataTable, element);\n",
              "          const docLink = document.createElement('div');\n",
              "          docLink.innerHTML = docLinkHtml;\n",
              "          element.appendChild(docLink);\n",
              "        }\n",
              "      </script>\n",
              "    </div>\n",
              "  </div>\n",
              "  "
            ]
          },
          "metadata": {},
          "execution_count": 30
        }
      ]
    },
    {
      "cell_type": "code",
      "source": [
        "test_final= pd.concat([test_cont, test_cat], axis = 1)\n",
        "test_final.head()"
      ],
      "metadata": {
        "colab": {
          "base_uri": "https://localhost:8080/",
          "height": 268
        },
        "id": "E8bdu4hCpeW-",
        "outputId": "f6238c4d-3825-4fd1-9f68-da44b9c10b2b"
      },
      "execution_count": 31,
      "outputs": [
        {
          "output_type": "execute_result",
          "data": {
            "text/plain": [
              "   Upper_Age  Holding_Policy_Duration  Holding_Policy_Type  Reco_Policy_Cat  \\\n",
              "0         65                      5.0                  3.0               19   \n",
              "1         39                      4.0                  2.0               16   \n",
              "2         33                      1.0                  2.0                3   \n",
              "3         28                      5.0                  3.0                8   \n",
              "4         43                      5.0                  4.0               18   \n",
              "\n",
              "   Reco_Policy_Premium  Accomodation_Type  Reco_Insurance_Type  Is_Spouse  \\\n",
              "0              30768.0                  1                    1          0   \n",
              "1              13618.0                  0                    0          0   \n",
              "2               6740.0                  0                    0          0   \n",
              "3               9135.0                  0                    1          1   \n",
              "4              12760.0                  0                    0          0   \n",
              "\n",
              "   Health Indicator  \n",
              "0                 3  \n",
              "1                 3  \n",
              "2                 3  \n",
              "3                 0  \n",
              "4                 1  "
            ],
            "text/html": [
              "\n",
              "  <div id=\"df-14dd8775-bfe9-4320-8668-2a96be73731e\">\n",
              "    <div class=\"colab-df-container\">\n",
              "      <div>\n",
              "<style scoped>\n",
              "    .dataframe tbody tr th:only-of-type {\n",
              "        vertical-align: middle;\n",
              "    }\n",
              "\n",
              "    .dataframe tbody tr th {\n",
              "        vertical-align: top;\n",
              "    }\n",
              "\n",
              "    .dataframe thead th {\n",
              "        text-align: right;\n",
              "    }\n",
              "</style>\n",
              "<table border=\"1\" class=\"dataframe\">\n",
              "  <thead>\n",
              "    <tr style=\"text-align: right;\">\n",
              "      <th></th>\n",
              "      <th>Upper_Age</th>\n",
              "      <th>Holding_Policy_Duration</th>\n",
              "      <th>Holding_Policy_Type</th>\n",
              "      <th>Reco_Policy_Cat</th>\n",
              "      <th>Reco_Policy_Premium</th>\n",
              "      <th>Accomodation_Type</th>\n",
              "      <th>Reco_Insurance_Type</th>\n",
              "      <th>Is_Spouse</th>\n",
              "      <th>Health Indicator</th>\n",
              "    </tr>\n",
              "  </thead>\n",
              "  <tbody>\n",
              "    <tr>\n",
              "      <th>0</th>\n",
              "      <td>65</td>\n",
              "      <td>5.0</td>\n",
              "      <td>3.0</td>\n",
              "      <td>19</td>\n",
              "      <td>30768.0</td>\n",
              "      <td>1</td>\n",
              "      <td>1</td>\n",
              "      <td>0</td>\n",
              "      <td>3</td>\n",
              "    </tr>\n",
              "    <tr>\n",
              "      <th>1</th>\n",
              "      <td>39</td>\n",
              "      <td>4.0</td>\n",
              "      <td>2.0</td>\n",
              "      <td>16</td>\n",
              "      <td>13618.0</td>\n",
              "      <td>0</td>\n",
              "      <td>0</td>\n",
              "      <td>0</td>\n",
              "      <td>3</td>\n",
              "    </tr>\n",
              "    <tr>\n",
              "      <th>2</th>\n",
              "      <td>33</td>\n",
              "      <td>1.0</td>\n",
              "      <td>2.0</td>\n",
              "      <td>3</td>\n",
              "      <td>6740.0</td>\n",
              "      <td>0</td>\n",
              "      <td>0</td>\n",
              "      <td>0</td>\n",
              "      <td>3</td>\n",
              "    </tr>\n",
              "    <tr>\n",
              "      <th>3</th>\n",
              "      <td>28</td>\n",
              "      <td>5.0</td>\n",
              "      <td>3.0</td>\n",
              "      <td>8</td>\n",
              "      <td>9135.0</td>\n",
              "      <td>0</td>\n",
              "      <td>1</td>\n",
              "      <td>1</td>\n",
              "      <td>0</td>\n",
              "    </tr>\n",
              "    <tr>\n",
              "      <th>4</th>\n",
              "      <td>43</td>\n",
              "      <td>5.0</td>\n",
              "      <td>4.0</td>\n",
              "      <td>18</td>\n",
              "      <td>12760.0</td>\n",
              "      <td>0</td>\n",
              "      <td>0</td>\n",
              "      <td>0</td>\n",
              "      <td>1</td>\n",
              "    </tr>\n",
              "  </tbody>\n",
              "</table>\n",
              "</div>\n",
              "      <button class=\"colab-df-convert\" onclick=\"convertToInteractive('df-14dd8775-bfe9-4320-8668-2a96be73731e')\"\n",
              "              title=\"Convert this dataframe to an interactive table.\"\n",
              "              style=\"display:none;\">\n",
              "        \n",
              "  <svg xmlns=\"http://www.w3.org/2000/svg\" height=\"24px\"viewBox=\"0 0 24 24\"\n",
              "       width=\"24px\">\n",
              "    <path d=\"M0 0h24v24H0V0z\" fill=\"none\"/>\n",
              "    <path d=\"M18.56 5.44l.94 2.06.94-2.06 2.06-.94-2.06-.94-.94-2.06-.94 2.06-2.06.94zm-11 1L8.5 8.5l.94-2.06 2.06-.94-2.06-.94L8.5 2.5l-.94 2.06-2.06.94zm10 10l.94 2.06.94-2.06 2.06-.94-2.06-.94-.94-2.06-.94 2.06-2.06.94z\"/><path d=\"M17.41 7.96l-1.37-1.37c-.4-.4-.92-.59-1.43-.59-.52 0-1.04.2-1.43.59L10.3 9.45l-7.72 7.72c-.78.78-.78 2.05 0 2.83L4 21.41c.39.39.9.59 1.41.59.51 0 1.02-.2 1.41-.59l7.78-7.78 2.81-2.81c.8-.78.8-2.07 0-2.86zM5.41 20L4 18.59l7.72-7.72 1.47 1.35L5.41 20z\"/>\n",
              "  </svg>\n",
              "      </button>\n",
              "      \n",
              "  <style>\n",
              "    .colab-df-container {\n",
              "      display:flex;\n",
              "      flex-wrap:wrap;\n",
              "      gap: 12px;\n",
              "    }\n",
              "\n",
              "    .colab-df-convert {\n",
              "      background-color: #E8F0FE;\n",
              "      border: none;\n",
              "      border-radius: 50%;\n",
              "      cursor: pointer;\n",
              "      display: none;\n",
              "      fill: #1967D2;\n",
              "      height: 32px;\n",
              "      padding: 0 0 0 0;\n",
              "      width: 32px;\n",
              "    }\n",
              "\n",
              "    .colab-df-convert:hover {\n",
              "      background-color: #E2EBFA;\n",
              "      box-shadow: 0px 1px 2px rgba(60, 64, 67, 0.3), 0px 1px 3px 1px rgba(60, 64, 67, 0.15);\n",
              "      fill: #174EA6;\n",
              "    }\n",
              "\n",
              "    [theme=dark] .colab-df-convert {\n",
              "      background-color: #3B4455;\n",
              "      fill: #D2E3FC;\n",
              "    }\n",
              "\n",
              "    [theme=dark] .colab-df-convert:hover {\n",
              "      background-color: #434B5C;\n",
              "      box-shadow: 0px 1px 3px 1px rgba(0, 0, 0, 0.15);\n",
              "      filter: drop-shadow(0px 1px 2px rgba(0, 0, 0, 0.3));\n",
              "      fill: #FFFFFF;\n",
              "    }\n",
              "  </style>\n",
              "\n",
              "      <script>\n",
              "        const buttonEl =\n",
              "          document.querySelector('#df-14dd8775-bfe9-4320-8668-2a96be73731e button.colab-df-convert');\n",
              "        buttonEl.style.display =\n",
              "          google.colab.kernel.accessAllowed ? 'block' : 'none';\n",
              "\n",
              "        async function convertToInteractive(key) {\n",
              "          const element = document.querySelector('#df-14dd8775-bfe9-4320-8668-2a96be73731e');\n",
              "          const dataTable =\n",
              "            await google.colab.kernel.invokeFunction('convertToInteractive',\n",
              "                                                     [key], {});\n",
              "          if (!dataTable) return;\n",
              "\n",
              "          const docLinkHtml = 'Like what you see? Visit the ' +\n",
              "            '<a target=\"_blank\" href=https://colab.research.google.com/notebooks/data_table.ipynb>data table notebook</a>'\n",
              "            + ' to learn more about interactive tables.';\n",
              "          element.innerHTML = '';\n",
              "          dataTable['output_type'] = 'display_data';\n",
              "          await google.colab.output.renderOutput(dataTable, element);\n",
              "          const docLink = document.createElement('div');\n",
              "          docLink.innerHTML = docLinkHtml;\n",
              "          element.appendChild(docLink);\n",
              "        }\n",
              "      </script>\n",
              "    </div>\n",
              "  </div>\n",
              "  "
            ]
          },
          "metadata": {},
          "execution_count": 31
        }
      ]
    },
    {
      "cell_type": "code",
      "source": [
        "train_final.info()"
      ],
      "metadata": {
        "colab": {
          "base_uri": "https://localhost:8080/"
        },
        "id": "cJVxbh0spypv",
        "outputId": "2506409c-cf7e-4e8b-c76f-7817210a22de"
      },
      "execution_count": 32,
      "outputs": [
        {
          "output_type": "stream",
          "name": "stdout",
          "text": [
            "<class 'pandas.core.frame.DataFrame'>\n",
            "RangeIndex: 38000 entries, 0 to 37999\n",
            "Data columns (total 10 columns):\n",
            " #   Column                   Non-Null Count  Dtype  \n",
            "---  ------                   --------------  -----  \n",
            " 0   Upper_Age                38000 non-null  int64  \n",
            " 1   Holding_Policy_Duration  38000 non-null  float64\n",
            " 2   Holding_Policy_Type      38000 non-null  float64\n",
            " 3   Reco_Policy_Cat          38000 non-null  int64  \n",
            " 4   Reco_Policy_Premium      38000 non-null  float64\n",
            " 5   Response                 38000 non-null  int64  \n",
            " 6   Accomodation_Type        38000 non-null  int64  \n",
            " 7   Reco_Insurance_Type      38000 non-null  int64  \n",
            " 8   Is_Spouse                38000 non-null  int64  \n",
            " 9   Health Indicator         38000 non-null  int64  \n",
            "dtypes: float64(3), int64(7)\n",
            "memory usage: 2.9 MB\n"
          ]
        }
      ]
    },
    {
      "cell_type": "code",
      "source": [
        "test_final.info()"
      ],
      "metadata": {
        "colab": {
          "base_uri": "https://localhost:8080/"
        },
        "id": "pM3x1hpTp5yi",
        "outputId": "23426080-dac7-4589-c712-b71c014abd23"
      },
      "execution_count": 33,
      "outputs": [
        {
          "output_type": "stream",
          "name": "stdout",
          "text": [
            "<class 'pandas.core.frame.DataFrame'>\n",
            "RangeIndex: 12882 entries, 0 to 12881\n",
            "Data columns (total 9 columns):\n",
            " #   Column                   Non-Null Count  Dtype  \n",
            "---  ------                   --------------  -----  \n",
            " 0   Upper_Age                12882 non-null  int64  \n",
            " 1   Holding_Policy_Duration  12882 non-null  float64\n",
            " 2   Holding_Policy_Type      12882 non-null  float64\n",
            " 3   Reco_Policy_Cat          12882 non-null  int64  \n",
            " 4   Reco_Policy_Premium      12882 non-null  float64\n",
            " 5   Accomodation_Type        12882 non-null  int64  \n",
            " 6   Reco_Insurance_Type      12882 non-null  int64  \n",
            " 7   Is_Spouse                12882 non-null  int64  \n",
            " 8   Health Indicator         12882 non-null  int64  \n",
            "dtypes: float64(3), int64(6)\n",
            "memory usage: 905.9 KB\n"
          ]
        }
      ]
    },
    {
      "cell_type": "code",
      "source": [
        "print(train_final.shape)\n",
        "print(test_final.shape)"
      ],
      "metadata": {
        "colab": {
          "base_uri": "https://localhost:8080/"
        },
        "id": "FQNcUfbqqdS8",
        "outputId": "d348a122-ceef-48d1-bd73-e8a7db84808f"
      },
      "execution_count": 34,
      "outputs": [
        {
          "output_type": "stream",
          "name": "stdout",
          "text": [
            "(38000, 10)\n",
            "(12882, 9)\n"
          ]
        }
      ]
    },
    {
      "cell_type": "markdown",
      "metadata": {
        "id": "l1Pj3oMYd8DI"
      },
      "source": [
        "<a name = Section74></a>\n",
        "### **7.4 Data Preparation**\n",
        "\n",
        "- Now we will **split** our **data** in **training** and **testing** part for further development."
      ]
    },
    {
      "cell_type": "code",
      "metadata": {
        "id": "jxaAyqIieBBg"
      },
      "source": [
        "X = train_final.drop('Response',axis = 1)\n",
        "y = train_final['Response']"
      ],
      "execution_count": 35,
      "outputs": []
    },
    {
      "cell_type": "code",
      "source": [
        "# split  data into training and testing sets of 70:30 ratio\n",
        "\n",
        "X_train, X_test, y_train, y_test = train_test_split(X, y, test_size=0.2, random_state=42, stratify = y)"
      ],
      "metadata": {
        "id": "pc7JNkqgp8YA"
      },
      "execution_count": 36,
      "outputs": []
    },
    {
      "cell_type": "code",
      "metadata": {
        "id": "IbIXAQcHeOcw",
        "outputId": "71158589-673f-443d-cdc1-96c7fc6d6acb",
        "colab": {
          "base_uri": "https://localhost:8080/"
        }
      },
      "source": [
        "print('Training Data Shape:', X_train.shape, y_train.shape)\n",
        "print('Testing Data Shape:', X_test.shape, y_test.shape)"
      ],
      "execution_count": 37,
      "outputs": [
        {
          "output_type": "stream",
          "name": "stdout",
          "text": [
            "Training Data Shape: (30400, 9) (30400,)\n",
            "Testing Data Shape: (7600, 9) (7600,)\n"
          ]
        }
      ]
    },
    {
      "cell_type": "code",
      "source": [
        "y_test.value_counts()"
      ],
      "metadata": {
        "colab": {
          "base_uri": "https://localhost:8080/"
        },
        "id": "oMvVC3EMslpm",
        "outputId": "a2365bb7-aa2c-471d-881b-5a94eb4497fd"
      },
      "execution_count": null,
      "outputs": [
        {
          "output_type": "execute_result",
          "data": {
            "text/plain": [
              "0    5786\n",
              "1    1814\n",
              "Name: Response, dtype: int64"
            ]
          },
          "metadata": {},
          "execution_count": 103
        }
      ]
    },
    {
      "cell_type": "markdown",
      "metadata": {
        "id": "v5JC7kL2eelS"
      },
      "source": [
        "<a name = Section8></a>\n",
        "\n",
        "---\n",
        "# **8. Model Development & Evaluation**\n",
        "---\n",
        "\n",
        "- In this section we will **develop Logistic Regression using input features** and **tune** our **model if required**.\n",
        "\n",
        "- Then we will **analyze the results** obtained and **make our observation**.\n",
        "\n",
        "- For **evaluation purpose** we will **focus** on **Accuracy**, also we will check for **Precision**, **Recall**, **F1-Score**, and **Precision-Recall Score**.\n",
        "\n"
      ]
    },
    {
      "cell_type": "markdown",
      "metadata": {
        "id": "ua0no6Tsr-nS"
      },
      "source": [
        "<a name = Section81></a>\n",
        "\n",
        "## **8.1 Logistic Regression - Baseline Model**"
      ]
    },
    {
      "cell_type": "code",
      "metadata": {
        "id": "bjlXHdfXiWOS",
        "colab": {
          "base_uri": "https://localhost:8080/"
        },
        "outputId": "0b4fad12-cde9-49cf-d07a-76d72179bbc8"
      },
      "source": [
        "logreg = LogisticRegression()\n",
        "logreg.fit(X_train,y_train)"
      ],
      "execution_count": 38,
      "outputs": [
        {
          "output_type": "execute_result",
          "data": {
            "text/plain": [
              "LogisticRegression()"
            ]
          },
          "metadata": {},
          "execution_count": 38
        }
      ]
    },
    {
      "cell_type": "markdown",
      "source": [
        "## **Decision Tree - Baseline Model**"
      ],
      "metadata": {
        "id": "s0FdJs17Umx8"
      }
    },
    {
      "cell_type": "code",
      "source": [
        "dt = DecisionTreeClassifier()\n",
        "dt.fit(X_train,y_train)"
      ],
      "metadata": {
        "colab": {
          "base_uri": "https://localhost:8080/"
        },
        "id": "6QHRkkG-XUDX",
        "outputId": "97049ad2-299a-4aeb-8b84-ef16bc975942"
      },
      "execution_count": 39,
      "outputs": [
        {
          "output_type": "execute_result",
          "data": {
            "text/plain": [
              "DecisionTreeClassifier()"
            ]
          },
          "metadata": {},
          "execution_count": 39
        }
      ]
    },
    {
      "cell_type": "markdown",
      "metadata": {
        "id": "BjFJwLVCsoRh"
      },
      "source": [
        "<a name = Section82></a>\n",
        "\n",
        "## **8.2 Using Trained Model for Prediction**"
      ]
    },
    {
      "cell_type": "code",
      "source": [
        "preds_train = logreg.predict(X_train)\n",
        "preds_test = logreg.predict(X_test)"
      ],
      "metadata": {
        "id": "G7NN8YKBrhOZ"
      },
      "execution_count": 40,
      "outputs": []
    },
    {
      "cell_type": "code",
      "source": [
        "preds_dt_train = dt.predict(X_train)\n",
        "preds_dt_test = dt.predict(X_test)"
      ],
      "metadata": {
        "id": "Cu1BI4JbU_bq"
      },
      "execution_count": 41,
      "outputs": []
    },
    {
      "cell_type": "markdown",
      "metadata": {
        "id": "vvMHhcSit5s5"
      },
      "source": [
        "<a name = Section83></a>\n",
        "\n",
        "## **8.3 Logistic Regression / Decision Tree Model Evaluation**"
      ]
    },
    {
      "cell_type": "code",
      "metadata": {
        "id": "6hw2FSWquFPc"
      },
      "source": [
        "def model_eval(actual, predicted):\n",
        "  confuison_mat = confusion_matrix(actual, predicted)\n",
        "  accuracy_scores = accuracy_score(actual, predicted)\n",
        "  classi_report = classification_report(actual, predicted)\n",
        "  print(confuison_mat)\n",
        "  print(accuracy_scores)\n",
        "  print(classi_report)"
      ],
      "execution_count": 42,
      "outputs": []
    },
    {
      "cell_type": "code",
      "source": [
        "#Logistic Model Evaluation on train data\n",
        "model_eval(y_train, preds_train)"
      ],
      "metadata": {
        "colab": {
          "base_uri": "https://localhost:8080/"
        },
        "id": "0pMkgNSeVfB0",
        "outputId": "4d8d923d-1f7a-4296-fa75-e9386fbdcc24"
      },
      "execution_count": 43,
      "outputs": [
        {
          "output_type": "stream",
          "name": "stdout",
          "text": [
            "[[23146     0]\n",
            " [ 7254     0]]\n",
            "0.7613815789473685\n",
            "              precision    recall  f1-score   support\n",
            "\n",
            "           0       0.76      1.00      0.86     23146\n",
            "           1       0.00      0.00      0.00      7254\n",
            "\n",
            "    accuracy                           0.76     30400\n",
            "   macro avg       0.38      0.50      0.43     30400\n",
            "weighted avg       0.58      0.76      0.66     30400\n",
            "\n"
          ]
        }
      ]
    },
    {
      "cell_type": "code",
      "source": [
        "#Logistic Model Evaluation on train data\n",
        "model_eval(y_test, preds_test)"
      ],
      "metadata": {
        "colab": {
          "base_uri": "https://localhost:8080/"
        },
        "id": "sqnW3318Vsu9",
        "outputId": "90a00fae-0c59-46f8-d4d5-31444105460e"
      },
      "execution_count": 44,
      "outputs": [
        {
          "output_type": "stream",
          "name": "stdout",
          "text": [
            "[[5786    0]\n",
            " [1814    0]]\n",
            "0.7613157894736842\n",
            "              precision    recall  f1-score   support\n",
            "\n",
            "           0       0.76      1.00      0.86      5786\n",
            "           1       0.00      0.00      0.00      1814\n",
            "\n",
            "    accuracy                           0.76      7600\n",
            "   macro avg       0.38      0.50      0.43      7600\n",
            "weighted avg       0.58      0.76      0.66      7600\n",
            "\n"
          ]
        }
      ]
    },
    {
      "cell_type": "code",
      "source": [
        "#Decision Tree Model Evaluation on train data\n",
        "model_eval(y_train, preds_dt_train)"
      ],
      "metadata": {
        "colab": {
          "base_uri": "https://localhost:8080/"
        },
        "id": "VrgLfUr_VfaH",
        "outputId": "2c8a45f4-5991-4624-bea9-5b0379e8c928"
      },
      "execution_count": 45,
      "outputs": [
        {
          "output_type": "stream",
          "name": "stdout",
          "text": [
            "[[23146     0]\n",
            " [   19  7235]]\n",
            "0.999375\n",
            "              precision    recall  f1-score   support\n",
            "\n",
            "           0       1.00      1.00      1.00     23146\n",
            "           1       1.00      1.00      1.00      7254\n",
            "\n",
            "    accuracy                           1.00     30400\n",
            "   macro avg       1.00      1.00      1.00     30400\n",
            "weighted avg       1.00      1.00      1.00     30400\n",
            "\n"
          ]
        }
      ]
    },
    {
      "cell_type": "code",
      "source": [
        "#Decision Tree Model Evaluation on test data\n",
        "model_eval(y_test, preds_dt_test)"
      ],
      "metadata": {
        "colab": {
          "base_uri": "https://localhost:8080/"
        },
        "id": "YaKUelzQV5HV",
        "outputId": "1a715bc5-d422-41ea-81e7-77174d49766b"
      },
      "execution_count": 46,
      "outputs": [
        {
          "output_type": "stream",
          "name": "stdout",
          "text": [
            "[[4426 1360]\n",
            " [1245  569]]\n",
            "0.6572368421052631\n",
            "              precision    recall  f1-score   support\n",
            "\n",
            "           0       0.78      0.76      0.77      5786\n",
            "           1       0.29      0.31      0.30      1814\n",
            "\n",
            "    accuracy                           0.66      7600\n",
            "   macro avg       0.54      0.54      0.54      7600\n",
            "weighted avg       0.66      0.66      0.66      7600\n",
            "\n"
          ]
        }
      ]
    },
    {
      "cell_type": "markdown",
      "source": [
        "Observation: Decision tree is better model than Logistic Regression model. so we will use the same for final submission on unseen test data."
      ],
      "metadata": {
        "id": "6KpZvQ_0WXrx"
      }
    },
    {
      "cell_type": "code",
      "source": [
        "y_pred_final = dt.predict(test_final)"
      ],
      "metadata": {
        "id": "h5IkDAWgWWyo"
      },
      "execution_count": 47,
      "outputs": []
    },
    {
      "cell_type": "code",
      "source": [
        "submission = pd.DataFrame({'ID': test_original['ID'], 'Response': y_pred_final})\n",
        "submission.to_csv('HI_submission.csv', index=False, header=None)"
      ],
      "metadata": {
        "id": "egu3_ycaiMPA"
      },
      "execution_count": 62,
      "outputs": []
    },
    {
      "cell_type": "code",
      "source": [
        "submission.head()\n",
        "# print(submission.Response.value_counts())"
      ],
      "metadata": {
        "colab": {
          "base_uri": "https://localhost:8080/",
          "height": 206
        },
        "id": "uUByyrhN109A",
        "outputId": "eab12734-9e6a-445a-d254-93f245b8ef6e"
      },
      "execution_count": 63,
      "outputs": [
        {
          "output_type": "execute_result",
          "data": {
            "text/plain": [
              "      ID  Response\n",
              "0  38001         0\n",
              "1  38002         0\n",
              "2  38003         1\n",
              "3  38004         0\n",
              "4  38005         0"
            ],
            "text/html": [
              "\n",
              "  <div id=\"df-8fe2bf93-0267-431b-86d7-dfba9ff914ec\">\n",
              "    <div class=\"colab-df-container\">\n",
              "      <div>\n",
              "<style scoped>\n",
              "    .dataframe tbody tr th:only-of-type {\n",
              "        vertical-align: middle;\n",
              "    }\n",
              "\n",
              "    .dataframe tbody tr th {\n",
              "        vertical-align: top;\n",
              "    }\n",
              "\n",
              "    .dataframe thead th {\n",
              "        text-align: right;\n",
              "    }\n",
              "</style>\n",
              "<table border=\"1\" class=\"dataframe\">\n",
              "  <thead>\n",
              "    <tr style=\"text-align: right;\">\n",
              "      <th></th>\n",
              "      <th>ID</th>\n",
              "      <th>Response</th>\n",
              "    </tr>\n",
              "  </thead>\n",
              "  <tbody>\n",
              "    <tr>\n",
              "      <th>0</th>\n",
              "      <td>38001</td>\n",
              "      <td>0</td>\n",
              "    </tr>\n",
              "    <tr>\n",
              "      <th>1</th>\n",
              "      <td>38002</td>\n",
              "      <td>0</td>\n",
              "    </tr>\n",
              "    <tr>\n",
              "      <th>2</th>\n",
              "      <td>38003</td>\n",
              "      <td>1</td>\n",
              "    </tr>\n",
              "    <tr>\n",
              "      <th>3</th>\n",
              "      <td>38004</td>\n",
              "      <td>0</td>\n",
              "    </tr>\n",
              "    <tr>\n",
              "      <th>4</th>\n",
              "      <td>38005</td>\n",
              "      <td>0</td>\n",
              "    </tr>\n",
              "  </tbody>\n",
              "</table>\n",
              "</div>\n",
              "      <button class=\"colab-df-convert\" onclick=\"convertToInteractive('df-8fe2bf93-0267-431b-86d7-dfba9ff914ec')\"\n",
              "              title=\"Convert this dataframe to an interactive table.\"\n",
              "              style=\"display:none;\">\n",
              "        \n",
              "  <svg xmlns=\"http://www.w3.org/2000/svg\" height=\"24px\"viewBox=\"0 0 24 24\"\n",
              "       width=\"24px\">\n",
              "    <path d=\"M0 0h24v24H0V0z\" fill=\"none\"/>\n",
              "    <path d=\"M18.56 5.44l.94 2.06.94-2.06 2.06-.94-2.06-.94-.94-2.06-.94 2.06-2.06.94zm-11 1L8.5 8.5l.94-2.06 2.06-.94-2.06-.94L8.5 2.5l-.94 2.06-2.06.94zm10 10l.94 2.06.94-2.06 2.06-.94-2.06-.94-.94-2.06-.94 2.06-2.06.94z\"/><path d=\"M17.41 7.96l-1.37-1.37c-.4-.4-.92-.59-1.43-.59-.52 0-1.04.2-1.43.59L10.3 9.45l-7.72 7.72c-.78.78-.78 2.05 0 2.83L4 21.41c.39.39.9.59 1.41.59.51 0 1.02-.2 1.41-.59l7.78-7.78 2.81-2.81c.8-.78.8-2.07 0-2.86zM5.41 20L4 18.59l7.72-7.72 1.47 1.35L5.41 20z\"/>\n",
              "  </svg>\n",
              "      </button>\n",
              "      \n",
              "  <style>\n",
              "    .colab-df-container {\n",
              "      display:flex;\n",
              "      flex-wrap:wrap;\n",
              "      gap: 12px;\n",
              "    }\n",
              "\n",
              "    .colab-df-convert {\n",
              "      background-color: #E8F0FE;\n",
              "      border: none;\n",
              "      border-radius: 50%;\n",
              "      cursor: pointer;\n",
              "      display: none;\n",
              "      fill: #1967D2;\n",
              "      height: 32px;\n",
              "      padding: 0 0 0 0;\n",
              "      width: 32px;\n",
              "    }\n",
              "\n",
              "    .colab-df-convert:hover {\n",
              "      background-color: #E2EBFA;\n",
              "      box-shadow: 0px 1px 2px rgba(60, 64, 67, 0.3), 0px 1px 3px 1px rgba(60, 64, 67, 0.15);\n",
              "      fill: #174EA6;\n",
              "    }\n",
              "\n",
              "    [theme=dark] .colab-df-convert {\n",
              "      background-color: #3B4455;\n",
              "      fill: #D2E3FC;\n",
              "    }\n",
              "\n",
              "    [theme=dark] .colab-df-convert:hover {\n",
              "      background-color: #434B5C;\n",
              "      box-shadow: 0px 1px 3px 1px rgba(0, 0, 0, 0.15);\n",
              "      filter: drop-shadow(0px 1px 2px rgba(0, 0, 0, 0.3));\n",
              "      fill: #FFFFFF;\n",
              "    }\n",
              "  </style>\n",
              "\n",
              "      <script>\n",
              "        const buttonEl =\n",
              "          document.querySelector('#df-8fe2bf93-0267-431b-86d7-dfba9ff914ec button.colab-df-convert');\n",
              "        buttonEl.style.display =\n",
              "          google.colab.kernel.accessAllowed ? 'block' : 'none';\n",
              "\n",
              "        async function convertToInteractive(key) {\n",
              "          const element = document.querySelector('#df-8fe2bf93-0267-431b-86d7-dfba9ff914ec');\n",
              "          const dataTable =\n",
              "            await google.colab.kernel.invokeFunction('convertToInteractive',\n",
              "                                                     [key], {});\n",
              "          if (!dataTable) return;\n",
              "\n",
              "          const docLinkHtml = 'Like what you see? Visit the ' +\n",
              "            '<a target=\"_blank\" href=https://colab.research.google.com/notebooks/data_table.ipynb>data table notebook</a>'\n",
              "            + ' to learn more about interactive tables.';\n",
              "          element.innerHTML = '';\n",
              "          dataTable['output_type'] = 'display_data';\n",
              "          await google.colab.output.renderOutput(dataTable, element);\n",
              "          const docLink = document.createElement('div');\n",
              "          docLink.innerHTML = docLinkHtml;\n",
              "          element.appendChild(docLink);\n",
              "        }\n",
              "      </script>\n",
              "    </div>\n",
              "  </div>\n",
              "  "
            ]
          },
          "metadata": {},
          "execution_count": 63
        }
      ]
    },
    {
      "cell_type": "markdown",
      "metadata": {
        "id": "ERXWLsIcB1_H"
      },
      "source": [
        "<a name = Section9></a>\n",
        "\n",
        "---\n",
        "# **9. Conclusion**\n",
        "---\n",
        "\n",
        "- This Health Insurance Lead Prediciton had only 9068 person responded out of 38000 records so it is clearly inbalanced dataset so Decision tree is better model than Logistic Regression model. so we will use the same for final submission on unseen test data.\n",
        "\n"
      ]
    }
  ]
}